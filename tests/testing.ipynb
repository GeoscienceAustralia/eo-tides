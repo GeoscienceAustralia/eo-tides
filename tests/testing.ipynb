{
 "cells": [
  {
   "cell_type": "code",
   "execution_count": null,
   "metadata": {},
   "outputs": [],
   "source": [
    "!pip install -e .. --quiet"
   ]
  },
  {
   "cell_type": "code",
   "execution_count": 1,
   "metadata": {},
   "outputs": [],
   "source": [
    "%load_ext autoreload\n",
    "%autoreload 2\n",
    "\n",
    "import odc.stac\n",
    "import pandas as pd\n",
    "import pystac_client\n",
    "\n",
    "from pyTMD.compute import tide_elevations\n",
    "import pandas as pd\n",
    "import numpy as np\n",
    "\n",
    "\n",
    "GAUGE_X = 122.2183\n",
    "GAUGE_Y = -18.0008\n",
    "ENSEMBLE_MODELS = [\"EOT20\", \"HAMTIDE11\"]  # simplified for tests"
   ]
  },
  {
   "cell_type": "markdown",
   "metadata": {},
   "source": [
    "## Load fixtures"
   ]
  },
  {
   "cell_type": "code",
   "execution_count": 2,
   "metadata": {},
   "outputs": [],
   "source": [
    "def load_satellite_ds():\n",
    "    \"\"\"\n",
    "    Load a sample timeseries of Landsat 8 data using odc-stac\n",
    "    \"\"\"\n",
    "    # Connect to stac catalogue\n",
    "    catalog = pystac_client.Client.open(\"https://explorer.dea.ga.gov.au/stac\")\n",
    "\n",
    "    # Set cloud defaults\n",
    "    odc.stac.configure_rio(\n",
    "        cloud_defaults=True,\n",
    "        aws={\"aws_unsigned\": True},\n",
    "    )\n",
    "\n",
    "    # Build a query with the parameters above\n",
    "    buffer = 0.08\n",
    "    # buffer = 0.5\n",
    "    bbox = [GAUGE_X - buffer, GAUGE_Y - buffer, GAUGE_X + buffer, GAUGE_Y + buffer]\n",
    "    query = catalog.search(\n",
    "        bbox=bbox,\n",
    "        collections=[\"ga_ls8c_ard_3\"],\n",
    "        datetime=\"2020-01/2020-02\",\n",
    "    )\n",
    "\n",
    "    # Search the STAC catalog for all items matching the query\n",
    "    ds = odc.stac.load(\n",
    "        list(query.items()),\n",
    "        bands=[\"nbart_red\"],\n",
    "        crs=\"epsg:3577\",\n",
    "        resolution=30,\n",
    "        groupby=\"solar_day\",\n",
    "        bbox=bbox,\n",
    "        fail_on_error=False,\n",
    "        chunks={\"x\": 100, \"y\": 200},\n",
    "    )\n",
    "\n",
    "    return ds\n",
    "\n",
    "satellite_ds = load_satellite_ds()\n",
    "\n",
    "def load_measured_tides_ds():\n",
    "    \"\"\"\n",
    "    Load measured sea level data from the Broome ABSLMP tidal station:\n",
    "    http://www.bom.gov.au/oceanography/projects/abslmp/data/data.shtml\n",
    "    \"\"\"\n",
    "    # Metadata for Broome ABSLMP tidal station:\n",
    "    # http://www.bom.gov.au/oceanography/projects/abslmp/data/data.shtml\n",
    "    ahd_offset = -5.322\n",
    "\n",
    "    # Load measured tides from ABSLMP tide gauge data\n",
    "    measured_tides_df = pd.read_csv(\n",
    "        \"../tests/data/IDO71013_2020.csv\",\n",
    "        index_col=0,\n",
    "        parse_dates=True,\n",
    "        na_values=-9999,\n",
    "    )[[\"Sea Level\"]]\n",
    "\n",
    "    # Update index and column names\n",
    "    measured_tides_df.index.name = \"time\"\n",
    "    measured_tides_df.columns = [\"tide_height\"]\n",
    "\n",
    "    # Apply station AHD offset\n",
    "    measured_tides_df += ahd_offset\n",
    "\n",
    "    # Return as xarray dataset\n",
    "    return measured_tides_df.to_xarray()\n",
    "\n",
    "satellite_ds = load_satellite_ds()\n",
    "measured_tides_ds = load_measured_tides_ds()"
   ]
  },
  {
   "cell_type": "code",
   "execution_count": null,
   "metadata": {},
   "outputs": [],
   "source": [
    "ds = satellite_ds.copy(deep=True)\n",
    "ds"
   ]
  },
  {
   "cell_type": "code",
   "execution_count": null,
   "metadata": {},
   "outputs": [],
   "source": [
    "from odc.geo.geobox import GeoBox\n",
    "import xarray as xr\n",
    "\n",
    "\n",
    "def _resample_chunks(\n",
    "    ds: xr.DataArray | xr.Dataset | GeoBox,\n",
    "    dask_chunks: tuple | None = None,\n",
    ") -> tuple:\n",
    "    \"\"\"\n",
    "    Automatically return optimised dask chunks\n",
    "    for reprojection with _pixel_tides_resample.\n",
    "    Use entire image if GeoBox or if no default\n",
    "    chunks; use existing chunks if they exist.\n",
    "    \"\"\"\n",
    "\n",
    "    # If dask_chunks is provided, return directly\n",
    "    if dask_chunks is not None:\n",
    "        return dask_chunks\n",
    "\n",
    "    # If ds is a GeoBox, return its shape\n",
    "    if isinstance(ds, GeoBox):\n",
    "        return ds.shape\n",
    "\n",
    "    # if ds has chunks, then return just spatial chunks\n",
    "    if ds.chunks is not None:\n",
    "        y_dim, x_dim = ds.odc.spatial_dims\n",
    "        return ds.chunks[y_dim], ds.chunks[x_dim]\n",
    "\n",
    "    # if ds has no chunks, then return entire image shape\n",
    "    return ds.odc.geobox.shape"
   ]
  },
  {
   "cell_type": "code",
   "execution_count": null,
   "metadata": {},
   "outputs": [],
   "source": [
    "_resample_chunks(ds, None)"
   ]
  },
  {
   "cell_type": "code",
   "execution_count": null,
   "metadata": {},
   "outputs": [],
   "source": [
    "cd .."
   ]
  },
  {
   "cell_type": "code",
   "execution_count": null,
   "metadata": {},
   "outputs": [],
   "source": [
    "satellite_ds.isel(time=0)"
   ]
  },
  {
   "cell_type": "code",
   "execution_count": 239,
   "metadata": {},
   "outputs": [],
   "source": [
    "from eo_tides import model_tides\n",
    "\n",
    "\n",
    "def tide_phase(\n",
    "    x,\n",
    "    y,\n",
    "    time,\n",
    "    model=\"EOT20\",\n",
    "    directory=None,\n",
    "    delta=\"15 min\",\n",
    "    return_tides=False,\n",
    "    **model_tides_kwargs,\n",
    "):\n",
    "\n",
    "    # Pop output format and mode for special handling\n",
    "    output_format = model_tides_kwargs.pop(\"output_format\", \"long\")\n",
    "    mode = model_tides_kwargs.pop(\"mode\", \"one-to-many\")\n",
    "\n",
    "    # Model tides\n",
    "    tide_df = model_tides(\n",
    "        x=x,\n",
    "        y=y,\n",
    "        time=time,\n",
    "        model=model,\n",
    "        directory=directory,\n",
    "        **model_tides_kwargs,\n",
    "    )\n",
    "\n",
    "    # Model tides for a time 15 minutes prior to each previously\n",
    "    # modelled satellite acquisition time. This allows us to compare\n",
    "    # tide heights to see if they are rising or falling.\n",
    "    pre_df = model_tides(\n",
    "        x=x,\n",
    "        y=y,\n",
    "        time=time - pd.Timedelta(delta),\n",
    "        model=model,\n",
    "        directory=directory,\n",
    "        **model_tides_kwargs,\n",
    "    )\n",
    "\n",
    "    # Compare tides computed for each timestep. If the previous tide\n",
    "    # was higher than the current tide, the tide is 'ebbing'. If the\n",
    "    # previous tide was lower, the tide is 'flowing'\n",
    "    ebb_flow = (tide_df.tide_height < pre_df.tide_height.values).replace({True: \"ebb\", False: \"flow\"})\n",
    "\n",
    "    # If tides are greater than 0, then \"high\", otherwise \"low\"\n",
    "    high_low = (tide_df.tide_height >= 0).replace({True: \"high\", False: \"low\"})\n",
    "\n",
    "    # Combine into one string and add to data\n",
    "    tide_df[\"tide_phase\"] = high_low.astype(str) + \"-\" + ebb_flow.astype(str)\n",
    "\n",
    "    # Optionally convert to a wide format dataframe with a tide model in\n",
    "    # each dataframe column\n",
    "    if output_format == \"wide\":\n",
    "        # Pivot into wide format with each time model as a column\n",
    "        print(\"Converting to a wide format dataframe\")\n",
    "        tide_df = tide_df.pivot(\n",
    "            columns=\"tide_model\"\n",
    "        )\n",
    "\n",
    "        # If in 'one-to-one' mode, reindex using our input time/x/y\n",
    "        # values to ensure the output is sorted the same as our inputs\n",
    "        if mode == \"one-to-one\":\n",
    "            output_indices = pd.MultiIndex.from_arrays(\n",
    "                [time, x, y], names=[\"time\", \"x\", \"y\"]\n",
    "            )\n",
    "            tide_df = tide_df.reindex(output_indices)\n",
    "\n",
    "        # Optionally drop tides\n",
    "        if not return_tides:\n",
    "            return tide_df.drop(\"tide_height\", axis=1)[\"tide_phase\"]\n",
    "\n",
    "    # Optionally drop tide heights\n",
    "    if not return_tides:\n",
    "        return tide_df.drop(\"tide_height\", axis=1)\n",
    "\n",
    "    return tide_df"
   ]
  },
  {
   "cell_type": "code",
   "execution_count": 240,
   "metadata": {},
   "outputs": [],
   "source": [
    "import pytest\n",
    "\n",
    "@pytest.mark.parametrize(\n",
    "    \"models,output_format,return_tides,expected_cols\",\n",
    "    [\n",
    "        (\n",
    "            [\"EOT20\"],\n",
    "            \"long\",\n",
    "            False,\n",
    "            [\"tide_model\", \"tide_phase\"]\n",
    "        ),\n",
    "        (\n",
    "            [\"EOT20\"],\n",
    "            \"long\",\n",
    "            True,\n",
    "            [\"tide_model\", \"tide_height\", \"tide_phase\"]\n",
    "        ),\n",
    "        (\n",
    "            [\"EOT20\", \"GOT5.5\"],\n",
    "            \"long\",\n",
    "            False,\n",
    "            [\"tide_model\", \"tide_phase\"]\n",
    "        ),\n",
    "        (\n",
    "            [\"EOT20\", \"GOT5.5\"],\n",
    "            \"long\",\n",
    "            True,\n",
    "            [\"tide_model\", \"tide_height\", \"tide_phase\"]\n",
    "        ),\n",
    "        (\n",
    "            [\"EOT20\"],\n",
    "            \"wide\",\n",
    "            False,\n",
    "            [\"EOT20\"]\n",
    "        ),\n",
    "        (\n",
    "            [\"EOT20\"],\n",
    "            \"wide\",\n",
    "            True,\n",
    "            [(\"tide_phase\", \"EOT20\"), (\"tide_phase\", \"EOT20\")]\n",
    "        ),\n",
    "        (\n",
    "            [\"EOT20\", \"GOT5.5\"],\n",
    "            \"wide\",\n",
    "            False,\n",
    "            [\"EOT20\", \"GOT5.5\"]\n",
    "        ),\n",
    "        (\n",
    "            [\"EOT20\", \"GOT5.5\"],\n",
    "            \"wide\",\n",
    "            True,\n",
    "            [\n",
    "                (\"tide_height\", \"EOT20\"),\n",
    "                (\"tide_height\", \"GOT5.5\"),\n",
    "                (\"tide_phase\", \"EOT20\"),\n",
    "                (\"tide_phase\", \"GOT5.5\"),\n",
    "            ]\n",
    "        ),\n",
    "    ]\n",
    ")\n",
    "def test_tide_phase_format(models, output_format, return_tides, expected_cols):\n",
    "\n",
    "    phase_df = phase_tides(\n",
    "        x=[122.14, 122.30, 122.12],\n",
    "        y=[-17.91, -17.92, -18.07],\n",
    "        time=pd.date_range(\"2020\", \"2021\", periods=3),\n",
    "        directory=\"/var/share/tide_models/\",\n",
    "        model=models,\n",
    "        output_format=output_format,\n",
    "        return_tides=return_tides,\n",
    "        delta = \"15 min\",\n",
    "    )\n",
    "\n",
    "    # Assert expected indexes and columns\n",
    "    assert phase_df.index.names == [\"time\", \"x\", \"y\"]\n",
    "    assert phase_df.columns.tolist() == expected_cols\n",
    "\n",
    "\n",
    "\n",
    "\n",
    "# !pytest -q -k test_ebb_flow --verbose"
   ]
  },
  {
   "cell_type": "code",
   "execution_count": 200,
   "metadata": {},
   "outputs": [
    {
     "name": "stdout",
     "output_type": "stream",
     "text": [
      "Modelling tides using EOT20 in parallel\n"
     ]
    },
    {
     "name": "stderr",
     "output_type": "stream",
     "text": [
      "100%|██████████| 3/3 [00:01<00:00,  2.72it/s]\n"
     ]
    },
    {
     "name": "stdout",
     "output_type": "stream",
     "text": [
      "Modelling tides using EOT20 in parallel\n"
     ]
    },
    {
     "name": "stderr",
     "output_type": "stream",
     "text": [
      "100%|██████████| 3/3 [00:01<00:00,  2.64it/s]\n"
     ]
    },
    {
     "name": "stdout",
     "output_type": "stream",
     "text": [
      "['tide_model', 'tide_height', 'ebb_flow']\n"
     ]
    }
   ],
   "source": [
    "test_ebb_flow(models=[\"EOT20\"], output_format=\"long\", return_tides=True)"
   ]
  },
  {
   "cell_type": "code",
   "execution_count": 256,
   "metadata": {},
   "outputs": [
    {
     "name": "stdout",
     "output_type": "stream",
     "text": [
      "Modelling tides using EOT20, GOT5.5 in parallel\n"
     ]
    },
    {
     "name": "stderr",
     "output_type": "stream",
     "text": [
      "100%|██████████| 6/6 [00:01<00:00,  4.01it/s]\n"
     ]
    },
    {
     "name": "stdout",
     "output_type": "stream",
     "text": [
      "Modelling tides using EOT20, GOT5.5 in parallel\n"
     ]
    },
    {
     "name": "stderr",
     "output_type": "stream",
     "text": [
      "100%|██████████| 6/6 [00:01<00:00,  4.57it/s]\n"
     ]
    },
    {
     "name": "stdout",
     "output_type": "stream",
     "text": [
      "Converting to a wide format dataframe\n"
     ]
    },
    {
     "data": {
      "text/html": [
       "<div>\n",
       "<style scoped>\n",
       "    .dataframe tbody tr th:only-of-type {\n",
       "        vertical-align: middle;\n",
       "    }\n",
       "\n",
       "    .dataframe tbody tr th {\n",
       "        vertical-align: top;\n",
       "    }\n",
       "\n",
       "    .dataframe thead tr th {\n",
       "        text-align: left;\n",
       "    }\n",
       "\n",
       "    .dataframe thead tr:last-of-type th {\n",
       "        text-align: right;\n",
       "    }\n",
       "</style>\n",
       "<table border=\"1\" class=\"dataframe\">\n",
       "  <thead>\n",
       "    <tr>\n",
       "      <th></th>\n",
       "      <th></th>\n",
       "      <th></th>\n",
       "      <th colspan=\"2\" halign=\"left\">tide_height</th>\n",
       "      <th colspan=\"2\" halign=\"left\">tide_phase</th>\n",
       "    </tr>\n",
       "    <tr>\n",
       "      <th></th>\n",
       "      <th></th>\n",
       "      <th>tide_model</th>\n",
       "      <th>EOT20</th>\n",
       "      <th>GOT5.5</th>\n",
       "      <th>EOT20</th>\n",
       "      <th>GOT5.5</th>\n",
       "    </tr>\n",
       "    <tr>\n",
       "      <th>time</th>\n",
       "      <th>x</th>\n",
       "      <th>y</th>\n",
       "      <th></th>\n",
       "      <th></th>\n",
       "      <th></th>\n",
       "      <th></th>\n",
       "    </tr>\n",
       "  </thead>\n",
       "  <tbody>\n",
       "    <tr>\n",
       "      <th rowspan=\"3\" valign=\"top\">2020-01-01</th>\n",
       "      <th>122.12</th>\n",
       "      <th>-18.07</th>\n",
       "      <td>-2.800434</td>\n",
       "      <td>-2.870334</td>\n",
       "      <td>low-ebb</td>\n",
       "      <td>low-ebb</td>\n",
       "    </tr>\n",
       "    <tr>\n",
       "      <th>122.14</th>\n",
       "      <th>-17.91</th>\n",
       "      <td>-2.664830</td>\n",
       "      <td>-2.765702</td>\n",
       "      <td>low-flow</td>\n",
       "      <td>low-ebb</td>\n",
       "    </tr>\n",
       "    <tr>\n",
       "      <th>122.30</th>\n",
       "      <th>-17.92</th>\n",
       "      <td>-2.855278</td>\n",
       "      <td>-2.815728</td>\n",
       "      <td>low-ebb</td>\n",
       "      <td>low-ebb</td>\n",
       "    </tr>\n",
       "    <tr>\n",
       "      <th rowspan=\"3\" valign=\"top\">2020-07-02</th>\n",
       "      <th>122.12</th>\n",
       "      <th>-18.07</th>\n",
       "      <td>2.200403</td>\n",
       "      <td>2.171265</td>\n",
       "      <td>high-ebb</td>\n",
       "      <td>high-ebb</td>\n",
       "    </tr>\n",
       "    <tr>\n",
       "      <th>122.14</th>\n",
       "      <th>-17.91</th>\n",
       "      <td>2.110753</td>\n",
       "      <td>2.117294</td>\n",
       "      <td>high-ebb</td>\n",
       "      <td>high-ebb</td>\n",
       "    </tr>\n",
       "    <tr>\n",
       "      <th>122.30</th>\n",
       "      <th>-17.92</th>\n",
       "      <td>2.221157</td>\n",
       "      <td>2.128876</td>\n",
       "      <td>high-ebb</td>\n",
       "      <td>high-ebb</td>\n",
       "    </tr>\n",
       "    <tr>\n",
       "      <th rowspan=\"3\" valign=\"top\">2021-01-01</th>\n",
       "      <th>122.12</th>\n",
       "      <th>-18.07</th>\n",
       "      <td>-2.070869</td>\n",
       "      <td>-2.066286</td>\n",
       "      <td>low-flow</td>\n",
       "      <td>low-flow</td>\n",
       "    </tr>\n",
       "    <tr>\n",
       "      <th>122.14</th>\n",
       "      <th>-17.91</th>\n",
       "      <td>-1.889267</td>\n",
       "      <td>-1.910610</td>\n",
       "      <td>low-flow</td>\n",
       "      <td>low-flow</td>\n",
       "    </tr>\n",
       "    <tr>\n",
       "      <th>122.30</th>\n",
       "      <th>-17.92</th>\n",
       "      <td>-2.168566</td>\n",
       "      <td>-1.993354</td>\n",
       "      <td>low-flow</td>\n",
       "      <td>low-flow</td>\n",
       "    </tr>\n",
       "  </tbody>\n",
       "</table>\n",
       "</div>"
      ],
      "text/plain": [
       "                         tide_height           tide_phase          \n",
       "tide_model                     EOT20    GOT5.5      EOT20    GOT5.5\n",
       "time       x      y                                                \n",
       "2020-01-01 122.12 -18.07   -2.800434 -2.870334    low-ebb   low-ebb\n",
       "           122.14 -17.91   -2.664830 -2.765702   low-flow   low-ebb\n",
       "           122.30 -17.92   -2.855278 -2.815728    low-ebb   low-ebb\n",
       "2020-07-02 122.12 -18.07    2.200403  2.171265   high-ebb  high-ebb\n",
       "           122.14 -17.91    2.110753  2.117294   high-ebb  high-ebb\n",
       "           122.30 -17.92    2.221157  2.128876   high-ebb  high-ebb\n",
       "2021-01-01 122.12 -18.07   -2.070869 -2.066286   low-flow  low-flow\n",
       "           122.14 -17.91   -1.889267 -1.910610   low-flow  low-flow\n",
       "           122.30 -17.92   -2.168566 -1.993354   low-flow  low-flow"
      ]
     },
     "execution_count": 256,
     "metadata": {},
     "output_type": "execute_result"
    }
   ],
   "source": [
    "# models = [\"EOT20\"]\n",
    "# expected_cols = [\"tide_model\", \"ebb_flow\"]\n",
    "# output_format = \"long\"\n",
    "# return_tides = False\n",
    "\n",
    "# models = [\"EOT20\"]\n",
    "# expected_cols = [\"tide_model\", \"tide_height\", \"ebb_flow\"]\n",
    "# output_format = \"long\"\n",
    "# return_tides = True\n",
    "\n",
    "# models = [\"EOT20\", \"GOT5.5\"]\n",
    "# expected_cols = [\"tide_model\", \"ebb_flow\"]\n",
    "# output_format = \"long\"\n",
    "# return_tides = False\n",
    "\n",
    "models = [\"EOT20\", \"GOT5.5\"]\n",
    "expected_cols = [\"tide_model\", \"tide_height\", \"ebb_flow\"]\n",
    "output_format = \"long\"\n",
    "return_tides = True\n",
    "\n",
    "\n",
    "# models = [\"EOT20\"]\n",
    "# expected_cols = [\"EOT20\"]\n",
    "# output_format = \"wide\"\n",
    "# return_tides = False\n",
    "\n",
    "# models = [\"EOT20\"]\n",
    "# expected_cols = [(\"tide_height\", \"EOT20\"), (\"ebb_flow\", \"EOT20\")]\n",
    "# output_format = \"wide\"\n",
    "# return_tides = True\n",
    "\n",
    "# models = [\"EOT20\", \"GOT5.5\"]\n",
    "# expected_cols = [\"EOT20\", \"GOT5.5\"]\n",
    "# output_format = \"wide\"\n",
    "# return_tides = False\n",
    "\n",
    "models = [\"EOT20\", \"GOT5.5\"]\n",
    "expected_cols = [\n",
    "    (\"tide_height\", \"EOT20\"),\n",
    "    (\"tide_height\", \"GOT5.5\"),\n",
    "    (\"ebb_flow\", \"EOT20\"),\n",
    "    (\"ebb_flow\", \"GOT5.5\"),\n",
    "]\n",
    "output_format = \"wide\"\n",
    "return_tides = True\n",
    "\n",
    "\n",
    "\n",
    "\n",
    "\n",
    "from eo_tides.model import phase_tides\n",
    "\n",
    "phase_df = phase_tides(\n",
    "    x=[122.14, 122.30, 122.12],\n",
    "    y=[-17.91, -17.92, -18.07],\n",
    "    time=pd.date_range(\"2020\", \"2021\", periods=3),\n",
    "    directory=\"/var/share/tide_models/\",\n",
    "    model=models,\n",
    "    output_format=output_format,\n",
    "    # delta = \"15 min\",\n",
    "    return_tides=return_tides,\n",
    ")\n",
    "\n",
    "\n",
    "phase_df"
   ]
  },
  {
   "cell_type": "code",
   "execution_count": 261,
   "metadata": {},
   "outputs": [
    {
     "data": {
      "text/plain": [
       "True"
      ]
     },
     "execution_count": 261,
     "metadata": {},
     "output_type": "execute_result"
    }
   ],
   "source": [
    "phase_df.columns.tolist() == [\n",
    "                ('tide_height',  'EOT20'),\n",
    "                ('tide_height', 'GOT5.5'),\n",
    "                ('tide_phase',  'EOT20'),\n",
    "                ('tide_phase', 'GOT5.5'),\n",
    "            ]"
   ]
  },
  {
   "cell_type": "code",
   "execution_count": 259,
   "metadata": {},
   "outputs": [
    {
     "data": {
      "text/plain": [
       "[('tide_height', 'EOT20'),\n",
       " ('tide_height', 'GOT5.5'),\n",
       " ('tide_phase', 'EOT20'),\n",
       " ('tide_phase', 'GOT5.5')]"
      ]
     },
     "execution_count": 259,
     "metadata": {},
     "output_type": "execute_result"
    }
   ],
   "source": [
    "            [\n",
    "                ('tide_height',  'EOT20'),\n",
    "                ('tide_height', 'GOT5.5'),\n",
    "                ('tide_phase',  'EOT20'),\n",
    "                ('tide_phase', 'GOT5.5'),\n",
    "            ]"
   ]
  },
  {
   "cell_type": "code",
   "execution_count": 222,
   "metadata": {},
   "outputs": [
    {
     "data": {
      "text/plain": [
       "['tide_model', 'ebb_flow']"
      ]
     },
     "execution_count": 222,
     "metadata": {},
     "output_type": "execute_result"
    }
   ],
   "source": [
    "ebb_flow_df.columns.tolist() "
   ]
  },
  {
   "cell_type": "code",
   "execution_count": 183,
   "metadata": {},
   "outputs": [
    {
     "data": {
      "text/html": [
       "<div>\n",
       "<style scoped>\n",
       "    .dataframe tbody tr th:only-of-type {\n",
       "        vertical-align: middle;\n",
       "    }\n",
       "\n",
       "    .dataframe tbody tr th {\n",
       "        vertical-align: top;\n",
       "    }\n",
       "\n",
       "    .dataframe thead th {\n",
       "        text-align: right;\n",
       "    }\n",
       "</style>\n",
       "<table border=\"1\" class=\"dataframe\">\n",
       "  <thead>\n",
       "    <tr style=\"text-align: right;\">\n",
       "      <th></th>\n",
       "      <th></th>\n",
       "      <th></th>\n",
       "      <th>tide_model</th>\n",
       "      <th>ebb_flow</th>\n",
       "    </tr>\n",
       "    <tr>\n",
       "      <th>time</th>\n",
       "      <th>x</th>\n",
       "      <th>y</th>\n",
       "      <th></th>\n",
       "      <th></th>\n",
       "    </tr>\n",
       "  </thead>\n",
       "  <tbody>\n",
       "    <tr>\n",
       "      <th>2020-01-01</th>\n",
       "      <th>122.14</th>\n",
       "      <th>-17.91</th>\n",
       "      <td>EOT20</td>\n",
       "      <td>Flow</td>\n",
       "    </tr>\n",
       "    <tr>\n",
       "      <th>2020-07-02</th>\n",
       "      <th>122.14</th>\n",
       "      <th>-17.91</th>\n",
       "      <td>EOT20</td>\n",
       "      <td>Ebb</td>\n",
       "    </tr>\n",
       "    <tr>\n",
       "      <th>2021-01-01</th>\n",
       "      <th>122.14</th>\n",
       "      <th>-17.91</th>\n",
       "      <td>EOT20</td>\n",
       "      <td>Flow</td>\n",
       "    </tr>\n",
       "    <tr>\n",
       "      <th>2020-01-01</th>\n",
       "      <th>122.30</th>\n",
       "      <th>-17.92</th>\n",
       "      <td>EOT20</td>\n",
       "      <td>Ebb</td>\n",
       "    </tr>\n",
       "    <tr>\n",
       "      <th>2020-07-02</th>\n",
       "      <th>122.30</th>\n",
       "      <th>-17.92</th>\n",
       "      <td>EOT20</td>\n",
       "      <td>Ebb</td>\n",
       "    </tr>\n",
       "    <tr>\n",
       "      <th>2021-01-01</th>\n",
       "      <th>122.30</th>\n",
       "      <th>-17.92</th>\n",
       "      <td>EOT20</td>\n",
       "      <td>Flow</td>\n",
       "    </tr>\n",
       "    <tr>\n",
       "      <th>2020-01-01</th>\n",
       "      <th>122.12</th>\n",
       "      <th>-18.07</th>\n",
       "      <td>EOT20</td>\n",
       "      <td>Ebb</td>\n",
       "    </tr>\n",
       "    <tr>\n",
       "      <th>2020-07-02</th>\n",
       "      <th>122.12</th>\n",
       "      <th>-18.07</th>\n",
       "      <td>EOT20</td>\n",
       "      <td>Ebb</td>\n",
       "    </tr>\n",
       "    <tr>\n",
       "      <th>2021-01-01</th>\n",
       "      <th>122.12</th>\n",
       "      <th>-18.07</th>\n",
       "      <td>EOT20</td>\n",
       "      <td>Flow</td>\n",
       "    </tr>\n",
       "    <tr>\n",
       "      <th>2020-01-01</th>\n",
       "      <th>122.14</th>\n",
       "      <th>-17.91</th>\n",
       "      <td>GOT5.5</td>\n",
       "      <td>Ebb</td>\n",
       "    </tr>\n",
       "    <tr>\n",
       "      <th>2020-07-02</th>\n",
       "      <th>122.14</th>\n",
       "      <th>-17.91</th>\n",
       "      <td>GOT5.5</td>\n",
       "      <td>Ebb</td>\n",
       "    </tr>\n",
       "    <tr>\n",
       "      <th>2021-01-01</th>\n",
       "      <th>122.14</th>\n",
       "      <th>-17.91</th>\n",
       "      <td>GOT5.5</td>\n",
       "      <td>Flow</td>\n",
       "    </tr>\n",
       "    <tr>\n",
       "      <th>2020-01-01</th>\n",
       "      <th>122.30</th>\n",
       "      <th>-17.92</th>\n",
       "      <td>GOT5.5</td>\n",
       "      <td>Ebb</td>\n",
       "    </tr>\n",
       "    <tr>\n",
       "      <th>2020-07-02</th>\n",
       "      <th>122.30</th>\n",
       "      <th>-17.92</th>\n",
       "      <td>GOT5.5</td>\n",
       "      <td>Ebb</td>\n",
       "    </tr>\n",
       "    <tr>\n",
       "      <th>2021-01-01</th>\n",
       "      <th>122.30</th>\n",
       "      <th>-17.92</th>\n",
       "      <td>GOT5.5</td>\n",
       "      <td>Flow</td>\n",
       "    </tr>\n",
       "    <tr>\n",
       "      <th>2020-01-01</th>\n",
       "      <th>122.12</th>\n",
       "      <th>-18.07</th>\n",
       "      <td>GOT5.5</td>\n",
       "      <td>Ebb</td>\n",
       "    </tr>\n",
       "    <tr>\n",
       "      <th>2020-07-02</th>\n",
       "      <th>122.12</th>\n",
       "      <th>-18.07</th>\n",
       "      <td>GOT5.5</td>\n",
       "      <td>Ebb</td>\n",
       "    </tr>\n",
       "    <tr>\n",
       "      <th>2021-01-01</th>\n",
       "      <th>122.12</th>\n",
       "      <th>-18.07</th>\n",
       "      <td>GOT5.5</td>\n",
       "      <td>Flow</td>\n",
       "    </tr>\n",
       "  </tbody>\n",
       "</table>\n",
       "</div>"
      ],
      "text/plain": [
       "                         tide_model ebb_flow\n",
       "time       x      y                         \n",
       "2020-01-01 122.14 -17.91      EOT20     Flow\n",
       "2020-07-02 122.14 -17.91      EOT20      Ebb\n",
       "2021-01-01 122.14 -17.91      EOT20     Flow\n",
       "2020-01-01 122.30 -17.92      EOT20      Ebb\n",
       "2020-07-02 122.30 -17.92      EOT20      Ebb\n",
       "2021-01-01 122.30 -17.92      EOT20     Flow\n",
       "2020-01-01 122.12 -18.07      EOT20      Ebb\n",
       "2020-07-02 122.12 -18.07      EOT20      Ebb\n",
       "2021-01-01 122.12 -18.07      EOT20     Flow\n",
       "2020-01-01 122.14 -17.91     GOT5.5      Ebb\n",
       "2020-07-02 122.14 -17.91     GOT5.5      Ebb\n",
       "2021-01-01 122.14 -17.91     GOT5.5     Flow\n",
       "2020-01-01 122.30 -17.92     GOT5.5      Ebb\n",
       "2020-07-02 122.30 -17.92     GOT5.5      Ebb\n",
       "2021-01-01 122.30 -17.92     GOT5.5     Flow\n",
       "2020-01-01 122.12 -18.07     GOT5.5      Ebb\n",
       "2020-07-02 122.12 -18.07     GOT5.5      Ebb\n",
       "2021-01-01 122.12 -18.07     GOT5.5     Flow"
      ]
     },
     "execution_count": 183,
     "metadata": {},
     "output_type": "execute_result"
    }
   ],
   "source": [
    "out  #.columns.tolist()"
   ]
  },
  {
   "cell_type": "code",
   "execution_count": 176,
   "metadata": {},
   "outputs": [
    {
     "data": {
      "text/plain": [
       "True"
      ]
     },
     "execution_count": 176,
     "metadata": {},
     "output_type": "execute_result"
    }
   ],
   "source": []
  },
  {
   "cell_type": "code",
   "execution_count": 165,
   "metadata": {},
   "outputs": [
    {
     "data": {
      "text/plain": [
       "Index(['EOT20', 'GOT5.5', 'EOT20', 'GOT5.5'], dtype='object', name='tide_model')"
      ]
     },
     "execution_count": 165,
     "metadata": {},
     "output_type": "execute_result"
    }
   ],
   "source": [
    "out.columns.get_level_values(1)"
   ]
  },
  {
   "cell_type": "code",
   "execution_count": 167,
   "metadata": {},
   "outputs": [
    {
     "data": {
      "text/plain": [
       "['EOT20', 'GOT5.5', 'EOT20', 'GOT5.5']"
      ]
     },
     "execution_count": 167,
     "metadata": {},
     "output_type": "execute_result"
    }
   ],
   "source": []
  },
  {
   "cell_type": "code",
   "execution_count": 168,
   "metadata": {},
   "outputs": [
    {
     "data": {
      "text/plain": [
       "['EOT20', 'EOT20']"
      ]
     },
     "execution_count": 168,
     "metadata": {},
     "output_type": "execute_result"
    }
   ],
   "source": [
    "[\"EOT20\"] * 2"
   ]
  },
  {
   "cell_type": "code",
   "execution_count": 106,
   "metadata": {},
   "outputs": [
    {
     "name": "stdout",
     "output_type": "stream",
     "text": [
      "\n",
      "=============================== warnings summary ===============================\n",
      "<frozen importlib._bootstrap>:241\n",
      "  <frozen importlib._bootstrap>:241: RuntimeWarning: numpy.ndarray size changed, may indicate binary incompatibility. Expected 16 from C header, got 96 from PyObject\n",
      "\n",
      "-- Docs: https://docs.pytest.org/en/stable/how-to/capture-warnings.html\n",
      "67 deselected, 1 warning in 1.48s\n"
     ]
    }
   ],
   "source": [
    "import pandas as pd\n",
    "import pytest\n",
    "\n",
    "# Define your ebb_flow function here or ensure it's imported\n",
    "\n",
    "def ebb_flow(x, y, time, directory, model, output_format):\n",
    "    # Dummy implementation for the sake of example\n",
    "    return pd.DataFrame({\"x\": x, \"y\": y, \"time\": time, \"model\": model})\n",
    "\n",
    "@pytest.mark.parametrize(\n",
    "    \"models\",\n",
    "    [\n",
    "        \"EOT20\",  \n",
    "        [\"EOT20\", \"GOT5.5\"], \n",
    "    ],\n",
    ")\n",
    "def test_ebb_flow(models):\n",
    "    ebb_flow_df = ebb_flow(\n",
    "        x=[122.14, 122.30, 122.12],\n",
    "        y=[-17.91, -17.92, -18.07],\n",
    "        time=pd.date_range(\"2020\", \"2021\", periods=3),\n",
    "        directory=\"/var/share/tide_models/\",\n",
    "        model=models,\n",
    "        output_format=\"wide\",\n",
    "    )\n",
    "    assert ebb_flow_df is not None  # Example assertion\n",
    "\n",
    "# Now, run the test\n",
    "# pytest.main([\"-q\", \"-k\", \"test_ebb_flow\"])\n",
    "\n"
   ]
  },
  {
   "cell_type": "code",
   "execution_count": 282,
   "metadata": {},
   "outputs": [
    {
     "name": "stdout",
     "output_type": "stream",
     "text": [
      "Modelling tides using EOT20\n",
      "Modelling tides using EOT20\n"
     ]
    }
   ],
   "source": [
    "phase_df = phase_tides(\n",
    "            x=[122.14],\n",
    "            y=[-17.91],\n",
    "            time=pd.date_range(\"2020-01-01\", \"2020-01-02\", freq=\"h\"),\n",
    "            model=[\"EOT20\"],\n",
    "            time_offset=\"15 min\",\n",
    "    directory=\"/var/share/tide_models/\",\n",
    "        )"
   ]
  },
  {
   "cell_type": "code",
   "execution_count": 289,
   "metadata": {},
   "outputs": [
    {
     "data": {
      "text/plain": [
       "True"
      ]
     },
     "execution_count": 289,
     "metadata": {},
     "output_type": "execute_result"
    }
   ],
   "source": [
    "phase_df.tide_phase.tolist() == [\n",
    "            \"low-flow\",\n",
    "            \"low-flow\",\n",
    "            \"low-flow\",\n",
    "            \"low-flow\",\n",
    "            \"high-flow\",\n",
    "            \"high-flow\",\n",
    "            \"high-flow\",\n",
    "            \"high-ebb\",\n",
    "            \"high-ebb\",\n",
    "            \"high-ebb\",\n",
    "            \"low-ebb\",\n",
    "            \"low-ebb\",\n",
    "            \"low-ebb\",\n",
    "            \"low-flow\",\n",
    "            \"low-flow\",\n",
    "            \"high-flow\",\n",
    "            \"high-flow\",\n",
    "            \"high-flow\",\n",
    "            \"high-flow\",\n",
    "            \"high-ebb\",\n",
    "            \"high-ebb\",\n",
    "            \"high-ebb\",\n",
    "            \"low-ebb\",\n",
    "            \"low-ebb\",\n",
    "            \"low-ebb\",\n",
    "        ]\n"
   ]
  },
  {
   "cell_type": "code",
   "execution_count": null,
   "metadata": {},
   "outputs": [],
   "source": [
    "modelled_tides_df[\"ebb_flow\"] = pre_tides_df.drop(\n",
    "    \"tide_model\", axis=1, errors=\"ignore\"\n",
    ").values < modelled_tides_df.drop(\"tide_model\", axis=1, errors=\"ignore\").values\n",
    "modelled_tides_df[\"ebb_flow\"] = modelled_tides_df[\"ebb_flow\"].replace({\n",
    "        True: \"Ebb\",\n",
    "        False: \"Flow\",\n",
    "    })"
   ]
  },
  {
   "cell_type": "code",
   "execution_count": null,
   "metadata": {},
   "outputs": [],
   "source": [
    "modelled_tides_df"
   ]
  },
  {
   "cell_type": "code",
   "execution_count": 248,
   "metadata": {},
   "outputs": [
    {
     "name": "stdout",
     "output_type": "stream",
     "text": [
      "/home/jovyan/Robbi/eo-tides\n"
     ]
    }
   ],
   "source": [
    "cd .."
   ]
  },
  {
   "cell_type": "code",
   "execution_count": 291,
   "metadata": {},
   "outputs": [
    {
     "name": "stdout",
     "output_type": "stream",
     "text": [
      "============================= test session starts ==============================\n",
      "platform linux -- Python 3.10.15, pytest-8.3.3, pluggy-1.5.0 -- /env/bin/python3.10\n",
      "cachedir: .pytest_cache\n",
      "rootdir: /home/jovyan/Robbi/eo-tides\n",
      "configfile: pyproject.toml\n",
      "plugins: anyio-4.6.2.post1, nbval-0.11.0\n",
      "collected 32 items / 22 deselected / 10 selected                               \n",
      "\n",
      "tests/test_model.py::test_phase_tides[15 min] PASSED                     [ 10%]\n",
      "tests/test_model.py::test_phase_tides[20 min] PASSED                     [ 20%]\n",
      "tests/test_model.py::test_phase_tides_format[models0-long-False-expected_cols0] PASSED [ 30%]\n",
      "tests/test_model.py::test_phase_tides_format[models1-long-True-expected_cols1] PASSED [ 40%]\n",
      "tests/test_model.py::test_phase_tides_format[models2-long-False-expected_cols2] PASSED [ 50%]\n",
      "tests/test_model.py::test_phase_tides_format[models3-long-True-expected_cols3] PASSED [ 60%]\n",
      "tests/test_model.py::test_phase_tides_format[models4-wide-False-expected_cols4] PASSED [ 70%]\n",
      "tests/test_model.py::test_phase_tides_format[models5-wide-True-expected_cols5] PASSED [ 80%]\n",
      "tests/test_model.py::test_phase_tides_format[models6-wide-False-expected_cols6] PASSED [ 90%]\n",
      "tests/test_model.py::test_phase_tides_format[models7-wide-True-expected_cols7] PASSED [100%]\n",
      "\n",
      "=============================== warnings summary ===============================\n",
      "<frozen importlib._bootstrap>:241\n",
      "  <frozen importlib._bootstrap>:241: RuntimeWarning: numpy.ndarray size changed, may indicate binary incompatibility. Expected 16 from C header, got 96 from PyObject\n",
      "\n",
      "tests/test_model.py: 24 warnings\n",
      "  /env/lib/python3.10/site-packages/pyproj/transformer.py:817: DeprecationWarning: Conversion of an array with ndim > 0 to a scalar is deprecated, and will error in future. Ensure you extract a single element from your array before performing this operation. (Deprecated NumPy 1.25.)\n",
      "    return self._transformer._transform_point(\n",
      "\n",
      "-- Docs: https://docs.pytest.org/en/stable/how-to/capture-warnings.html\n",
      "================ 10 passed, 22 deselected, 25 warnings in 6.13s ================\n"
     ]
    }
   ],
   "source": [
    "!export EO_TIDES_TIDE_MODELS=./tests/data/tide_models && pytest tests/test_model.py --verbose -k test_phase_tides"
   ]
  },
  {
   "cell_type": "code",
   "execution_count": 278,
   "metadata": {},
   "outputs": [
    {
     "name": "stdout",
     "output_type": "stream",
     "text": [
      "Modelling tides using EOT20\n",
      "Modelling tides using EOT20\n"
     ]
    }
   ],
   "source": [
    "phase_df = phase_tides(\n",
    "    x=[122.14],\n",
    "    y=[-17.91],\n",
    "    time=pd.date_range(\"2020-01-01\", \"2020-01-02\", freq=\"h\"),\n",
    "    directory=\"/var/share/tide_models/\",\n",
    "    model=[\"EOT20\"],\n",
    "    delta = \"15 min\",\n",
    ")"
   ]
  },
  {
   "cell_type": "code",
   "execution_count": 279,
   "metadata": {},
   "outputs": [
    {
     "data": {
      "text/plain": [
       "['low-flow',\n",
       " 'low-flow',\n",
       " 'low-flow',\n",
       " 'low-flow',\n",
       " 'high-flow',\n",
       " 'high-flow',\n",
       " 'high-flow',\n",
       " 'high-ebb',\n",
       " 'high-ebb',\n",
       " 'high-ebb',\n",
       " 'low-ebb',\n",
       " 'low-ebb',\n",
       " 'low-ebb',\n",
       " 'low-flow',\n",
       " 'low-flow',\n",
       " 'high-flow',\n",
       " 'high-flow',\n",
       " 'high-flow',\n",
       " 'high-flow',\n",
       " 'high-ebb',\n",
       " 'high-ebb',\n",
       " 'high-ebb',\n",
       " 'low-ebb',\n",
       " 'low-ebb',\n",
       " 'low-ebb']"
      ]
     },
     "execution_count": 279,
     "metadata": {},
     "output_type": "execute_result"
    }
   ],
   "source": [
    "phase_df.tide_phase.tolist()"
   ]
  },
  {
   "cell_type": "code",
   "execution_count": 276,
   "metadata": {},
   "outputs": [
    {
     "data": {
      "text/plain": [
       "False"
      ]
     },
     "execution_count": 276,
     "metadata": {},
     "output_type": "execute_result"
    }
   ],
   "source": [
    "def check_sequence(arr):\n",
    "    pattern = ['low-flow', 'high-flow', 'high-ebb', 'low-ebb']\n",
    "    # Check if length is multiple of 4\n",
    "    if len(arr) % 4 != 0:\n",
    "        return False\n",
    "        \n",
    "    # Check each group of 4 elements\n",
    "    for i in range(0, len(arr), 4):\n",
    "        if arr[i:i+4].tolist() != pattern:\n",
    "            return False\n",
    "    return True\n",
    "\n",
    "check_sequence(phase_df.query(\"tide_model == 'EOT20'\").tide_phase.values)"
   ]
  },
  {
   "cell_type": "markdown",
   "metadata": {},
   "source": [
    "## Testing pyTMD"
   ]
  },
  {
   "cell_type": "code",
   "execution_count": null,
   "metadata": {},
   "outputs": [],
   "source": [
    "from eo_tides import model_tides\n",
    "\n",
    "x, y, crs, method, model = GAUGE_X, GAUGE_Y, \"EPSG:4326\", \"spline\", \"EOT20\"\n",
    "x, y, crs, method, model = GAUGE_X, GAUGE_Y, \"EPSG:4326\", \"bilinear\", \"EOT20\"\n",
    "x, y, crs, method, model = -1034913, -1961916, \"EPSG:3577\", \"bilinear\", \"EOT20\"\n",
    "\n",
    "\n",
    "# Run EOT20 tidal model for locations and timesteps in tide gauge data\n",
    "modelled_tides_df = model_tides(\n",
    "    x=[x],\n",
    "    y=[y],\n",
    "    time=measured_tides_ds.time,\n",
    "    crs=crs,\n",
    "    method=method,\n",
    "    directory=\"../tests/data/tide_models\",\n",
    ")\n",
    "\n",
    "# Run equivalent pyTMD code to verify same results\n",
    "pytmd_tides = tide_elevations(\n",
    "        x=x, \n",
    "        y=y, \n",
    "        delta_time=measured_tides_ds.time,\n",
    "        DIRECTORY=\"../tests/data/tide_models\",\n",
    "        MODEL=\"EOT20\",\n",
    "        EPSG=int(crs[-4:]),\n",
    "        TIME=\"datetime\",\n",
    "        EXTRAPOLATE=True,\n",
    "        CUTOFF=np.inf,\n",
    "        METHOD=method,\n",
    "        # CORRECTIONS: str | None = None,\n",
    "        # INFER_MINOR: bool = True,\n",
    "        # MINOR_CONSTITUENTS: list | None = None,\n",
    "        # APPLY_FLEXURE: bool = False,\n",
    "        # FILL_VALUE: float = np.nan\n",
    "        )\n",
    "\n",
    "np.allclose(modelled_tides_df.tide_height.values, pytmd_tides.data)"
   ]
  },
  {
   "cell_type": "markdown",
   "metadata": {},
   "source": [
    "### Error for out of bounds"
   ]
  },
  {
   "cell_type": "code",
   "execution_count": null,
   "metadata": {},
   "outputs": [],
   "source": [
    "from eo_tides import model_tides\n",
    "\n",
    "x, y = 180, -50\n",
    "\n",
    "\n",
    "# Run EOT20 tidal model for locations and timesteps in tide gauge data\n",
    "modelled_tides_df = model_tides(\n",
    "    x=[x],\n",
    "    y=[y],\n",
    "    model=[\"EOT20\", \"GOT5.5\"],\n",
    "    time=measured_tides_ds.time,\n",
    "    directory=\"../tests/data/tide_models\",\n",
    ")"
   ]
  },
  {
   "cell_type": "code",
   "execution_count": null,
   "metadata": {},
   "outputs": [],
   "source": [
    "from eo_tides import list_models\n",
    "list_models(directory=\"\")"
   ]
  },
  {
   "cell_type": "markdown",
   "metadata": {},
   "source": [
    "### Modelling ebb and flow tidal phases\n",
    "The `tag_tides` function also allows us to determine whether each satellite observation was taken while the tide was rising/incoming (flow tide) or falling/outgoing (ebb tide) by setting `ebb_flow=True`. This is achieved by comparing tide heights 15 minutes before and after the observed satellite observation.\n",
    "\n",
    "Ebb and flow data can provide valuable contextual information for interpreting satellite imagery, particularly in tidal flat or mangrove forest environments where water may remain in the landscape for considerable time after the tidal peak.\n",
    "\n",
    "Once you run the cell below, our data will now also contain a new `ebb_flow` variable under **Data variables**:"
   ]
  },
  {
   "cell_type": "code",
   "execution_count": null,
   "metadata": {},
   "outputs": [],
   "source": [
    "import datacube\n",
    "\n",
    "dc = datacube.Datacube()\n",
    "\n",
    "ds = dc.load(product=\"ga_s2ls_intertidal_cyear_3\", limit=1, measurements=\"elevation\")"
   ]
  },
  {
   "cell_type": "code",
   "execution_count": null,
   "metadata": {},
   "outputs": [],
   "source": [
    "from odc.geo.geobox import GeoBox\n",
    "import xarray as xr\n",
    "import textwrap\n",
    "import numpy as np\n",
    "\n",
    "from typing import Any\n",
    "\n",
    "\n",
    "def _standardise_time(\n",
    "    time: np.ndarray | pd.DatetimeIndex | pd.Timestamp | None,\n",
    ") -> np.ndarray | None:\n",
    "    \"\"\"\n",
    "    Accept a datetime64 ndarray, pandas.DatetimeIndex\n",
    "    or pandas.Timestamp, and return a datetime64 ndarray.\n",
    "    \"\"\"\n",
    "    # Return time as-is if none\n",
    "    if time is None:\n",
    "        return time\n",
    "\n",
    "    # Convert to a 1D datetime64 array\n",
    "    time = np.atleast_1d(time).astype(\"datetime64[ns]\")\n",
    "\n",
    "    return time\n",
    "\n",
    "\n",
    "def _standardise_inputs(\n",
    "    ds: xr.DataArray | xr.Dataset | GeoBox,\n",
    "    time: np.ndarray | pd.DatetimeIndex | pd.Timestamp | None,\n",
    ") -> (GeoBox, np.ndarray):\n",
    "    \"\"\"\n",
    "    Takes an xarray or GeoBox input and an optional custom times,\n",
    "    and returns a standardised GeoBox and  \n",
    "    \"\"\"\n",
    "\n",
    "    # If `ds` is an xarray object, extract its GeoBox and time\n",
    "    if isinstance(ds, (xr.DataArray, xr.Dataset)):\n",
    "\n",
    "        # Try to extract GeoBox\n",
    "        try:\n",
    "            gbox = ds.odc.geobox\n",
    "        except AttributeError:\n",
    "            error_msg = \"\"\"\n",
    "            Cannot extract a valid GeoBox for `ds`. This is required for\n",
    "            extracting details about `ds`'s CRS and spatial location.\n",
    "            \n",
    "            Import `odc.geo.xr` then run `ds = ds.odc.assign_crs(crs=...)`\n",
    "            to prepare your data before passing it to this function.\n",
    "            \"\"\"\n",
    "            raise Exception(textwrap.dedent(error_msg).strip())\n",
    "\n",
    "        # Use custom time by default if provided; otherwise try and extract from `ds`\n",
    "        if time is not None:\n",
    "            time = _standardise_time(time)\n",
    "        elif \"time\" in ds.coords:\n",
    "            time = ds.coords[\"time\"].values\n",
    "        else:\n",
    "            raise ValueError(\n",
    "                \"`ds` does not have a time dimension, and no custom times were provided via `time`.\"\n",
    "            )\n",
    "\n",
    "    # If `ds` is a GeoBox, use it directly; raise an error if no time was provided\n",
    "    elif isinstance(ds, GeoBox):\n",
    "        gbox = ds\n",
    "        if time is not None:\n",
    "            time = _standardise_time(time)\n",
    "        else:\n",
    "            raise ValueError(\"If `ds` is a GeoBox, `time` must be provided.\")\n",
    "\n",
    "    # Raise error if no valid inputs were provided\n",
    "    else:\n",
    "        raise TypeError(\n",
    "            \"`ds` must be an xarray.DataArray, xarray.Dataset, or odc.geo.geobox.GeoBox.\"\n",
    "        )\n",
    "\n",
    "    return gbox, time\n",
    "\n",
    "\n",
    "time = pd.date_range(\"2021\", \"2022\").values\n",
    "time = pd.date_range(\"2021\", \"2022\")\n",
    "time = pd.Timestamp(\"2022-02-01\")\n",
    "# time = satellite_ds.time\n",
    "# time = [\"a\", \"b\"]\n",
    "\n",
    "\n",
    "gbox, time = _standardise_inputs(ds=ds.drop_dims(\"time\").odc.geobox, time=time)\n",
    "gbox, time"
   ]
  },
  {
   "cell_type": "code",
   "execution_count": null,
   "metadata": {},
   "outputs": [],
   "source": [
    "satellite_ds.chunks[\"x\"]"
   ]
  },
  {
   "cell_type": "code",
   "execution_count": null,
   "metadata": {},
   "outputs": [],
   "source": [
    "import pandas as pd\n",
    "\n",
    "time = pd.date_range(\"2021\", \"2022\").values\n",
    "# time = pd.date_range(\"2021\", \"2022\")\n",
    "# time = pd.Timestamp(\"2022-02-01\")\n",
    "time = satellite_ds.time\n",
    "\n",
    "\n",
    "def _standardise_time(\n",
    "    time: np.ndarray | pd.DatetimeIndex | pd.Timestamp | None,\n",
    ") -> np.ndarray | None:\n",
    "    \"\"\"\n",
    "    Accept a datetime64 ndarray, pandas.DatetimeIndex\n",
    "    or pandas.Timestamp, and return a datetime64 ndarray.\n",
    "    \"\"\"\n",
    "    # Return time as-is if none\n",
    "    if time is None:\n",
    "        return time\n",
    "\n",
    "    # Convert to a 1D datetime64 array\n",
    "    time = np.atleast_1d(time).astype(\"datetime64[ns]\")\n",
    "\n",
    "    return time\n",
    "\n",
    "\n",
    "time = pd.date_range(\"2021\", \"2022\").values\n",
    "# time = pd.date_range(\"2021\", \"2022\")\n",
    "# time = pd.Timestamp(\"2022-02-01\")\n",
    "# time = satellite_ds.time\n",
    "# time = [pd.Timestamp(\"2022-02-01\"), pd.Timestamp(\"2022-02-01\")]\n",
    "# time = None\n",
    "_standardise_time(time=time)"
   ]
  },
  {
   "cell_type": "code",
   "execution_count": null,
   "metadata": {},
   "outputs": [],
   "source": [
    "test = np.atleast_1d(time).astype('datetime64[ns]')"
   ]
  },
  {
   "cell_type": "code",
   "execution_count": null,
   "metadata": {},
   "outputs": [],
   "source": [
    "test"
   ]
  },
  {
   "cell_type": "code",
   "execution_count": null,
   "metadata": {},
   "outputs": [],
   "source": [
    "ds = ds.odc.assign_crs(\"EPSG:3577\")"
   ]
  },
  {
   "cell_type": "code",
   "execution_count": null,
   "metadata": {},
   "outputs": [],
   "source": [
    "test = satellite_ds.nbart_red.drop_attrs(deep=True).drop_vars(\"spatial_ref\").odc.reload()"
   ]
  },
  {
   "cell_type": "code",
   "execution_count": null,
   "metadata": {},
   "outputs": [],
   "source": [
    "test  #odc.reload()"
   ]
  },
  {
   "cell_type": "code",
   "execution_count": null,
   "metadata": {},
   "outputs": [],
   "source": [
    "# Model tide heights\n",
    "ds = tag_tides(\n",
    "    ds, \n",
    "    ebb_flow=True,     \n",
    "    directory=\"../../tests/data/tide_models\",\n",
    ")\n",
    "\n",
    "# Print output data\n",
    "print(ds)"
   ]
  },
  {
   "cell_type": "markdown",
   "metadata": {},
   "source": [
    "We now have data giving us the both the tide height and tidal phase (\"ebb\" or \"flow\") for every satellite image:"
   ]
  },
  {
   "cell_type": "code",
   "execution_count": null,
   "metadata": {},
   "outputs": [],
   "source": [
    "ds[[\"time\", \"tide_height\", \"ebb_flow\"]].drop_vars(\"spatial_ref\").to_dataframe().head()"
   ]
  },
  {
   "cell_type": "markdown",
   "metadata": {},
   "source": [
    "We could for example use this data to filter our observations to keep ebbing phase observations only:"
   ]
  },
  {
   "cell_type": "code",
   "execution_count": null,
   "metadata": {},
   "outputs": [],
   "source": [
    "ds_ebb = ds.where(ds.ebb_flow == \"Ebb\", drop=True)\n",
    "print(ds_ebb)"
   ]
  },
  {
   "cell_type": "markdown",
   "metadata": {},
   "source": [
    "## Pixel biases"
   ]
  },
  {
   "cell_type": "code",
   "execution_count": null,
   "metadata": {},
   "outputs": [],
   "source": [
    "import odc.stac\n",
    "import pystac_client\n",
    "import planetary_computer\n",
    "\n",
    "# Connect to STAC catalog\n",
    "catalog = pystac_client.Client.open(\n",
    "    \"https://planetarycomputer.microsoft.com/api/stac/v1\",\n",
    "    modifier=planetary_computer.sign_inplace,\n",
    ")\n",
    "\n",
    "# Set cloud access defaults\n",
    "odc.stac.configure_rio(\n",
    "    cloud_defaults=True,\n",
    "    aws={\"aws_unsigned\": True},\n",
    ")\n",
    "\n",
    "# Build a query and search the STAC catalog for all matching items\n",
    "bbox = [122.160, -18.05, 122.260, -17.95]\n",
    "query = catalog.search(\n",
    "    bbox=bbox,\n",
    "    collections=[\"sentinel-2-l2a\"],\n",
    "    datetime=\"2021/2023\",\n",
    ")\n",
    "\n",
    "# Load data into xarray format\n",
    "ds_s2 = odc.stac.load(\n",
    "    items=list(query.items()),\n",
    "    bands=[\"red\"],\n",
    "    crs=\"utm\",\n",
    "    resolution=30,\n",
    "    groupby=\"solar_day\",\n",
    "    bbox=bbox,\n",
    "    fail_on_error=False,\n",
    "    chunks={},\n",
    ")\n",
    "\n",
    "print(ds_s2)"
   ]
  },
  {
   "cell_type": "code",
   "execution_count": null,
   "metadata": {},
   "outputs": [],
   "source": []
  },
  {
   "cell_type": "code",
   "execution_count": null,
   "metadata": {},
   "outputs": [],
   "source": [
    "list(stats_ds.data_vars.keys())"
   ]
  },
  {
   "cell_type": "code",
   "execution_count": null,
   "metadata": {},
   "outputs": [],
   "source": [
    "from eo_tides.stats import pixel_stats\n",
    "\n",
    "models = [\"EOT20\"]\n",
    "resample = True\n",
    "\n",
    "stats_ds = pixel_stats(\n",
    "    ds=satellite_ds,\n",
    "    model=models,\n",
    "    resample=resample,\n",
    "    directory=\"../tests/data/tide_models\",\n",
    ")\n",
    "\n",
    "# Verify dims are correct\n",
    "assert stats_ds.odc.spatial_dims == satellite_ds.odc.spatial_dims\n",
    "\n",
    "# Verify vars are as expected\n",
    "expected_vars = ['hat',  'hot',  'lat',  'lot',  'otr',  'tr',  'spread',  'offset_low',  'offset_high']\n",
    "assert set(expected_vars) == set(stats_ds.data_vars)\n",
    "\n",
    "# Verify tide models are correct\n",
    "assert all(stats_ds[\"tide_model\"].values == models)\n",
    "if len(models) > 1:\n",
    "    assert \"tide_model\" in stats_ds.dims\n",
    "\n",
    "# If resample, assert that statistics have the same shape and dims\n",
    "# as `satellite_ds`\n",
    "if resample:\n",
    "    assert satellite_ds.odc.geobox.shape == stats_ds.odc.geobox.shape\n",
    "\n"
   ]
  },
  {
   "cell_type": "code",
   "execution_count": null,
   "metadata": {},
   "outputs": [],
   "source": [
    "# Verify values are roughly expected\n",
    "assert np.allclose(stats_ds.offset_high.mean().item, 0.30, atol=0.02)\n",
    "assert np.allclose(stats_ds.offset_low.mean().item, 0.27, atol=0.02)\n",
    "assert np.allclose(stats_ds.spread.mean().item, 0.43, atol=0.02)"
   ]
  },
  {
   "cell_type": "code",
   "execution_count": null,
   "metadata": {},
   "outputs": [],
   "source": [
    "stats_ds.offset_high.mean().item()"
   ]
  },
  {
   "cell_type": "code",
   "execution_count": null,
   "metadata": {},
   "outputs": [],
   "source": []
  },
  {
   "cell_type": "code",
   "execution_count": null,
   "metadata": {},
   "outputs": [],
   "source": [
    "stats_ds.spread.mean()"
   ]
  },
  {
   "cell_type": "code",
   "execution_count": null,
   "metadata": {},
   "outputs": [],
   "source": [
    "stats_ds[\"tide_model\"].values.tolist()"
   ]
  },
  {
   "cell_type": "code",
   "execution_count": null,
   "metadata": {},
   "outputs": [],
   "source": [
    "stats_ds[\"tide_model\"].values.tolist()"
   ]
  },
  {
   "cell_type": "code",
   "execution_count": null,
   "metadata": {},
   "outputs": [],
   "source": [
    "set(['hat',  'hot',  'lat',  'lot',  'otr',  'tr',  'spread',  'offset_low',  'offset_high'])"
   ]
  },
  {
   "cell_type": "code",
   "execution_count": null,
   "metadata": {},
   "outputs": [],
   "source": [
    "set(stats_ds.data_vars)"
   ]
  },
  {
   "cell_type": "code",
   "execution_count": null,
   "metadata": {},
   "outputs": [],
   "source": [
    "from eo_tides import pixel_tides\n",
    "\n",
    "pixel_tides(\n",
    "    ds=satellite_ds,\n",
    "    model=[\"EOT20\", \"GOT5.5\"],\n",
    "    directory=\"../tests/data/tide_models\",\n",
    "    )"
   ]
  },
  {
   "cell_type": "code",
   "execution_count": null,
   "metadata": {},
   "outputs": [],
   "source": [
    "stats_ds.dims"
   ]
  },
  {
   "cell_type": "code",
   "execution_count": null,
   "metadata": {},
   "outputs": [],
   "source": [
    "satellite_ds.x"
   ]
  },
  {
   "cell_type": "markdown",
   "metadata": {},
   "source": []
  }
 ],
 "metadata": {
  "kernelspec": {
   "display_name": "Python 3 (ipykernel)",
   "language": "python",
   "name": "python3"
  },
  "language_info": {
   "codemirror_mode": {
    "name": "ipython",
    "version": 3
   },
   "file_extension": ".py",
   "mimetype": "text/x-python",
   "name": "python",
   "nbconvert_exporter": "python",
   "pygments_lexer": "ipython3",
   "version": "3.10.15"
  }
 },
 "nbformat": 4,
 "nbformat_minor": 4
}
