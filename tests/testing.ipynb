{
 "cells": [
  {
   "cell_type": "code",
   "execution_count": 1,
   "metadata": {},
   "outputs": [
    {
     "name": "stdout",
     "output_type": "stream",
     "text": [
      "Collecting uv\n",
      "  Downloading uv-0.4.29-py3-none-manylinux_2_17_x86_64.manylinux2014_x86_64.whl.metadata (11 kB)\n",
      "Downloading uv-0.4.29-py3-none-manylinux_2_17_x86_64.manylinux2014_x86_64.whl (13.8 MB)\n",
      "\u001b[2K   \u001b[90m━━━━━━━━━━━━━━━━━━━━━━━━━━━━━━━━━━━━━━━━\u001b[0m \u001b[32m13.8/13.8 MB\u001b[0m \u001b[31m143.3 MB/s\u001b[0m eta \u001b[36m0:00:00\u001b[0m\n",
      "\u001b[?25hInstalling collected packages: uv\n",
      "Successfully installed uv-0.4.29\n",
      "\u001b[31mERROR: pip's dependency resolver does not currently take into account all the packages that are installed. This behaviour is the source of the following dependency conflicts.\n",
      "dea-tools 0.3.5 requires pyTMD<=2.1.6, but you have pytmd 2.1.7 which is incompatible.\u001b[0m\u001b[31m\n",
      "\u001b[0m"
     ]
    }
   ],
   "source": [
    "!pip install uv\n",
    "!pip install -e .. --quiet\n"
   ]
  },
  {
   "cell_type": "code",
   "execution_count": null,
   "metadata": {},
   "outputs": [],
   "source": [
    "!pip install -e /home/jovyan/Robbi/pyTMD"
   ]
  },
  {
   "cell_type": "code",
   "execution_count": 1,
   "metadata": {},
   "outputs": [],
   "source": [
    "%load_ext autoreload\n",
    "%autoreload 2\n",
    "\n",
    "import odc.stac\n",
    "import pandas as pd\n",
    "import pystac_client\n",
    "\n",
    "from pyTMD.compute import tide_elevations\n",
    "import pandas as pd\n",
    "import numpy as np\n",
    "\n",
    "\n",
    "GAUGE_X = 122.2183\n",
    "GAUGE_Y = -18.0008\n",
    "ENSEMBLE_MODELS = [\"EOT20\", \"HAMTIDE11\"]  # simplified for tests"
   ]
  },
  {
   "cell_type": "markdown",
   "metadata": {},
   "source": [
    "## Load fixtures"
   ]
  },
  {
   "cell_type": "code",
   "execution_count": 2,
   "metadata": {},
   "outputs": [],
   "source": [
    "def load_satellite_ds():\n",
    "    \"\"\"\n",
    "    Load a sample timeseries of Landsat 8 data using odc-stac\n",
    "    \"\"\"\n",
    "    # Connect to stac catalogue\n",
    "    catalog = pystac_client.Client.open(\"https://explorer.dea.ga.gov.au/stac\")\n",
    "\n",
    "    # Set cloud defaults\n",
    "    odc.stac.configure_rio(\n",
    "        cloud_defaults=True,\n",
    "        aws={\"aws_unsigned\": True},\n",
    "    )\n",
    "\n",
    "    # Build a query with the parameters above\n",
    "    buffer = 0.08\n",
    "    # buffer = 0.5\n",
    "    bbox = [GAUGE_X - buffer, GAUGE_Y - buffer, GAUGE_X + buffer, GAUGE_Y + buffer]\n",
    "    query = catalog.search(\n",
    "        bbox=bbox,\n",
    "        collections=[\"ga_ls8c_ard_3\"],\n",
    "        datetime=\"2020-01/2020-02\",\n",
    "    )\n",
    "\n",
    "    # Search the STAC catalog for all items matching the query\n",
    "    ds = odc.stac.load(\n",
    "        list(query.items()),\n",
    "        bands=[\"nbart_red\"],\n",
    "        crs=\"epsg:3577\",\n",
    "        resolution=30,\n",
    "        groupby=\"solar_day\",\n",
    "        bbox=bbox,\n",
    "        fail_on_error=False,\n",
    "        chunks={\"x\": 100, \"y\": 200},\n",
    "    )\n",
    "\n",
    "    return ds\n",
    "\n",
    "satellite_ds = load_satellite_ds()\n",
    "\n",
    "def load_measured_tides_ds():\n",
    "    \"\"\"\n",
    "    Load measured sea level data from the Broome ABSLMP tidal station:\n",
    "    http://www.bom.gov.au/oceanography/projects/abslmp/data/data.shtml\n",
    "    \"\"\"\n",
    "    # Metadata for Broome ABSLMP tidal station:\n",
    "    # http://www.bom.gov.au/oceanography/projects/abslmp/data/data.shtml\n",
    "    ahd_offset = -5.322\n",
    "\n",
    "    # Load measured tides from ABSLMP tide gauge data\n",
    "    measured_tides_df = pd.read_csv(\n",
    "        \"../tests/data/IDO71013_2020.csv\",\n",
    "        index_col=0,\n",
    "        parse_dates=True,\n",
    "        na_values=-9999,\n",
    "    )[[\"Sea Level\"]]\n",
    "\n",
    "    # Update index and column names\n",
    "    measured_tides_df.index.name = \"time\"\n",
    "    measured_tides_df.columns = [\"tide_height\"]\n",
    "\n",
    "    # Apply station AHD offset\n",
    "    measured_tides_df += ahd_offset\n",
    "\n",
    "    # Return as xarray dataset\n",
    "    return measured_tides_df.to_xarray()\n",
    "\n",
    "satellite_ds = load_satellite_ds()\n",
    "measured_tides_ds = load_measured_tides_ds()"
   ]
  },
  {
   "cell_type": "markdown",
   "metadata": {},
   "source": [
    "## Run tests"
   ]
  },
  {
   "cell_type": "code",
   "execution_count": 4,
   "metadata": {},
   "outputs": [
    {
     "name": "stdout",
     "output_type": "stream",
     "text": [
      "/workspaces/eo-tides\n"
     ]
    },
    {
     "name": "stderr",
     "output_type": "stream",
     "text": [
      "/workspaces/eo-tides/.venv/lib/python3.12/site-packages/IPython/core/magics/osm.py:417: UserWarning: using dhist requires you to install the `pickleshare` library.\n",
      "  self.shell.db['dhist'] = compress_dhist(dhist)[-100:]\n"
     ]
    }
   ],
   "source": [
    "cd .."
   ]
  },
  {
   "cell_type": "code",
   "execution_count": 111,
   "metadata": {},
   "outputs": [
    {
     "name": "stdout",
     "output_type": "stream",
     "text": [
      "============================= test session starts ==============================\n",
      "platform linux -- Python 3.10.15, pytest-8.3.3, pluggy-1.5.0 -- /env/bin/python3.10\n",
      "cachedir: .pytest_cache\n",
      "rootdir: /home/jovyan/Robbi/eo-tides\n",
      "configfile: pyproject.toml\n",
      "plugins: anyio-4.6.2.post1, nbval-0.11.0\n",
      "collected 51 items / 42 deselected / 9 selected                                \n",
      "\n",
      "tests/test_model.py::test_parallel_splits[10000-2-8-4] PASSED            [ 11%]\n",
      "tests/test_model.py::test_parallel_splits[5000-1-4-4] PASSED             [ 22%]\n",
      "tests/test_model.py::test_parallel_splits[900-1-4-1] PASSED              [ 33%]\n",
      "tests/test_model.py::test_parallel_splits[2000-2-2-1] PASSED             [ 44%]\n",
      "tests/test_model.py::test_parallel_splits[100000-2-4-2] PASSED           [ 55%]\n",
      "tests/test_model.py::test_parallel_splits[100000-4-8-2] PASSED           [ 66%]\n",
      "tests/test_model.py::test_parallel_splits[1-1-1-1] PASSED                [ 77%]\n",
      "tests/test_model.py::test_parallel_splits[999999-1-8-8] PASSED           [ 88%]\n",
      "tests/test_model.py::test_parallel_splits[10000-8-8-1] PASSED            [100%]\n",
      "\n",
      "=============================== warnings summary ===============================\n",
      "<frozen importlib._bootstrap>:241\n",
      "  <frozen importlib._bootstrap>:241: RuntimeWarning: numpy.ndarray size changed, may indicate binary incompatibility. Expected 16 from C header, got 96 from PyObject\n",
      "\n",
      "-- Docs: https://docs.pytest.org/en/stable/how-to/capture-warnings.html\n",
      "================= 9 passed, 42 deselected, 1 warning in 1.83s ==================\n"
     ]
    }
   ],
   "source": [
    "!export EO_TIDES_TIDE_MODELS=./tests/data/tide_models && pytest tests/test_model.py --verbose -k test_parallel_splits"
   ]
  },
  {
   "cell_type": "code",
   "execution_count": 146,
   "metadata": {},
   "outputs": [
    {
     "name": "stdout",
     "output_type": "stream",
     "text": [
      "============================= test session starts ==============================\n",
      "platform linux -- Python 3.10.15, pytest-8.3.3, pluggy-1.5.0 -- /env/bin/python3.10\n",
      "cachedir: .pytest_cache\n",
      "rootdir: /home/jovyan/Robbi/eo-tides\n",
      "configfile: pyproject.toml\n",
      "plugins: anyio-4.6.2.post1, nbval-0.11.0\n",
      "collected 96 items                                                             \n",
      "\n",
      "tests/test_eo.py::test_tag_tides[satellite_ds_epsg3577-None-None] PASSED [  1%]\n",
      "tests/test_eo.py::test_tag_tides[satellite_ds_epsg3577--18.0008-122.2183] PASSED [  2%]\n",
      "tests/test_eo.py::test_tag_tides_multiple[satellite_ds_epsg3577] PASSED  [  3%]\n",
      "tests/test_eo.py::test_pixel_tides[satellite_ds_epsg3577-None] PASSED    [  4%]\n",
      "tests/test_eo.py::test_pixel_tides[satellite_ds_epsg3577-custom] PASSED  [  5%]\n",
      "tests/test_eo.py::test_pixel_tides_times[satellite_ds_epsg3577] PASSED   [  6%]\n",
      "tests/test_eo.py::test_pixel_tides_quantile[satellite_ds_epsg3577] PASSED [  7%]\n",
      "tests/test_eo.py::test_pixel_tides_multiplemodels[satellite_ds_epsg3577-None] PASSED [  8%]\n",
      "tests/test_eo.py::test_pixel_tides_multiplemodels[satellite_ds_epsg3577-quantiles1] PASSED [  9%]\n",
      "tests/test_eo.py::test_pixel_tides_dask[satellite_ds_epsg3577-None] PASSED [ 10%]\n",
      "tests/test_eo.py::test_pixel_tides_dask[satellite_ds_epsg3577-dask_chunks1] PASSED [ 11%]\n",
      "tests/test_eo.py::test_pixel_tides_dask[satellite_ds_epsg3577-dask_chunks2] PASSED [ 12%]\n",
      "tests/test_eo.py::test_pixel_tides_ensemble[satellite_ds_epsg3577] PASSED [ 13%]\n",
      "tests/test_stats.py::test_tidal_stats[satellite_ds_epsg3577-2h] PASSED   [ 14%]\n",
      "tests/test_stats.py::test_tidal_stats[satellite_ds_epsg3577-120min] PASSED [ 15%]\n",
      "tests/test_stats.py::test_pixel_stats[satellite_ds_epsg3577-models0-False] PASSED [ 16%]\n",
      "tests/test_stats.py::test_pixel_stats[satellite_ds_epsg3577-models1-False] PASSED [ 17%]\n",
      "tests/test_stats.py::test_pixel_stats[satellite_ds_epsg3577-models2-True] PASSED [ 18%]\n",
      "tests/test_eo.py::test_tag_tides[satellite_ds_epsg4326-None-None] PASSED [ 19%]\n",
      "tests/test_eo.py::test_tag_tides[satellite_ds_epsg4326--18.0008-122.2183] PASSED [ 20%]\n",
      "tests/test_eo.py::test_tag_tides_multiple[satellite_ds_epsg4326] PASSED  [ 21%]\n",
      "tests/test_eo.py::test_pixel_tides[satellite_ds_epsg4326-None] PASSED    [ 22%]\n",
      "tests/test_eo.py::test_pixel_tides[satellite_ds_epsg4326-custom] PASSED  [ 23%]\n",
      "tests/test_eo.py::test_pixel_tides_times[satellite_ds_epsg4326] PASSED   [ 25%]\n",
      "tests/test_eo.py::test_pixel_tides_quantile[satellite_ds_epsg4326] PASSED [ 26%]\n",
      "tests/test_eo.py::test_pixel_tides_multiplemodels[satellite_ds_epsg4326-None] PASSED [ 27%]\n",
      "tests/test_eo.py::test_pixel_tides_multiplemodels[satellite_ds_epsg4326-quantiles1] PASSED [ 28%]\n",
      "tests/test_eo.py::test_pixel_tides_dask[satellite_ds_epsg4326-None] PASSED [ 29%]\n",
      "tests/test_eo.py::test_pixel_tides_dask[satellite_ds_epsg4326-dask_chunks1] PASSED [ 30%]\n",
      "tests/test_eo.py::test_pixel_tides_dask[satellite_ds_epsg4326-dask_chunks2] PASSED [ 31%]\n",
      "tests/test_eo.py::test_pixel_tides_ensemble[satellite_ds_epsg4326] PASSED [ 32%]\n",
      "tests/test_stats.py::test_tidal_stats[satellite_ds_epsg4326-2h] PASSED   [ 33%]\n",
      "tests/test_stats.py::test_tidal_stats[satellite_ds_epsg4326-120min] PASSED [ 34%]\n",
      "tests/test_stats.py::test_pixel_stats[satellite_ds_epsg4326-models0-False] PASSED [ 35%]\n",
      "tests/test_stats.py::test_pixel_stats[satellite_ds_epsg4326-models1-False] PASSED [ 36%]\n",
      "tests/test_stats.py::test_pixel_stats[satellite_ds_epsg4326-models2-True] PASSED [ 37%]\n",
      "tests/test_model.py::test_standardise_time[None-None] PASSED             [ 38%]\n",
      "tests/test_model.py::test_standardise_time[input_value1-expected_output1] PASSED [ 39%]\n",
      "tests/test_model.py::test_standardise_time[input_value2-expected_output2] PASSED [ 40%]\n",
      "tests/test_model.py::test_standardise_time[input_value3-expected_output3] PASSED [ 41%]\n",
      "tests/test_model.py::test_standardise_time[input_value4-expected_output4] PASSED [ 42%]\n",
      "tests/test_model.py::test_standardise_time[input_value5-expected_output5] PASSED [ 43%]\n",
      "tests/test_model.py::test_standardise_time[input_value6-expected_output6] PASSED [ 44%]\n",
      "tests/test_model.py::test_standardise_time[input_value7-expected_output7] PASSED [ 45%]\n",
      "tests/test_model.py::test_standardise_time[2020-01-12 21:14-expected_output8] PASSED [ 46%]\n",
      "tests/test_model.py::test_standardise_time[input_value9-expected_output9] PASSED [ 47%]\n",
      "tests/test_model.py::test_parallel_splits[10000-2-8-4] PASSED            [ 48%]\n",
      "tests/test_model.py::test_parallel_splits[5000-1-4-4] PASSED             [ 50%]\n",
      "tests/test_model.py::test_parallel_splits[900-1-4-1] PASSED              [ 51%]\n",
      "tests/test_model.py::test_parallel_splits[2000-2-2-1] PASSED             [ 52%]\n",
      "tests/test_model.py::test_parallel_splits[100000-2-4-2] PASSED           [ 53%]\n",
      "tests/test_model.py::test_parallel_splits[100000-4-8-2] PASSED           [ 54%]\n",
      "tests/test_model.py::test_parallel_splits[1-1-1-1] PASSED                [ 55%]\n",
      "tests/test_model.py::test_parallel_splits[999999-1-8-8] PASSED           [ 56%]\n",
      "tests/test_model.py::test_parallel_splits[10000-8-8-1] PASSED            [ 57%]\n",
      "tests/test_model.py::test_list_models PASSED                             [ 58%]\n",
      "tests/test_model.py::test_model_tides[122.2183--18.0008-EPSG:4326-bilinear-EOT20] PASSED [ 59%]\n",
      "tests/test_model.py::test_model_tides[122.2183--18.0008-EPSG:4326-spline-EOT20] PASSED [ 60%]\n",
      "tests/test_model.py::test_model_tides[-1034913--1961916-EPSG:3577-bilinear-EOT20] PASSED [ 61%]\n",
      "tests/test_model.py::test_model_tides[122.2183--18.0008-EPSG:4326-spline-GOT5.5] PASSED [ 62%]\n",
      "tests/test_model.py::test_model_tides[122.2183--18.0008-EPSG:4326-spline-HAMTIDE11] PASSED [ 63%]\n",
      "tests/test_model.py::test_model_tides_multiplemodels[single_model_long] PASSED [ 64%]\n",
      "tests/test_model.py::test_model_tides_multiplemodels[single_model_wide] PASSED [ 65%]\n",
      "tests/test_model.py::test_model_tides_multiplemodels[multiple_models_long] PASSED [ 66%]\n",
      "tests/test_model.py::test_model_tides_multiplemodels[multiple_models_wide] PASSED [ 67%]\n",
      "tests/test_model.py::test_model_tides_units[metres] PASSED               [ 68%]\n",
      "tests/test_model.py::test_model_tides_units[centimetres] PASSED          [ 69%]\n",
      "tests/test_model.py::test_model_tides_units[millimetres] PASSED          [ 70%]\n",
      "tests/test_model.py::test_model_tides_mode[one-to-many-models0-long] PASSED [ 71%]\n",
      "tests/test_model.py::test_model_tides_mode[one-to-one-models1-long] PASSED [ 72%]\n",
      "tests/test_model.py::test_model_tides_mode[one-to-many-models2-wide] PASSED [ 73%]\n",
      "tests/test_model.py::test_model_tides_mode[one-to-one-models3-wide] PASSED [ 75%]\n",
      "tests/test_model.py::test_model_tides_mode[one-to-many-models4-long] PASSED [ 76%]\n",
      "tests/test_model.py::test_model_tides_mode[one-to-one-models5-long] PASSED [ 77%]\n",
      "tests/test_model.py::test_model_tides_mode[one-to-many-models6-wide] PASSED [ 78%]\n",
      "tests/test_model.py::test_model_tides_mode[one-to-one-models7-wide] PASSED [ 79%]\n",
      "tests/test_model.py::test_model_tides_ensemble PASSED                    [ 80%]\n",
      "tests/test_model.py::test_model_phases[15 min] PASSED                    [ 81%]\n",
      "tests/test_model.py::test_model_phases[20 min] PASSED                    [ 82%]\n",
      "tests/test_model.py::test_model_phases_format[models0-long-False-expected_cols0] PASSED [ 83%]\n",
      "tests/test_model.py::test_model_phases_format[models1-long-True-expected_cols1] PASSED [ 84%]\n",
      "tests/test_model.py::test_model_phases_format[models2-long-False-expected_cols2] PASSED [ 85%]\n",
      "tests/test_model.py::test_model_phases_format[models3-long-True-expected_cols3] PASSED [ 86%]\n",
      "tests/test_model.py::test_model_phases_format[models4-wide-False-expected_cols4] PASSED [ 87%]\n",
      "tests/test_model.py::test_model_phases_format[models5-wide-True-expected_cols5] PASSED [ 88%]\n",
      "tests/test_model.py::test_model_phases_format[models6-wide-False-expected_cols6] PASSED [ 89%]\n",
      "tests/test_model.py::test_model_phases_format[models7-wide-True-expected_cols7] PASSED [ 90%]\n",
      "tests/test_utils.py::test_idw PASSED                                     [ 91%]\n",
      "tests/test_validation.py::test_load_gauge_gesla[broome_xy] PASSED        [ 92%]\n",
      "tests/test_validation.py::test_load_gauge_gesla[sandiego_xy] PASSED      [ 93%]\n",
      "tests/test_validation.py::test_load_gauge_gesla[syd_xy_correctmean] PASSED [ 94%]\n",
      "tests/test_validation.py::test_load_gauge_gesla[no_nearest] XFAIL (N...) [ 95%]\n",
      "tests/test_validation.py::test_load_gauge_gesla[broome_bbox] PASSED      [ 96%]\n",
      "tests/test_validation.py::test_load_gauge_gesla[aus_bbox] PASSED         [ 97%]\n",
      "tests/test_validation.py::test_load_gauge_gesla[broome_code] PASSED      [ 98%]\n",
      "tests/test_validation.py::test_load_gauge_gesla[aus_code] PASSED         [100%]\n",
      "\n",
      "=============================== warnings summary ===============================\n",
      "<frozen importlib._bootstrap>:241\n",
      "  <frozen importlib._bootstrap>:241: RuntimeWarning: numpy.ndarray size changed, may indicate binary incompatibility. Expected 16 from C header, got 96 from PyObject\n",
      "\n",
      "tests/test_eo.py: 8 warnings\n",
      "tests/test_stats.py: 32 warnings\n",
      "tests/test_model.py: 54 warnings\n",
      "  /env/lib/python3.10/site-packages/pyproj/transformer.py:817: DeprecationWarning: Conversion of an array with ndim > 0 to a scalar is deprecated, and will error in future. Ensure you extract a single element from your array before performing this operation. (Deprecated NumPy 1.25.)\n",
      "    return self._transformer._transform_point(\n",
      "\n",
      "tests/test_eo.py: 14 warnings\n",
      "  /env/lib/python3.10/site-packages/rasterio/warp.py:387: NotGeoreferencedWarning: Dataset has no geotransform, gcps, or rpcs. The identity matrix will be returned.\n",
      "    dest = _reproject(\n",
      "\n",
      "-- Docs: https://docs.pytest.org/en/stable/how-to/capture-warnings.html\n",
      "=========== 95 passed, 1 xfailed, 109 warnings in 256.12s (0:04:16) ============\n"
     ]
    }
   ],
   "source": [
    "!export EO_TIDES_TIDE_MODELS=./tests/data/tide_models && pytest tests --verbose"
   ]
  },
  {
   "cell_type": "markdown",
   "metadata": {},
   "source": [
    "## `_standardise_models`"
   ]
  },
  {
   "cell_type": "code",
   "execution_count": 107,
   "metadata": {},
   "outputs": [
    {
     "name": "stdout",
     "output_type": "stream",
     "text": [
      "Running ensemble tide modelling\n",
      "Models to process:  ['EOT20', 'GOT5.5', 'HAMTIDE11']\n",
      "Models requested:  ['ensemble', 'GOT5.5']\n",
      "Ensemble models:  ['EOT20', 'HAMTIDE11']\n"
     ]
    },
    {
     "ename": "AssertionError",
     "evalue": "",
     "output_type": "error",
     "traceback": [
      "\u001b[0;31m---------------------------------------------------------------------------\u001b[0m",
      "\u001b[0;31mAssertionError\u001b[0m                            Traceback (most recent call last)",
      "Cell \u001b[0;32mIn[107], line 167\u001b[0m\n\u001b[1;32m    164\u001b[0m \u001b[38;5;28mprint\u001b[39m(\u001b[38;5;124m\"\u001b[39m\u001b[38;5;124mEnsemble models: \u001b[39m\u001b[38;5;124m\"\u001b[39m, ensemble_models)\n\u001b[1;32m    166\u001b[0m \u001b[38;5;28;01massert\u001b[39;00m models_to_process \u001b[38;5;241m==\u001b[39m exp_process\n\u001b[0;32m--> 167\u001b[0m \u001b[38;5;28;01massert\u001b[39;00m models_requested \u001b[38;5;241m==\u001b[39m exp_request\n\u001b[1;32m    168\u001b[0m \u001b[38;5;28;01massert\u001b[39;00m ensemble_models \u001b[38;5;241m==\u001b[39m exp_ensemble\n",
      "\u001b[0;31mAssertionError\u001b[0m: "
     ]
    }
   ],
   "source": [
    "from eo_tides.utils import _set_directory, list_models\n",
    "\n",
    "directory = \"/home/jovyan/Robbi/eo-tides/tests/data/tide_models/\"\n",
    "directory = _set_directory(directory)\n",
    "\n",
    "\n",
    "# def _standardise_models(model, directory, ensemble_models=None):\n",
    "\n",
    "#     # Turn inputs into arrays for consistent handling\n",
    "#     models_requested = list(np.atleast_1d(model))\n",
    "\n",
    "#     # Get full list of supported models from pyTMD database\n",
    "#     available_models, valid_models = list_models(\n",
    "#         directory, show_available=False, show_supported=False, raise_error=True\n",
    "#     )\n",
    "#     custom_options = [\"ensemble\", \"all\"]\n",
    "\n",
    "#     # Error if any models are not supported\n",
    "#     if not all(m in valid_models + custom_options for m in models_requested):\n",
    "#         error_text = (\n",
    "#             f\"One or more of the requested models are not valid:\\n\"\n",
    "#             f\"{models_requested}\\n\\n\"\n",
    "#             \"The following models are supported:\\n\"\n",
    "#             f\"{valid_models}\"\n",
    "#         )\n",
    "#         raise ValueError(error_text)\n",
    "\n",
    "#     # Error if any models are not available in `directory`\n",
    "#     if not all(m in available_models + custom_options for m in models_requested):\n",
    "#         error_text = (\n",
    "#             f\"One or more of the requested models are valid, but not available in `{directory}`:\\n\"\n",
    "#             f\"{models_requested}\\n\\n\"\n",
    "#             f\"The following models are available in `{directory}`:\\n\"\n",
    "#             f\"{available_models}\"\n",
    "#         )\n",
    "#         raise ValueError(error_text)\n",
    "\n",
    "#     # If \"all\" models are requested, update requested list to include available models\n",
    "#     if \"all\" in models_requested:\n",
    "#         models_requested = available_models + [\n",
    "#             m for m in models_requested if m != \"all\"\n",
    "#         ]\n",
    "\n",
    "#     # If \"ensemble\" modeling is requested, use custom list of ensemble models\n",
    "#     if \"ensemble\" in models_requested:\n",
    "#         print(\"Running ensemble tide modelling\")\n",
    "#         ensemble_models = (\n",
    "#             ensemble_models\n",
    "#             if ensemble_models is not None\n",
    "#             else [\n",
    "#                 \"FES2014\",\n",
    "#                 \"TPXO9-atlas-v5\",\n",
    "#                 \"EOT20\",\n",
    "#                 \"HAMTIDE11\",\n",
    "#                 \"GOT4.10\",\n",
    "#                 \"FES2012\",\n",
    "#                 \"TPXO8-atlas-v1\",\n",
    "#             ]\n",
    "#         )\n",
    "\n",
    "#         # Error if any ensemble models are not available in `directory`\n",
    "#         if not all(m in available_models for m in ensemble_models):\n",
    "#             error_text = (\n",
    "#                 f\"One or more of the requested ensemble models are not available in `{directory}`:\\n\"\n",
    "#                 f\"{ensemble_models}\\n\\n\"\n",
    "#                 f\"The following models are available in `{directory}`:\\n\"\n",
    "#                 f\"{available_models}\"\n",
    "#             )\n",
    "#             raise ValueError(error_text)\n",
    "\n",
    "#         # Return set of all ensemble plus any other requested models\n",
    "#         models_to_process = ensemble_models + [\n",
    "#             m for m in models_requested if m != \"ensemble\"\n",
    "#         ]\n",
    "\n",
    "#     # Otherwise, models to process are the same as those requested\n",
    "#     else:\n",
    "#         models_to_process = models_requested\n",
    "\n",
    "#     # Remove duplicates\n",
    "#     models_to_process = list(set(models_to_process))\n",
    "#     models_requested = list(set(models_requested))\n",
    "\n",
    "#     return models_to_process, models_requested, ensemble_models\n",
    "\n",
    "\n",
    "# model = \"EOT20\"\n",
    "# # model = [\"EOT20\", \"HAMTIDE11\"]  # = [\"EOT20\", \"FES2014\"]\n",
    "# # model = \"all\"  # = [list all available]\n",
    "# # model = \"ensemble\" # = [list all ensemble]\n",
    "# # model = [\"ensemble\", \"GOT5.5\"]  # = [list all ensemble]\n",
    "# # model = [\"all\", \"ensemble\"]\n",
    "\n",
    "\n",
    "from eo_tides.utils import _standardise_models\n",
    "\n",
    "\n",
    "model, ensemble_models, exp_process, exp_request, exp_ensemble = (\n",
    "    [\"EOT20\"],\n",
    "    None,\n",
    "    [\"EOT20\"],\n",
    "    [\"EOT20\"],\n",
    "    None,\n",
    ")\n",
    "model, ensemble_models, exp_process, exp_request, exp_ensemble = (\n",
    "    \"EOT20\",\n",
    "    None,\n",
    "    [\"EOT20\"],\n",
    "    [\"EOT20\"],\n",
    "    None,\n",
    ")\n",
    "model, ensemble_models, exp_process, exp_request, exp_ensemble = (\n",
    "    \"all\",\n",
    "    None,\n",
    "    [\"GOT5.5\", \"HAMTIDE11\", \"EOT20\"],\n",
    "    [\"GOT5.5\", \"HAMTIDE11\", \"EOT20\"],\n",
    "    None,\n",
    ")\n",
    "model, ensemble_models, exp_process, exp_request, exp_ensemble = (\n",
    "    [\"all\"],\n",
    "    None,\n",
    "    [\"GOT5.5\", \"HAMTIDE11\", \"EOT20\"],\n",
    "    [\"GOT5.5\", \"HAMTIDE11\", \"EOT20\"],\n",
    "    None,\n",
    ")\n",
    "model, ensemble_models, exp_process, exp_request, exp_ensemble = (\n",
    "    \"ensemble\",\n",
    "    [\"EOT20\", \"HAMTIDE11\"],\n",
    "    [\"HAMTIDE11\", \"EOT20\"],\n",
    "    [\"ensemble\"],\n",
    "    [\"EOT20\", \"HAMTIDE11\"],\n",
    ")\n",
    "model, ensemble_models, exp_process, exp_request, exp_ensemble = (\n",
    "    [\"ensemble\"],\n",
    "    [\"EOT20\", \"HAMTIDE11\"],\n",
    "    [\"HAMTIDE11\", \"EOT20\"],\n",
    "    [\"ensemble\"],\n",
    "    [\"EOT20\", \"HAMTIDE11\"],\n",
    ")\n",
    "model, ensemble_models, exp_process, exp_request, exp_ensemble = (\n",
    "    [\"ensemble\", \"GOT5.5\"],\n",
    "    [\"EOT20\", \"HAMTIDE11\"],\n",
    "    [\"EOT20\", \"GOT5.5\", \"HAMTIDE11\"],\n",
    "    [\"GOT5.5\", \"ensemble\"],\n",
    "    [\"EOT20\", \"HAMTIDE11\"],\n",
    ")\n",
    "# model, ensemble_models, exp_process, exp_request, exp_ensemble = (\n",
    "#     [\"all\", \"ensemble\"],\n",
    "#     [\"EOT20\", \"HAMTIDE11\"],\n",
    "#     [\"EOT20\", \"GOT5.5\", \"HAMTIDE11\"],\n",
    "#     [\"GOT5.5\", \"HAMTIDE11\", \"ensemble\", \"EOT20\"],\n",
    "#     [\"EOT20\", \"HAMTIDE11\"],\n",
    "# )\n",
    "\n",
    "\n",
    "models_to_process, models_requested, ensemble_models = _standardise_models(\n",
    "    model=model,\n",
    "    directory=directory,\n",
    "    ensemble_models=ensemble_models,\n",
    ")\n",
    "\n",
    "print(\"Models to process: \", models_to_process)\n",
    "print(\"Models requested: \", models_requested)\n",
    "print(\"Ensemble models: \", ensemble_models)\n",
    "\n",
    "assert models_to_process == exp_process\n",
    "assert models_requested == exp_request\n",
    "assert ensemble_models == exp_ensemble"
   ]
  },
  {
   "cell_type": "code",
   "execution_count": 106,
   "metadata": {},
   "outputs": [
    {
     "data": {
      "text/plain": [
       "['EOT20', 'GOT5.5', 'HAMTIDE11', 'ensemble']"
      ]
     },
     "execution_count": 106,
     "metadata": {},
     "output_type": "execute_result"
    }
   ],
   "source": [
    "models_requested"
   ]
  },
  {
   "cell_type": "code",
   "execution_count": 60,
   "metadata": {},
   "outputs": [
    {
     "data": {
      "text/plain": [
       "['GOT5.5',\n",
       " 'HAMTIDE11',\n",
       " 'ensemble',\n",
       " 'FES2012',\n",
       " 'TPXO8-atlas-v1',\n",
       " 'TPXO9-atlas-v5',\n",
       " 'FES2014',\n",
       " 'GOT4.10',\n",
       " 'EOT20']"
      ]
     },
     "execution_count": 60,
     "metadata": {},
     "output_type": "execute_result"
    }
   ],
   "source": [
    "list(set(models_requested + ensemble_models))"
   ]
  },
  {
   "cell_type": "code",
   "execution_count": 24,
   "metadata": {},
   "outputs": [
    {
     "data": {
      "text/plain": [
       "['ensemble', 'GOT5.5']"
      ]
     },
     "execution_count": 24,
     "metadata": {},
     "output_type": "execute_result"
    }
   ],
   "source": [
    "ensemble_models\n",
    "\n",
    "models_requested"
   ]
  },
  {
   "cell_type": "code",
   "execution_count": 29,
   "metadata": {},
   "outputs": [
    {
     "data": {
      "text/plain": [
       "['HAMTIDE11',\n",
       " 'GOT5.5',\n",
       " 'FES2012',\n",
       " 'TPXO8-atlas-v1',\n",
       " 'TPXO9-atlas-v5',\n",
       " 'FES2014',\n",
       " 'GOT4.10',\n",
       " 'EOT20']"
      ]
     },
     "execution_count": 29,
     "metadata": {},
     "output_type": "execute_result"
    }
   ],
   "source": []
  },
  {
   "cell_type": "markdown",
   "metadata": {},
   "source": [
    "## Investigate interpolation functions\n",
    "\n",
    "crop=True, bounds=None: \n",
    "crop=False, bounds=None:\n",
    "crop=True, bounds="
   ]
  },
  {
   "cell_type": "code",
   "execution_count": 148,
   "metadata": {},
   "outputs": [
    {
     "name": "stdout",
     "output_type": "stream",
     "text": [
      "{'version': 'FES2022', 'compressed': False, 'type': 'z', 'crop': True, 'bounds': None, 'method': 'spline', 'extrapolate': True, 'cutoff': inf, 'append_node': False, 'apply_flexure': False, 'scale': 0.01}\n",
      "{'version': 'FES2022', 'compressed': False, 'type': 'z', 'crop': True, 'bounds': None, 'method': 'spline', 'extrapolate': True, 'cutoff': inf, 'append_node': False, 'apply_flexure': False, 'scale': 0.01}\n"
     ]
    },
    {
     "ename": "KeyboardInterrupt",
     "evalue": "",
     "output_type": "error",
     "traceback": [
      "\u001b[0;31m---------------------------------------------------------------------------\u001b[0m",
      "\u001b[0;31mKeyboardInterrupt\u001b[0m                         Traceback (most recent call last)",
      "Cell \u001b[0;32mIn[148], line 1\u001b[0m\n\u001b[0;32m----> 1\u001b[0m \u001b[43mget_ipython\u001b[49m\u001b[43m(\u001b[49m\u001b[43m)\u001b[49m\u001b[38;5;241;43m.\u001b[39;49m\u001b[43mrun_cell_magic\u001b[49m\u001b[43m(\u001b[49m\u001b[38;5;124;43m'\u001b[39;49m\u001b[38;5;124;43mtimeit\u001b[39;49m\u001b[38;5;124;43m'\u001b[39;49m\u001b[43m,\u001b[49m\u001b[43m \u001b[49m\u001b[38;5;124;43m'\u001b[39;49m\u001b[38;5;124;43m-n 1 -r 1\u001b[39;49m\u001b[38;5;124;43m'\u001b[39;49m\u001b[43m,\u001b[49m\u001b[43m \u001b[49m\u001b[38;5;124;43m'\u001b[39;49m\u001b[38;5;130;43;01m\\n\u001b[39;49;00m\u001b[38;5;124;43mx=np.linspace(122.2183, 122.219, 10)\u001b[39;49m\u001b[38;5;130;43;01m\\n\u001b[39;49;00m\u001b[38;5;124;43my=np.linspace(-18.0008, -18.01, 10)\u001b[39;49m\u001b[38;5;130;43;01m\\n\u001b[39;49;00m\u001b[38;5;124;43mtime=pd.date_range(\u001b[39;49m\u001b[38;5;124;43m\"\u001b[39;49m\u001b[38;5;124;43m2020\u001b[39;49m\u001b[38;5;124;43m\"\u001b[39;49m\u001b[38;5;124;43m, \u001b[39;49m\u001b[38;5;124;43m\"\u001b[39;49m\u001b[38;5;124;43m2021\u001b[39;49m\u001b[38;5;124;43m\"\u001b[39;49m\u001b[38;5;124;43m, periods=10)\u001b[39;49m\u001b[38;5;130;43;01m\\n\u001b[39;49;00m\u001b[38;5;124;43mcrs=\u001b[39;49m\u001b[38;5;124;43m\"\u001b[39;49m\u001b[38;5;124;43mEPSG:4326\u001b[39;49m\u001b[38;5;124;43m\"\u001b[39;49m\u001b[38;5;130;43;01m\\n\u001b[39;49;00m\u001b[38;5;124;43mmethod=\u001b[39;49m\u001b[38;5;124;43m\"\u001b[39;49m\u001b[38;5;124;43mspline\u001b[39;49m\u001b[38;5;124;43m\"\u001b[39;49m\u001b[38;5;130;43;01m\\n\u001b[39;49;00m\u001b[38;5;124;43mmodel=\u001b[39;49m\u001b[38;5;124;43m\"\u001b[39;49m\u001b[38;5;124;43mFES2022\u001b[39;49m\u001b[38;5;124;43m\"\u001b[39;49m\u001b[38;5;130;43;01m\\n\u001b[39;49;00m\u001b[38;5;130;43;01m\\n\u001b[39;49;00m\u001b[38;5;124;43m# Run equivalent pyTMD code to verify same results\u001b[39;49m\u001b[38;5;130;43;01m\\n\u001b[39;49;00m\u001b[38;5;124;43mpytmd_tides = tide_elevations(\u001b[39;49m\u001b[38;5;130;43;01m\\n\u001b[39;49;00m\u001b[38;5;124;43m        x=x, \u001b[39;49m\u001b[38;5;130;43;01m\\n\u001b[39;49;00m\u001b[38;5;124;43m        y=y, \u001b[39;49m\u001b[38;5;130;43;01m\\n\u001b[39;49;00m\u001b[38;5;124;43m        delta_time=time,\u001b[39;49m\u001b[38;5;130;43;01m\\n\u001b[39;49;00m\u001b[38;5;124;43m        DIRECTORY=\u001b[39;49m\u001b[38;5;124;43m\"\u001b[39;49m\u001b[38;5;124;43m/gdata1/data/tide_models/\u001b[39;49m\u001b[38;5;124;43m\"\u001b[39;49m\u001b[38;5;124;43m,\u001b[39;49m\u001b[38;5;130;43;01m\\n\u001b[39;49;00m\u001b[38;5;124;43m        MODEL=model,\u001b[39;49m\u001b[38;5;130;43;01m\\n\u001b[39;49;00m\u001b[38;5;124;43m        EPSG=int(crs[-4:]),\u001b[39;49m\u001b[38;5;130;43;01m\\n\u001b[39;49;00m\u001b[38;5;124;43m        TIME=\u001b[39;49m\u001b[38;5;124;43m\"\u001b[39;49m\u001b[38;5;124;43mdatetime\u001b[39;49m\u001b[38;5;124;43m\"\u001b[39;49m\u001b[38;5;124;43m,\u001b[39;49m\u001b[38;5;130;43;01m\\n\u001b[39;49;00m\u001b[38;5;124;43m        EXTRAPOLATE=True,\u001b[39;49m\u001b[38;5;130;43;01m\\n\u001b[39;49;00m\u001b[38;5;124;43m        CUTOFF=np.inf,\u001b[39;49m\u001b[38;5;130;43;01m\\n\u001b[39;49;00m\u001b[38;5;124;43m        METHOD=method,\u001b[39;49m\u001b[38;5;130;43;01m\\n\u001b[39;49;00m\u001b[38;5;124;43m        CROP=True,\u001b[39;49m\u001b[38;5;130;43;01m\\n\u001b[39;49;00m\u001b[38;5;124;43m        # CROP=False,\u001b[39;49m\u001b[38;5;130;43;01m\\n\u001b[39;49;00m\u001b[38;5;124;43m        # BOUNDS=bounds,\u001b[39;49m\u001b[38;5;130;43;01m\\n\u001b[39;49;00m\u001b[38;5;124;43m        )\u001b[39;49m\u001b[38;5;130;43;01m\\n\u001b[39;49;00m\u001b[38;5;124;43mpytmd_tides\u001b[39;49m\u001b[38;5;130;43;01m\\n\u001b[39;49;00m\u001b[38;5;124;43m'\u001b[39;49m\u001b[43m)\u001b[49m\n",
      "File \u001b[0;32m/env/lib/python3.10/site-packages/IPython/core/interactiveshell.py:2541\u001b[0m, in \u001b[0;36mInteractiveShell.run_cell_magic\u001b[0;34m(self, magic_name, line, cell)\u001b[0m\n\u001b[1;32m   2539\u001b[0m \u001b[38;5;28;01mwith\u001b[39;00m \u001b[38;5;28mself\u001b[39m\u001b[38;5;241m.\u001b[39mbuiltin_trap:\n\u001b[1;32m   2540\u001b[0m     args \u001b[38;5;241m=\u001b[39m (magic_arg_s, cell)\n\u001b[0;32m-> 2541\u001b[0m     result \u001b[38;5;241m=\u001b[39m \u001b[43mfn\u001b[49m\u001b[43m(\u001b[49m\u001b[38;5;241;43m*\u001b[39;49m\u001b[43margs\u001b[49m\u001b[43m,\u001b[49m\u001b[43m \u001b[49m\u001b[38;5;241;43m*\u001b[39;49m\u001b[38;5;241;43m*\u001b[39;49m\u001b[43mkwargs\u001b[49m\u001b[43m)\u001b[49m\n\u001b[1;32m   2543\u001b[0m \u001b[38;5;66;03m# The code below prevents the output from being displayed\u001b[39;00m\n\u001b[1;32m   2544\u001b[0m \u001b[38;5;66;03m# when using magics with decorator @output_can_be_silenced\u001b[39;00m\n\u001b[1;32m   2545\u001b[0m \u001b[38;5;66;03m# when the last Python token in the expression is a ';'.\u001b[39;00m\n\u001b[1;32m   2546\u001b[0m \u001b[38;5;28;01mif\u001b[39;00m \u001b[38;5;28mgetattr\u001b[39m(fn, magic\u001b[38;5;241m.\u001b[39mMAGIC_OUTPUT_CAN_BE_SILENCED, \u001b[38;5;28;01mFalse\u001b[39;00m):\n",
      "File \u001b[0;32m/env/lib/python3.10/site-packages/IPython/core/magics/execution.py:1189\u001b[0m, in \u001b[0;36mExecutionMagics.timeit\u001b[0;34m(self, line, cell, local_ns)\u001b[0m\n\u001b[1;32m   1186\u001b[0m         \u001b[38;5;28;01mif\u001b[39;00m time_number \u001b[38;5;241m>\u001b[39m\u001b[38;5;241m=\u001b[39m \u001b[38;5;241m0.2\u001b[39m:\n\u001b[1;32m   1187\u001b[0m             \u001b[38;5;28;01mbreak\u001b[39;00m\n\u001b[0;32m-> 1189\u001b[0m all_runs \u001b[38;5;241m=\u001b[39m \u001b[43mtimer\u001b[49m\u001b[38;5;241;43m.\u001b[39;49m\u001b[43mrepeat\u001b[49m\u001b[43m(\u001b[49m\u001b[43mrepeat\u001b[49m\u001b[43m,\u001b[49m\u001b[43m \u001b[49m\u001b[43mnumber\u001b[49m\u001b[43m)\u001b[49m\n\u001b[1;32m   1190\u001b[0m best \u001b[38;5;241m=\u001b[39m \u001b[38;5;28mmin\u001b[39m(all_runs) \u001b[38;5;241m/\u001b[39m number\n\u001b[1;32m   1191\u001b[0m worst \u001b[38;5;241m=\u001b[39m \u001b[38;5;28mmax\u001b[39m(all_runs) \u001b[38;5;241m/\u001b[39m number\n",
      "File \u001b[0;32m/env/lib/python3.10/timeit.py:206\u001b[0m, in \u001b[0;36mTimer.repeat\u001b[0;34m(self, repeat, number)\u001b[0m\n\u001b[1;32m    204\u001b[0m r \u001b[38;5;241m=\u001b[39m []\n\u001b[1;32m    205\u001b[0m \u001b[38;5;28;01mfor\u001b[39;00m i \u001b[38;5;129;01min\u001b[39;00m \u001b[38;5;28mrange\u001b[39m(repeat):\n\u001b[0;32m--> 206\u001b[0m     t \u001b[38;5;241m=\u001b[39m \u001b[38;5;28;43mself\u001b[39;49m\u001b[38;5;241;43m.\u001b[39;49m\u001b[43mtimeit\u001b[49m\u001b[43m(\u001b[49m\u001b[43mnumber\u001b[49m\u001b[43m)\u001b[49m\n\u001b[1;32m    207\u001b[0m     r\u001b[38;5;241m.\u001b[39mappend(t)\n\u001b[1;32m    208\u001b[0m \u001b[38;5;28;01mreturn\u001b[39;00m r\n",
      "File \u001b[0;32m/env/lib/python3.10/site-packages/IPython/core/magics/execution.py:173\u001b[0m, in \u001b[0;36mTimer.timeit\u001b[0;34m(self, number)\u001b[0m\n\u001b[1;32m    171\u001b[0m gc\u001b[38;5;241m.\u001b[39mdisable()\n\u001b[1;32m    172\u001b[0m \u001b[38;5;28;01mtry\u001b[39;00m:\n\u001b[0;32m--> 173\u001b[0m     timing \u001b[38;5;241m=\u001b[39m \u001b[38;5;28;43mself\u001b[39;49m\u001b[38;5;241;43m.\u001b[39;49m\u001b[43minner\u001b[49m\u001b[43m(\u001b[49m\u001b[43mit\u001b[49m\u001b[43m,\u001b[49m\u001b[43m \u001b[49m\u001b[38;5;28;43mself\u001b[39;49m\u001b[38;5;241;43m.\u001b[39;49m\u001b[43mtimer\u001b[49m\u001b[43m)\u001b[49m\n\u001b[1;32m    174\u001b[0m \u001b[38;5;28;01mfinally\u001b[39;00m:\n\u001b[1;32m    175\u001b[0m     \u001b[38;5;28;01mif\u001b[39;00m gcold:\n",
      "File \u001b[0;32m<magic-timeit>:9\u001b[0m, in \u001b[0;36minner\u001b[0;34m(_it, _timer)\u001b[0m\n",
      "File \u001b[0;32m~/Robbi/pyTMD/pyTMD/compute.py:361\u001b[0m, in \u001b[0;36mtide_elevations\u001b[0;34m(x, y, delta_time, DIRECTORY, MODEL, GZIP, DEFINITION_FILE, CROP, BOUNDS, EPSG, EPOCH, TYPE, TIME, METHOD, EXTRAPOLATE, CUTOFF, CORRECTIONS, INFER_MINOR, MINOR_CONSTITUENTS, APPEND_NODE, APPLY_FLEXURE, FILL_VALUE, **kwargs)\u001b[0m\n\u001b[1;32m    358\u001b[0m nt \u001b[38;5;241m=\u001b[39m \u001b[38;5;28mlen\u001b[39m(ts)\n\u001b[1;32m    360\u001b[0m \u001b[38;5;66;03m# read tidal constants and interpolate to grid points\u001b[39;00m\n\u001b[0;32m--> 361\u001b[0m amp, ph, c \u001b[38;5;241m=\u001b[39m \u001b[43mmodel\u001b[49m\u001b[38;5;241;43m.\u001b[39;49m\u001b[43mextract_constants\u001b[49m\u001b[43m(\u001b[49m\u001b[43mlon\u001b[49m\u001b[43m,\u001b[49m\u001b[43m \u001b[49m\u001b[43mlat\u001b[49m\u001b[43m,\u001b[49m\u001b[43m \u001b[49m\u001b[38;5;28;43mtype\u001b[39;49m\u001b[38;5;241;43m=\u001b[39;49m\u001b[43mmodel\u001b[49m\u001b[38;5;241;43m.\u001b[39;49m\u001b[43mtype\u001b[49m\u001b[43m,\u001b[49m\n\u001b[1;32m    362\u001b[0m \u001b[43m    \u001b[49m\u001b[43mcrop\u001b[49m\u001b[38;5;241;43m=\u001b[39;49m\u001b[43mCROP\u001b[49m\u001b[43m,\u001b[49m\u001b[43m \u001b[49m\u001b[43mbounds\u001b[49m\u001b[38;5;241;43m=\u001b[39;49m\u001b[43mBOUNDS\u001b[49m\u001b[43m,\u001b[49m\u001b[43m \u001b[49m\u001b[43mmethod\u001b[49m\u001b[38;5;241;43m=\u001b[39;49m\u001b[43mMETHOD\u001b[49m\u001b[43m,\u001b[49m\n\u001b[1;32m    363\u001b[0m \u001b[43m    \u001b[49m\u001b[43mextrapolate\u001b[49m\u001b[38;5;241;43m=\u001b[39;49m\u001b[43mEXTRAPOLATE\u001b[49m\u001b[43m,\u001b[49m\u001b[43m \u001b[49m\u001b[43mcutoff\u001b[49m\u001b[38;5;241;43m=\u001b[39;49m\u001b[43mCUTOFF\u001b[49m\u001b[43m,\u001b[49m\n\u001b[1;32m    364\u001b[0m \u001b[43m    \u001b[49m\u001b[43mappend_node\u001b[49m\u001b[38;5;241;43m=\u001b[39;49m\u001b[43mAPPEND_NODE\u001b[49m\u001b[43m,\u001b[49m\u001b[43m \u001b[49m\u001b[43mapply_flexure\u001b[49m\u001b[38;5;241;43m=\u001b[39;49m\u001b[43mAPPLY_FLEXURE\u001b[49m\u001b[43m)\u001b[49m\n\u001b[1;32m    365\u001b[0m \u001b[38;5;66;03m# calculate complex phase in radians for Euler's\u001b[39;00m\n\u001b[1;32m    366\u001b[0m cph \u001b[38;5;241m=\u001b[39m \u001b[38;5;241m-\u001b[39m\u001b[38;5;241m1\u001b[39mj\u001b[38;5;241m*\u001b[39mph\u001b[38;5;241m*\u001b[39mnp\u001b[38;5;241m.\u001b[39mpi\u001b[38;5;241m/\u001b[39m\u001b[38;5;241m180.0\u001b[39m\n",
      "File \u001b[0;32m~/Robbi/pyTMD/pyTMD/io/model.py:1037\u001b[0m, in \u001b[0;36mmodel.extract_constants\u001b[0;34m(self, lon, lat, **kwargs)\u001b[0m\n\u001b[1;32m   1035\u001b[0m     model_file \u001b[38;5;241m=\u001b[39m \u001b[38;5;28mself\u001b[39m\u001b[38;5;241m.\u001b[39mmodel_file\n\u001b[1;32m   1036\u001b[0m \u001b[38;5;66;03m# extract tidal constants for model type\u001b[39;00m\n\u001b[0;32m-> 1037\u001b[0m amp,ph \u001b[38;5;241m=\u001b[39m \u001b[43mFES\u001b[49m\u001b[38;5;241;43m.\u001b[39;49m\u001b[43mextract_constants\u001b[49m\u001b[43m(\u001b[49m\u001b[43mlon\u001b[49m\u001b[43m,\u001b[49m\u001b[43m \u001b[49m\u001b[43mlat\u001b[49m\u001b[43m,\u001b[49m\n\u001b[1;32m   1038\u001b[0m \u001b[43m    \u001b[49m\u001b[38;5;28;43mself\u001b[39;49m\u001b[38;5;241;43m.\u001b[39;49m\u001b[43mmodel_file\u001b[49m\u001b[43m,\u001b[49m\u001b[43m \u001b[49m\u001b[43mversion\u001b[49m\u001b[38;5;241;43m=\u001b[39;49m\u001b[38;5;28;43mself\u001b[39;49m\u001b[38;5;241;43m.\u001b[39;49m\u001b[43mversion\u001b[49m\u001b[43m,\u001b[49m\n\u001b[1;32m   1039\u001b[0m \u001b[43m    \u001b[49m\u001b[43mcompressed\u001b[49m\u001b[38;5;241;43m=\u001b[39;49m\u001b[38;5;28;43mself\u001b[39;49m\u001b[38;5;241;43m.\u001b[39;49m\u001b[43mcompressed\u001b[49m\u001b[43m,\u001b[49m\u001b[43m \u001b[49m\u001b[38;5;241;43m*\u001b[39;49m\u001b[38;5;241;43m*\u001b[39;49m\u001b[43mkwargs\u001b[49m\u001b[43m)\u001b[49m\n\u001b[1;32m   1040\u001b[0m \u001b[38;5;66;03m# available model constituents\u001b[39;00m\n\u001b[1;32m   1041\u001b[0m c \u001b[38;5;241m=\u001b[39m \u001b[38;5;28mself\u001b[39m\u001b[38;5;241m.\u001b[39mconstituents\n",
      "File \u001b[0;32m~/Robbi/pyTMD/pyTMD/io/FES.py:297\u001b[0m, in \u001b[0;36mextract_constants\u001b[0;34m(ilon, ilat, model_files, **kwargs)\u001b[0m\n\u001b[1;32m    293\u001b[0m     hci\u001b[38;5;241m.\u001b[39mdata[hci\u001b[38;5;241m.\u001b[39mmask] \u001b[38;5;241m=\u001b[39m hci\u001b[38;5;241m.\u001b[39mfill_value\n\u001b[1;32m    294\u001b[0m \u001b[38;5;28;01melif\u001b[39;00m (kwargs[\u001b[38;5;124m'\u001b[39m\u001b[38;5;124mmethod\u001b[39m\u001b[38;5;124m'\u001b[39m] \u001b[38;5;241m==\u001b[39m \u001b[38;5;124m'\u001b[39m\u001b[38;5;124mspline\u001b[39m\u001b[38;5;124m'\u001b[39m):\n\u001b[1;32m    295\u001b[0m     \u001b[38;5;66;03m# interpolate complex form of the constituent\u001b[39;00m\n\u001b[1;32m    296\u001b[0m     \u001b[38;5;66;03m# use scipy splines to interpolate values\u001b[39;00m\n\u001b[0;32m--> 297\u001b[0m     hci \u001b[38;5;241m=\u001b[39m \u001b[43mpyTMD\u001b[49m\u001b[38;5;241;43m.\u001b[39;49m\u001b[43minterpolate\u001b[49m\u001b[38;5;241;43m.\u001b[39;49m\u001b[43mspline\u001b[49m\u001b[43m(\u001b[49m\u001b[43mlon\u001b[49m\u001b[43m,\u001b[49m\u001b[43m \u001b[49m\u001b[43mlat\u001b[49m\u001b[43m,\u001b[49m\u001b[43m \u001b[49m\u001b[43mhc\u001b[49m\u001b[43m,\u001b[49m\u001b[43m \u001b[49m\u001b[43milon\u001b[49m\u001b[43m,\u001b[49m\u001b[43m \u001b[49m\u001b[43milat\u001b[49m\u001b[43m,\u001b[49m\n\u001b[1;32m    298\u001b[0m \u001b[43m        \u001b[49m\u001b[43mdtype\u001b[49m\u001b[38;5;241;43m=\u001b[39;49m\u001b[43mhc\u001b[49m\u001b[38;5;241;43m.\u001b[39;49m\u001b[43mdtype\u001b[49m\u001b[43m,\u001b[49m\n\u001b[1;32m    299\u001b[0m \u001b[43m        \u001b[49m\u001b[43mreducer\u001b[49m\u001b[38;5;241;43m=\u001b[39;49m\u001b[43mnp\u001b[49m\u001b[38;5;241;43m.\u001b[39;49m\u001b[43mceil\u001b[49m\u001b[43m,\u001b[49m\n\u001b[1;32m    300\u001b[0m \u001b[43m        \u001b[49m\u001b[43mkx\u001b[49m\u001b[38;5;241;43m=\u001b[39;49m\u001b[38;5;241;43m1\u001b[39;49m\u001b[43m,\u001b[49m\u001b[43m \u001b[49m\u001b[43mky\u001b[49m\u001b[38;5;241;43m=\u001b[39;49m\u001b[38;5;241;43m1\u001b[39;49m\u001b[43m)\u001b[49m\n\u001b[1;32m    301\u001b[0m     \u001b[38;5;66;03m# replace invalid values with fill_value\u001b[39;00m\n\u001b[1;32m    302\u001b[0m     hci\u001b[38;5;241m.\u001b[39mdata[hci\u001b[38;5;241m.\u001b[39mmask] \u001b[38;5;241m=\u001b[39m hci\u001b[38;5;241m.\u001b[39mfill_value\n",
      "File \u001b[0;32m~/Robbi/pyTMD/pyTMD/interpolate.py:181\u001b[0m, in \u001b[0;36mspline\u001b[0;34m(ilon, ilat, idata, lon, lat, fill_value, dtype, reducer, **kwargs)\u001b[0m\n\u001b[1;32m    179\u001b[0m \u001b[38;5;66;03m# construct splines for input data and mask\u001b[39;00m\n\u001b[1;32m    180\u001b[0m \u001b[38;5;28;01mif\u001b[39;00m np\u001b[38;5;241m.\u001b[39miscomplexobj(idata):\n\u001b[0;32m--> 181\u001b[0m     s1 \u001b[38;5;241m=\u001b[39m \u001b[43mscipy\u001b[49m\u001b[38;5;241;43m.\u001b[39;49m\u001b[43minterpolate\u001b[49m\u001b[38;5;241;43m.\u001b[39;49m\u001b[43mRectBivariateSpline\u001b[49m\u001b[43m(\u001b[49m\u001b[43milon\u001b[49m\u001b[43m,\u001b[49m\u001b[43m \u001b[49m\u001b[43milat\u001b[49m\u001b[43m,\u001b[49m\n\u001b[1;32m    182\u001b[0m \u001b[43m        \u001b[49m\u001b[43midata\u001b[49m\u001b[38;5;241;43m.\u001b[39;49m\u001b[43mdata\u001b[49m\u001b[38;5;241;43m.\u001b[39;49m\u001b[43mreal\u001b[49m\u001b[38;5;241;43m.\u001b[39;49m\u001b[43mT\u001b[49m\u001b[43m,\u001b[49m\u001b[43m \u001b[49m\u001b[38;5;241;43m*\u001b[39;49m\u001b[38;5;241;43m*\u001b[39;49m\u001b[43mkwargs\u001b[49m\u001b[43m)\u001b[49m\n\u001b[1;32m    183\u001b[0m     s2 \u001b[38;5;241m=\u001b[39m scipy\u001b[38;5;241m.\u001b[39minterpolate\u001b[38;5;241m.\u001b[39mRectBivariateSpline(ilon, ilat,\n\u001b[1;32m    184\u001b[0m         idata\u001b[38;5;241m.\u001b[39mdata\u001b[38;5;241m.\u001b[39mimag\u001b[38;5;241m.\u001b[39mT, \u001b[38;5;241m*\u001b[39m\u001b[38;5;241m*\u001b[39mkwargs)\n\u001b[1;32m    185\u001b[0m     s3 \u001b[38;5;241m=\u001b[39m scipy\u001b[38;5;241m.\u001b[39minterpolate\u001b[38;5;241m.\u001b[39mRectBivariateSpline(ilon, ilat,\n\u001b[1;32m    186\u001b[0m         idata\u001b[38;5;241m.\u001b[39mmask\u001b[38;5;241m.\u001b[39mT, \u001b[38;5;241m*\u001b[39m\u001b[38;5;241m*\u001b[39mkwargs)\n",
      "File \u001b[0;32m/env/lib/python3.10/site-packages/scipy/interpolate/_fitpack2.py:1602\u001b[0m, in \u001b[0;36mRectBivariateSpline.__init__\u001b[0;34m(self, x, y, z, bbox, kx, ky, s)\u001b[0m\n\u001b[1;32m   1600\u001b[0m z \u001b[38;5;241m=\u001b[39m ravel(z)\n\u001b[1;32m   1601\u001b[0m xb, xe, yb, ye \u001b[38;5;241m=\u001b[39m bbox\n\u001b[0;32m-> 1602\u001b[0m nx, tx, ny, ty, c, fp, ier \u001b[38;5;241m=\u001b[39m \u001b[43mdfitpack\u001b[49m\u001b[38;5;241;43m.\u001b[39;49m\u001b[43mregrid_smth\u001b[49m\u001b[43m(\u001b[49m\u001b[43mx\u001b[49m\u001b[43m,\u001b[49m\u001b[43m \u001b[49m\u001b[43my\u001b[49m\u001b[43m,\u001b[49m\u001b[43m \u001b[49m\u001b[43mz\u001b[49m\u001b[43m,\u001b[49m\u001b[43m \u001b[49m\u001b[43mxb\u001b[49m\u001b[43m,\u001b[49m\u001b[43m \u001b[49m\u001b[43mxe\u001b[49m\u001b[43m,\u001b[49m\u001b[43m \u001b[49m\u001b[43myb\u001b[49m\u001b[43m,\u001b[49m\n\u001b[1;32m   1603\u001b[0m \u001b[43m                                                  \u001b[49m\u001b[43mye\u001b[49m\u001b[43m,\u001b[49m\u001b[43m \u001b[49m\u001b[43mkx\u001b[49m\u001b[43m,\u001b[49m\u001b[43m \u001b[49m\u001b[43mky\u001b[49m\u001b[43m,\u001b[49m\u001b[43m \u001b[49m\u001b[43ms\u001b[49m\u001b[43m)\u001b[49m\n\u001b[1;32m   1605\u001b[0m \u001b[38;5;28;01mif\u001b[39;00m ier \u001b[38;5;129;01mnot\u001b[39;00m \u001b[38;5;129;01min\u001b[39;00m [\u001b[38;5;241m0\u001b[39m, \u001b[38;5;241m-\u001b[39m\u001b[38;5;241m1\u001b[39m, \u001b[38;5;241m-\u001b[39m\u001b[38;5;241m2\u001b[39m]:\n\u001b[1;32m   1606\u001b[0m     msg \u001b[38;5;241m=\u001b[39m _surfit_messages\u001b[38;5;241m.\u001b[39mget(ier, \u001b[38;5;124m'\u001b[39m\u001b[38;5;124mier=\u001b[39m\u001b[38;5;132;01m%s\u001b[39;00m\u001b[38;5;124m'\u001b[39m \u001b[38;5;241m%\u001b[39m (ier))\n",
      "\u001b[0;31mKeyboardInterrupt\u001b[0m: "
     ]
    }
   ],
   "source": [
    "%%timeit -n 1 -r 1\n",
    "\n",
    "x=np.linspace(122.2183, 122.219, 10)\n",
    "y=np.linspace(-18.0008, -18.01, 10)\n",
    "time=pd.date_range(\"2020\", \"2021\", periods=10)\n",
    "crs=\"EPSG:4326\"\n",
    "method=\"spline\"\n",
    "model=\"FES2022\"\n",
    "\n",
    "# Run equivalent pyTMD code to verify same results\n",
    "pytmd_tides = tide_elevations(\n",
    "        x=x, \n",
    "        y=y, \n",
    "        delta_time=time,\n",
    "        DIRECTORY=\"/gdata1/data/tide_models/\",\n",
    "        MODEL=model,\n",
    "        EPSG=int(crs[-4:]),\n",
    "        TIME=\"datetime\",\n",
    "        EXTRAPOLATE=True,\n",
    "        CUTOFF=np.inf,\n",
    "        METHOD=method,\n",
    "        CROP=True,\n",
    "        # CROP=False,\n",
    "        # BOUNDS=bounds,\n",
    "        )\n",
    "pytmd_tides"
   ]
  },
  {
   "cell_type": "code",
   "execution_count": null,
   "metadata": {},
   "outputs": [],
   "source": [
    "pytmd_tides"
   ]
  },
  {
   "cell_type": "code",
   "execution_count": 114,
   "metadata": {},
   "outputs": [
    {
     "name": "stdout",
     "output_type": "stream",
     "text": [
      "The line_profiler extension is already loaded. To reload it, use:\n",
      "  %reload_ext line_profiler\n"
     ]
    },
    {
     "data": {
      "text/plain": [
       "Timer unit: 1 s\n",
       "\n",
       "Total time: 670.222 s\n",
       "File: /home/jovyan/Robbi/pyTMD/pyTMD/io/FES.py\n",
       "Function: extract_constants at line 134\n",
       "\n",
       "Line #      Hits         Time  Per Hit   % Time  Line Contents\n",
       "==============================================================\n",
       "   134                                           def extract_constants(\n",
       "   135                                                   ilon: np.ndarray,\n",
       "   136                                                   ilat: np.ndarray,\n",
       "   137                                                   model_files: str | list | pathlib.Path | None = None,\n",
       "   138                                                   **kwargs\n",
       "   139                                               ):\n",
       "   140                                               \"\"\"\n",
       "   141                                               Reads files for a FES ascii or netCDF4 tidal model\n",
       "   142                                           \n",
       "   143                                               Makes initial calculations to run the tide program\n",
       "   144                                           \n",
       "   145                                               Spatially interpolates tidal constituents to input coordinates\n",
       "   146                                           \n",
       "   147                                               Parameters\n",
       "   148                                               ----------\n",
       "   149                                               ilon: np.ndarray\n",
       "   150                                                   longitude to interpolate\n",
       "   151                                               ilat: np.ndarray\n",
       "   152                                                   latitude to interpolate\n",
       "   153                                               model_files: str, list, pathlib.Path or NoneType, default None\n",
       "   154                                                   list of model files for each constituent\n",
       "   155                                               type: str, default 'z'\n",
       "   156                                                   Tidal variable to read\n",
       "   157                                           \n",
       "   158                                                       - ``'z'``: heights\n",
       "   159                                                       - ``'u'``: horizontal transport velocities\n",
       "   160                                                       - ``'v'``: vertical transport velocities\n",
       "   161                                               version: str or NoneType, default None\n",
       "   162                                                   Model version to read\n",
       "   163                                           \n",
       "   164                                                       - ``'FES1999'``\n",
       "   165                                                       - ``'FES2004'``\n",
       "   166                                                       - ``'FES2012'``\n",
       "   167                                                       - ``'FES2014'``\n",
       "   168                                                       - ``'FES2022'``\n",
       "   169                                                       - ``'EOT20'``\n",
       "   170                                                       - ``'HAMTIDE11'``\n",
       "   171                                               compressed: bool, default False\n",
       "   172                                                   Input files are gzip compressed\n",
       "   173                                               crop: bool, default False\n",
       "   174                                                   Crop tide model data to (buffered) bounds\n",
       "   175                                               bounds: list or NoneType, default None\n",
       "   176                                                   Boundaries for cropping tide model data\n",
       "   177                                               method: str, default 'spline'\n",
       "   178                                                   Interpolation method\n",
       "   179                                           \n",
       "   180                                                       - ``'bilinear'``: quick bilinear interpolation\n",
       "   181                                                       - ``'spline'``: scipy bivariate spline interpolation\n",
       "   182                                                       - ``'linear'``, ``'nearest'``: scipy regular grid interpolations\n",
       "   183                                               extrapolate: bool, default False\n",
       "   184                                                   Extrapolate model using nearest-neighbors\n",
       "   185                                               cutoff: float, default 10.0\n",
       "   186                                                   Extrapolation cutoff in kilometers\n",
       "   187                                           \n",
       "   188                                                   Set to ``np.inf`` to extrapolate for all points\n",
       "   189                                               scale: float, default 1.0\n",
       "   190                                                   Scaling factor for converting to output units\n",
       "   191                                           \n",
       "   192                                               Returns\n",
       "   193                                               -------\n",
       "   194                                               amplitude: np.ndarray\n",
       "   195                                                   amplitudes of tidal constituents\n",
       "   196                                               phase: np.ndarray\n",
       "   197                                                   phases of tidal constituents\n",
       "   198                                               \"\"\"\n",
       "   199                                               # set default keyword arguments\n",
       "   200         1          0.0      0.0      0.0      kwargs.setdefault('type', 'z')\n",
       "   201         1          0.0      0.0      0.0      kwargs.setdefault('version', None)\n",
       "   202         1          0.0      0.0      0.0      kwargs.setdefault('compressed', False)\n",
       "   203         1          0.0      0.0      0.0      kwargs.setdefault('crop', False)\n",
       "   204         1          0.0      0.0      0.0      kwargs.setdefault('method', 'spline')\n",
       "   205         1          0.0      0.0      0.0      kwargs.setdefault('extrapolate', False)\n",
       "   206         1          0.0      0.0      0.0      kwargs.setdefault('cutoff', 10.0)\n",
       "   207         1          0.0      0.0      0.0      kwargs.setdefault('scale', 1.0)\n",
       "   208                                               # raise warnings for deprecated keyword arguments\n",
       "   209         2          0.0      0.0      0.0      deprecated_keywords = dict(TYPE='type',VERSION='version',\n",
       "   210         1          0.0      0.0      0.0          METHOD='method',EXTRAPOLATE='extrapolate',CUTOFF='cutoff',\n",
       "   211         1          0.0      0.0      0.0          GZIP='compressed',SCALE='scale')\n",
       "   212         8          0.0      0.0      0.0      for old,new in deprecated_keywords.items():\n",
       "   213         7          0.0      0.0      0.0          if old in kwargs.keys():\n",
       "   214                                                       warnings.warn(f\"\"\"Deprecated keyword argument {old}.\n",
       "   215                                                           Changed to '{new}'\"\"\", DeprecationWarning)\n",
       "   216                                                       # set renamed argument to not break workflows\n",
       "   217                                                       kwargs[new] = copy.copy(kwargs[old])\n",
       "   218                                           \n",
       "   219                                               # raise warning if model files are entered as a string or path\n",
       "   220         1          0.0      0.0      0.0      if isinstance(model_files, (str, pathlib.Path)):\n",
       "   221                                                   warnings.warn(\"Tide model is entered as a string\")\n",
       "   222                                                   model_files = [model_files]\n",
       "   223                                           \n",
       "   224                                               # adjust dimensions of input coordinates to be iterable\n",
       "   225         1          0.0      0.0      0.0      ilon = np.atleast_1d(np.copy(ilon))\n",
       "   226         1          0.0      0.0      0.0      ilat = np.atleast_1d(np.copy(ilat))\n",
       "   227                                               # set default bounds if cropping\n",
       "   228         1          0.0      0.0      0.0      xmin, xmax = np.min(ilon), np.max(ilon)\n",
       "   229         1          0.0      0.0      0.0      ymin, ymax = np.min(ilat), np.max(ilat)\n",
       "   230                                               # kwargs.setdefault('bounds', [xmin, xmax, ymin, ymax])\n",
       "   231         1          0.0      0.0      0.0      kwargs[\"bounds\"] = [xmin, xmax, ymin, ymax] if kwargs[\"bounds\"] is None else kwargs[\"bounds\"]\n",
       "   232         1          0.0      0.0      0.0      if kwargs[\"crop\"]:\n",
       "   233                                                   print(f\"Cropping to bounds: {kwargs['bounds']}, {kwargs['method']} interpolation\")\n",
       "   234                                               # number of points\n",
       "   235         1          0.0      0.0      0.0      npts = len(ilon)\n",
       "   236                                               # number of constituents\n",
       "   237         1          0.0      0.0      0.0      nc = len(model_files)\n",
       "   238                                           \n",
       "   239                                               # amplitude and phase\n",
       "   240         1          0.0      0.0      0.0      amplitude = np.ma.zeros((npts,nc))\n",
       "   241         1          0.0      0.0      0.0      amplitude.mask = np.zeros((npts,nc),dtype=bool)\n",
       "   242         1          0.0      0.0      0.0      ph = np.ma.zeros((npts,nc))\n",
       "   243         1          0.0      0.0      0.0      ph.mask = np.zeros((npts,nc),dtype=bool)\n",
       "   244                                               # read and interpolate each constituent\n",
       "   245        35          0.0      0.0      0.0      for i, model_file in enumerate(model_files):\n",
       "   246                                                   # check that model file is accessible\n",
       "   247        34          0.0      0.0      0.0          model_file = pathlib.Path(model_file).expanduser()\n",
       "   248        34          0.2      0.0      0.0          if not model_file.exists():\n",
       "   249                                                       raise FileNotFoundError(str(model_file))\n",
       "   250                                                   # read constituent from elevation file\n",
       "   251        34          0.0      0.0      0.0          if kwargs['version'] in _ascii_versions:\n",
       "   252                                                       # FES ascii constituent files\n",
       "   253                                                       hc, lon, lat = read_ascii_file(model_file, **kwargs)\n",
       "   254        34          0.0      0.0      0.0          elif kwargs['version'] in _netcdf_versions:\n",
       "   255                                                       # FES netCDF4 constituent files\n",
       "   256        34        306.7      9.0     45.8              hc, lon, lat = read_netcdf_file(model_file, **kwargs)\n",
       "   257                                                   # grid step size of tide model\n",
       "   258        34          0.0      0.0      0.0          dlon = lon[1] - lon[0]\n",
       "   259                                                   # crop tide model data to (buffered) bounds\n",
       "   260                                                   # or adjust longitudinal convention to fit tide model\n",
       "   261        34          0.0      0.0      0.0          if kwargs['crop'] and np.any(kwargs['bounds']):\n",
       "   262                                                       hc, lon, lat = _crop(hc, lon, lat,\n",
       "   263                                                           bounds=kwargs['bounds'],\n",
       "   264                                                           buffer=4*dlon\n",
       "   265                                                       )\n",
       "   266        34          0.0      0.0      0.0          elif (np.min(ilon) < 0.0) & (np.max(lon) > 180.0):\n",
       "   267                                                       # input points convention (-180:180)\n",
       "   268                                                       # tide model convention (0:360)\n",
       "   269                                                       ilon[ilon<0.0] += 360.0\n",
       "   270        34          0.0      0.0      0.0          elif (np.max(ilon) > 180.0) & (np.min(lon) < 0.0):\n",
       "   271                                                       # input points convention (0:360)\n",
       "   272                                                       # tide model convention (-180:180)\n",
       "   273                                                       ilon[ilon>180.0] -= 360.0\n",
       "   274                                           \n",
       "   275                                                   # replace original values with extend arrays/matrices\n",
       "   276        34          0.0      0.0      0.0          if np.isclose(lon[-1] - lon[0], 360.0 - dlon):\n",
       "   277                                                       lon = _extend_array(lon, dlon)\n",
       "   278                                                       hc = _extend_matrix(hc)\n",
       "   279                                                   # determine if any input points are outside of the model bounds\n",
       "   280       102          0.0      0.0      0.0          invalid = (ilon < lon.min()) | (ilon > lon.max()) | \\\n",
       "   281        68          0.0      0.0      0.0                    (ilat < lat.min()) | (ilat > lat.max())\n",
       "   282                                           \n",
       "   283                                                   # interpolate amplitude and phase of the constituent\n",
       "   284        34          0.0      0.0      0.0          if (kwargs['method'] == 'bilinear'):\n",
       "   285                                                       # replace invalid values with nan\n",
       "   286                                                       hc.data[hc.mask] = np.nan\n",
       "   287                                                       # use quick bilinear to interpolate values\n",
       "   288                                                       hci = pyTMD.interpolate.bilinear(lon, lat, hc, ilon, ilat,\n",
       "   289                                                           dtype=hc.dtype)\n",
       "   290                                                       # replace nan values with fill_value\n",
       "   291                                                       hci.mask[:] |= np.isnan(hci.data)\n",
       "   292                                                       hci.data[hci.mask] = hci.fill_value\n",
       "   293        34          0.0      0.0      0.0          elif (kwargs['method'] == 'spline'):\n",
       "   294                                                       # interpolate complex form of the constituent\n",
       "   295                                                       # use scipy splines to interpolate values\n",
       "   296        68        363.3      5.3     54.2              hci = pyTMD.interpolate.spline(lon, lat, hc, ilon, ilat,\n",
       "   297        34          0.0      0.0      0.0                  dtype=hc.dtype,\n",
       "   298        34          0.0      0.0      0.0                  reducer=np.ceil,\n",
       "   299        34          0.0      0.0      0.0                  kx=1, ky=1)\n",
       "   300                                                       # replace invalid values with fill_value\n",
       "   301        34          0.0      0.0      0.0              hci.data[hci.mask] = hci.fill_value\n",
       "   302                                                   else:\n",
       "   303                                                       # interpolate complex form of the constituent\n",
       "   304                                                       # use scipy regular grid to interpolate values\n",
       "   305                                                       hci = pyTMD.interpolate.regulargrid(lon, lat, hc, ilon, ilat,\n",
       "   306                                                           dtype=hc.dtype,\n",
       "   307                                                           method=kwargs['method'],\n",
       "   308                                                           reducer=np.ceil,\n",
       "   309                                                           bounds_error=False)\n",
       "   310                                                       # replace invalid values with fill_value\n",
       "   311                                                       hci.mask[:] |= (hci.data == hci.fill_value)\n",
       "   312                                                       hci.data[hci.mask] = hci.fill_value\n",
       "   313                                                   # extrapolate data using nearest-neighbors\n",
       "   314        34          0.0      0.0      0.0          if kwargs['extrapolate'] and np.any(hci.mask):\n",
       "   315                                                       # find invalid data points\n",
       "   316                                                       inv, = np.nonzero(hci.mask)\n",
       "   317                                                       # replace invalid values with nan\n",
       "   318                                                       hc.data[hc.mask] = np.nan\n",
       "   319                                                       # extrapolate points within cutoff of valid model points\n",
       "   320                                                       hci[inv] = pyTMD.interpolate.extrapolate(lon, lat, hc,\n",
       "   321                                                           ilon[inv], ilat[inv], dtype=hc.dtype,\n",
       "   322                                                           cutoff=kwargs['cutoff'])\n",
       "   323                                                   # convert amplitude from input units to meters\n",
       "   324        34          0.0      0.0      0.0          amplitude.data[:,i] = np.abs(hci.data)*kwargs['scale']\n",
       "   325        34          0.0      0.0      0.0          amplitude.mask[:,i] = np.copy(hci.mask)\n",
       "   326                                                   # phase of the constituent in radians\n",
       "   327        34          0.0      0.0      0.0          ph.data[:,i] = np.arctan2(-np.imag(hci.data),np.real(hci.data))\n",
       "   328        34          0.0      0.0      0.0          ph.mask[:,i] = np.copy(hci.mask)\n",
       "   329                                                   # update mask to invalidate points outside model domain\n",
       "   330        34          0.0      0.0      0.0          amplitude.mask[:,i] |= invalid\n",
       "   331        34          0.0      0.0      0.0          ph.mask[:,i] |= invalid\n",
       "   332                                           \n",
       "   333                                               # convert phase to degrees\n",
       "   334         1          0.0      0.0      0.0      phase = ph*180.0/np.pi\n",
       "   335         1          0.0      0.0      0.0      phase.data[phase.data < 0] += 360.0\n",
       "   336                                               # replace data for invalid mask values\n",
       "   337         1          0.0      0.0      0.0      amplitude.data[amplitude.mask] = amplitude.fill_value\n",
       "   338         1          0.0      0.0      0.0      phase.data[phase.mask] = phase.fill_value\n",
       "   339                                               # return the interpolated values\n",
       "   340         1          0.0      0.0      0.0      return (amplitude, phase)"
      ]
     },
     "metadata": {},
     "output_type": "display_data"
    }
   ],
   "source": [
    "%load_ext line_profiler\n",
    "\n",
    "from pyTMD.io.model import model\n",
    "from pyTMD.io import FES\n",
    "%lprun -u 1 -f FES.extract_constants tide_elevations(x=np.linspace(122.2183, 122.219, 2), y=np.linspace(-18.0008, -18.01, 2), delta_time=pd.date_range(\"2020\", \"2021\", periods=2), DIRECTORY=\"/gdata1/data/tide_models/\", MODEL=\"FES2022\", EPSG=4326, TIME=\"datetime\", EXTRAPOLATE=True, CUTOFF=np.inf, METHOD=\"spline\", CROP=False)"
   ]
  },
  {
   "cell_type": "code",
   "execution_count": 117,
   "metadata": {},
   "outputs": [
    {
     "name": "stdout",
     "output_type": "stream",
     "text": [
      "The line_profiler extension is already loaded. To reload it, use:\n",
      "  %reload_ext line_profiler\n"
     ]
    },
    {
     "data": {
      "text/plain": [
       "Timer unit: 1 s\n",
       "\n",
       "Total time: 269.384 s\n",
       "File: /home/jovyan/Robbi/pyTMD/pyTMD/io/FES.py\n",
       "Function: extract_constants at line 134\n",
       "\n",
       "Line #      Hits         Time  Per Hit   % Time  Line Contents\n",
       "==============================================================\n",
       "   134                                           def extract_constants(\n",
       "   135                                                   ilon: np.ndarray,\n",
       "   136                                                   ilat: np.ndarray,\n",
       "   137                                                   model_files: str | list | pathlib.Path | None = None,\n",
       "   138                                                   **kwargs\n",
       "   139                                               ):\n",
       "   140                                               \"\"\"\n",
       "   141                                               Reads files for a FES ascii or netCDF4 tidal model\n",
       "   142                                           \n",
       "   143                                               Makes initial calculations to run the tide program\n",
       "   144                                           \n",
       "   145                                               Spatially interpolates tidal constituents to input coordinates\n",
       "   146                                           \n",
       "   147                                               Parameters\n",
       "   148                                               ----------\n",
       "   149                                               ilon: np.ndarray\n",
       "   150                                                   longitude to interpolate\n",
       "   151                                               ilat: np.ndarray\n",
       "   152                                                   latitude to interpolate\n",
       "   153                                               model_files: str, list, pathlib.Path or NoneType, default None\n",
       "   154                                                   list of model files for each constituent\n",
       "   155                                               type: str, default 'z'\n",
       "   156                                                   Tidal variable to read\n",
       "   157                                           \n",
       "   158                                                       - ``'z'``: heights\n",
       "   159                                                       - ``'u'``: horizontal transport velocities\n",
       "   160                                                       - ``'v'``: vertical transport velocities\n",
       "   161                                               version: str or NoneType, default None\n",
       "   162                                                   Model version to read\n",
       "   163                                           \n",
       "   164                                                       - ``'FES1999'``\n",
       "   165                                                       - ``'FES2004'``\n",
       "   166                                                       - ``'FES2012'``\n",
       "   167                                                       - ``'FES2014'``\n",
       "   168                                                       - ``'FES2022'``\n",
       "   169                                                       - ``'EOT20'``\n",
       "   170                                                       - ``'HAMTIDE11'``\n",
       "   171                                               compressed: bool, default False\n",
       "   172                                                   Input files are gzip compressed\n",
       "   173                                               crop: bool, default False\n",
       "   174                                                   Crop tide model data to (buffered) bounds\n",
       "   175                                               bounds: list or NoneType, default None\n",
       "   176                                                   Boundaries for cropping tide model data\n",
       "   177                                               method: str, default 'spline'\n",
       "   178                                                   Interpolation method\n",
       "   179                                           \n",
       "   180                                                       - ``'bilinear'``: quick bilinear interpolation\n",
       "   181                                                       - ``'spline'``: scipy bivariate spline interpolation\n",
       "   182                                                       - ``'linear'``, ``'nearest'``: scipy regular grid interpolations\n",
       "   183                                               extrapolate: bool, default False\n",
       "   184                                                   Extrapolate model using nearest-neighbors\n",
       "   185                                               cutoff: float, default 10.0\n",
       "   186                                                   Extrapolation cutoff in kilometers\n",
       "   187                                           \n",
       "   188                                                   Set to ``np.inf`` to extrapolate for all points\n",
       "   189                                               scale: float, default 1.0\n",
       "   190                                                   Scaling factor for converting to output units\n",
       "   191                                           \n",
       "   192                                               Returns\n",
       "   193                                               -------\n",
       "   194                                               amplitude: np.ndarray\n",
       "   195                                                   amplitudes of tidal constituents\n",
       "   196                                               phase: np.ndarray\n",
       "   197                                                   phases of tidal constituents\n",
       "   198                                               \"\"\"\n",
       "   199                                               # set default keyword arguments\n",
       "   200         1          0.0      0.0      0.0      kwargs.setdefault('type', 'z')\n",
       "   201         1          0.0      0.0      0.0      kwargs.setdefault('version', None)\n",
       "   202         1          0.0      0.0      0.0      kwargs.setdefault('compressed', False)\n",
       "   203         1          0.0      0.0      0.0      kwargs.setdefault('crop', False)\n",
       "   204         1          0.0      0.0      0.0      kwargs.setdefault('method', 'spline')\n",
       "   205         1          0.0      0.0      0.0      kwargs.setdefault('extrapolate', False)\n",
       "   206         1          0.0      0.0      0.0      kwargs.setdefault('cutoff', 10.0)\n",
       "   207         1          0.0      0.0      0.0      kwargs.setdefault('scale', 1.0)\n",
       "   208                                               # raise warnings for deprecated keyword arguments\n",
       "   209         2          0.0      0.0      0.0      deprecated_keywords = dict(TYPE='type',VERSION='version',\n",
       "   210         1          0.0      0.0      0.0          METHOD='method',EXTRAPOLATE='extrapolate',CUTOFF='cutoff',\n",
       "   211         1          0.0      0.0      0.0          GZIP='compressed',SCALE='scale')\n",
       "   212         8          0.0      0.0      0.0      for old,new in deprecated_keywords.items():\n",
       "   213         7          0.0      0.0      0.0          if old in kwargs.keys():\n",
       "   214                                                       warnings.warn(f\"\"\"Deprecated keyword argument {old}.\n",
       "   215                                                           Changed to '{new}'\"\"\", DeprecationWarning)\n",
       "   216                                                       # set renamed argument to not break workflows\n",
       "   217                                                       kwargs[new] = copy.copy(kwargs[old])\n",
       "   218                                           \n",
       "   219                                               # raise warning if model files are entered as a string or path\n",
       "   220         1          0.0      0.0      0.0      if isinstance(model_files, (str, pathlib.Path)):\n",
       "   221                                                   warnings.warn(\"Tide model is entered as a string\")\n",
       "   222                                                   model_files = [model_files]\n",
       "   223                                           \n",
       "   224                                               # adjust dimensions of input coordinates to be iterable\n",
       "   225         1          0.0      0.0      0.0      ilon = np.atleast_1d(np.copy(ilon))\n",
       "   226         1          0.0      0.0      0.0      ilat = np.atleast_1d(np.copy(ilat))\n",
       "   227                                               # set default bounds if cropping\n",
       "   228         1          0.0      0.0      0.0      xmin, xmax = np.min(ilon), np.max(ilon)\n",
       "   229         1          0.0      0.0      0.0      ymin, ymax = np.min(ilat), np.max(ilat)\n",
       "   230                                               # kwargs.setdefault('bounds', [xmin, xmax, ymin, ymax])\n",
       "   231         1          0.0      0.0      0.0      kwargs[\"bounds\"] = [xmin, xmax, ymin, ymax] if kwargs[\"bounds\"] is None else kwargs[\"bounds\"]\n",
       "   232         1          0.0      0.0      0.0      if kwargs[\"crop\"]:\n",
       "   233                                                   print(f\"Cropping to bounds: {kwargs['bounds']}, {kwargs['method']} interpolation\")\n",
       "   234                                               # number of points\n",
       "   235         1          0.0      0.0      0.0      npts = len(ilon)\n",
       "   236                                               # number of constituents\n",
       "   237         1          0.0      0.0      0.0      nc = len(model_files)\n",
       "   238                                           \n",
       "   239                                               # amplitude and phase\n",
       "   240         1          0.0      0.0      0.0      amplitude = np.ma.zeros((npts,nc))\n",
       "   241         1          0.0      0.0      0.0      amplitude.mask = np.zeros((npts,nc),dtype=bool)\n",
       "   242         1          0.0      0.0      0.0      ph = np.ma.zeros((npts,nc))\n",
       "   243         1          0.0      0.0      0.0      ph.mask = np.zeros((npts,nc),dtype=bool)\n",
       "   244                                               # read and interpolate each constituent\n",
       "   245        35          0.0      0.0      0.0      for i, model_file in enumerate(model_files):\n",
       "   246                                                   # check that model file is accessible\n",
       "   247        34          0.0      0.0      0.0          model_file = pathlib.Path(model_file).expanduser()\n",
       "   248        34          0.1      0.0      0.0          if not model_file.exists():\n",
       "   249                                                       raise FileNotFoundError(str(model_file))\n",
       "   250                                                   # read constituent from elevation file\n",
       "   251        34          0.0      0.0      0.0          if kwargs['version'] in _ascii_versions:\n",
       "   252                                                       # FES ascii constituent files\n",
       "   253                                                       hc, lon, lat = read_ascii_file(model_file, **kwargs)\n",
       "   254        34          0.0      0.0      0.0          elif kwargs['version'] in _netcdf_versions:\n",
       "   255                                                       # FES netCDF4 constituent files\n",
       "   256        34        265.6      7.8     98.6              hc, lon, lat = read_netcdf_file(model_file, **kwargs)\n",
       "   257                                                   # grid step size of tide model\n",
       "   258        34          0.0      0.0      0.0          dlon = lon[1] - lon[0]\n",
       "   259                                                   # crop tide model data to (buffered) bounds\n",
       "   260                                                   # or adjust longitudinal convention to fit tide model\n",
       "   261        34          0.0      0.0      0.0          if kwargs['crop'] and np.any(kwargs['bounds']):\n",
       "   262                                                       hc, lon, lat = _crop(hc, lon, lat,\n",
       "   263                                                           bounds=kwargs['bounds'],\n",
       "   264                                                           buffer=4*dlon\n",
       "   265                                                       )\n",
       "   266        34          0.0      0.0      0.0          elif (np.min(ilon) < 0.0) & (np.max(lon) > 180.0):\n",
       "   267                                                       # input points convention (-180:180)\n",
       "   268                                                       # tide model convention (0:360)\n",
       "   269                                                       ilon[ilon<0.0] += 360.0\n",
       "   270        34          0.0      0.0      0.0          elif (np.max(ilon) > 180.0) & (np.min(lon) < 0.0):\n",
       "   271                                                       # input points convention (0:360)\n",
       "   272                                                       # tide model convention (-180:180)\n",
       "   273                                                       ilon[ilon>180.0] -= 360.0\n",
       "   274                                           \n",
       "   275                                                   # replace original values with extend arrays/matrices\n",
       "   276        34          0.0      0.0      0.0          if np.isclose(lon[-1] - lon[0], 360.0 - dlon):\n",
       "   277                                                       lon = _extend_array(lon, dlon)\n",
       "   278                                                       hc = _extend_matrix(hc)\n",
       "   279                                                   # determine if any input points are outside of the model bounds\n",
       "   280       102          0.0      0.0      0.0          invalid = (ilon < lon.min()) | (ilon > lon.max()) | \\\n",
       "   281        68          0.0      0.0      0.0                    (ilat < lat.min()) | (ilat > lat.max())\n",
       "   282                                           \n",
       "   283                                                   # interpolate amplitude and phase of the constituent\n",
       "   284        34          0.0      0.0      0.0          if (kwargs['method'] == 'bilinear'):\n",
       "   285                                                       # replace invalid values with nan\n",
       "   286                                                       hc.data[hc.mask] = np.nan\n",
       "   287                                                       # use quick bilinear to interpolate values\n",
       "   288                                                       hci = pyTMD.interpolate.bilinear(lon, lat, hc, ilon, ilat,\n",
       "   289                                                           dtype=hc.dtype)\n",
       "   290                                                       # replace nan values with fill_value\n",
       "   291                                                       hci.mask[:] |= np.isnan(hci.data)\n",
       "   292                                                       hci.data[hci.mask] = hci.fill_value\n",
       "   293        34          0.0      0.0      0.0          elif (kwargs['method'] == 'spline'):\n",
       "   294                                                       # interpolate complex form of the constituent\n",
       "   295                                                       # use scipy splines to interpolate values\n",
       "   296                                                       hci = pyTMD.interpolate.spline(lon, lat, hc, ilon, ilat,\n",
       "   297                                                           dtype=hc.dtype,\n",
       "   298                                                           reducer=np.ceil,\n",
       "   299                                                           kx=1, ky=1)\n",
       "   300                                                       # replace invalid values with fill_value\n",
       "   301                                                       hci.data[hci.mask] = hci.fill_value\n",
       "   302                                                   else:\n",
       "   303                                                       # interpolate complex form of the constituent\n",
       "   304                                                       # use scipy regular grid to interpolate values\n",
       "   305        68          3.7      0.1      1.4              hci = pyTMD.interpolate.regulargrid(lon, lat, hc, ilon, ilat,\n",
       "   306        34          0.0      0.0      0.0                  dtype=hc.dtype,\n",
       "   307        34          0.0      0.0      0.0                  method=kwargs['method'],\n",
       "   308        34          0.0      0.0      0.0                  reducer=np.ceil,\n",
       "   309        34          0.0      0.0      0.0                  bounds_error=False)\n",
       "   310                                                       # replace invalid values with fill_value\n",
       "   311        34          0.0      0.0      0.0              hci.mask[:] |= (hci.data == hci.fill_value)\n",
       "   312        34          0.0      0.0      0.0              hci.data[hci.mask] = hci.fill_value\n",
       "   313                                                   # extrapolate data using nearest-neighbors\n",
       "   314        34          0.0      0.0      0.0          if kwargs['extrapolate'] and np.any(hci.mask):\n",
       "   315                                                       # find invalid data points\n",
       "   316                                                       inv, = np.nonzero(hci.mask)\n",
       "   317                                                       # replace invalid values with nan\n",
       "   318                                                       hc.data[hc.mask] = np.nan\n",
       "   319                                                       # extrapolate points within cutoff of valid model points\n",
       "   320                                                       hci[inv] = pyTMD.interpolate.extrapolate(lon, lat, hc,\n",
       "   321                                                           ilon[inv], ilat[inv], dtype=hc.dtype,\n",
       "   322                                                           cutoff=kwargs['cutoff'])\n",
       "   323                                                   # convert amplitude from input units to meters\n",
       "   324        34          0.0      0.0      0.0          amplitude.data[:,i] = np.abs(hci.data)*kwargs['scale']\n",
       "   325        34          0.0      0.0      0.0          amplitude.mask[:,i] = np.copy(hci.mask)\n",
       "   326                                                   # phase of the constituent in radians\n",
       "   327        34          0.0      0.0      0.0          ph.data[:,i] = np.arctan2(-np.imag(hci.data),np.real(hci.data))\n",
       "   328        34          0.0      0.0      0.0          ph.mask[:,i] = np.copy(hci.mask)\n",
       "   329                                                   # update mask to invalidate points outside model domain\n",
       "   330        34          0.0      0.0      0.0          amplitude.mask[:,i] |= invalid\n",
       "   331        34          0.0      0.0      0.0          ph.mask[:,i] |= invalid\n",
       "   332                                           \n",
       "   333                                               # convert phase to degrees\n",
       "   334         1          0.0      0.0      0.0      phase = ph*180.0/np.pi\n",
       "   335         1          0.0      0.0      0.0      phase.data[phase.data < 0] += 360.0\n",
       "   336                                               # replace data for invalid mask values\n",
       "   337         1          0.0      0.0      0.0      amplitude.data[amplitude.mask] = amplitude.fill_value\n",
       "   338         1          0.0      0.0      0.0      phase.data[phase.mask] = phase.fill_value\n",
       "   339                                               # return the interpolated values\n",
       "   340         1          0.0      0.0      0.0      return (amplitude, phase)"
      ]
     },
     "metadata": {},
     "output_type": "display_data"
    }
   ],
   "source": [
    "%load_ext line_profiler\n",
    "\n",
    "from pyTMD.io.model import model\n",
    "from pyTMD.io import FES\n",
    "%lprun -u 1 -f FES.extract_constants tide_elevations(x=np.linspace(122.2183, 122.219, 2), y=np.linspace(-18.0008, -18.01, 2), delta_time=pd.date_range(\"2020\", \"2021\", periods=2), DIRECTORY=\"/gdata1/data/tide_models/\", MODEL=\"FES2022\", EPSG=4326, TIME=\"datetime\", EXTRAPOLATE=True, CUTOFF=np.inf, METHOD=\"linear\", CROP=False)"
   ]
  },
  {
   "cell_type": "code",
   "execution_count": null,
   "metadata": {},
   "outputs": [],
   "source": [
    "%load_ext line_profiler\n",
    "\n",
    "from pyTMD.io.model import model\n",
    "from pyTMD.io import FES\n",
    "%lprun -u 1 -f FES.extract_constants tide_elevations(x=np.linspace(122.2183, 122.219, 2), y=np.linspace(-18.0008, -18.01, 2), delta_time=pd.date_range(\"2020\", \"2021\", periods=2), DIRECTORY=\"/gdata1/data/tide_models/\", MODEL=\"FES2022\", EPSG=4326, TIME=\"datetime\", EXTRAPOLATE=True, CUTOFF=np.inf, METHOD=\"spline\", CROP=True, BOUNDS=[121.218, 123.218, -19.000, -17.000])"
   ]
  },
  {
   "cell_type": "code",
   "execution_count": null,
   "metadata": {},
   "outputs": [],
   "source": []
  },
  {
   "cell_type": "code",
   "execution_count": null,
   "metadata": {},
   "outputs": [],
   "source": [
    "\n",
    "\n",
    "from __future__ import print_function, annotations\n",
    "\n",
    "import logging\n",
    "import pathlib\n",
    "import numpy as np\n",
    "from io import IOBase\n",
    "import scipy.interpolate\n",
    "import pyTMD.crs\n",
    "import pyTMD.io\n",
    "import pyTMD.io.model\n",
    "import pyTMD.predict\n",
    "import pyTMD.spatial\n",
    "import pyTMD.utilities\n",
    "import timescale.eop\n",
    "import timescale.time\n",
    "# attempt imports\n",
    "pyproj = pyTMD.utilities.import_dependency('pyproj')\n",
    "\n",
    "\n",
    "x, y, crs, method, model = -1034913, -1961916, \"EPSG:3577\", \"bilinear\", \"EOT20\"\n",
    "\n",
    "x=x\n",
    "y=y\n",
    "delta_time=measured_tides_ds.time\n",
    "DIRECTORY=\"/var/share/tide_models/\"\n",
    "MODEL=model\n",
    "EPSG=int(crs[-4:])\n",
    "TIME=\"datetime\"\n",
    "EXTRAPOLATE=True\n",
    "CUTOFF=np.inf\n",
    "CROP=True\n",
    "METHOD=method\n",
    "\n",
    "GZIP=False\n",
    "DEFINITION_FILE=None\n",
    "BOUNDS=None\n",
    "EPOCH=(2000, 1, 1, 0, 0, 0)\n",
    "TYPE='drift'\n",
    "CORRECTIONS = None\n",
    "INFER_MINOR = True\n",
    "MINOR_CONSTITUENTS = None\n",
    "APPEND_NODE = False\n",
    "APPLY_FLEXURE= False\n",
    "FILL_VALUE=np.nan\n",
    "\n",
    "\n",
    "\n",
    "# check that tide directory is accessible\n",
    "if DIRECTORY is not None:\n",
    "    DIRECTORY = pathlib.Path(DIRECTORY).expanduser()\n",
    "    if not DIRECTORY.exists():\n",
    "        raise FileNotFoundError(\"Invalid tide directory\")\n",
    "\n",
    "# validate input arguments\n",
    "assert TIME.lower() in ('gps', 'loran', 'tai', 'utc', 'datetime')\n",
    "assert METHOD.lower() in ('bilinear', 'spline', 'linear', 'nearest')\n",
    "\n",
    "# get parameters for tide model\n",
    "if DEFINITION_FILE is not None:\n",
    "    model = pyTMD.io.model(DIRECTORY).from_file(DEFINITION_FILE)\n",
    "else:\n",
    "    model = pyTMD.io.model(DIRECTORY, compressed=GZIP).elevation(MODEL)\n",
    "\n",
    "# determine input data type based on variable dimensions\n",
    "if not TYPE:\n",
    "    TYPE = pyTMD.spatial.data_type(x, y, delta_time)\n",
    "assert TYPE.lower() in ('grid', 'drift', 'time series')\n",
    "# reform coordinate dimensions for input grids\n",
    "# or verify coordinate dimension shapes\n",
    "if (TYPE.lower() == 'grid') and (np.size(x) != np.size(y)):\n",
    "    x,y = np.meshgrid(np.copy(x),np.copy(y))\n",
    "elif (TYPE.lower() == 'grid'):\n",
    "    x = np.atleast_2d(x)\n",
    "    y = np.atleast_2d(y)\n",
    "elif TYPE.lower() in ('time series', 'drift'):\n",
    "    x = np.atleast_1d(x)\n",
    "    y = np.atleast_1d(y)\n",
    "\n",
    "# converting x,y from EPSG to latitude/longitude\n",
    "crs1 = pyTMD.crs().from_input(EPSG)\n",
    "crs2 = pyproj.CRS.from_epsg(4326)\n",
    "transformer = pyproj.Transformer.from_crs(crs1, crs2, always_xy=True)\n",
    "lon, lat = transformer.transform(x.flatten(), y.flatten())\n",
    "\n",
    "# verify that delta time is an array\n",
    "delta_time = np.atleast_1d(delta_time)\n",
    "# convert delta times or datetimes objects to timescale\n",
    "if (TIME.lower() == 'datetime'):\n",
    "    ts = timescale.time.Timescale().from_datetime(\n",
    "        delta_time.flatten())\n",
    "else:\n",
    "    ts = timescale.time.Timescale().from_deltatime(delta_time,\n",
    "        epoch=EPOCH, standard=TIME)\n",
    "# number of time points\n",
    "nt = len(ts)\n"
   ]
  },
  {
   "cell_type": "code",
   "execution_count": null,
   "metadata": {},
   "outputs": [],
   "source": [
    "# read tidal constants and interpolate to grid points\n",
    "amp, ph, c = model.extract_constants(lon, lat, type=model.type,\n",
    "    crop=CROP, bounds=BOUNDS, method=METHOD,\n",
    "    extrapolate=EXTRAPOLATE, cutoff=CUTOFF,\n",
    "    append_node=APPEND_NODE, apply_flexure=APPLY_FLEXURE)"
   ]
  },
  {
   "cell_type": "code",
   "execution_count": null,
   "metadata": {},
   "outputs": [],
   "source": [
    "amp"
   ]
  },
  {
   "cell_type": "code",
   "execution_count": null,
   "metadata": {},
   "outputs": [],
   "source": [
    "ph"
   ]
  },
  {
   "cell_type": "code",
   "execution_count": null,
   "metadata": {},
   "outputs": [],
   "source": [
    "# adjust dimensions of input coordinates to be iterable\n",
    "ilon = np.atleast_1d(np.copy(lon))\n",
    "ilat = np.atleast_1d(np.copy(lat))\n",
    "# set default bounds if cropping\n",
    "xmin, xmax = np.min(ilon), np.max(ilon)\n",
    "ymin, ymax = np.min(ilat), np.max(ilat)\n",
    "bounds=[xmin-1, xmax+1, ymin-1, ymax+1]\n",
    "\n",
    "\n",
    "# read tidal constants and interpolate to grid points\n",
    "c = model.read_constants(crop=True)"
   ]
  },
  {
   "cell_type": "code",
   "execution_count": null,
   "metadata": {},
   "outputs": [],
   "source": [
    "c = model.read_constants(crop=False, bounds=bounds)\n",
    "plt.imshow(c.m2.mask)"
   ]
  },
  {
   "cell_type": "code",
   "execution_count": null,
   "metadata": {},
   "outputs": [],
   "source": [
    "c = model.read_constants(crop=True, bounds=bounds)\n",
    "plt.imshow(c.m2.mask)"
   ]
  },
  {
   "cell_type": "code",
   "execution_count": null,
   "metadata": {},
   "outputs": [],
   "source": [
    "plt.imshow(c.m2.astype(\"float32\"))"
   ]
  },
  {
   "cell_type": "code",
   "execution_count": null,
   "metadata": {},
   "outputs": [],
   "source": [
    "c.m2"
   ]
  },
  {
   "cell_type": "code",
   "execution_count": null,
   "metadata": {},
   "outputs": [],
   "source": [
    "# calculate complex phase in radians for Euler's\n",
    "cph = -1j*ph*np.pi/180.0\n",
    "# calculate constituent oscillation\n",
    "hc = amp*np.exp(cph)"
   ]
  },
  {
   "cell_type": "markdown",
   "metadata": {},
   "source": [
    "## Compare timings"
   ]
  },
  {
   "cell_type": "code",
   "execution_count": 126,
   "metadata": {},
   "outputs": [
    {
     "name": "stdout",
     "output_type": "stream",
     "text": [
      "Modelling tides using FES2014\n",
      "Modelling tides using FES2014\n",
      "Spline method time: 456.673351 seconds\n",
      "Linear method time: 332.520261 seconds\n"
     ]
    }
   ],
   "source": [
    "import time\n",
    "\n",
    "from eo_tides.model import model_tides\n",
    "import numpy as np\n",
    "import pandas as pd\n",
    "\n",
    "# Generate random data within input bounds\n",
    "n = 2000\n",
    "x = np.random.uniform(112.715430, 154.727149, n)\n",
    "y = np.random.uniform(-44.199061, -10.035282, n)\n",
    "times = pd.date_range(\"2020\", \"2021\", periods=100)\n",
    "model = \"FES2014\"\n",
    "# directory = \"/var/share/tide_models/\"\n",
    "directory = \"/gdata1/data/tide_models/\"\n",
    "\n",
    "# Time the spline method\n",
    "start_time = time.time()\n",
    "modelled_tides_df_spline = model_tides(\n",
    "   x=x,\n",
    "   y=y,\n",
    "   time=times,\n",
    "   model=model,\n",
    "   method=\"spline\",\n",
    "   directory=directory,\n",
    "   parallel=False,\n",
    "   crop=False, \n",
    ")\n",
    "spline_time = time.time() - start_time\n",
    "\n",
    "# Time the linear method  \n",
    "start_time = time.time()\n",
    "modelled_tides_df_linear = model_tides(\n",
    "   x=x,\n",
    "   y=y,\n",
    "   time=times,\n",
    "   model=model,\n",
    "   method=\"linear\",\n",
    "   directory=directory,\n",
    "   parallel=False,\n",
    "   crop=False,\n",
    ")\n",
    "linear_time = time.time() - start_time\n",
    "\n",
    "print(f\"Spline method time: {spline_time:.6f} seconds\")\n",
    "print(f\"Linear method time: {linear_time:.6f} seconds\")"
   ]
  },
  {
   "cell_type": "code",
   "execution_count": 128,
   "metadata": {},
   "outputs": [
    {
     "name": "stdout",
     "output_type": "stream",
     "text": [
      "Modelling tides using FES2014\n",
      "Cropping to bounds: [112.71844319378742, 154.71220797815425, -44.17936876485997, -10.053536747347778], linear interpolation\n",
      "Linear method time: 73.067080 seconds\n"
     ]
    }
   ],
   "source": [
    "import time\n",
    "\n",
    "from eo_tides.model import model_tides\n",
    "import numpy as np\n",
    "import pandas as pd\n",
    "\n",
    "# Generate random data within input bounds\n",
    "n = 2000\n",
    "x = np.random.uniform(112.715430, 154.727149, n)\n",
    "y = np.random.uniform(-44.199061, -10.035282, n)\n",
    "times = pd.date_range(\"2020\", \"2021\", periods=100)\n",
    "model = \"FES2014\"\n",
    "# directory = \"/var/share/tide_models/\"\n",
    "directory = \"/gdata1/data/tide_models/\"\n",
    "\n",
    "# # Time the spline method\n",
    "# start_time = time.time()\n",
    "# modelled_tides_df_spline = model_tides(\n",
    "#    x=x,\n",
    "#    y=y,\n",
    "#    time=times,\n",
    "#    model=model,\n",
    "#    method=\"spline\",\n",
    "#    directory=directory,\n",
    "#    parallel=False,\n",
    "#    crop=True, \n",
    "# )\n",
    "# spline_time = time.time() - start_time\n",
    "\n",
    "# Time the linear method  \n",
    "start_time = time.time()\n",
    "modelled_tides_df_linear = model_tides(\n",
    "   x=x,\n",
    "   y=y,\n",
    "   time=times,\n",
    "   model=model,\n",
    "   method=\"linear\",\n",
    "   directory=directory,\n",
    "   parallel=False,\n",
    "   crop=True,\n",
    ")\n",
    "linear_time = time.time() - start_time\n",
    "\n",
    "# print(f\"Spline method time: {spline_time:.6f} seconds\")\n",
    "print(f\"Linear method time: {linear_time:.6f} seconds\")"
   ]
  },
  {
   "cell_type": "code",
   "execution_count": 50,
   "metadata": {},
   "outputs": [
    {
     "name": "stdout",
     "output_type": "stream",
     "text": [
      "Modelling tides using EOT20, GOT5.5 in parallel\n"
     ]
    },
    {
     "name": "stderr",
     "output_type": "stream",
     "text": [
      "100%|██████████| 2/2 [00:02<00:00,  1.46s/it]\n"
     ]
    },
    {
     "name": "stdout",
     "output_type": "stream",
     "text": [
      "{'split': 1, 'parallel_max': 2, 'time': 3.243055582046509, 'points': 100, 'points_per_split': 100, 'split_per_parallel': 0.5, 'directory': '/gdata1/data/tide_models_clipped/', 'model': ['EOT20', 'GOT5.5']}\n",
      "Modelling tides using EOT20, GOT5.5 in parallel\n"
     ]
    },
    {
     "name": "stderr",
     "output_type": "stream",
     "text": [
      "100%|██████████| 4/4 [00:03<00:00,  1.02it/s]\n"
     ]
    },
    {
     "name": "stdout",
     "output_type": "stream",
     "text": [
      "{'split': 2, 'parallel_max': 2, 'time': 4.2193474769592285, 'points': 100, 'points_per_split': 50, 'split_per_parallel': 1.0, 'directory': '/gdata1/data/tide_models_clipped/', 'model': ['EOT20', 'GOT5.5']}\n",
      "Modelling tides using EOT20, GOT5.5 in parallel\n"
     ]
    },
    {
     "name": "stderr",
     "output_type": "stream",
     "text": [
      "100%|██████████| 6/6 [00:05<00:00,  1.01it/s]\n"
     ]
    },
    {
     "name": "stdout",
     "output_type": "stream",
     "text": [
      "{'split': 3, 'parallel_max': 2, 'time': 6.260916709899902, 'points': 100, 'points_per_split': 33, 'split_per_parallel': 1.5, 'directory': '/gdata1/data/tide_models_clipped/', 'model': ['EOT20', 'GOT5.5']}\n",
      "Modelling tides using EOT20, GOT5.5 in parallel\n"
     ]
    },
    {
     "name": "stderr",
     "output_type": "stream",
     "text": [
      "100%|██████████| 8/8 [00:07<00:00,  1.06it/s]\n"
     ]
    },
    {
     "name": "stdout",
     "output_type": "stream",
     "text": [
      "{'split': 4, 'parallel_max': 2, 'time': 7.84906792640686, 'points': 100, 'points_per_split': 25, 'split_per_parallel': 2.0, 'directory': '/gdata1/data/tide_models_clipped/', 'model': ['EOT20', 'GOT5.5']}\n",
      "Modelling tides using EOT20, GOT5.5 in parallel\n"
     ]
    },
    {
     "name": "stderr",
     "output_type": "stream",
     "text": [
      "100%|██████████| 10/10 [00:09<00:00,  1.09it/s]\n"
     ]
    },
    {
     "name": "stdout",
     "output_type": "stream",
     "text": [
      "{'split': 5, 'parallel_max': 2, 'time': 9.473124742507935, 'points': 100, 'points_per_split': 20, 'split_per_parallel': 2.5, 'directory': '/gdata1/data/tide_models_clipped/', 'model': ['EOT20', 'GOT5.5']}\n",
      "Modelling tides using EOT20, GOT5.5 in parallel\n"
     ]
    },
    {
     "name": "stderr",
     "output_type": "stream",
     "text": [
      "100%|██████████| 12/12 [00:10<00:00,  1.12it/s]\n"
     ]
    },
    {
     "name": "stdout",
     "output_type": "stream",
     "text": [
      "{'split': 6, 'parallel_max': 2, 'time': 10.993525981903076, 'points': 100, 'points_per_split': 16, 'split_per_parallel': 3.0, 'directory': '/gdata1/data/tide_models_clipped/', 'model': ['EOT20', 'GOT5.5']}\n",
      "Modelling tides using EOT20, GOT5.5 in parallel\n"
     ]
    },
    {
     "name": "stderr",
     "output_type": "stream",
     "text": [
      "100%|██████████| 16/16 [00:14<00:00,  1.13it/s]\n"
     ]
    },
    {
     "name": "stdout",
     "output_type": "stream",
     "text": [
      "{'split': 8, 'parallel_max': 2, 'time': 14.431707620620728, 'points': 100, 'points_per_split': 12, 'split_per_parallel': 4.0, 'directory': '/gdata1/data/tide_models_clipped/', 'model': ['EOT20', 'GOT5.5']}\n",
      "Modelling tides using EOT20, GOT5.5 in parallel\n"
     ]
    },
    {
     "name": "stderr",
     "output_type": "stream",
     "text": [
      "100%|██████████| 20/20 [00:17<00:00,  1.18it/s]\n"
     ]
    },
    {
     "name": "stdout",
     "output_type": "stream",
     "text": [
      "{'split': 10, 'parallel_max': 2, 'time': 17.341492891311646, 'points': 100, 'points_per_split': 10, 'split_per_parallel': 5.0, 'directory': '/gdata1/data/tide_models_clipped/', 'model': ['EOT20', 'GOT5.5']}\n",
      "Modelling tides using EOT20, GOT5.5 in parallel\n"
     ]
    },
    {
     "name": "stderr",
     "output_type": "stream",
     "text": [
      "100%|██████████| 24/24 [00:20<00:00,  1.19it/s]\n"
     ]
    },
    {
     "name": "stdout",
     "output_type": "stream",
     "text": [
      "{'split': 12, 'parallel_max': 2, 'time': 20.59138798713684, 'points': 100, 'points_per_split': 8, 'split_per_parallel': 6.0, 'directory': '/gdata1/data/tide_models_clipped/', 'model': ['EOT20', 'GOT5.5']}\n",
      "Modelling tides using EOT20, GOT5.5 in parallel\n"
     ]
    },
    {
     "name": "stderr",
     "output_type": "stream",
     "text": [
      "100%|██████████| 32/32 [00:26<00:00,  1.21it/s]\n"
     ]
    },
    {
     "name": "stdout",
     "output_type": "stream",
     "text": [
      "{'split': 16, 'parallel_max': 2, 'time': 26.767624378204346, 'points': 100, 'points_per_split': 6, 'split_per_parallel': 8.0, 'directory': '/gdata1/data/tide_models_clipped/', 'model': ['EOT20', 'GOT5.5']}\n",
      "Modelling tides using EOT20, GOT5.5 in parallel\n"
     ]
    },
    {
     "name": "stderr",
     "output_type": "stream",
     "text": [
      "100%|██████████| 40/40 [00:32<00:00,  1.23it/s]\n"
     ]
    },
    {
     "name": "stdout",
     "output_type": "stream",
     "text": [
      "{'split': 20, 'parallel_max': 2, 'time': 32.733094453811646, 'points': 100, 'points_per_split': 5, 'split_per_parallel': 10.0, 'directory': '/gdata1/data/tide_models_clipped/', 'model': ['EOT20', 'GOT5.5']}\n",
      "Modelling tides using EOT20, GOT5.5 in parallel\n"
     ]
    },
    {
     "name": "stderr",
     "output_type": "stream",
     "text": [
      "100%|██████████| 2/2 [00:03<00:00,  1.50s/it]\n"
     ]
    },
    {
     "name": "stdout",
     "output_type": "stream",
     "text": [
      "{'split': 1, 'parallel_max': 4, 'time': 3.549738883972168, 'points': 100, 'points_per_split': 100, 'split_per_parallel': 0.25, 'directory': '/gdata1/data/tide_models_clipped/', 'model': ['EOT20', 'GOT5.5']}\n",
      "Modelling tides using EOT20, GOT5.5 in parallel\n"
     ]
    },
    {
     "name": "stderr",
     "output_type": "stream",
     "text": [
      "100%|██████████| 4/4 [00:02<00:00,  1.38it/s]\n"
     ]
    },
    {
     "name": "stdout",
     "output_type": "stream",
     "text": [
      "{'split': 2, 'parallel_max': 4, 'time': 3.3015990257263184, 'points': 100, 'points_per_split': 50, 'split_per_parallel': 0.5, 'directory': '/gdata1/data/tide_models_clipped/', 'model': ['EOT20', 'GOT5.5']}\n",
      "Modelling tides using EOT20, GOT5.5 in parallel\n"
     ]
    },
    {
     "name": "stderr",
     "output_type": "stream",
     "text": [
      "100%|██████████| 6/6 [00:03<00:00,  1.83it/s]\n"
     ]
    },
    {
     "name": "stdout",
     "output_type": "stream",
     "text": [
      "{'split': 3, 'parallel_max': 4, 'time': 3.663120746612549, 'points': 100, 'points_per_split': 33, 'split_per_parallel': 0.75, 'directory': '/gdata1/data/tide_models_clipped/', 'model': ['EOT20', 'GOT5.5']}\n",
      "Modelling tides using EOT20, GOT5.5 in parallel\n"
     ]
    },
    {
     "name": "stderr",
     "output_type": "stream",
     "text": [
      "100%|██████████| 8/8 [00:04<00:00,  1.74it/s]\n"
     ]
    },
    {
     "name": "stdout",
     "output_type": "stream",
     "text": [
      "{'split': 4, 'parallel_max': 4, 'time': 4.980994939804077, 'points': 100, 'points_per_split': 25, 'split_per_parallel': 1.0, 'directory': '/gdata1/data/tide_models_clipped/', 'model': ['EOT20', 'GOT5.5']}\n",
      "Modelling tides using EOT20, GOT5.5 in parallel\n"
     ]
    },
    {
     "name": "stderr",
     "output_type": "stream",
     "text": [
      "100%|██████████| 10/10 [00:05<00:00,  1.84it/s]\n"
     ]
    },
    {
     "name": "stdout",
     "output_type": "stream",
     "text": [
      "{'split': 5, 'parallel_max': 4, 'time': 5.800908088684082, 'points': 100, 'points_per_split': 20, 'split_per_parallel': 1.25, 'directory': '/gdata1/data/tide_models_clipped/', 'model': ['EOT20', 'GOT5.5']}\n",
      "Modelling tides using EOT20, GOT5.5 in parallel\n"
     ]
    },
    {
     "name": "stderr",
     "output_type": "stream",
     "text": [
      "100%|██████████| 12/12 [00:06<00:00,  1.91it/s]\n"
     ]
    },
    {
     "name": "stdout",
     "output_type": "stream",
     "text": [
      "{'split': 6, 'parallel_max': 4, 'time': 6.713530778884888, 'points': 100, 'points_per_split': 16, 'split_per_parallel': 1.5, 'directory': '/gdata1/data/tide_models_clipped/', 'model': ['EOT20', 'GOT5.5']}\n",
      "Modelling tides using EOT20, GOT5.5 in parallel\n"
     ]
    },
    {
     "name": "stderr",
     "output_type": "stream",
     "text": [
      "100%|██████████| 16/16 [00:07<00:00,  2.03it/s]\n"
     ]
    },
    {
     "name": "stdout",
     "output_type": "stream",
     "text": [
      "{'split': 8, 'parallel_max': 4, 'time': 8.271213054656982, 'points': 100, 'points_per_split': 12, 'split_per_parallel': 2.0, 'directory': '/gdata1/data/tide_models_clipped/', 'model': ['EOT20', 'GOT5.5']}\n",
      "Modelling tides using EOT20, GOT5.5 in parallel\n"
     ]
    },
    {
     "name": "stderr",
     "output_type": "stream",
     "text": [
      "100%|██████████| 20/20 [00:09<00:00,  2.08it/s]\n"
     ]
    },
    {
     "name": "stdout",
     "output_type": "stream",
     "text": [
      "{'split': 10, 'parallel_max': 4, 'time': 9.997656106948853, 'points': 100, 'points_per_split': 10, 'split_per_parallel': 2.5, 'directory': '/gdata1/data/tide_models_clipped/', 'model': ['EOT20', 'GOT5.5']}\n",
      "Modelling tides using EOT20, GOT5.5 in parallel\n"
     ]
    },
    {
     "name": "stderr",
     "output_type": "stream",
     "text": [
      "100%|██████████| 24/24 [00:11<00:00,  2.11it/s]\n"
     ]
    },
    {
     "name": "stdout",
     "output_type": "stream",
     "text": [
      "{'split': 12, 'parallel_max': 4, 'time': 11.794151782989502, 'points': 100, 'points_per_split': 8, 'split_per_parallel': 3.0, 'directory': '/gdata1/data/tide_models_clipped/', 'model': ['EOT20', 'GOT5.5']}\n",
      "Modelling tides using EOT20, GOT5.5 in parallel\n"
     ]
    },
    {
     "name": "stderr",
     "output_type": "stream",
     "text": [
      "100%|██████████| 32/32 [00:14<00:00,  2.26it/s]\n"
     ]
    },
    {
     "name": "stdout",
     "output_type": "stream",
     "text": [
      "{'split': 16, 'parallel_max': 4, 'time': 14.622455596923828, 'points': 100, 'points_per_split': 6, 'split_per_parallel': 4.0, 'directory': '/gdata1/data/tide_models_clipped/', 'model': ['EOT20', 'GOT5.5']}\n",
      "Modelling tides using EOT20, GOT5.5 in parallel\n"
     ]
    },
    {
     "name": "stderr",
     "output_type": "stream",
     "text": [
      "100%|██████████| 40/40 [00:17<00:00,  2.30it/s]\n"
     ]
    },
    {
     "name": "stdout",
     "output_type": "stream",
     "text": [
      "{'split': 20, 'parallel_max': 4, 'time': 17.984022617340088, 'points': 100, 'points_per_split': 5, 'split_per_parallel': 5.0, 'directory': '/gdata1/data/tide_models_clipped/', 'model': ['EOT20', 'GOT5.5']}\n",
      "Modelling tides using EOT20, GOT5.5 in parallel\n"
     ]
    },
    {
     "name": "stderr",
     "output_type": "stream",
     "text": [
      "100%|██████████| 2/2 [00:02<00:00,  1.49s/it]\n"
     ]
    },
    {
     "name": "stdout",
     "output_type": "stream",
     "text": [
      "{'split': 1, 'parallel_max': 8, 'time': 3.5839710235595703, 'points': 100, 'points_per_split': 100, 'split_per_parallel': 0.125, 'directory': '/gdata1/data/tide_models_clipped/', 'model': ['EOT20', 'GOT5.5']}\n",
      "Modelling tides using EOT20, GOT5.5 in parallel\n"
     ]
    },
    {
     "name": "stderr",
     "output_type": "stream",
     "text": [
      "100%|██████████| 4/4 [00:02<00:00,  1.35it/s]\n"
     ]
    },
    {
     "name": "stdout",
     "output_type": "stream",
     "text": [
      "{'split': 2, 'parallel_max': 8, 'time': 3.5672194957733154, 'points': 100, 'points_per_split': 50, 'split_per_parallel': 0.25, 'directory': '/gdata1/data/tide_models_clipped/', 'model': ['EOT20', 'GOT5.5']}\n",
      "Modelling tides using EOT20, GOT5.5 in parallel\n"
     ]
    },
    {
     "name": "stderr",
     "output_type": "stream",
     "text": [
      "100%|██████████| 6/6 [00:03<00:00,  1.86it/s]\n"
     ]
    },
    {
     "name": "stdout",
     "output_type": "stream",
     "text": [
      "{'split': 3, 'parallel_max': 8, 'time': 3.840934991836548, 'points': 100, 'points_per_split': 33, 'split_per_parallel': 0.375, 'directory': '/gdata1/data/tide_models_clipped/', 'model': ['EOT20', 'GOT5.5']}\n",
      "Modelling tides using EOT20, GOT5.5 in parallel\n"
     ]
    },
    {
     "name": "stderr",
     "output_type": "stream",
     "text": [
      "100%|██████████| 8/8 [00:03<00:00,  2.31it/s]\n"
     ]
    },
    {
     "name": "stdout",
     "output_type": "stream",
     "text": [
      "{'split': 4, 'parallel_max': 8, 'time': 4.094923257827759, 'points': 100, 'points_per_split': 25, 'split_per_parallel': 0.5, 'directory': '/gdata1/data/tide_models_clipped/', 'model': ['EOT20', 'GOT5.5']}\n",
      "Modelling tides using EOT20, GOT5.5 in parallel\n"
     ]
    },
    {
     "name": "stderr",
     "output_type": "stream",
     "text": [
      "100%|██████████| 10/10 [00:03<00:00,  2.95it/s]\n"
     ]
    },
    {
     "name": "stdout",
     "output_type": "stream",
     "text": [
      "{'split': 5, 'parallel_max': 8, 'time': 4.031742811203003, 'points': 100, 'points_per_split': 20, 'split_per_parallel': 0.625, 'directory': '/gdata1/data/tide_models_clipped/', 'model': ['EOT20', 'GOT5.5']}\n",
      "Modelling tides using EOT20, GOT5.5 in parallel\n"
     ]
    },
    {
     "name": "stderr",
     "output_type": "stream",
     "text": [
      "100%|██████████| 12/12 [00:03<00:00,  3.26it/s]\n"
     ]
    },
    {
     "name": "stdout",
     "output_type": "stream",
     "text": [
      "{'split': 6, 'parallel_max': 8, 'time': 4.320927381515503, 'points': 100, 'points_per_split': 16, 'split_per_parallel': 0.75, 'directory': '/gdata1/data/tide_models_clipped/', 'model': ['EOT20', 'GOT5.5']}\n",
      "Modelling tides using EOT20, GOT5.5 in parallel\n"
     ]
    },
    {
     "name": "stderr",
     "output_type": "stream",
     "text": [
      "100%|██████████| 16/16 [00:05<00:00,  3.12it/s]\n"
     ]
    },
    {
     "name": "stdout",
     "output_type": "stream",
     "text": [
      "{'split': 8, 'parallel_max': 8, 'time': 5.7838099002838135, 'points': 100, 'points_per_split': 12, 'split_per_parallel': 1.0, 'directory': '/gdata1/data/tide_models_clipped/', 'model': ['EOT20', 'GOT5.5']}\n",
      "Modelling tides using EOT20, GOT5.5 in parallel\n"
     ]
    },
    {
     "name": "stderr",
     "output_type": "stream",
     "text": [
      "100%|██████████| 20/20 [00:06<00:00,  3.31it/s]\n"
     ]
    },
    {
     "name": "stdout",
     "output_type": "stream",
     "text": [
      "{'split': 10, 'parallel_max': 8, 'time': 6.58468770980835, 'points': 100, 'points_per_split': 10, 'split_per_parallel': 1.25, 'directory': '/gdata1/data/tide_models_clipped/', 'model': ['EOT20', 'GOT5.5']}\n",
      "Modelling tides using EOT20, GOT5.5 in parallel\n"
     ]
    },
    {
     "name": "stderr",
     "output_type": "stream",
     "text": [
      "100%|██████████| 24/24 [00:07<00:00,  3.34it/s]\n"
     ]
    },
    {
     "name": "stdout",
     "output_type": "stream",
     "text": [
      "{'split': 12, 'parallel_max': 8, 'time': 7.838033676147461, 'points': 100, 'points_per_split': 8, 'split_per_parallel': 1.5, 'directory': '/gdata1/data/tide_models_clipped/', 'model': ['EOT20', 'GOT5.5']}\n",
      "Modelling tides using EOT20, GOT5.5 in parallel\n"
     ]
    },
    {
     "name": "stderr",
     "output_type": "stream",
     "text": [
      "100%|██████████| 32/32 [00:08<00:00,  3.56it/s]\n"
     ]
    },
    {
     "name": "stdout",
     "output_type": "stream",
     "text": [
      "{'split': 16, 'parallel_max': 8, 'time': 9.692872762680054, 'points': 100, 'points_per_split': 6, 'split_per_parallel': 2.0, 'directory': '/gdata1/data/tide_models_clipped/', 'model': ['EOT20', 'GOT5.5']}\n",
      "Modelling tides using EOT20, GOT5.5 in parallel\n"
     ]
    },
    {
     "name": "stderr",
     "output_type": "stream",
     "text": [
      "100%|██████████| 40/40 [00:11<00:00,  3.47it/s]\n"
     ]
    },
    {
     "name": "stdout",
     "output_type": "stream",
     "text": [
      "{'split': 20, 'parallel_max': 8, 'time': 12.213189601898193, 'points': 100, 'points_per_split': 5, 'split_per_parallel': 2.5, 'directory': '/gdata1/data/tide_models_clipped/', 'model': ['EOT20', 'GOT5.5']}\n",
      "Modelling tides using EOT20, GOT5.5 in parallel\n"
     ]
    },
    {
     "name": "stderr",
     "output_type": "stream",
     "text": [
      "100%|██████████| 2/2 [00:03<00:00,  1.52s/it]\n"
     ]
    },
    {
     "name": "stdout",
     "output_type": "stream",
     "text": [
      "{'split': 1, 'parallel_max': 16, 'time': 3.9789793491363525, 'points': 100, 'points_per_split': 100, 'split_per_parallel': 0.0625, 'directory': '/gdata1/data/tide_models_clipped/', 'model': ['EOT20', 'GOT5.5']}\n",
      "Modelling tides using EOT20, GOT5.5 in parallel\n"
     ]
    },
    {
     "name": "stderr",
     "output_type": "stream",
     "text": [
      "100%|██████████| 4/4 [00:03<00:00,  1.30it/s]\n"
     ]
    },
    {
     "name": "stdout",
     "output_type": "stream",
     "text": [
      "{'split': 2, 'parallel_max': 16, 'time': 4.004520654678345, 'points': 100, 'points_per_split': 50, 'split_per_parallel': 0.125, 'directory': '/gdata1/data/tide_models_clipped/', 'model': ['EOT20', 'GOT5.5']}\n",
      "Modelling tides using EOT20, GOT5.5 in parallel\n"
     ]
    },
    {
     "name": "stderr",
     "output_type": "stream",
     "text": [
      "100%|██████████| 6/6 [00:03<00:00,  1.94it/s]\n"
     ]
    },
    {
     "name": "stdout",
     "output_type": "stream",
     "text": [
      "{'split': 3, 'parallel_max': 16, 'time': 4.018305540084839, 'points': 100, 'points_per_split': 33, 'split_per_parallel': 0.1875, 'directory': '/gdata1/data/tide_models_clipped/', 'model': ['EOT20', 'GOT5.5']}\n",
      "Modelling tides using EOT20, GOT5.5 in parallel\n"
     ]
    },
    {
     "name": "stderr",
     "output_type": "stream",
     "text": [
      "100%|██████████| 8/8 [00:03<00:00,  2.34it/s]\n"
     ]
    },
    {
     "name": "stdout",
     "output_type": "stream",
     "text": [
      "{'split': 4, 'parallel_max': 16, 'time': 4.409335613250732, 'points': 100, 'points_per_split': 25, 'split_per_parallel': 0.25, 'directory': '/gdata1/data/tide_models_clipped/', 'model': ['EOT20', 'GOT5.5']}\n",
      "Modelling tides using EOT20, GOT5.5 in parallel\n"
     ]
    },
    {
     "name": "stderr",
     "output_type": "stream",
     "text": [
      "100%|██████████| 10/10 [00:03<00:00,  2.73it/s]\n"
     ]
    },
    {
     "name": "stdout",
     "output_type": "stream",
     "text": [
      "{'split': 5, 'parallel_max': 16, 'time': 4.634673595428467, 'points': 100, 'points_per_split': 20, 'split_per_parallel': 0.3125, 'directory': '/gdata1/data/tide_models_clipped/', 'model': ['EOT20', 'GOT5.5']}\n",
      "Modelling tides using EOT20, GOT5.5 in parallel\n"
     ]
    },
    {
     "name": "stderr",
     "output_type": "stream",
     "text": [
      "100%|██████████| 12/12 [00:03<00:00,  3.29it/s]\n"
     ]
    },
    {
     "name": "stdout",
     "output_type": "stream",
     "text": [
      "{'split': 6, 'parallel_max': 16, 'time': 4.6058759689331055, 'points': 100, 'points_per_split': 16, 'split_per_parallel': 0.375, 'directory': '/gdata1/data/tide_models_clipped/', 'model': ['EOT20', 'GOT5.5']}\n",
      "Modelling tides using EOT20, GOT5.5 in parallel\n"
     ]
    },
    {
     "name": "stderr",
     "output_type": "stream",
     "text": [
      "100%|██████████| 16/16 [00:04<00:00,  3.45it/s]\n"
     ]
    },
    {
     "name": "stdout",
     "output_type": "stream",
     "text": [
      "{'split': 8, 'parallel_max': 16, 'time': 5.617724895477295, 'points': 100, 'points_per_split': 12, 'split_per_parallel': 0.5, 'directory': '/gdata1/data/tide_models_clipped/', 'model': ['EOT20', 'GOT5.5']}\n",
      "Modelling tides using EOT20, GOT5.5 in parallel\n"
     ]
    },
    {
     "name": "stderr",
     "output_type": "stream",
     "text": [
      "100%|██████████| 20/20 [00:04<00:00,  4.11it/s]\n"
     ]
    },
    {
     "name": "stdout",
     "output_type": "stream",
     "text": [
      "{'split': 10, 'parallel_max': 16, 'time': 5.889828681945801, 'points': 100, 'points_per_split': 10, 'split_per_parallel': 0.625, 'directory': '/gdata1/data/tide_models_clipped/', 'model': ['EOT20', 'GOT5.5']}\n",
      "Modelling tides using EOT20, GOT5.5 in parallel\n"
     ]
    },
    {
     "name": "stderr",
     "output_type": "stream",
     "text": [
      "100%|██████████| 24/24 [00:04<00:00,  5.55it/s]\n"
     ]
    },
    {
     "name": "stdout",
     "output_type": "stream",
     "text": [
      "{'split': 12, 'parallel_max': 16, 'time': 5.353975772857666, 'points': 100, 'points_per_split': 8, 'split_per_parallel': 0.75, 'directory': '/gdata1/data/tide_models_clipped/', 'model': ['EOT20', 'GOT5.5']}\n",
      "Modelling tides using EOT20, GOT5.5 in parallel\n"
     ]
    },
    {
     "name": "stderr",
     "output_type": "stream",
     "text": [
      "100%|██████████| 32/32 [00:06<00:00,  4.85it/s]\n"
     ]
    },
    {
     "name": "stdout",
     "output_type": "stream",
     "text": [
      "{'split': 16, 'parallel_max': 16, 'time': 7.742544412612915, 'points': 100, 'points_per_split': 6, 'split_per_parallel': 1.0, 'directory': '/gdata1/data/tide_models_clipped/', 'model': ['EOT20', 'GOT5.5']}\n",
      "Modelling tides using EOT20, GOT5.5 in parallel\n"
     ]
    },
    {
     "name": "stderr",
     "output_type": "stream",
     "text": [
      "100%|██████████| 40/40 [00:07<00:00,  5.10it/s]\n"
     ]
    },
    {
     "name": "stdout",
     "output_type": "stream",
     "text": [
      "{'split': 20, 'parallel_max': 16, 'time': 8.698545694351196, 'points': 100, 'points_per_split': 5, 'split_per_parallel': 1.25, 'directory': '/gdata1/data/tide_models_clipped/', 'model': ['EOT20', 'GOT5.5']}\n",
      "Modelling tides using EOT20, GOT5.5 in parallel\n"
     ]
    },
    {
     "name": "stderr",
     "output_type": "stream",
     "text": [
      "100%|██████████| 2/2 [00:04<00:00,  2.39s/it]\n"
     ]
    },
    {
     "name": "stdout",
     "output_type": "stream",
     "text": [
      "{'split': 1, 'parallel_max': 2, 'time': 5.165438652038574, 'points': 1000, 'points_per_split': 1000, 'split_per_parallel': 0.5, 'directory': '/gdata1/data/tide_models_clipped/', 'model': ['EOT20', 'GOT5.5']}\n",
      "Modelling tides using EOT20, GOT5.5 in parallel\n"
     ]
    },
    {
     "name": "stderr",
     "output_type": "stream",
     "text": [
      "100%|██████████| 4/4 [00:05<00:00,  1.50s/it]\n"
     ]
    },
    {
     "name": "stdout",
     "output_type": "stream",
     "text": [
      "{'split': 2, 'parallel_max': 2, 'time': 6.393255233764648, 'points': 1000, 'points_per_split': 500, 'split_per_parallel': 1.0, 'directory': '/gdata1/data/tide_models_clipped/', 'model': ['EOT20', 'GOT5.5']}\n",
      "Modelling tides using EOT20, GOT5.5 in parallel\n"
     ]
    },
    {
     "name": "stderr",
     "output_type": "stream",
     "text": [
      "100%|██████████| 6/6 [00:08<00:00,  1.41s/it]\n"
     ]
    },
    {
     "name": "stdout",
     "output_type": "stream",
     "text": [
      "{'split': 3, 'parallel_max': 2, 'time': 8.881940841674805, 'points': 1000, 'points_per_split': 333, 'split_per_parallel': 1.5, 'directory': '/gdata1/data/tide_models_clipped/', 'model': ['EOT20', 'GOT5.5']}\n",
      "Modelling tides using EOT20, GOT5.5 in parallel\n"
     ]
    },
    {
     "name": "stderr",
     "output_type": "stream",
     "text": [
      "100%|██████████| 8/8 [00:09<00:00,  1.20s/it]\n"
     ]
    },
    {
     "name": "stdout",
     "output_type": "stream",
     "text": [
      "{'split': 4, 'parallel_max': 2, 'time': 9.976561784744263, 'points': 1000, 'points_per_split': 250, 'split_per_parallel': 2.0, 'directory': '/gdata1/data/tide_models_clipped/', 'model': ['EOT20', 'GOT5.5']}\n",
      "Modelling tides using EOT20, GOT5.5 in parallel\n"
     ]
    },
    {
     "name": "stderr",
     "output_type": "stream",
     "text": [
      "100%|██████████| 10/10 [00:11<00:00,  1.18s/it]\n"
     ]
    },
    {
     "name": "stdout",
     "output_type": "stream",
     "text": [
      "{'split': 5, 'parallel_max': 2, 'time': 12.158897638320923, 'points': 1000, 'points_per_split': 200, 'split_per_parallel': 2.5, 'directory': '/gdata1/data/tide_models_clipped/', 'model': ['EOT20', 'GOT5.5']}\n",
      "Modelling tides using EOT20, GOT5.5 in parallel\n"
     ]
    },
    {
     "name": "stderr",
     "output_type": "stream",
     "text": [
      "100%|██████████| 12/12 [00:12<00:00,  1.08s/it]\n"
     ]
    },
    {
     "name": "stdout",
     "output_type": "stream",
     "text": [
      "{'split': 6, 'parallel_max': 2, 'time': 13.381953477859497, 'points': 1000, 'points_per_split': 166, 'split_per_parallel': 3.0, 'directory': '/gdata1/data/tide_models_clipped/', 'model': ['EOT20', 'GOT5.5']}\n",
      "Modelling tides using EOT20, GOT5.5 in parallel\n"
     ]
    },
    {
     "name": "stderr",
     "output_type": "stream",
     "text": [
      "100%|██████████| 16/16 [00:16<00:00,  1.04s/it]\n"
     ]
    },
    {
     "name": "stdout",
     "output_type": "stream",
     "text": [
      "{'split': 8, 'parallel_max': 2, 'time': 17.228297233581543, 'points': 1000, 'points_per_split': 125, 'split_per_parallel': 4.0, 'directory': '/gdata1/data/tide_models_clipped/', 'model': ['EOT20', 'GOT5.5']}\n",
      "Modelling tides using EOT20, GOT5.5 in parallel\n"
     ]
    },
    {
     "name": "stderr",
     "output_type": "stream",
     "text": [
      "100%|██████████| 20/20 [00:20<00:00,  1.01s/it]\n"
     ]
    },
    {
     "name": "stdout",
     "output_type": "stream",
     "text": [
      "{'split': 10, 'parallel_max': 2, 'time': 20.583512783050537, 'points': 1000, 'points_per_split': 100, 'split_per_parallel': 5.0, 'directory': '/gdata1/data/tide_models_clipped/', 'model': ['EOT20', 'GOT5.5']}\n",
      "Modelling tides using EOT20, GOT5.5 in parallel\n"
     ]
    },
    {
     "name": "stderr",
     "output_type": "stream",
     "text": [
      "100%|██████████| 24/24 [00:24<00:00,  1.00s/it]\n"
     ]
    },
    {
     "name": "stdout",
     "output_type": "stream",
     "text": [
      "{'split': 12, 'parallel_max': 2, 'time': 24.490197896957397, 'points': 1000, 'points_per_split': 83, 'split_per_parallel': 6.0, 'directory': '/gdata1/data/tide_models_clipped/', 'model': ['EOT20', 'GOT5.5']}\n",
      "Modelling tides using EOT20, GOT5.5 in parallel\n"
     ]
    },
    {
     "name": "stderr",
     "output_type": "stream",
     "text": [
      "100%|██████████| 32/32 [00:30<00:00,  1.04it/s]\n"
     ]
    },
    {
     "name": "stdout",
     "output_type": "stream",
     "text": [
      "{'split': 16, 'parallel_max': 2, 'time': 31.263490915298462, 'points': 1000, 'points_per_split': 62, 'split_per_parallel': 8.0, 'directory': '/gdata1/data/tide_models_clipped/', 'model': ['EOT20', 'GOT5.5']}\n",
      "Modelling tides using EOT20, GOT5.5 in parallel\n"
     ]
    },
    {
     "name": "stderr",
     "output_type": "stream",
     "text": [
      "100%|██████████| 40/40 [00:37<00:00,  1.06it/s]\n"
     ]
    },
    {
     "name": "stdout",
     "output_type": "stream",
     "text": [
      "{'split': 20, 'parallel_max': 2, 'time': 38.26747488975525, 'points': 1000, 'points_per_split': 50, 'split_per_parallel': 10.0, 'directory': '/gdata1/data/tide_models_clipped/', 'model': ['EOT20', 'GOT5.5']}\n",
      "Modelling tides using EOT20, GOT5.5 in parallel\n"
     ]
    },
    {
     "name": "stderr",
     "output_type": "stream",
     "text": [
      "100%|██████████| 2/2 [00:04<00:00,  2.36s/it]\n"
     ]
    },
    {
     "name": "stdout",
     "output_type": "stream",
     "text": [
      "{'split': 1, 'parallel_max': 4, 'time': 5.357771873474121, 'points': 1000, 'points_per_split': 1000, 'split_per_parallel': 0.25, 'directory': '/gdata1/data/tide_models_clipped/', 'model': ['EOT20', 'GOT5.5']}\n",
      "Modelling tides using EOT20, GOT5.5 in parallel\n"
     ]
    },
    {
     "name": "stderr",
     "output_type": "stream",
     "text": [
      "100%|██████████| 4/4 [00:04<00:00,  1.03s/it]\n"
     ]
    },
    {
     "name": "stdout",
     "output_type": "stream",
     "text": [
      "{'split': 2, 'parallel_max': 4, 'time': 4.622193813323975, 'points': 1000, 'points_per_split': 500, 'split_per_parallel': 0.5, 'directory': '/gdata1/data/tide_models_clipped/', 'model': ['EOT20', 'GOT5.5']}\n",
      "Modelling tides using EOT20, GOT5.5 in parallel\n"
     ]
    },
    {
     "name": "stderr",
     "output_type": "stream",
     "text": [
      "100%|██████████| 6/6 [00:05<00:00,  1.13it/s]\n"
     ]
    },
    {
     "name": "stdout",
     "output_type": "stream",
     "text": [
      "{'split': 3, 'parallel_max': 4, 'time': 5.817925214767456, 'points': 1000, 'points_per_split': 333, 'split_per_parallel': 0.75, 'directory': '/gdata1/data/tide_models_clipped/', 'model': ['EOT20', 'GOT5.5']}\n",
      "Modelling tides using EOT20, GOT5.5 in parallel\n"
     ]
    },
    {
     "name": "stderr",
     "output_type": "stream",
     "text": [
      "100%|██████████| 8/8 [00:05<00:00,  1.44it/s]\n"
     ]
    },
    {
     "name": "stdout",
     "output_type": "stream",
     "text": [
      "{'split': 4, 'parallel_max': 4, 'time': 6.040789842605591, 'points': 1000, 'points_per_split': 250, 'split_per_parallel': 1.0, 'directory': '/gdata1/data/tide_models_clipped/', 'model': ['EOT20', 'GOT5.5']}\n",
      "Modelling tides using EOT20, GOT5.5 in parallel\n"
     ]
    },
    {
     "name": "stderr",
     "output_type": "stream",
     "text": [
      "100%|██████████| 10/10 [00:06<00:00,  1.44it/s]\n"
     ]
    },
    {
     "name": "stdout",
     "output_type": "stream",
     "text": [
      "{'split': 5, 'parallel_max': 4, 'time': 7.42947244644165, 'points': 1000, 'points_per_split': 200, 'split_per_parallel': 1.25, 'directory': '/gdata1/data/tide_models_clipped/', 'model': ['EOT20', 'GOT5.5']}\n",
      "Modelling tides using EOT20, GOT5.5 in parallel\n"
     ]
    },
    {
     "name": "stderr",
     "output_type": "stream",
     "text": [
      "100%|██████████| 12/12 [00:07<00:00,  1.55it/s]\n"
     ]
    },
    {
     "name": "stdout",
     "output_type": "stream",
     "text": [
      "{'split': 6, 'parallel_max': 4, 'time': 8.228006601333618, 'points': 1000, 'points_per_split': 166, 'split_per_parallel': 1.5, 'directory': '/gdata1/data/tide_models_clipped/', 'model': ['EOT20', 'GOT5.5']}\n",
      "Modelling tides using EOT20, GOT5.5 in parallel\n"
     ]
    },
    {
     "name": "stderr",
     "output_type": "stream",
     "text": [
      "100%|██████████| 16/16 [00:09<00:00,  1.71it/s]\n"
     ]
    },
    {
     "name": "stdout",
     "output_type": "stream",
     "text": [
      "{'split': 8, 'parallel_max': 4, 'time': 9.86604380607605, 'points': 1000, 'points_per_split': 125, 'split_per_parallel': 2.0, 'directory': '/gdata1/data/tide_models_clipped/', 'model': ['EOT20', 'GOT5.5']}\n",
      "Modelling tides using EOT20, GOT5.5 in parallel\n"
     ]
    },
    {
     "name": "stderr",
     "output_type": "stream",
     "text": [
      "100%|██████████| 20/20 [00:11<00:00,  1.69it/s]\n"
     ]
    },
    {
     "name": "stdout",
     "output_type": "stream",
     "text": [
      "{'split': 10, 'parallel_max': 4, 'time': 12.331735134124756, 'points': 1000, 'points_per_split': 100, 'split_per_parallel': 2.5, 'directory': '/gdata1/data/tide_models_clipped/', 'model': ['EOT20', 'GOT5.5']}\n",
      "Modelling tides using EOT20, GOT5.5 in parallel\n"
     ]
    },
    {
     "name": "stderr",
     "output_type": "stream",
     "text": [
      "100%|██████████| 24/24 [00:13<00:00,  1.79it/s]\n"
     ]
    },
    {
     "name": "stdout",
     "output_type": "stream",
     "text": [
      "{'split': 12, 'parallel_max': 4, 'time': 13.996634244918823, 'points': 1000, 'points_per_split': 83, 'split_per_parallel': 3.0, 'directory': '/gdata1/data/tide_models_clipped/', 'model': ['EOT20', 'GOT5.5']}\n",
      "Modelling tides using EOT20, GOT5.5 in parallel\n"
     ]
    },
    {
     "name": "stderr",
     "output_type": "stream",
     "text": [
      "100%|██████████| 32/32 [00:16<00:00,  1.94it/s]\n"
     ]
    },
    {
     "name": "stdout",
     "output_type": "stream",
     "text": [
      "{'split': 16, 'parallel_max': 4, 'time': 17.055161952972412, 'points': 1000, 'points_per_split': 62, 'split_per_parallel': 4.0, 'directory': '/gdata1/data/tide_models_clipped/', 'model': ['EOT20', 'GOT5.5']}\n",
      "Modelling tides using EOT20, GOT5.5 in parallel\n"
     ]
    },
    {
     "name": "stderr",
     "output_type": "stream",
     "text": [
      "100%|██████████| 40/40 [00:20<00:00,  1.95it/s]\n"
     ]
    },
    {
     "name": "stdout",
     "output_type": "stream",
     "text": [
      "{'split': 20, 'parallel_max': 4, 'time': 21.018187522888184, 'points': 1000, 'points_per_split': 50, 'split_per_parallel': 5.0, 'directory': '/gdata1/data/tide_models_clipped/', 'model': ['EOT20', 'GOT5.5']}\n",
      "Modelling tides using EOT20, GOT5.5 in parallel\n"
     ]
    },
    {
     "name": "stderr",
     "output_type": "stream",
     "text": [
      "100%|██████████| 2/2 [00:04<00:00,  2.41s/it]\n"
     ]
    },
    {
     "name": "stdout",
     "output_type": "stream",
     "text": [
      "{'split': 1, 'parallel_max': 8, 'time': 5.499439001083374, 'points': 1000, 'points_per_split': 1000, 'split_per_parallel': 0.125, 'directory': '/gdata1/data/tide_models_clipped/', 'model': ['EOT20', 'GOT5.5']}\n",
      "Modelling tides using EOT20, GOT5.5 in parallel\n"
     ]
    },
    {
     "name": "stderr",
     "output_type": "stream",
     "text": [
      "100%|██████████| 4/4 [00:04<00:00,  1.09s/it]\n"
     ]
    },
    {
     "name": "stdout",
     "output_type": "stream",
     "text": [
      "{'split': 2, 'parallel_max': 8, 'time': 4.996423244476318, 'points': 1000, 'points_per_split': 500, 'split_per_parallel': 0.25, 'directory': '/gdata1/data/tide_models_clipped/', 'model': ['EOT20', 'GOT5.5']}\n",
      "Modelling tides using EOT20, GOT5.5 in parallel\n"
     ]
    },
    {
     "name": "stderr",
     "output_type": "stream",
     "text": [
      "100%|██████████| 6/6 [00:04<00:00,  1.43it/s]\n"
     ]
    },
    {
     "name": "stdout",
     "output_type": "stream",
     "text": [
      "{'split': 3, 'parallel_max': 8, 'time': 5.037170171737671, 'points': 1000, 'points_per_split': 333, 'split_per_parallel': 0.375, 'directory': '/gdata1/data/tide_models_clipped/', 'model': ['EOT20', 'GOT5.5']}\n",
      "Modelling tides using EOT20, GOT5.5 in parallel\n"
     ]
    },
    {
     "name": "stderr",
     "output_type": "stream",
     "text": [
      "100%|██████████| 8/8 [00:04<00:00,  1.80it/s]\n"
     ]
    },
    {
     "name": "stdout",
     "output_type": "stream",
     "text": [
      "{'split': 4, 'parallel_max': 8, 'time': 5.146196603775024, 'points': 1000, 'points_per_split': 250, 'split_per_parallel': 0.5, 'directory': '/gdata1/data/tide_models_clipped/', 'model': ['EOT20', 'GOT5.5']}\n",
      "Modelling tides using EOT20, GOT5.5 in parallel\n"
     ]
    },
    {
     "name": "stderr",
     "output_type": "stream",
     "text": [
      "100%|██████████| 10/10 [00:04<00:00,  2.01it/s]\n"
     ]
    },
    {
     "name": "stdout",
     "output_type": "stream",
     "text": [
      "{'split': 5, 'parallel_max': 8, 'time': 5.687551021575928, 'points': 1000, 'points_per_split': 200, 'split_per_parallel': 0.625, 'directory': '/gdata1/data/tide_models_clipped/', 'model': ['EOT20', 'GOT5.5']}\n",
      "Modelling tides using EOT20, GOT5.5 in parallel\n"
     ]
    },
    {
     "name": "stderr",
     "output_type": "stream",
     "text": [
      "100%|██████████| 12/12 [00:05<00:00,  2.28it/s]\n"
     ]
    },
    {
     "name": "stdout",
     "output_type": "stream",
     "text": [
      "{'split': 6, 'parallel_max': 8, 'time': 5.957857608795166, 'points': 1000, 'points_per_split': 166, 'split_per_parallel': 0.75, 'directory': '/gdata1/data/tide_models_clipped/', 'model': ['EOT20', 'GOT5.5']}\n",
      "Modelling tides using EOT20, GOT5.5 in parallel\n"
     ]
    },
    {
     "name": "stderr",
     "output_type": "stream",
     "text": [
      "100%|██████████| 16/16 [00:06<00:00,  2.53it/s]\n"
     ]
    },
    {
     "name": "stdout",
     "output_type": "stream",
     "text": [
      "{'split': 8, 'parallel_max': 8, 'time': 7.025585412979126, 'points': 1000, 'points_per_split': 125, 'split_per_parallel': 1.0, 'directory': '/gdata1/data/tide_models_clipped/', 'model': ['EOT20', 'GOT5.5']}\n",
      "Modelling tides using EOT20, GOT5.5 in parallel\n"
     ]
    },
    {
     "name": "stderr",
     "output_type": "stream",
     "text": [
      "100%|██████████| 20/20 [00:07<00:00,  2.70it/s]\n"
     ]
    },
    {
     "name": "stdout",
     "output_type": "stream",
     "text": [
      "{'split': 10, 'parallel_max': 8, 'time': 8.076916694641113, 'points': 1000, 'points_per_split': 100, 'split_per_parallel': 1.25, 'directory': '/gdata1/data/tide_models_clipped/', 'model': ['EOT20', 'GOT5.5']}\n",
      "Modelling tides using EOT20, GOT5.5 in parallel\n"
     ]
    },
    {
     "name": "stderr",
     "output_type": "stream",
     "text": [
      "100%|██████████| 24/24 [00:08<00:00,  2.82it/s]\n"
     ]
    },
    {
     "name": "stdout",
     "output_type": "stream",
     "text": [
      "{'split': 12, 'parallel_max': 8, 'time': 9.199008703231812, 'points': 1000, 'points_per_split': 83, 'split_per_parallel': 1.5, 'directory': '/gdata1/data/tide_models_clipped/', 'model': ['EOT20', 'GOT5.5']}\n",
      "Modelling tides using EOT20, GOT5.5 in parallel\n"
     ]
    },
    {
     "name": "stderr",
     "output_type": "stream",
     "text": [
      "100%|██████████| 32/32 [00:09<00:00,  3.25it/s]\n"
     ]
    },
    {
     "name": "stdout",
     "output_type": "stream",
     "text": [
      "{'split': 16, 'parallel_max': 8, 'time': 10.505664825439453, 'points': 1000, 'points_per_split': 62, 'split_per_parallel': 2.0, 'directory': '/gdata1/data/tide_models_clipped/', 'model': ['EOT20', 'GOT5.5']}\n",
      "Modelling tides using EOT20, GOT5.5 in parallel\n"
     ]
    },
    {
     "name": "stderr",
     "output_type": "stream",
     "text": [
      "100%|██████████| 40/40 [00:11<00:00,  3.34it/s]\n"
     ]
    },
    {
     "name": "stdout",
     "output_type": "stream",
     "text": [
      "{'split': 20, 'parallel_max': 8, 'time': 12.669795036315918, 'points': 1000, 'points_per_split': 50, 'split_per_parallel': 2.5, 'directory': '/gdata1/data/tide_models_clipped/', 'model': ['EOT20', 'GOT5.5']}\n",
      "Modelling tides using EOT20, GOT5.5 in parallel\n"
     ]
    },
    {
     "name": "stderr",
     "output_type": "stream",
     "text": [
      "100%|██████████| 2/2 [00:04<00:00,  2.41s/it]\n"
     ]
    },
    {
     "name": "stdout",
     "output_type": "stream",
     "text": [
      "{'split': 1, 'parallel_max': 16, 'time': 5.831315517425537, 'points': 1000, 'points_per_split': 1000, 'split_per_parallel': 0.0625, 'directory': '/gdata1/data/tide_models_clipped/', 'model': ['EOT20', 'GOT5.5']}\n",
      "Modelling tides using EOT20, GOT5.5 in parallel\n"
     ]
    },
    {
     "name": "stderr",
     "output_type": "stream",
     "text": [
      "100%|██████████| 4/4 [00:04<00:00,  1.04s/it]\n"
     ]
    },
    {
     "name": "stdout",
     "output_type": "stream",
     "text": [
      "{'split': 2, 'parallel_max': 16, 'time': 5.128083944320679, 'points': 1000, 'points_per_split': 500, 'split_per_parallel': 0.125, 'directory': '/gdata1/data/tide_models_clipped/', 'model': ['EOT20', 'GOT5.5']}\n",
      "Modelling tides using EOT20, GOT5.5 in parallel\n"
     ]
    },
    {
     "name": "stderr",
     "output_type": "stream",
     "text": [
      "100%|██████████| 6/6 [00:04<00:00,  1.42it/s]\n"
     ]
    },
    {
     "name": "stdout",
     "output_type": "stream",
     "text": [
      "{'split': 3, 'parallel_max': 16, 'time': 5.169249057769775, 'points': 1000, 'points_per_split': 333, 'split_per_parallel': 0.1875, 'directory': '/gdata1/data/tide_models_clipped/', 'model': ['EOT20', 'GOT5.5']}\n",
      "Modelling tides using EOT20, GOT5.5 in parallel\n"
     ]
    },
    {
     "name": "stderr",
     "output_type": "stream",
     "text": [
      "100%|██████████| 8/8 [00:04<00:00,  1.76it/s]\n"
     ]
    },
    {
     "name": "stdout",
     "output_type": "stream",
     "text": [
      "{'split': 4, 'parallel_max': 16, 'time': 5.4696550369262695, 'points': 1000, 'points_per_split': 250, 'split_per_parallel': 0.25, 'directory': '/gdata1/data/tide_models_clipped/', 'model': ['EOT20', 'GOT5.5']}\n",
      "Modelling tides using EOT20, GOT5.5 in parallel\n"
     ]
    },
    {
     "name": "stderr",
     "output_type": "stream",
     "text": [
      "100%|██████████| 10/10 [00:04<00:00,  2.01it/s]\n"
     ]
    },
    {
     "name": "stdout",
     "output_type": "stream",
     "text": [
      "{'split': 5, 'parallel_max': 16, 'time': 5.932654619216919, 'points': 1000, 'points_per_split': 200, 'split_per_parallel': 0.3125, 'directory': '/gdata1/data/tide_models_clipped/', 'model': ['EOT20', 'GOT5.5']}\n",
      "Modelling tides using EOT20, GOT5.5 in parallel\n"
     ]
    },
    {
     "name": "stderr",
     "output_type": "stream",
     "text": [
      "100%|██████████| 12/12 [00:05<00:00,  2.36it/s]\n"
     ]
    },
    {
     "name": "stdout",
     "output_type": "stream",
     "text": [
      "{'split': 6, 'parallel_max': 16, 'time': 6.110931158065796, 'points': 1000, 'points_per_split': 166, 'split_per_parallel': 0.375, 'directory': '/gdata1/data/tide_models_clipped/', 'model': ['EOT20', 'GOT5.5']}\n",
      "Modelling tides using EOT20, GOT5.5 in parallel\n"
     ]
    },
    {
     "name": "stderr",
     "output_type": "stream",
     "text": [
      "100%|██████████| 16/16 [00:05<00:00,  2.85it/s]\n"
     ]
    },
    {
     "name": "stdout",
     "output_type": "stream",
     "text": [
      "{'split': 8, 'parallel_max': 16, 'time': 6.56880259513855, 'points': 1000, 'points_per_split': 125, 'split_per_parallel': 0.5, 'directory': '/gdata1/data/tide_models_clipped/', 'model': ['EOT20', 'GOT5.5']}\n",
      "Modelling tides using EOT20, GOT5.5 in parallel\n"
     ]
    },
    {
     "name": "stderr",
     "output_type": "stream",
     "text": [
      "100%|██████████| 20/20 [00:06<00:00,  3.20it/s]\n"
     ]
    },
    {
     "name": "stdout",
     "output_type": "stream",
     "text": [
      "{'split': 10, 'parallel_max': 16, 'time': 7.181562423706055, 'points': 1000, 'points_per_split': 100, 'split_per_parallel': 0.625, 'directory': '/gdata1/data/tide_models_clipped/', 'model': ['EOT20', 'GOT5.5']}\n",
      "Modelling tides using EOT20, GOT5.5 in parallel\n"
     ]
    },
    {
     "name": "stderr",
     "output_type": "stream",
     "text": [
      "100%|██████████| 24/24 [00:05<00:00,  4.03it/s]\n"
     ]
    },
    {
     "name": "stdout",
     "output_type": "stream",
     "text": [
      "{'split': 12, 'parallel_max': 16, 'time': 6.9272284507751465, 'points': 1000, 'points_per_split': 83, 'split_per_parallel': 0.75, 'directory': '/gdata1/data/tide_models_clipped/', 'model': ['EOT20', 'GOT5.5']}\n",
      "Modelling tides using EOT20, GOT5.5 in parallel\n"
     ]
    },
    {
     "name": "stderr",
     "output_type": "stream",
     "text": [
      "100%|██████████| 32/32 [00:07<00:00,  4.45it/s]\n"
     ]
    },
    {
     "name": "stdout",
     "output_type": "stream",
     "text": [
      "{'split': 16, 'parallel_max': 16, 'time': 8.17851209640503, 'points': 1000, 'points_per_split': 62, 'split_per_parallel': 1.0, 'directory': '/gdata1/data/tide_models_clipped/', 'model': ['EOT20', 'GOT5.5']}\n",
      "Modelling tides using EOT20, GOT5.5 in parallel\n"
     ]
    },
    {
     "name": "stderr",
     "output_type": "stream",
     "text": [
      "100%|██████████| 40/40 [00:08<00:00,  4.60it/s]\n"
     ]
    },
    {
     "name": "stdout",
     "output_type": "stream",
     "text": [
      "{'split': 20, 'parallel_max': 16, 'time': 9.803722143173218, 'points': 1000, 'points_per_split': 50, 'split_per_parallel': 1.25, 'directory': '/gdata1/data/tide_models_clipped/', 'model': ['EOT20', 'GOT5.5']}\n",
      "Modelling tides using EOT20, GOT5.5 in parallel\n"
     ]
    },
    {
     "name": "stderr",
     "output_type": "stream",
     "text": [
      "100%|██████████| 2/2 [00:22<00:00, 11.21s/it]\n"
     ]
    },
    {
     "name": "stdout",
     "output_type": "stream",
     "text": [
      "{'split': 1, 'parallel_max': 2, 'time': 22.900603532791138, 'points': 10000, 'points_per_split': 10000, 'split_per_parallel': 0.5, 'directory': '/gdata1/data/tide_models_clipped/', 'model': ['EOT20', 'GOT5.5']}\n",
      "Modelling tides using EOT20, GOT5.5 in parallel\n"
     ]
    },
    {
     "name": "stderr",
     "output_type": "stream",
     "text": [
      "100%|██████████| 4/4 [00:23<00:00,  5.94s/it]\n"
     ]
    },
    {
     "name": "stdout",
     "output_type": "stream",
     "text": [
      "{'split': 2, 'parallel_max': 2, 'time': 24.26825761795044, 'points': 10000, 'points_per_split': 5000, 'split_per_parallel': 1.0, 'directory': '/gdata1/data/tide_models_clipped/', 'model': ['EOT20', 'GOT5.5']}\n",
      "Modelling tides using EOT20, GOT5.5 in parallel\n"
     ]
    },
    {
     "name": "stderr",
     "output_type": "stream",
     "text": [
      "100%|██████████| 6/6 [00:26<00:00,  4.39s/it]\n"
     ]
    },
    {
     "name": "stdout",
     "output_type": "stream",
     "text": [
      "{'split': 3, 'parallel_max': 2, 'time': 26.869187116622925, 'points': 10000, 'points_per_split': 3333, 'split_per_parallel': 1.5, 'directory': '/gdata1/data/tide_models_clipped/', 'model': ['EOT20', 'GOT5.5']}\n",
      "Modelling tides using EOT20, GOT5.5 in parallel\n"
     ]
    },
    {
     "name": "stderr",
     "output_type": "stream",
     "text": [
      "100%|██████████| 8/8 [00:27<00:00,  3.49s/it]\n"
     ]
    },
    {
     "name": "stdout",
     "output_type": "stream",
     "text": [
      "{'split': 4, 'parallel_max': 2, 'time': 28.539355039596558, 'points': 10000, 'points_per_split': 2500, 'split_per_parallel': 2.0, 'directory': '/gdata1/data/tide_models_clipped/', 'model': ['EOT20', 'GOT5.5']}\n",
      "Modelling tides using EOT20, GOT5.5 in parallel\n"
     ]
    },
    {
     "name": "stderr",
     "output_type": "stream",
     "text": [
      "100%|██████████| 10/10 [00:30<00:00,  3.04s/it]\n"
     ]
    },
    {
     "name": "stdout",
     "output_type": "stream",
     "text": [
      "{'split': 5, 'parallel_max': 2, 'time': 30.889484643936157, 'points': 10000, 'points_per_split': 2000, 'split_per_parallel': 2.5, 'directory': '/gdata1/data/tide_models_clipped/', 'model': ['EOT20', 'GOT5.5']}\n",
      "Modelling tides using EOT20, GOT5.5 in parallel\n"
     ]
    },
    {
     "name": "stderr",
     "output_type": "stream",
     "text": [
      "100%|██████████| 12/12 [00:32<00:00,  2.72s/it]\n"
     ]
    },
    {
     "name": "stdout",
     "output_type": "stream",
     "text": [
      "{'split': 6, 'parallel_max': 2, 'time': 33.13550090789795, 'points': 10000, 'points_per_split': 1666, 'split_per_parallel': 3.0, 'directory': '/gdata1/data/tide_models_clipped/', 'model': ['EOT20', 'GOT5.5']}\n",
      "Modelling tides using EOT20, GOT5.5 in parallel\n"
     ]
    },
    {
     "name": "stderr",
     "output_type": "stream",
     "text": [
      "100%|██████████| 16/16 [00:35<00:00,  2.21s/it]\n"
     ]
    },
    {
     "name": "stdout",
     "output_type": "stream",
     "text": [
      "{'split': 8, 'parallel_max': 2, 'time': 35.95601677894592, 'points': 10000, 'points_per_split': 1250, 'split_per_parallel': 4.0, 'directory': '/gdata1/data/tide_models_clipped/', 'model': ['EOT20', 'GOT5.5']}\n",
      "Modelling tides using EOT20, GOT5.5 in parallel\n"
     ]
    },
    {
     "name": "stderr",
     "output_type": "stream",
     "text": [
      "100%|██████████| 20/20 [00:38<00:00,  1.93s/it]\n"
     ]
    },
    {
     "name": "stdout",
     "output_type": "stream",
     "text": [
      "{'split': 10, 'parallel_max': 2, 'time': 39.1878080368042, 'points': 10000, 'points_per_split': 1000, 'split_per_parallel': 5.0, 'directory': '/gdata1/data/tide_models_clipped/', 'model': ['EOT20', 'GOT5.5']}\n",
      "Modelling tides using EOT20, GOT5.5 in parallel\n"
     ]
    },
    {
     "name": "stderr",
     "output_type": "stream",
     "text": [
      "100%|██████████| 24/24 [00:42<00:00,  1.75s/it]\n"
     ]
    },
    {
     "name": "stdout",
     "output_type": "stream",
     "text": [
      "{'split': 12, 'parallel_max': 2, 'time': 42.74210977554321, 'points': 10000, 'points_per_split': 833, 'split_per_parallel': 6.0, 'directory': '/gdata1/data/tide_models_clipped/', 'model': ['EOT20', 'GOT5.5']}\n",
      "Modelling tides using EOT20, GOT5.5 in parallel\n"
     ]
    },
    {
     "name": "stderr",
     "output_type": "stream",
     "text": [
      "100%|██████████| 32/32 [00:47<00:00,  1.49s/it]\n"
     ]
    },
    {
     "name": "stdout",
     "output_type": "stream",
     "text": [
      "{'split': 16, 'parallel_max': 2, 'time': 48.30967473983765, 'points': 10000, 'points_per_split': 625, 'split_per_parallel': 8.0, 'directory': '/gdata1/data/tide_models_clipped/', 'model': ['EOT20', 'GOT5.5']}\n",
      "Modelling tides using EOT20, GOT5.5 in parallel\n"
     ]
    },
    {
     "name": "stderr",
     "output_type": "stream",
     "text": [
      "100%|██████████| 40/40 [00:55<00:00,  1.38s/it]\n"
     ]
    },
    {
     "name": "stdout",
     "output_type": "stream",
     "text": [
      "{'split': 20, 'parallel_max': 2, 'time': 55.995895862579346, 'points': 10000, 'points_per_split': 500, 'split_per_parallel': 10.0, 'directory': '/gdata1/data/tide_models_clipped/', 'model': ['EOT20', 'GOT5.5']}\n",
      "Modelling tides using EOT20, GOT5.5 in parallel\n"
     ]
    },
    {
     "name": "stderr",
     "output_type": "stream",
     "text": [
      "100%|██████████| 2/2 [00:22<00:00, 11.23s/it]\n"
     ]
    },
    {
     "name": "stdout",
     "output_type": "stream",
     "text": [
      "{'split': 1, 'parallel_max': 4, 'time': 23.05580997467041, 'points': 10000, 'points_per_split': 10000, 'split_per_parallel': 0.25, 'directory': '/gdata1/data/tide_models_clipped/', 'model': ['EOT20', 'GOT5.5']}\n",
      "Modelling tides using EOT20, GOT5.5 in parallel\n"
     ]
    },
    {
     "name": "stderr",
     "output_type": "stream",
     "text": [
      "100%|██████████| 4/4 [00:13<00:00,  3.36s/it]\n"
     ]
    },
    {
     "name": "stdout",
     "output_type": "stream",
     "text": [
      "{'split': 2, 'parallel_max': 4, 'time': 14.143684387207031, 'points': 10000, 'points_per_split': 5000, 'split_per_parallel': 0.5, 'directory': '/gdata1/data/tide_models_clipped/', 'model': ['EOT20', 'GOT5.5']}\n",
      "Modelling tides using EOT20, GOT5.5 in parallel\n"
     ]
    },
    {
     "name": "stderr",
     "output_type": "stream",
     "text": [
      "100%|██████████| 6/6 [00:17<00:00,  2.97s/it]\n"
     ]
    },
    {
     "name": "stdout",
     "output_type": "stream",
     "text": [
      "{'split': 3, 'parallel_max': 4, 'time': 18.470566987991333, 'points': 10000, 'points_per_split': 3333, 'split_per_parallel': 0.75, 'directory': '/gdata1/data/tide_models_clipped/', 'model': ['EOT20', 'GOT5.5']}\n",
      "Modelling tides using EOT20, GOT5.5 in parallel\n"
     ]
    },
    {
     "name": "stderr",
     "output_type": "stream",
     "text": [
      "100%|██████████| 8/8 [00:15<00:00,  1.93s/it]\n"
     ]
    },
    {
     "name": "stdout",
     "output_type": "stream",
     "text": [
      "{'split': 4, 'parallel_max': 4, 'time': 16.05748462677002, 'points': 10000, 'points_per_split': 2500, 'split_per_parallel': 1.0, 'directory': '/gdata1/data/tide_models_clipped/', 'model': ['EOT20', 'GOT5.5']}\n",
      "Modelling tides using EOT20, GOT5.5 in parallel\n"
     ]
    },
    {
     "name": "stderr",
     "output_type": "stream",
     "text": [
      "100%|██████████| 10/10 [00:18<00:00,  1.87s/it]\n"
     ]
    },
    {
     "name": "stdout",
     "output_type": "stream",
     "text": [
      "{'split': 5, 'parallel_max': 4, 'time': 19.352588176727295, 'points': 10000, 'points_per_split': 2000, 'split_per_parallel': 1.25, 'directory': '/gdata1/data/tide_models_clipped/', 'model': ['EOT20', 'GOT5.5']}\n",
      "Modelling tides using EOT20, GOT5.5 in parallel\n"
     ]
    },
    {
     "name": "stderr",
     "output_type": "stream",
     "text": [
      "100%|██████████| 12/12 [00:18<00:00,  1.52s/it]\n"
     ]
    },
    {
     "name": "stdout",
     "output_type": "stream",
     "text": [
      "{'split': 6, 'parallel_max': 4, 'time': 18.946587800979614, 'points': 10000, 'points_per_split': 1666, 'split_per_parallel': 1.5, 'directory': '/gdata1/data/tide_models_clipped/', 'model': ['EOT20', 'GOT5.5']}\n",
      "Modelling tides using EOT20, GOT5.5 in parallel\n"
     ]
    },
    {
     "name": "stderr",
     "output_type": "stream",
     "text": [
      "100%|██████████| 16/16 [00:19<00:00,  1.24s/it]\n"
     ]
    },
    {
     "name": "stdout",
     "output_type": "stream",
     "text": [
      "{'split': 8, 'parallel_max': 4, 'time': 20.531039714813232, 'points': 10000, 'points_per_split': 1250, 'split_per_parallel': 2.0, 'directory': '/gdata1/data/tide_models_clipped/', 'model': ['EOT20', 'GOT5.5']}\n",
      "Modelling tides using EOT20, GOT5.5 in parallel\n"
     ]
    },
    {
     "name": "stderr",
     "output_type": "stream",
     "text": [
      "100%|██████████| 20/20 [00:22<00:00,  1.11s/it]\n"
     ]
    },
    {
     "name": "stdout",
     "output_type": "stream",
     "text": [
      "{'split': 10, 'parallel_max': 4, 'time': 22.82627844810486, 'points': 10000, 'points_per_split': 1000, 'split_per_parallel': 2.5, 'directory': '/gdata1/data/tide_models_clipped/', 'model': ['EOT20', 'GOT5.5']}\n",
      "Modelling tides using EOT20, GOT5.5 in parallel\n"
     ]
    },
    {
     "name": "stderr",
     "output_type": "stream",
     "text": [
      "100%|██████████| 24/24 [00:23<00:00,  1.04it/s]\n"
     ]
    },
    {
     "name": "stdout",
     "output_type": "stream",
     "text": [
      "{'split': 12, 'parallel_max': 4, 'time': 23.852038383483887, 'points': 10000, 'points_per_split': 833, 'split_per_parallel': 3.0, 'directory': '/gdata1/data/tide_models_clipped/', 'model': ['EOT20', 'GOT5.5']}\n",
      "Modelling tides using EOT20, GOT5.5 in parallel\n"
     ]
    },
    {
     "name": "stderr",
     "output_type": "stream",
     "text": [
      "100%|██████████| 32/32 [00:26<00:00,  1.21it/s]\n"
     ]
    },
    {
     "name": "stdout",
     "output_type": "stream",
     "text": [
      "{'split': 16, 'parallel_max': 4, 'time': 27.036839962005615, 'points': 10000, 'points_per_split': 625, 'split_per_parallel': 4.0, 'directory': '/gdata1/data/tide_models_clipped/', 'model': ['EOT20', 'GOT5.5']}\n",
      "Modelling tides using EOT20, GOT5.5 in parallel\n"
     ]
    },
    {
     "name": "stderr",
     "output_type": "stream",
     "text": [
      "100%|██████████| 40/40 [00:30<00:00,  1.31it/s]\n"
     ]
    },
    {
     "name": "stdout",
     "output_type": "stream",
     "text": [
      "{'split': 20, 'parallel_max': 4, 'time': 31.188039541244507, 'points': 10000, 'points_per_split': 500, 'split_per_parallel': 5.0, 'directory': '/gdata1/data/tide_models_clipped/', 'model': ['EOT20', 'GOT5.5']}\n",
      "Modelling tides using EOT20, GOT5.5 in parallel\n"
     ]
    },
    {
     "name": "stderr",
     "output_type": "stream",
     "text": [
      "100%|██████████| 2/2 [00:21<00:00, 10.83s/it]\n"
     ]
    },
    {
     "name": "stdout",
     "output_type": "stream",
     "text": [
      "{'split': 1, 'parallel_max': 8, 'time': 22.58897566795349, 'points': 10000, 'points_per_split': 10000, 'split_per_parallel': 0.125, 'directory': '/gdata1/data/tide_models_clipped/', 'model': ['EOT20', 'GOT5.5']}\n",
      "Modelling tides using EOT20, GOT5.5 in parallel\n"
     ]
    },
    {
     "name": "stderr",
     "output_type": "stream",
     "text": [
      "100%|██████████| 4/4 [00:13<00:00,  3.26s/it]\n"
     ]
    },
    {
     "name": "stdout",
     "output_type": "stream",
     "text": [
      "{'split': 2, 'parallel_max': 8, 'time': 13.880143880844116, 'points': 10000, 'points_per_split': 5000, 'split_per_parallel': 0.25, 'directory': '/gdata1/data/tide_models_clipped/', 'model': ['EOT20', 'GOT5.5']}\n",
      "Modelling tides using EOT20, GOT5.5 in parallel\n"
     ]
    },
    {
     "name": "stderr",
     "output_type": "stream",
     "text": [
      "100%|██████████| 6/6 [00:10<00:00,  1.75s/it]\n"
     ]
    },
    {
     "name": "stdout",
     "output_type": "stream",
     "text": [
      "{'split': 3, 'parallel_max': 8, 'time': 11.362075090408325, 'points': 10000, 'points_per_split': 3333, 'split_per_parallel': 0.375, 'directory': '/gdata1/data/tide_models_clipped/', 'model': ['EOT20', 'GOT5.5']}\n",
      "Modelling tides using EOT20, GOT5.5 in parallel\n"
     ]
    },
    {
     "name": "stderr",
     "output_type": "stream",
     "text": [
      "100%|██████████| 8/8 [00:09<00:00,  1.19s/it]\n"
     ]
    },
    {
     "name": "stdout",
     "output_type": "stream",
     "text": [
      "{'split': 4, 'parallel_max': 8, 'time': 10.333516359329224, 'points': 10000, 'points_per_split': 2500, 'split_per_parallel': 0.5, 'directory': '/gdata1/data/tide_models_clipped/', 'model': ['EOT20', 'GOT5.5']}\n",
      "Modelling tides using EOT20, GOT5.5 in parallel\n"
     ]
    },
    {
     "name": "stderr",
     "output_type": "stream",
     "text": [
      "100%|██████████| 10/10 [00:12<00:00,  1.21s/it]\n"
     ]
    },
    {
     "name": "stdout",
     "output_type": "stream",
     "text": [
      "{'split': 5, 'parallel_max': 8, 'time': 12.877896070480347, 'points': 10000, 'points_per_split': 2000, 'split_per_parallel': 0.625, 'directory': '/gdata1/data/tide_models_clipped/', 'model': ['EOT20', 'GOT5.5']}\n",
      "Modelling tides using EOT20, GOT5.5 in parallel\n"
     ]
    },
    {
     "name": "stderr",
     "output_type": "stream",
     "text": [
      "100%|██████████| 12/12 [00:12<00:00,  1.07s/it]\n"
     ]
    },
    {
     "name": "stdout",
     "output_type": "stream",
     "text": [
      "{'split': 6, 'parallel_max': 8, 'time': 13.7094247341156, 'points': 10000, 'points_per_split': 1666, 'split_per_parallel': 0.75, 'directory': '/gdata1/data/tide_models_clipped/', 'model': ['EOT20', 'GOT5.5']}\n",
      "Modelling tides using EOT20, GOT5.5 in parallel\n"
     ]
    },
    {
     "name": "stderr",
     "output_type": "stream",
     "text": [
      "100%|██████████| 16/16 [00:12<00:00,  1.26it/s]\n"
     ]
    },
    {
     "name": "stdout",
     "output_type": "stream",
     "text": [
      "{'split': 8, 'parallel_max': 8, 'time': 13.51665735244751, 'points': 10000, 'points_per_split': 1250, 'split_per_parallel': 1.0, 'directory': '/gdata1/data/tide_models_clipped/', 'model': ['EOT20', 'GOT5.5']}\n",
      "Modelling tides using EOT20, GOT5.5 in parallel\n"
     ]
    },
    {
     "name": "stderr",
     "output_type": "stream",
     "text": [
      "100%|██████████| 20/20 [00:14<00:00,  1.36it/s]\n"
     ]
    },
    {
     "name": "stdout",
     "output_type": "stream",
     "text": [
      "{'split': 10, 'parallel_max': 8, 'time': 15.559411525726318, 'points': 10000, 'points_per_split': 1000, 'split_per_parallel': 1.25, 'directory': '/gdata1/data/tide_models_clipped/', 'model': ['EOT20', 'GOT5.5']}\n",
      "Modelling tides using EOT20, GOT5.5 in parallel\n"
     ]
    },
    {
     "name": "stderr",
     "output_type": "stream",
     "text": [
      "100%|██████████| 24/24 [00:14<00:00,  1.65it/s]\n"
     ]
    },
    {
     "name": "stdout",
     "output_type": "stream",
     "text": [
      "{'split': 12, 'parallel_max': 8, 'time': 15.41647720336914, 'points': 10000, 'points_per_split': 833, 'split_per_parallel': 1.5, 'directory': '/gdata1/data/tide_models_clipped/', 'model': ['EOT20', 'GOT5.5']}\n",
      "Modelling tides using EOT20, GOT5.5 in parallel\n"
     ]
    },
    {
     "name": "stderr",
     "output_type": "stream",
     "text": [
      "100%|██████████| 32/32 [00:16<00:00,  1.92it/s]\n"
     ]
    },
    {
     "name": "stdout",
     "output_type": "stream",
     "text": [
      "{'split': 16, 'parallel_max': 8, 'time': 17.506346225738525, 'points': 10000, 'points_per_split': 625, 'split_per_parallel': 2.0, 'directory': '/gdata1/data/tide_models_clipped/', 'model': ['EOT20', 'GOT5.5']}\n",
      "Modelling tides using EOT20, GOT5.5 in parallel\n"
     ]
    },
    {
     "name": "stderr",
     "output_type": "stream",
     "text": [
      "100%|██████████| 40/40 [00:18<00:00,  2.13it/s]\n"
     ]
    },
    {
     "name": "stdout",
     "output_type": "stream",
     "text": [
      "{'split': 20, 'parallel_max': 8, 'time': 19.70543336868286, 'points': 10000, 'points_per_split': 500, 'split_per_parallel': 2.5, 'directory': '/gdata1/data/tide_models_clipped/', 'model': ['EOT20', 'GOT5.5']}\n",
      "Modelling tides using EOT20, GOT5.5 in parallel\n"
     ]
    },
    {
     "name": "stderr",
     "output_type": "stream",
     "text": [
      "100%|██████████| 2/2 [00:21<00:00, 11.00s/it]\n"
     ]
    },
    {
     "name": "stdout",
     "output_type": "stream",
     "text": [
      "{'split': 1, 'parallel_max': 16, 'time': 23.020490169525146, 'points': 10000, 'points_per_split': 10000, 'split_per_parallel': 0.0625, 'directory': '/gdata1/data/tide_models_clipped/', 'model': ['EOT20', 'GOT5.5']}\n",
      "Modelling tides using EOT20, GOT5.5 in parallel\n"
     ]
    },
    {
     "name": "stderr",
     "output_type": "stream",
     "text": [
      "100%|██████████| 4/4 [00:13<00:00,  3.29s/it]\n"
     ]
    },
    {
     "name": "stdout",
     "output_type": "stream",
     "text": [
      "{'split': 2, 'parallel_max': 16, 'time': 14.192427158355713, 'points': 10000, 'points_per_split': 5000, 'split_per_parallel': 0.125, 'directory': '/gdata1/data/tide_models_clipped/', 'model': ['EOT20', 'GOT5.5']}\n",
      "Modelling tides using EOT20, GOT5.5 in parallel\n"
     ]
    },
    {
     "name": "stderr",
     "output_type": "stream",
     "text": [
      "100%|██████████| 6/6 [00:10<00:00,  1.79s/it]\n"
     ]
    },
    {
     "name": "stdout",
     "output_type": "stream",
     "text": [
      "{'split': 3, 'parallel_max': 16, 'time': 11.834304571151733, 'points': 10000, 'points_per_split': 3333, 'split_per_parallel': 0.1875, 'directory': '/gdata1/data/tide_models_clipped/', 'model': ['EOT20', 'GOT5.5']}\n",
      "Modelling tides using EOT20, GOT5.5 in parallel\n"
     ]
    },
    {
     "name": "stderr",
     "output_type": "stream",
     "text": [
      "100%|██████████| 8/8 [00:09<00:00,  1.17s/it]\n"
     ]
    },
    {
     "name": "stdout",
     "output_type": "stream",
     "text": [
      "{'split': 4, 'parallel_max': 16, 'time': 10.566474199295044, 'points': 10000, 'points_per_split': 2500, 'split_per_parallel': 0.25, 'directory': '/gdata1/data/tide_models_clipped/', 'model': ['EOT20', 'GOT5.5']}\n",
      "Modelling tides using EOT20, GOT5.5 in parallel\n"
     ]
    },
    {
     "name": "stderr",
     "output_type": "stream",
     "text": [
      "100%|██████████| 10/10 [00:09<00:00,  1.06it/s]\n"
     ]
    },
    {
     "name": "stdout",
     "output_type": "stream",
     "text": [
      "{'split': 5, 'parallel_max': 16, 'time': 10.519251823425293, 'points': 10000, 'points_per_split': 2000, 'split_per_parallel': 0.3125, 'directory': '/gdata1/data/tide_models_clipped/', 'model': ['EOT20', 'GOT5.5']}\n",
      "Modelling tides using EOT20, GOT5.5 in parallel\n"
     ]
    },
    {
     "name": "stderr",
     "output_type": "stream",
     "text": [
      "100%|██████████| 12/12 [00:09<00:00,  1.30it/s]\n"
     ]
    },
    {
     "name": "stdout",
     "output_type": "stream",
     "text": [
      "{'split': 6, 'parallel_max': 16, 'time': 10.311842203140259, 'points': 10000, 'points_per_split': 1666, 'split_per_parallel': 0.375, 'directory': '/gdata1/data/tide_models_clipped/', 'model': ['EOT20', 'GOT5.5']}\n",
      "Modelling tides using EOT20, GOT5.5 in parallel\n"
     ]
    },
    {
     "name": "stderr",
     "output_type": "stream",
     "text": [
      "100%|██████████| 16/16 [00:09<00:00,  1.76it/s]\n"
     ]
    },
    {
     "name": "stdout",
     "output_type": "stream",
     "text": [
      "{'split': 8, 'parallel_max': 16, 'time': 10.208220481872559, 'points': 10000, 'points_per_split': 1250, 'split_per_parallel': 0.5, 'directory': '/gdata1/data/tide_models_clipped/', 'model': ['EOT20', 'GOT5.5']}\n",
      "Modelling tides using EOT20, GOT5.5 in parallel\n"
     ]
    },
    {
     "name": "stderr",
     "output_type": "stream",
     "text": [
      "100%|██████████| 20/20 [00:10<00:00,  1.98it/s]\n"
     ]
    },
    {
     "name": "stdout",
     "output_type": "stream",
     "text": [
      "{'split': 10, 'parallel_max': 16, 'time': 11.23732042312622, 'points': 10000, 'points_per_split': 1000, 'split_per_parallel': 0.625, 'directory': '/gdata1/data/tide_models_clipped/', 'model': ['EOT20', 'GOT5.5']}\n",
      "Modelling tides using EOT20, GOT5.5 in parallel\n"
     ]
    },
    {
     "name": "stderr",
     "output_type": "stream",
     "text": [
      "100%|██████████| 24/24 [00:11<00:00,  2.10it/s]\n"
     ]
    },
    {
     "name": "stdout",
     "output_type": "stream",
     "text": [
      "{'split': 12, 'parallel_max': 16, 'time': 12.573827266693115, 'points': 10000, 'points_per_split': 833, 'split_per_parallel': 0.75, 'directory': '/gdata1/data/tide_models_clipped/', 'model': ['EOT20', 'GOT5.5']}\n",
      "Modelling tides using EOT20, GOT5.5 in parallel\n"
     ]
    },
    {
     "name": "stderr",
     "output_type": "stream",
     "text": [
      "100%|██████████| 32/32 [00:12<00:00,  2.55it/s]\n"
     ]
    },
    {
     "name": "stdout",
     "output_type": "stream",
     "text": [
      "{'split': 16, 'parallel_max': 16, 'time': 13.904297828674316, 'points': 10000, 'points_per_split': 625, 'split_per_parallel': 1.0, 'directory': '/gdata1/data/tide_models_clipped/', 'model': ['EOT20', 'GOT5.5']}\n",
      "Modelling tides using EOT20, GOT5.5 in parallel\n"
     ]
    },
    {
     "name": "stderr",
     "output_type": "stream",
     "text": [
      "100%|██████████| 40/40 [00:14<00:00,  2.85it/s]\n"
     ]
    },
    {
     "name": "stdout",
     "output_type": "stream",
     "text": [
      "{'split': 20, 'parallel_max': 16, 'time': 15.160867929458618, 'points': 10000, 'points_per_split': 500, 'split_per_parallel': 1.25, 'directory': '/gdata1/data/tide_models_clipped/', 'model': ['EOT20', 'GOT5.5']}\n",
      "Modelling tides using EOT20, GOT5.5 in parallel\n"
     ]
    },
    {
     "name": "stderr",
     "output_type": "stream",
     "text": [
      "100%|██████████| 2/2 [03:35<00:00, 107.61s/it]\n"
     ]
    },
    {
     "name": "stdout",
     "output_type": "stream",
     "text": [
      "{'split': 1, 'parallel_max': 2, 'time': 216.1456756591797, 'points': 100000, 'points_per_split': 100000, 'split_per_parallel': 0.5, 'directory': '/gdata1/data/tide_models_clipped/', 'model': ['EOT20', 'GOT5.5']}\n",
      "Modelling tides using EOT20, GOT5.5 in parallel\n"
     ]
    },
    {
     "name": "stderr",
     "output_type": "stream",
     "text": [
      "100%|██████████| 4/4 [03:36<00:00, 54.11s/it] \n"
     ]
    },
    {
     "name": "stdout",
     "output_type": "stream",
     "text": [
      "{'split': 2, 'parallel_max': 2, 'time': 217.80726861953735, 'points': 100000, 'points_per_split': 50000, 'split_per_parallel': 1.0, 'directory': '/gdata1/data/tide_models_clipped/', 'model': ['EOT20', 'GOT5.5']}\n",
      "Modelling tides using EOT20, GOT5.5 in parallel\n"
     ]
    },
    {
     "name": "stderr",
     "output_type": "stream",
     "text": [
      "100%|██████████| 6/6 [03:28<00:00, 34.70s/it]\n"
     ]
    },
    {
     "name": "stdout",
     "output_type": "stream",
     "text": [
      "{'split': 3, 'parallel_max': 2, 'time': 209.56946969032288, 'points': 100000, 'points_per_split': 33333, 'split_per_parallel': 1.5, 'directory': '/gdata1/data/tide_models_clipped/', 'model': ['EOT20', 'GOT5.5']}\n",
      "Modelling tides using EOT20, GOT5.5 in parallel\n"
     ]
    },
    {
     "name": "stderr",
     "output_type": "stream",
     "text": [
      "100%|██████████| 8/8 [03:27<00:00, 25.97s/it]\n"
     ]
    },
    {
     "name": "stdout",
     "output_type": "stream",
     "text": [
      "{'split': 4, 'parallel_max': 2, 'time': 209.03941464424133, 'points': 100000, 'points_per_split': 25000, 'split_per_parallel': 2.0, 'directory': '/gdata1/data/tide_models_clipped/', 'model': ['EOT20', 'GOT5.5']}\n",
      "Modelling tides using EOT20, GOT5.5 in parallel\n"
     ]
    },
    {
     "name": "stderr",
     "output_type": "stream",
     "text": [
      "100%|██████████| 10/10 [03:27<00:00, 20.76s/it]\n"
     ]
    },
    {
     "name": "stdout",
     "output_type": "stream",
     "text": [
      "{'split': 5, 'parallel_max': 2, 'time': 208.94756078720093, 'points': 100000, 'points_per_split': 20000, 'split_per_parallel': 2.5, 'directory': '/gdata1/data/tide_models_clipped/', 'model': ['EOT20', 'GOT5.5']}\n",
      "Modelling tides using EOT20, GOT5.5 in parallel\n"
     ]
    },
    {
     "name": "stderr",
     "output_type": "stream",
     "text": [
      "100%|██████████| 12/12 [03:26<00:00, 17.21s/it]\n"
     ]
    },
    {
     "name": "stdout",
     "output_type": "stream",
     "text": [
      "{'split': 6, 'parallel_max': 2, 'time': 207.80913043022156, 'points': 100000, 'points_per_split': 16666, 'split_per_parallel': 3.0, 'directory': '/gdata1/data/tide_models_clipped/', 'model': ['EOT20', 'GOT5.5']}\n",
      "Modelling tides using EOT20, GOT5.5 in parallel\n"
     ]
    },
    {
     "name": "stderr",
     "output_type": "stream",
     "text": [
      "100%|██████████| 16/16 [03:28<00:00, 13.03s/it]\n"
     ]
    },
    {
     "name": "stdout",
     "output_type": "stream",
     "text": [
      "{'split': 8, 'parallel_max': 2, 'time': 209.8010458946228, 'points': 100000, 'points_per_split': 12500, 'split_per_parallel': 4.0, 'directory': '/gdata1/data/tide_models_clipped/', 'model': ['EOT20', 'GOT5.5']}\n",
      "Modelling tides using EOT20, GOT5.5 in parallel\n"
     ]
    },
    {
     "name": "stderr",
     "output_type": "stream",
     "text": [
      "100%|██████████| 20/20 [03:32<00:00, 10.63s/it]\n"
     ]
    },
    {
     "name": "stdout",
     "output_type": "stream",
     "text": [
      "{'split': 10, 'parallel_max': 2, 'time': 214.03874039649963, 'points': 100000, 'points_per_split': 10000, 'split_per_parallel': 5.0, 'directory': '/gdata1/data/tide_models_clipped/', 'model': ['EOT20', 'GOT5.5']}\n",
      "Modelling tides using EOT20, GOT5.5 in parallel\n"
     ]
    },
    {
     "name": "stderr",
     "output_type": "stream",
     "text": [
      "100%|██████████| 24/24 [03:36<00:00,  9.03s/it]\n"
     ]
    },
    {
     "name": "stdout",
     "output_type": "stream",
     "text": [
      "{'split': 12, 'parallel_max': 2, 'time': 218.1385862827301, 'points': 100000, 'points_per_split': 8333, 'split_per_parallel': 6.0, 'directory': '/gdata1/data/tide_models_clipped/', 'model': ['EOT20', 'GOT5.5']}\n",
      "Modelling tides using EOT20, GOT5.5 in parallel\n"
     ]
    },
    {
     "name": "stderr",
     "output_type": "stream",
     "text": [
      "100%|██████████| 32/32 [03:43<00:00,  6.99s/it]\n"
     ]
    },
    {
     "name": "stdout",
     "output_type": "stream",
     "text": [
      "{'split': 16, 'parallel_max': 2, 'time': 225.20102787017822, 'points': 100000, 'points_per_split': 6250, 'split_per_parallel': 8.0, 'directory': '/gdata1/data/tide_models_clipped/', 'model': ['EOT20', 'GOT5.5']}\n",
      "Modelling tides using EOT20, GOT5.5 in parallel\n"
     ]
    },
    {
     "name": "stderr",
     "output_type": "stream",
     "text": [
      "100%|██████████| 40/40 [03:55<00:00,  5.88s/it]\n"
     ]
    },
    {
     "name": "stdout",
     "output_type": "stream",
     "text": [
      "{'split': 20, 'parallel_max': 2, 'time': 236.50390100479126, 'points': 100000, 'points_per_split': 5000, 'split_per_parallel': 10.0, 'directory': '/gdata1/data/tide_models_clipped/', 'model': ['EOT20', 'GOT5.5']}\n",
      "Modelling tides using EOT20, GOT5.5 in parallel\n"
     ]
    },
    {
     "name": "stderr",
     "output_type": "stream",
     "text": [
      "100%|██████████| 2/2 [03:37<00:00, 108.73s/it]\n"
     ]
    },
    {
     "name": "stdout",
     "output_type": "stream",
     "text": [
      "{'split': 1, 'parallel_max': 4, 'time': 218.76454377174377, 'points': 100000, 'points_per_split': 100000, 'split_per_parallel': 0.25, 'directory': '/gdata1/data/tide_models_clipped/', 'model': ['EOT20', 'GOT5.5']}\n",
      "Modelling tides using EOT20, GOT5.5 in parallel\n"
     ]
    },
    {
     "name": "stderr",
     "output_type": "stream",
     "text": [
      "100%|██████████| 4/4 [01:51<00:00, 27.82s/it] \n"
     ]
    },
    {
     "name": "stdout",
     "output_type": "stream",
     "text": [
      "{'split': 2, 'parallel_max': 4, 'time': 112.75051069259644, 'points': 100000, 'points_per_split': 50000, 'split_per_parallel': 0.5, 'directory': '/gdata1/data/tide_models_clipped/', 'model': ['EOT20', 'GOT5.5']}\n",
      "Modelling tides using EOT20, GOT5.5 in parallel\n"
     ]
    },
    {
     "name": "stderr",
     "output_type": "stream",
     "text": [
      "100%|██████████| 6/6 [02:19<00:00, 23.33s/it]\n"
     ]
    },
    {
     "name": "stdout",
     "output_type": "stream",
     "text": [
      "{'split': 3, 'parallel_max': 4, 'time': 141.4061987400055, 'points': 100000, 'points_per_split': 33333, 'split_per_parallel': 0.75, 'directory': '/gdata1/data/tide_models_clipped/', 'model': ['EOT20', 'GOT5.5']}\n",
      "Modelling tides using EOT20, GOT5.5 in parallel\n"
     ]
    },
    {
     "name": "stderr",
     "output_type": "stream",
     "text": [
      "100%|██████████| 8/8 [01:47<00:00, 13.39s/it]\n"
     ]
    },
    {
     "name": "stdout",
     "output_type": "stream",
     "text": [
      "{'split': 4, 'parallel_max': 4, 'time': 108.53772020339966, 'points': 100000, 'points_per_split': 25000, 'split_per_parallel': 1.0, 'directory': '/gdata1/data/tide_models_clipped/', 'model': ['EOT20', 'GOT5.5']}\n",
      "Modelling tides using EOT20, GOT5.5 in parallel\n"
     ]
    },
    {
     "name": "stderr",
     "output_type": "stream",
     "text": [
      "100%|██████████| 10/10 [02:05<00:00, 12.53s/it]\n"
     ]
    },
    {
     "name": "stdout",
     "output_type": "stream",
     "text": [
      "{'split': 5, 'parallel_max': 4, 'time': 126.68567848205566, 'points': 100000, 'points_per_split': 20000, 'split_per_parallel': 1.25, 'directory': '/gdata1/data/tide_models_clipped/', 'model': ['EOT20', 'GOT5.5']}\n",
      "Modelling tides using EOT20, GOT5.5 in parallel\n"
     ]
    },
    {
     "name": "stderr",
     "output_type": "stream",
     "text": [
      "100%|██████████| 12/12 [01:46<00:00,  8.87s/it]\n"
     ]
    },
    {
     "name": "stdout",
     "output_type": "stream",
     "text": [
      "{'split': 6, 'parallel_max': 4, 'time': 107.88863778114319, 'points': 100000, 'points_per_split': 16666, 'split_per_parallel': 1.5, 'directory': '/gdata1/data/tide_models_clipped/', 'model': ['EOT20', 'GOT5.5']}\n",
      "Modelling tides using EOT20, GOT5.5 in parallel\n"
     ]
    },
    {
     "name": "stderr",
     "output_type": "stream",
     "text": [
      "100%|██████████| 16/16 [01:47<00:00,  6.74s/it]\n"
     ]
    },
    {
     "name": "stdout",
     "output_type": "stream",
     "text": [
      "{'split': 8, 'parallel_max': 4, 'time': 109.28071689605713, 'points': 100000, 'points_per_split': 12500, 'split_per_parallel': 2.0, 'directory': '/gdata1/data/tide_models_clipped/', 'model': ['EOT20', 'GOT5.5']}\n",
      "Modelling tides using EOT20, GOT5.5 in parallel\n"
     ]
    },
    {
     "name": "stderr",
     "output_type": "stream",
     "text": [
      "100%|██████████| 20/20 [01:50<00:00,  5.51s/it]\n"
     ]
    },
    {
     "name": "stdout",
     "output_type": "stream",
     "text": [
      "{'split': 10, 'parallel_max': 4, 'time': 111.61476230621338, 'points': 100000, 'points_per_split': 10000, 'split_per_parallel': 2.5, 'directory': '/gdata1/data/tide_models_clipped/', 'model': ['EOT20', 'GOT5.5']}\n",
      "Modelling tides using EOT20, GOT5.5 in parallel\n"
     ]
    },
    {
     "name": "stderr",
     "output_type": "stream",
     "text": [
      "100%|██████████| 24/24 [01:52<00:00,  4.69s/it]\n"
     ]
    },
    {
     "name": "stdout",
     "output_type": "stream",
     "text": [
      "{'split': 12, 'parallel_max': 4, 'time': 114.15351700782776, 'points': 100000, 'points_per_split': 8333, 'split_per_parallel': 3.0, 'directory': '/gdata1/data/tide_models_clipped/', 'model': ['EOT20', 'GOT5.5']}\n",
      "Modelling tides using EOT20, GOT5.5 in parallel\n"
     ]
    },
    {
     "name": "stderr",
     "output_type": "stream",
     "text": [
      "100%|██████████| 32/32 [01:56<00:00,  3.65s/it]\n"
     ]
    },
    {
     "name": "stdout",
     "output_type": "stream",
     "text": [
      "{'split': 16, 'parallel_max': 4, 'time': 118.3428122997284, 'points': 100000, 'points_per_split': 6250, 'split_per_parallel': 4.0, 'directory': '/gdata1/data/tide_models_clipped/', 'model': ['EOT20', 'GOT5.5']}\n",
      "Modelling tides using EOT20, GOT5.5 in parallel\n"
     ]
    },
    {
     "name": "stderr",
     "output_type": "stream",
     "text": [
      "100%|██████████| 40/40 [02:03<00:00,  3.08s/it]\n"
     ]
    },
    {
     "name": "stdout",
     "output_type": "stream",
     "text": [
      "{'split': 20, 'parallel_max': 4, 'time': 124.77188372612, 'points': 100000, 'points_per_split': 5000, 'split_per_parallel': 5.0, 'directory': '/gdata1/data/tide_models_clipped/', 'model': ['EOT20', 'GOT5.5']}\n",
      "Modelling tides using EOT20, GOT5.5 in parallel\n"
     ]
    },
    {
     "name": "stderr",
     "output_type": "stream",
     "text": [
      "100%|██████████| 2/2 [03:41<00:00, 110.94s/it]\n"
     ]
    },
    {
     "name": "stdout",
     "output_type": "stream",
     "text": [
      "{'split': 1, 'parallel_max': 8, 'time': 223.4452419281006, 'points': 100000, 'points_per_split': 100000, 'split_per_parallel': 0.125, 'directory': '/gdata1/data/tide_models_clipped/', 'model': ['EOT20', 'GOT5.5']}\n",
      "Modelling tides using EOT20, GOT5.5 in parallel\n"
     ]
    },
    {
     "name": "stderr",
     "output_type": "stream",
     "text": [
      "100%|██████████| 4/4 [01:52<00:00, 28.06s/it] \n"
     ]
    },
    {
     "name": "stdout",
     "output_type": "stream",
     "text": [
      "{'split': 2, 'parallel_max': 8, 'time': 113.88393425941467, 'points': 100000, 'points_per_split': 50000, 'split_per_parallel': 0.25, 'directory': '/gdata1/data/tide_models_clipped/', 'model': ['EOT20', 'GOT5.5']}\n",
      "Modelling tides using EOT20, GOT5.5 in parallel\n"
     ]
    },
    {
     "name": "stderr",
     "output_type": "stream",
     "text": [
      "100%|██████████| 6/6 [01:14<00:00, 12.35s/it]\n"
     ]
    },
    {
     "name": "stdout",
     "output_type": "stream",
     "text": [
      "{'split': 3, 'parallel_max': 8, 'time': 75.75654006004333, 'points': 100000, 'points_per_split': 33333, 'split_per_parallel': 0.375, 'directory': '/gdata1/data/tide_models_clipped/', 'model': ['EOT20', 'GOT5.5']}\n",
      "Modelling tides using EOT20, GOT5.5 in parallel\n"
     ]
    },
    {
     "name": "stderr",
     "output_type": "stream",
     "text": [
      "100%|██████████| 8/8 [00:55<00:00,  6.94s/it]\n"
     ]
    },
    {
     "name": "stdout",
     "output_type": "stream",
     "text": [
      "{'split': 4, 'parallel_max': 8, 'time': 57.20682334899902, 'points': 100000, 'points_per_split': 25000, 'split_per_parallel': 0.5, 'directory': '/gdata1/data/tide_models_clipped/', 'model': ['EOT20', 'GOT5.5']}\n",
      "Modelling tides using EOT20, GOT5.5 in parallel\n"
     ]
    },
    {
     "name": "stderr",
     "output_type": "stream",
     "text": [
      "100%|██████████| 10/10 [01:23<00:00,  8.32s/it]\n"
     ]
    },
    {
     "name": "stdout",
     "output_type": "stream",
     "text": [
      "{'split': 5, 'parallel_max': 8, 'time': 84.68120646476746, 'points': 100000, 'points_per_split': 20000, 'split_per_parallel': 0.625, 'directory': '/gdata1/data/tide_models_clipped/', 'model': ['EOT20', 'GOT5.5']}\n",
      "Modelling tides using EOT20, GOT5.5 in parallel\n"
     ]
    },
    {
     "name": "stderr",
     "output_type": "stream",
     "text": [
      "100%|██████████| 12/12 [01:11<00:00,  5.96s/it]\n"
     ]
    },
    {
     "name": "stdout",
     "output_type": "stream",
     "text": [
      "{'split': 6, 'parallel_max': 8, 'time': 73.19063377380371, 'points': 100000, 'points_per_split': 16666, 'split_per_parallel': 0.75, 'directory': '/gdata1/data/tide_models_clipped/', 'model': ['EOT20', 'GOT5.5']}\n",
      "Modelling tides using EOT20, GOT5.5 in parallel\n"
     ]
    },
    {
     "name": "stderr",
     "output_type": "stream",
     "text": [
      "100%|██████████| 16/16 [00:58<00:00,  3.63s/it]\n"
     ]
    },
    {
     "name": "stdout",
     "output_type": "stream",
     "text": [
      "{'split': 8, 'parallel_max': 8, 'time': 59.815208196640015, 'points': 100000, 'points_per_split': 12500, 'split_per_parallel': 1.0, 'directory': '/gdata1/data/tide_models_clipped/', 'model': ['EOT20', 'GOT5.5']}\n",
      "Modelling tides using EOT20, GOT5.5 in parallel\n"
     ]
    },
    {
     "name": "stderr",
     "output_type": "stream",
     "text": [
      "100%|██████████| 20/20 [01:08<00:00,  3.42s/it]\n"
     ]
    },
    {
     "name": "stdout",
     "output_type": "stream",
     "text": [
      "{'split': 10, 'parallel_max': 8, 'time': 69.98841643333435, 'points': 100000, 'points_per_split': 10000, 'split_per_parallel': 1.25, 'directory': '/gdata1/data/tide_models_clipped/', 'model': ['EOT20', 'GOT5.5']}\n",
      "Modelling tides using EOT20, GOT5.5 in parallel\n"
     ]
    },
    {
     "name": "stderr",
     "output_type": "stream",
     "text": [
      "100%|██████████| 24/24 [01:01<00:00,  2.54s/it]\n"
     ]
    },
    {
     "name": "stdout",
     "output_type": "stream",
     "text": [
      "{'split': 12, 'parallel_max': 8, 'time': 62.834444761276245, 'points': 100000, 'points_per_split': 8333, 'split_per_parallel': 1.5, 'directory': '/gdata1/data/tide_models_clipped/', 'model': ['EOT20', 'GOT5.5']}\n",
      "Modelling tides using EOT20, GOT5.5 in parallel\n"
     ]
    },
    {
     "name": "stderr",
     "output_type": "stream",
     "text": [
      "100%|██████████| 32/32 [01:04<00:00,  2.02s/it]\n"
     ]
    },
    {
     "name": "stdout",
     "output_type": "stream",
     "text": [
      "{'split': 16, 'parallel_max': 8, 'time': 66.36685395240784, 'points': 100000, 'points_per_split': 6250, 'split_per_parallel': 2.0, 'directory': '/gdata1/data/tide_models_clipped/', 'model': ['EOT20', 'GOT5.5']}\n",
      "Modelling tides using EOT20, GOT5.5 in parallel\n"
     ]
    },
    {
     "name": "stderr",
     "output_type": "stream",
     "text": [
      "100%|██████████| 40/40 [01:07<00:00,  1.69s/it]\n"
     ]
    },
    {
     "name": "stdout",
     "output_type": "stream",
     "text": [
      "{'split': 20, 'parallel_max': 8, 'time': 69.40264368057251, 'points': 100000, 'points_per_split': 5000, 'split_per_parallel': 2.5, 'directory': '/gdata1/data/tide_models_clipped/', 'model': ['EOT20', 'GOT5.5']}\n",
      "Modelling tides using EOT20, GOT5.5 in parallel\n"
     ]
    },
    {
     "name": "stderr",
     "output_type": "stream",
     "text": [
      "100%|██████████| 2/2 [03:37<00:00, 108.61s/it]\n"
     ]
    },
    {
     "name": "stdout",
     "output_type": "stream",
     "text": [
      "{'split': 1, 'parallel_max': 16, 'time': 219.03950691223145, 'points': 100000, 'points_per_split': 100000, 'split_per_parallel': 0.0625, 'directory': '/gdata1/data/tide_models_clipped/', 'model': ['EOT20', 'GOT5.5']}\n",
      "Modelling tides using EOT20, GOT5.5 in parallel\n"
     ]
    },
    {
     "name": "stderr",
     "output_type": "stream",
     "text": [
      "100%|██████████| 4/4 [01:50<00:00, 27.67s/it] \n"
     ]
    },
    {
     "name": "stdout",
     "output_type": "stream",
     "text": [
      "{'split': 2, 'parallel_max': 16, 'time': 112.62936043739319, 'points': 100000, 'points_per_split': 50000, 'split_per_parallel': 0.125, 'directory': '/gdata1/data/tide_models_clipped/', 'model': ['EOT20', 'GOT5.5']}\n",
      "Modelling tides using EOT20, GOT5.5 in parallel\n"
     ]
    },
    {
     "name": "stderr",
     "output_type": "stream",
     "text": [
      "100%|██████████| 6/6 [01:14<00:00, 12.44s/it]\n"
     ]
    },
    {
     "name": "stdout",
     "output_type": "stream",
     "text": [
      "{'split': 3, 'parallel_max': 16, 'time': 76.6215124130249, 'points': 100000, 'points_per_split': 33333, 'split_per_parallel': 0.1875, 'directory': '/gdata1/data/tide_models_clipped/', 'model': ['EOT20', 'GOT5.5']}\n",
      "Modelling tides using EOT20, GOT5.5 in parallel\n"
     ]
    },
    {
     "name": "stderr",
     "output_type": "stream",
     "text": [
      "100%|██████████| 8/8 [00:55<00:00,  6.88s/it]\n"
     ]
    },
    {
     "name": "stdout",
     "output_type": "stream",
     "text": [
      "{'split': 4, 'parallel_max': 16, 'time': 57.048078536987305, 'points': 100000, 'points_per_split': 25000, 'split_per_parallel': 0.25, 'directory': '/gdata1/data/tide_models_clipped/', 'model': ['EOT20', 'GOT5.5']}\n",
      "Modelling tides using EOT20, GOT5.5 in parallel\n"
     ]
    },
    {
     "name": "stderr",
     "output_type": "stream",
     "text": [
      "100%|██████████| 10/10 [00:45<00:00,  4.56s/it]\n"
     ]
    },
    {
     "name": "stdout",
     "output_type": "stream",
     "text": [
      "{'split': 5, 'parallel_max': 16, 'time': 47.484530210494995, 'points': 100000, 'points_per_split': 20000, 'split_per_parallel': 0.3125, 'directory': '/gdata1/data/tide_models_clipped/', 'model': ['EOT20', 'GOT5.5']}\n",
      "Modelling tides using EOT20, GOT5.5 in parallel\n"
     ]
    },
    {
     "name": "stderr",
     "output_type": "stream",
     "text": [
      "100%|██████████| 12/12 [00:40<00:00,  3.35s/it]\n"
     ]
    },
    {
     "name": "stdout",
     "output_type": "stream",
     "text": [
      "{'split': 6, 'parallel_max': 16, 'time': 42.28424668312073, 'points': 100000, 'points_per_split': 16666, 'split_per_parallel': 0.375, 'directory': '/gdata1/data/tide_models_clipped/', 'model': ['EOT20', 'GOT5.5']}\n",
      "Modelling tides using EOT20, GOT5.5 in parallel\n"
     ]
    },
    {
     "name": "stderr",
     "output_type": "stream",
     "text": [
      "100%|██████████| 16/16 [00:32<00:00,  2.06s/it]\n"
     ]
    },
    {
     "name": "stdout",
     "output_type": "stream",
     "text": [
      "{'split': 8, 'parallel_max': 16, 'time': 34.97290015220642, 'points': 100000, 'points_per_split': 12500, 'split_per_parallel': 0.5, 'directory': '/gdata1/data/tide_models_clipped/', 'model': ['EOT20', 'GOT5.5']}\n",
      "Modelling tides using EOT20, GOT5.5 in parallel\n"
     ]
    },
    {
     "name": "stderr",
     "output_type": "stream",
     "text": [
      "100%|██████████| 20/20 [00:47<00:00,  2.36s/it]\n"
     ]
    },
    {
     "name": "stdout",
     "output_type": "stream",
     "text": [
      "{'split': 10, 'parallel_max': 16, 'time': 49.525190353393555, 'points': 100000, 'points_per_split': 10000, 'split_per_parallel': 0.625, 'directory': '/gdata1/data/tide_models_clipped/', 'model': ['EOT20', 'GOT5.5']}\n",
      "Modelling tides using EOT20, GOT5.5 in parallel\n"
     ]
    },
    {
     "name": "stderr",
     "output_type": "stream",
     "text": [
      "100%|██████████| 24/24 [00:43<00:00,  1.81s/it]\n"
     ]
    },
    {
     "name": "stdout",
     "output_type": "stream",
     "text": [
      "{'split': 12, 'parallel_max': 16, 'time': 45.5628559589386, 'points': 100000, 'points_per_split': 8333, 'split_per_parallel': 0.75, 'directory': '/gdata1/data/tide_models_clipped/', 'model': ['EOT20', 'GOT5.5']}\n",
      "Modelling tides using EOT20, GOT5.5 in parallel\n"
     ]
    },
    {
     "name": "stderr",
     "output_type": "stream",
     "text": [
      "100%|██████████| 32/32 [00:38<00:00,  1.20s/it]\n"
     ]
    },
    {
     "name": "stdout",
     "output_type": "stream",
     "text": [
      "{'split': 16, 'parallel_max': 16, 'time': 40.69628596305847, 'points': 100000, 'points_per_split': 6250, 'split_per_parallel': 1.0, 'directory': '/gdata1/data/tide_models_clipped/', 'model': ['EOT20', 'GOT5.5']}\n",
      "Modelling tides using EOT20, GOT5.5 in parallel\n"
     ]
    },
    {
     "name": "stderr",
     "output_type": "stream",
     "text": [
      "100%|██████████| 40/40 [00:44<00:00,  1.12s/it]\n"
     ]
    },
    {
     "name": "stdout",
     "output_type": "stream",
     "text": [
      "{'split': 20, 'parallel_max': 16, 'time': 46.97895050048828, 'points': 100000, 'points_per_split': 5000, 'split_per_parallel': 1.25, 'directory': '/gdata1/data/tide_models_clipped/', 'model': ['EOT20', 'GOT5.5']}\n",
      "Modelling tides using EOT20\n",
      "{'split': 1, 'parallel_max': 2, 'time': 3.334383487701416, 'points': 100, 'points_per_split': 100, 'split_per_parallel': 0.5, 'directory': '/gdata1/data/tide_models_clipped/', 'model': 'EOT20'}\n",
      "Modelling tides using EOT20 in parallel\n"
     ]
    },
    {
     "name": "stderr",
     "output_type": "stream",
     "text": [
      "100%|██████████| 2/2 [00:02<00:00,  1.43s/it]\n"
     ]
    },
    {
     "name": "stdout",
     "output_type": "stream",
     "text": [
      "{'split': 2, 'parallel_max': 2, 'time': 3.4773685932159424, 'points': 100, 'points_per_split': 50, 'split_per_parallel': 1.0, 'directory': '/gdata1/data/tide_models_clipped/', 'model': 'EOT20'}\n",
      "Modelling tides using EOT20 in parallel\n"
     ]
    },
    {
     "name": "stderr",
     "output_type": "stream",
     "text": [
      "100%|██████████| 3/3 [00:05<00:00,  1.73s/it]\n"
     ]
    },
    {
     "name": "stdout",
     "output_type": "stream",
     "text": [
      "{'split': 3, 'parallel_max': 2, 'time': 5.8094482421875, 'points': 100, 'points_per_split': 33, 'split_per_parallel': 1.5, 'directory': '/gdata1/data/tide_models_clipped/', 'model': 'EOT20'}\n",
      "Modelling tides using EOT20 in parallel\n"
     ]
    },
    {
     "name": "stderr",
     "output_type": "stream",
     "text": [
      "100%|██████████| 4/4 [00:05<00:00,  1.38s/it]\n"
     ]
    },
    {
     "name": "stdout",
     "output_type": "stream",
     "text": [
      "{'split': 4, 'parallel_max': 2, 'time': 6.097298860549927, 'points': 100, 'points_per_split': 25, 'split_per_parallel': 2.0, 'directory': '/gdata1/data/tide_models_clipped/', 'model': 'EOT20'}\n",
      "Modelling tides using EOT20 in parallel\n"
     ]
    },
    {
     "name": "stderr",
     "output_type": "stream",
     "text": [
      "100%|██████████| 5/5 [00:07<00:00,  1.58s/it]\n"
     ]
    },
    {
     "name": "stdout",
     "output_type": "stream",
     "text": [
      "{'split': 5, 'parallel_max': 2, 'time': 8.52026891708374, 'points': 100, 'points_per_split': 20, 'split_per_parallel': 2.5, 'directory': '/gdata1/data/tide_models_clipped/', 'model': 'EOT20'}\n",
      "Modelling tides using EOT20 in parallel\n"
     ]
    },
    {
     "name": "stderr",
     "output_type": "stream",
     "text": [
      "100%|██████████| 6/6 [00:08<00:00,  1.35s/it]\n"
     ]
    },
    {
     "name": "stdout",
     "output_type": "stream",
     "text": [
      "{'split': 6, 'parallel_max': 2, 'time': 8.732183694839478, 'points': 100, 'points_per_split': 16, 'split_per_parallel': 3.0, 'directory': '/gdata1/data/tide_models_clipped/', 'model': 'EOT20'}\n",
      "Modelling tides using EOT20 in parallel\n"
     ]
    },
    {
     "name": "stderr",
     "output_type": "stream",
     "text": [
      "100%|██████████| 8/8 [00:10<00:00,  1.34s/it]\n"
     ]
    },
    {
     "name": "stdout",
     "output_type": "stream",
     "text": [
      "{'split': 8, 'parallel_max': 2, 'time': 11.297289609909058, 'points': 100, 'points_per_split': 12, 'split_per_parallel': 4.0, 'directory': '/gdata1/data/tide_models_clipped/', 'model': 'EOT20'}\n",
      "Modelling tides using EOT20 in parallel\n"
     ]
    },
    {
     "name": "stderr",
     "output_type": "stream",
     "text": [
      "100%|██████████| 10/10 [00:12<00:00,  1.28s/it]\n"
     ]
    },
    {
     "name": "stdout",
     "output_type": "stream",
     "text": [
      "{'split': 10, 'parallel_max': 2, 'time': 13.449850797653198, 'points': 100, 'points_per_split': 10, 'split_per_parallel': 5.0, 'directory': '/gdata1/data/tide_models_clipped/', 'model': 'EOT20'}\n",
      "Modelling tides using EOT20 in parallel\n"
     ]
    },
    {
     "name": "stderr",
     "output_type": "stream",
     "text": [
      "100%|██████████| 12/12 [00:15<00:00,  1.26s/it]\n"
     ]
    },
    {
     "name": "stdout",
     "output_type": "stream",
     "text": [
      "{'split': 12, 'parallel_max': 2, 'time': 15.898078441619873, 'points': 100, 'points_per_split': 8, 'split_per_parallel': 6.0, 'directory': '/gdata1/data/tide_models_clipped/', 'model': 'EOT20'}\n",
      "Modelling tides using EOT20 in parallel\n"
     ]
    },
    {
     "name": "stderr",
     "output_type": "stream",
     "text": [
      "100%|██████████| 16/16 [00:19<00:00,  1.25s/it]\n"
     ]
    },
    {
     "name": "stdout",
     "output_type": "stream",
     "text": [
      "{'split': 16, 'parallel_max': 2, 'time': 20.615198850631714, 'points': 100, 'points_per_split': 6, 'split_per_parallel': 8.0, 'directory': '/gdata1/data/tide_models_clipped/', 'model': 'EOT20'}\n",
      "Modelling tides using EOT20 in parallel\n"
     ]
    },
    {
     "name": "stderr",
     "output_type": "stream",
     "text": [
      "100%|██████████| 20/20 [00:24<00:00,  1.23s/it]\n"
     ]
    },
    {
     "name": "stdout",
     "output_type": "stream",
     "text": [
      "{'split': 20, 'parallel_max': 2, 'time': 25.16162872314453, 'points': 100, 'points_per_split': 5, 'split_per_parallel': 10.0, 'directory': '/gdata1/data/tide_models_clipped/', 'model': 'EOT20'}\n",
      "Modelling tides using EOT20\n",
      "{'split': 1, 'parallel_max': 4, 'time': 3.14968204498291, 'points': 100, 'points_per_split': 100, 'split_per_parallel': 0.25, 'directory': '/gdata1/data/tide_models_clipped/', 'model': 'EOT20'}\n",
      "Modelling tides using EOT20 in parallel\n"
     ]
    },
    {
     "name": "stderr",
     "output_type": "stream",
     "text": [
      "100%|██████████| 2/2 [00:02<00:00,  1.44s/it]\n"
     ]
    },
    {
     "name": "stdout",
     "output_type": "stream",
     "text": [
      "{'split': 2, 'parallel_max': 4, 'time': 3.5613956451416016, 'points': 100, 'points_per_split': 50, 'split_per_parallel': 0.5, 'directory': '/gdata1/data/tide_models_clipped/', 'model': 'EOT20'}\n",
      "Modelling tides using EOT20 in parallel\n"
     ]
    },
    {
     "name": "stderr",
     "output_type": "stream",
     "text": [
      "100%|██████████| 3/3 [00:03<00:00,  1.01s/it]\n"
     ]
    },
    {
     "name": "stdout",
     "output_type": "stream",
     "text": [
      "{'split': 3, 'parallel_max': 4, 'time': 3.689911127090454, 'points': 100, 'points_per_split': 33, 'split_per_parallel': 0.75, 'directory': '/gdata1/data/tide_models_clipped/', 'model': 'EOT20'}\n",
      "Modelling tides using EOT20 in parallel\n"
     ]
    },
    {
     "name": "stderr",
     "output_type": "stream",
     "text": [
      "100%|██████████| 4/4 [00:03<00:00,  1.03it/s]\n"
     ]
    },
    {
     "name": "stdout",
     "output_type": "stream",
     "text": [
      "{'split': 4, 'parallel_max': 4, 'time': 4.587037563323975, 'points': 100, 'points_per_split': 25, 'split_per_parallel': 1.0, 'directory': '/gdata1/data/tide_models_clipped/', 'model': 'EOT20'}\n",
      "Modelling tides using EOT20 in parallel\n"
     ]
    },
    {
     "name": "stderr",
     "output_type": "stream",
     "text": [
      "100%|██████████| 5/5 [00:05<00:00,  1.12s/it]\n"
     ]
    },
    {
     "name": "stdout",
     "output_type": "stream",
     "text": [
      "{'split': 5, 'parallel_max': 4, 'time': 6.299825191497803, 'points': 100, 'points_per_split': 20, 'split_per_parallel': 1.25, 'directory': '/gdata1/data/tide_models_clipped/', 'model': 'EOT20'}\n",
      "Modelling tides using EOT20 in parallel\n"
     ]
    },
    {
     "name": "stderr",
     "output_type": "stream",
     "text": [
      "100%|██████████| 6/6 [00:05<00:00,  1.12it/s]\n"
     ]
    },
    {
     "name": "stdout",
     "output_type": "stream",
     "text": [
      "{'split': 6, 'parallel_max': 4, 'time': 6.046776294708252, 'points': 100, 'points_per_split': 16, 'split_per_parallel': 1.5, 'directory': '/gdata1/data/tide_models_clipped/', 'model': 'EOT20'}\n",
      "Modelling tides using EOT20 in parallel\n"
     ]
    },
    {
     "name": "stderr",
     "output_type": "stream",
     "text": [
      "100%|██████████| 8/8 [00:05<00:00,  1.35it/s]\n"
     ]
    },
    {
     "name": "stdout",
     "output_type": "stream",
     "text": [
      "{'split': 8, 'parallel_max': 4, 'time': 6.627188444137573, 'points': 100, 'points_per_split': 12, 'split_per_parallel': 2.0, 'directory': '/gdata1/data/tide_models_clipped/', 'model': 'EOT20'}\n",
      "Modelling tides using EOT20 in parallel\n"
     ]
    },
    {
     "name": "stderr",
     "output_type": "stream",
     "text": [
      "100%|██████████| 10/10 [00:08<00:00,  1.24it/s]\n"
     ]
    },
    {
     "name": "stdout",
     "output_type": "stream",
     "text": [
      "{'split': 10, 'parallel_max': 4, 'time': 8.743812322616577, 'points': 100, 'points_per_split': 10, 'split_per_parallel': 2.5, 'directory': '/gdata1/data/tide_models_clipped/', 'model': 'EOT20'}\n",
      "Modelling tides using EOT20 in parallel\n"
     ]
    },
    {
     "name": "stderr",
     "output_type": "stream",
     "text": [
      "100%|██████████| 12/12 [00:08<00:00,  1.45it/s]\n"
     ]
    },
    {
     "name": "stdout",
     "output_type": "stream",
     "text": [
      "{'split': 12, 'parallel_max': 4, 'time': 8.98261284828186, 'points': 100, 'points_per_split': 8, 'split_per_parallel': 3.0, 'directory': '/gdata1/data/tide_models_clipped/', 'model': 'EOT20'}\n",
      "Modelling tides using EOT20 in parallel\n"
     ]
    },
    {
     "name": "stderr",
     "output_type": "stream",
     "text": [
      "100%|██████████| 16/16 [00:10<00:00,  1.46it/s]\n"
     ]
    },
    {
     "name": "stdout",
     "output_type": "stream",
     "text": [
      "{'split': 16, 'parallel_max': 4, 'time': 11.718202352523804, 'points': 100, 'points_per_split': 6, 'split_per_parallel': 4.0, 'directory': '/gdata1/data/tide_models_clipped/', 'model': 'EOT20'}\n",
      "Modelling tides using EOT20 in parallel\n"
     ]
    },
    {
     "name": "stderr",
     "output_type": "stream",
     "text": [
      "100%|██████████| 20/20 [00:13<00:00,  1.50it/s]\n"
     ]
    },
    {
     "name": "stdout",
     "output_type": "stream",
     "text": [
      "{'split': 20, 'parallel_max': 4, 'time': 14.138868570327759, 'points': 100, 'points_per_split': 5, 'split_per_parallel': 5.0, 'directory': '/gdata1/data/tide_models_clipped/', 'model': 'EOT20'}\n",
      "Modelling tides using EOT20\n",
      "{'split': 1, 'parallel_max': 8, 'time': 3.1279547214508057, 'points': 100, 'points_per_split': 100, 'split_per_parallel': 0.125, 'directory': '/gdata1/data/tide_models_clipped/', 'model': 'EOT20'}\n",
      "Modelling tides using EOT20 in parallel\n"
     ]
    },
    {
     "name": "stderr",
     "output_type": "stream",
     "text": [
      "100%|██████████| 2/2 [00:02<00:00,  1.45s/it]\n"
     ]
    },
    {
     "name": "stdout",
     "output_type": "stream",
     "text": [
      "{'split': 2, 'parallel_max': 8, 'time': 3.735466957092285, 'points': 100, 'points_per_split': 50, 'split_per_parallel': 0.25, 'directory': '/gdata1/data/tide_models_clipped/', 'model': 'EOT20'}\n",
      "Modelling tides using EOT20 in parallel\n"
     ]
    },
    {
     "name": "stderr",
     "output_type": "stream",
     "text": [
      "100%|██████████| 3/3 [00:03<00:00,  1.14s/it]\n"
     ]
    },
    {
     "name": "stdout",
     "output_type": "stream",
     "text": [
      "{'split': 3, 'parallel_max': 8, 'time': 4.25137734413147, 'points': 100, 'points_per_split': 33, 'split_per_parallel': 0.375, 'directory': '/gdata1/data/tide_models_clipped/', 'model': 'EOT20'}\n",
      "Modelling tides using EOT20 in parallel\n"
     ]
    },
    {
     "name": "stderr",
     "output_type": "stream",
     "text": [
      "100%|██████████| 4/4 [00:03<00:00,  1.20it/s]\n"
     ]
    },
    {
     "name": "stdout",
     "output_type": "stream",
     "text": [
      "{'split': 4, 'parallel_max': 8, 'time': 4.144881725311279, 'points': 100, 'points_per_split': 25, 'split_per_parallel': 0.5, 'directory': '/gdata1/data/tide_models_clipped/', 'model': 'EOT20'}\n",
      "Modelling tides using EOT20 in parallel\n"
     ]
    },
    {
     "name": "stderr",
     "output_type": "stream",
     "text": [
      "100%|██████████| 5/5 [00:03<00:00,  1.43it/s]\n"
     ]
    },
    {
     "name": "stdout",
     "output_type": "stream",
     "text": [
      "{'split': 5, 'parallel_max': 8, 'time': 4.324579238891602, 'points': 100, 'points_per_split': 20, 'split_per_parallel': 0.625, 'directory': '/gdata1/data/tide_models_clipped/', 'model': 'EOT20'}\n",
      "Modelling tides using EOT20 in parallel\n"
     ]
    },
    {
     "name": "stderr",
     "output_type": "stream",
     "text": [
      "100%|██████████| 6/6 [00:03<00:00,  1.65it/s]\n"
     ]
    },
    {
     "name": "stdout",
     "output_type": "stream",
     "text": [
      "{'split': 6, 'parallel_max': 8, 'time': 4.473366022109985, 'points': 100, 'points_per_split': 16, 'split_per_parallel': 0.75, 'directory': '/gdata1/data/tide_models_clipped/', 'model': 'EOT20'}\n",
      "Modelling tides using EOT20 in parallel\n"
     ]
    },
    {
     "name": "stderr",
     "output_type": "stream",
     "text": [
      "100%|██████████| 8/8 [00:04<00:00,  1.93it/s]\n"
     ]
    },
    {
     "name": "stdout",
     "output_type": "stream",
     "text": [
      "{'split': 8, 'parallel_max': 8, 'time': 5.012174844741821, 'points': 100, 'points_per_split': 12, 'split_per_parallel': 1.0, 'directory': '/gdata1/data/tide_models_clipped/', 'model': 'EOT20'}\n",
      "Modelling tides using EOT20 in parallel\n"
     ]
    },
    {
     "name": "stderr",
     "output_type": "stream",
     "text": [
      "100%|██████████| 10/10 [00:05<00:00,  1.68it/s]\n"
     ]
    },
    {
     "name": "stdout",
     "output_type": "stream",
     "text": [
      "{'split': 10, 'parallel_max': 8, 'time': 6.803356647491455, 'points': 100, 'points_per_split': 10, 'split_per_parallel': 1.25, 'directory': '/gdata1/data/tide_models_clipped/', 'model': 'EOT20'}\n",
      "Modelling tides using EOT20 in parallel\n"
     ]
    },
    {
     "name": "stderr",
     "output_type": "stream",
     "text": [
      "100%|██████████| 12/12 [00:06<00:00,  1.98it/s]\n"
     ]
    },
    {
     "name": "stdout",
     "output_type": "stream",
     "text": [
      "{'split': 12, 'parallel_max': 8, 'time': 6.916663646697998, 'points': 100, 'points_per_split': 8, 'split_per_parallel': 1.5, 'directory': '/gdata1/data/tide_models_clipped/', 'model': 'EOT20'}\n",
      "Modelling tides using EOT20 in parallel\n"
     ]
    },
    {
     "name": "stderr",
     "output_type": "stream",
     "text": [
      "100%|██████████| 16/16 [00:06<00:00,  2.32it/s]\n"
     ]
    },
    {
     "name": "stdout",
     "output_type": "stream",
     "text": [
      "{'split': 16, 'parallel_max': 8, 'time': 7.747692346572876, 'points': 100, 'points_per_split': 6, 'split_per_parallel': 2.0, 'directory': '/gdata1/data/tide_models_clipped/', 'model': 'EOT20'}\n",
      "Modelling tides using EOT20 in parallel\n"
     ]
    },
    {
     "name": "stderr",
     "output_type": "stream",
     "text": [
      "100%|██████████| 20/20 [00:08<00:00,  2.30it/s]\n"
     ]
    },
    {
     "name": "stdout",
     "output_type": "stream",
     "text": [
      "{'split': 20, 'parallel_max': 8, 'time': 9.657457828521729, 'points': 100, 'points_per_split': 5, 'split_per_parallel': 2.5, 'directory': '/gdata1/data/tide_models_clipped/', 'model': 'EOT20'}\n",
      "Modelling tides using EOT20\n",
      "{'split': 1, 'parallel_max': 16, 'time': 3.063443422317505, 'points': 100, 'points_per_split': 100, 'split_per_parallel': 0.0625, 'directory': '/gdata1/data/tide_models_clipped/', 'model': 'EOT20'}\n",
      "Modelling tides using EOT20 in parallel\n"
     ]
    },
    {
     "name": "stderr",
     "output_type": "stream",
     "text": [
      "100%|██████████| 2/2 [00:02<00:00,  1.49s/it]\n"
     ]
    },
    {
     "name": "stdout",
     "output_type": "stream",
     "text": [
      "{'split': 2, 'parallel_max': 16, 'time': 4.097646713256836, 'points': 100, 'points_per_split': 50, 'split_per_parallel': 0.125, 'directory': '/gdata1/data/tide_models_clipped/', 'model': 'EOT20'}\n",
      "Modelling tides using EOT20 in parallel\n"
     ]
    },
    {
     "name": "stderr",
     "output_type": "stream",
     "text": [
      "100%|██████████| 3/3 [00:03<00:00,  1.07s/it]\n"
     ]
    },
    {
     "name": "stdout",
     "output_type": "stream",
     "text": [
      "{'split': 3, 'parallel_max': 16, 'time': 4.319326400756836, 'points': 100, 'points_per_split': 33, 'split_per_parallel': 0.1875, 'directory': '/gdata1/data/tide_models_clipped/', 'model': 'EOT20'}\n",
      "Modelling tides using EOT20 in parallel\n"
     ]
    },
    {
     "name": "stderr",
     "output_type": "stream",
     "text": [
      "100%|██████████| 4/4 [00:03<00:00,  1.16it/s]\n"
     ]
    },
    {
     "name": "stdout",
     "output_type": "stream",
     "text": [
      "{'split': 4, 'parallel_max': 16, 'time': 4.569660663604736, 'points': 100, 'points_per_split': 25, 'split_per_parallel': 0.25, 'directory': '/gdata1/data/tide_models_clipped/', 'model': 'EOT20'}\n",
      "Modelling tides using EOT20 in parallel\n"
     ]
    },
    {
     "name": "stderr",
     "output_type": "stream",
     "text": [
      "100%|██████████| 5/5 [00:03<00:00,  1.57it/s]\n"
     ]
    },
    {
     "name": "stdout",
     "output_type": "stream",
     "text": [
      "{'split': 5, 'parallel_max': 16, 'time': 4.290369749069214, 'points': 100, 'points_per_split': 20, 'split_per_parallel': 0.3125, 'directory': '/gdata1/data/tide_models_clipped/', 'model': 'EOT20'}\n",
      "Modelling tides using EOT20 in parallel\n"
     ]
    },
    {
     "name": "stderr",
     "output_type": "stream",
     "text": [
      "100%|██████████| 6/6 [00:03<00:00,  1.53it/s]\n"
     ]
    },
    {
     "name": "stdout",
     "output_type": "stream",
     "text": [
      "{'split': 6, 'parallel_max': 16, 'time': 5.029247045516968, 'points': 100, 'points_per_split': 16, 'split_per_parallel': 0.375, 'directory': '/gdata1/data/tide_models_clipped/', 'model': 'EOT20'}\n",
      "Modelling tides using EOT20 in parallel\n"
     ]
    },
    {
     "name": "stderr",
     "output_type": "stream",
     "text": [
      "100%|██████████| 8/8 [00:04<00:00,  1.88it/s]\n"
     ]
    },
    {
     "name": "stdout",
     "output_type": "stream",
     "text": [
      "{'split': 8, 'parallel_max': 16, 'time': 5.3499274253845215, 'points': 100, 'points_per_split': 12, 'split_per_parallel': 0.5, 'directory': '/gdata1/data/tide_models_clipped/', 'model': 'EOT20'}\n",
      "Modelling tides using EOT20 in parallel\n"
     ]
    },
    {
     "name": "stderr",
     "output_type": "stream",
     "text": [
      "100%|██████████| 10/10 [00:04<00:00,  2.33it/s]\n"
     ]
    },
    {
     "name": "stdout",
     "output_type": "stream",
     "text": [
      "{'split': 10, 'parallel_max': 16, 'time': 5.415190696716309, 'points': 100, 'points_per_split': 10, 'split_per_parallel': 0.625, 'directory': '/gdata1/data/tide_models_clipped/', 'model': 'EOT20'}\n",
      "Modelling tides using EOT20 in parallel\n"
     ]
    },
    {
     "name": "stderr",
     "output_type": "stream",
     "text": [
      "100%|██████████| 12/12 [00:05<00:00,  2.36it/s]\n"
     ]
    },
    {
     "name": "stdout",
     "output_type": "stream",
     "text": [
      "{'split': 12, 'parallel_max': 16, 'time': 6.193004608154297, 'points': 100, 'points_per_split': 8, 'split_per_parallel': 0.75, 'directory': '/gdata1/data/tide_models_clipped/', 'model': 'EOT20'}\n",
      "Modelling tides using EOT20 in parallel\n"
     ]
    },
    {
     "name": "stderr",
     "output_type": "stream",
     "text": [
      "100%|██████████| 16/16 [00:06<00:00,  2.47it/s]\n"
     ]
    },
    {
     "name": "stdout",
     "output_type": "stream",
     "text": [
      "{'split': 16, 'parallel_max': 16, 'time': 7.601003646850586, 'points': 100, 'points_per_split': 6, 'split_per_parallel': 1.0, 'directory': '/gdata1/data/tide_models_clipped/', 'model': 'EOT20'}\n",
      "Modelling tides using EOT20 in parallel\n"
     ]
    },
    {
     "name": "stderr",
     "output_type": "stream",
     "text": [
      "100%|██████████| 20/20 [00:07<00:00,  2.66it/s]\n"
     ]
    },
    {
     "name": "stdout",
     "output_type": "stream",
     "text": [
      "{'split': 20, 'parallel_max': 16, 'time': 8.80680537223816, 'points': 100, 'points_per_split': 5, 'split_per_parallel': 1.25, 'directory': '/gdata1/data/tide_models_clipped/', 'model': 'EOT20'}\n",
      "Modelling tides using EOT20\n",
      "{'split': 1, 'parallel_max': 2, 'time': 4.7310943603515625, 'points': 1000, 'points_per_split': 1000, 'split_per_parallel': 0.5, 'directory': '/gdata1/data/tide_models_clipped/', 'model': 'EOT20'}\n",
      "Modelling tides using EOT20 in parallel\n"
     ]
    },
    {
     "name": "stderr",
     "output_type": "stream",
     "text": [
      "100%|██████████| 2/2 [00:03<00:00,  1.96s/it]\n"
     ]
    },
    {
     "name": "stdout",
     "output_type": "stream",
     "text": [
      "{'split': 2, 'parallel_max': 2, 'time': 4.629370450973511, 'points': 1000, 'points_per_split': 500, 'split_per_parallel': 1.0, 'directory': '/gdata1/data/tide_models_clipped/', 'model': 'EOT20'}\n",
      "Modelling tides using EOT20 in parallel\n"
     ]
    },
    {
     "name": "stderr",
     "output_type": "stream",
     "text": [
      "100%|██████████| 3/3 [00:06<00:00,  2.23s/it]\n"
     ]
    },
    {
     "name": "stdout",
     "output_type": "stream",
     "text": [
      "{'split': 3, 'parallel_max': 2, 'time': 7.393319845199585, 'points': 1000, 'points_per_split': 333, 'split_per_parallel': 1.5, 'directory': '/gdata1/data/tide_models_clipped/', 'model': 'EOT20'}\n",
      "Modelling tides using EOT20 in parallel\n"
     ]
    },
    {
     "name": "stderr",
     "output_type": "stream",
     "text": [
      "100%|██████████| 4/4 [00:06<00:00,  1.63s/it]\n"
     ]
    },
    {
     "name": "stdout",
     "output_type": "stream",
     "text": [
      "{'split': 4, 'parallel_max': 2, 'time': 7.228583335876465, 'points': 1000, 'points_per_split': 250, 'split_per_parallel': 2.0, 'directory': '/gdata1/data/tide_models_clipped/', 'model': 'EOT20'}\n",
      "Modelling tides using EOT20 in parallel\n"
     ]
    },
    {
     "name": "stderr",
     "output_type": "stream",
     "text": [
      "100%|██████████| 5/5 [00:09<00:00,  1.84s/it]\n"
     ]
    },
    {
     "name": "stdout",
     "output_type": "stream",
     "text": [
      "{'split': 5, 'parallel_max': 2, 'time': 9.939010381698608, 'points': 1000, 'points_per_split': 200, 'split_per_parallel': 2.5, 'directory': '/gdata1/data/tide_models_clipped/', 'model': 'EOT20'}\n",
      "Modelling tides using EOT20 in parallel\n"
     ]
    },
    {
     "name": "stderr",
     "output_type": "stream",
     "text": [
      "100%|██████████| 6/6 [00:09<00:00,  1.55s/it]\n"
     ]
    },
    {
     "name": "stdout",
     "output_type": "stream",
     "text": [
      "{'split': 6, 'parallel_max': 2, 'time': 10.017518281936646, 'points': 1000, 'points_per_split': 166, 'split_per_parallel': 3.0, 'directory': '/gdata1/data/tide_models_clipped/', 'model': 'EOT20'}\n",
      "Modelling tides using EOT20 in parallel\n"
     ]
    },
    {
     "name": "stderr",
     "output_type": "stream",
     "text": [
      "100%|██████████| 8/8 [00:11<00:00,  1.49s/it]\n"
     ]
    },
    {
     "name": "stdout",
     "output_type": "stream",
     "text": [
      "{'split': 8, 'parallel_max': 2, 'time': 12.602005004882812, 'points': 1000, 'points_per_split': 125, 'split_per_parallel': 4.0, 'directory': '/gdata1/data/tide_models_clipped/', 'model': 'EOT20'}\n",
      "Modelling tides using EOT20 in parallel\n"
     ]
    },
    {
     "name": "stderr",
     "output_type": "stream",
     "text": [
      "100%|██████████| 10/10 [00:14<00:00,  1.43s/it]\n"
     ]
    },
    {
     "name": "stdout",
     "output_type": "stream",
     "text": [
      "{'split': 10, 'parallel_max': 2, 'time': 15.180304288864136, 'points': 1000, 'points_per_split': 100, 'split_per_parallel': 5.0, 'directory': '/gdata1/data/tide_models_clipped/', 'model': 'EOT20'}\n",
      "Modelling tides using EOT20 in parallel\n"
     ]
    },
    {
     "name": "stderr",
     "output_type": "stream",
     "text": [
      "100%|██████████| 12/12 [00:17<00:00,  1.42s/it]\n"
     ]
    },
    {
     "name": "stdout",
     "output_type": "stream",
     "text": [
      "{'split': 12, 'parallel_max': 2, 'time': 17.808774948120117, 'points': 1000, 'points_per_split': 83, 'split_per_parallel': 6.0, 'directory': '/gdata1/data/tide_models_clipped/', 'model': 'EOT20'}\n",
      "Modelling tides using EOT20 in parallel\n"
     ]
    },
    {
     "name": "stderr",
     "output_type": "stream",
     "text": [
      "100%|██████████| 16/16 [00:22<00:00,  1.38s/it]\n"
     ]
    },
    {
     "name": "stdout",
     "output_type": "stream",
     "text": [
      "{'split': 16, 'parallel_max': 2, 'time': 22.807422876358032, 'points': 1000, 'points_per_split': 62, 'split_per_parallel': 8.0, 'directory': '/gdata1/data/tide_models_clipped/', 'model': 'EOT20'}\n",
      "Modelling tides using EOT20 in parallel\n"
     ]
    },
    {
     "name": "stderr",
     "output_type": "stream",
     "text": [
      "100%|██████████| 20/20 [00:27<00:00,  1.36s/it]\n"
     ]
    },
    {
     "name": "stdout",
     "output_type": "stream",
     "text": [
      "{'split': 20, 'parallel_max': 2, 'time': 27.842896223068237, 'points': 1000, 'points_per_split': 50, 'split_per_parallel': 10.0, 'directory': '/gdata1/data/tide_models_clipped/', 'model': 'EOT20'}\n",
      "Modelling tides using EOT20\n",
      "{'split': 1, 'parallel_max': 4, 'time': 4.86713981628418, 'points': 1000, 'points_per_split': 1000, 'split_per_parallel': 0.25, 'directory': '/gdata1/data/tide_models_clipped/', 'model': 'EOT20'}\n",
      "Modelling tides using EOT20 in parallel\n"
     ]
    },
    {
     "name": "stderr",
     "output_type": "stream",
     "text": [
      "100%|██████████| 2/2 [00:04<00:00,  2.11s/it]\n"
     ]
    },
    {
     "name": "stdout",
     "output_type": "stream",
     "text": [
      "{'split': 2, 'parallel_max': 4, 'time': 5.01958155632019, 'points': 1000, 'points_per_split': 500, 'split_per_parallel': 0.5, 'directory': '/gdata1/data/tide_models_clipped/', 'model': 'EOT20'}\n",
      "Modelling tides using EOT20 in parallel\n"
     ]
    },
    {
     "name": "stderr",
     "output_type": "stream",
     "text": [
      "100%|██████████| 3/3 [00:03<00:00,  1.29s/it]\n"
     ]
    },
    {
     "name": "stdout",
     "output_type": "stream",
     "text": [
      "{'split': 3, 'parallel_max': 4, 'time': 4.692673921585083, 'points': 1000, 'points_per_split': 333, 'split_per_parallel': 0.75, 'directory': '/gdata1/data/tide_models_clipped/', 'model': 'EOT20'}\n",
      "Modelling tides using EOT20 in parallel\n"
     ]
    },
    {
     "name": "stderr",
     "output_type": "stream",
     "text": [
      "100%|██████████| 4/4 [00:04<00:00,  1.08s/it]\n"
     ]
    },
    {
     "name": "stdout",
     "output_type": "stream",
     "text": [
      "{'split': 4, 'parallel_max': 4, 'time': 5.133579730987549, 'points': 1000, 'points_per_split': 250, 'split_per_parallel': 1.0, 'directory': '/gdata1/data/tide_models_clipped/', 'model': 'EOT20'}\n",
      "Modelling tides using EOT20 in parallel\n"
     ]
    },
    {
     "name": "stderr",
     "output_type": "stream",
     "text": [
      "100%|██████████| 5/5 [00:06<00:00,  1.26s/it]\n"
     ]
    },
    {
     "name": "stdout",
     "output_type": "stream",
     "text": [
      "{'split': 5, 'parallel_max': 4, 'time': 7.13028883934021, 'points': 1000, 'points_per_split': 200, 'split_per_parallel': 1.25, 'directory': '/gdata1/data/tide_models_clipped/', 'model': 'EOT20'}\n",
      "Modelling tides using EOT20 in parallel\n"
     ]
    },
    {
     "name": "stderr",
     "output_type": "stream",
     "text": [
      "100%|██████████| 6/6 [00:06<00:00,  1.12s/it]\n"
     ]
    },
    {
     "name": "stdout",
     "output_type": "stream",
     "text": [
      "{'split': 6, 'parallel_max': 4, 'time': 7.5119805335998535, 'points': 1000, 'points_per_split': 166, 'split_per_parallel': 1.5, 'directory': '/gdata1/data/tide_models_clipped/', 'model': 'EOT20'}\n",
      "Modelling tides using EOT20 in parallel\n"
     ]
    },
    {
     "name": "stderr",
     "output_type": "stream",
     "text": [
      "100%|██████████| 8/8 [00:06<00:00,  1.15it/s]\n"
     ]
    },
    {
     "name": "stdout",
     "output_type": "stream",
     "text": [
      "{'split': 8, 'parallel_max': 4, 'time': 7.761422157287598, 'points': 1000, 'points_per_split': 125, 'split_per_parallel': 2.0, 'directory': '/gdata1/data/tide_models_clipped/', 'model': 'EOT20'}\n",
      "Modelling tides using EOT20 in parallel\n"
     ]
    },
    {
     "name": "stderr",
     "output_type": "stream",
     "text": [
      "100%|██████████| 10/10 [00:09<00:00,  1.06it/s]\n"
     ]
    },
    {
     "name": "stdout",
     "output_type": "stream",
     "text": [
      "{'split': 10, 'parallel_max': 4, 'time': 10.226359367370605, 'points': 1000, 'points_per_split': 100, 'split_per_parallel': 2.5, 'directory': '/gdata1/data/tide_models_clipped/', 'model': 'EOT20'}\n",
      "Modelling tides using EOT20 in parallel\n"
     ]
    },
    {
     "name": "stderr",
     "output_type": "stream",
     "text": [
      "100%|██████████| 12/12 [00:09<00:00,  1.25it/s]\n"
     ]
    },
    {
     "name": "stdout",
     "output_type": "stream",
     "text": [
      "{'split': 12, 'parallel_max': 4, 'time': 10.439139127731323, 'points': 1000, 'points_per_split': 83, 'split_per_parallel': 3.0, 'directory': '/gdata1/data/tide_models_clipped/', 'model': 'EOT20'}\n",
      "Modelling tides using EOT20 in parallel\n"
     ]
    },
    {
     "name": "stderr",
     "output_type": "stream",
     "text": [
      "100%|██████████| 16/16 [00:11<00:00,  1.37it/s]\n"
     ]
    },
    {
     "name": "stdout",
     "output_type": "stream",
     "text": [
      "{'split': 16, 'parallel_max': 4, 'time': 12.605883121490479, 'points': 1000, 'points_per_split': 62, 'split_per_parallel': 4.0, 'directory': '/gdata1/data/tide_models_clipped/', 'model': 'EOT20'}\n",
      "Modelling tides using EOT20 in parallel\n"
     ]
    },
    {
     "name": "stderr",
     "output_type": "stream",
     "text": [
      "100%|██████████| 20/20 [00:14<00:00,  1.35it/s]\n"
     ]
    },
    {
     "name": "stdout",
     "output_type": "stream",
     "text": [
      "{'split': 20, 'parallel_max': 4, 'time': 15.64789080619812, 'points': 1000, 'points_per_split': 50, 'split_per_parallel': 5.0, 'directory': '/gdata1/data/tide_models_clipped/', 'model': 'EOT20'}\n",
      "Modelling tides using EOT20\n",
      "{'split': 1, 'parallel_max': 8, 'time': 4.749791860580444, 'points': 1000, 'points_per_split': 1000, 'split_per_parallel': 0.125, 'directory': '/gdata1/data/tide_models_clipped/', 'model': 'EOT20'}\n",
      "Modelling tides using EOT20 in parallel\n"
     ]
    },
    {
     "name": "stderr",
     "output_type": "stream",
     "text": [
      "100%|██████████| 2/2 [00:03<00:00,  1.97s/it]\n"
     ]
    },
    {
     "name": "stdout",
     "output_type": "stream",
     "text": [
      "{'split': 2, 'parallel_max': 8, 'time': 4.915995121002197, 'points': 1000, 'points_per_split': 500, 'split_per_parallel': 0.25, 'directory': '/gdata1/data/tide_models_clipped/', 'model': 'EOT20'}\n",
      "Modelling tides using EOT20 in parallel\n"
     ]
    },
    {
     "name": "stderr",
     "output_type": "stream",
     "text": [
      "100%|██████████| 3/3 [00:04<00:00,  1.34s/it]\n"
     ]
    },
    {
     "name": "stdout",
     "output_type": "stream",
     "text": [
      "{'split': 3, 'parallel_max': 8, 'time': 5.00717830657959, 'points': 1000, 'points_per_split': 333, 'split_per_parallel': 0.375, 'directory': '/gdata1/data/tide_models_clipped/', 'model': 'EOT20'}\n",
      "Modelling tides using EOT20 in parallel\n"
     ]
    },
    {
     "name": "stderr",
     "output_type": "stream",
     "text": [
      "100%|██████████| 4/4 [00:04<00:00,  1.10s/it]\n"
     ]
    },
    {
     "name": "stdout",
     "output_type": "stream",
     "text": [
      "{'split': 4, 'parallel_max': 8, 'time': 5.360293626785278, 'points': 1000, 'points_per_split': 250, 'split_per_parallel': 0.5, 'directory': '/gdata1/data/tide_models_clipped/', 'model': 'EOT20'}\n",
      "Modelling tides using EOT20 in parallel\n"
     ]
    },
    {
     "name": "stderr",
     "output_type": "stream",
     "text": [
      "100%|██████████| 5/5 [00:04<00:00,  1.09it/s]\n"
     ]
    },
    {
     "name": "stdout",
     "output_type": "stream",
     "text": [
      "{'split': 5, 'parallel_max': 8, 'time': 5.571909666061401, 'points': 1000, 'points_per_split': 200, 'split_per_parallel': 0.625, 'directory': '/gdata1/data/tide_models_clipped/', 'model': 'EOT20'}\n",
      "Modelling tides using EOT20 in parallel\n"
     ]
    },
    {
     "name": "stderr",
     "output_type": "stream",
     "text": [
      "100%|██████████| 6/6 [00:05<00:00,  1.19it/s]\n"
     ]
    },
    {
     "name": "stdout",
     "output_type": "stream",
     "text": [
      "{'split': 6, 'parallel_max': 8, 'time': 6.079857587814331, 'points': 1000, 'points_per_split': 166, 'split_per_parallel': 0.75, 'directory': '/gdata1/data/tide_models_clipped/', 'model': 'EOT20'}\n",
      "Modelling tides using EOT20 in parallel\n"
     ]
    },
    {
     "name": "stderr",
     "output_type": "stream",
     "text": [
      "100%|██████████| 8/8 [00:05<00:00,  1.52it/s]\n"
     ]
    },
    {
     "name": "stdout",
     "output_type": "stream",
     "text": [
      "{'split': 8, 'parallel_max': 8, 'time': 6.372717618942261, 'points': 1000, 'points_per_split': 125, 'split_per_parallel': 1.0, 'directory': '/gdata1/data/tide_models_clipped/', 'model': 'EOT20'}\n",
      "Modelling tides using EOT20 in parallel\n"
     ]
    },
    {
     "name": "stderr",
     "output_type": "stream",
     "text": [
      "100%|██████████| 10/10 [00:06<00:00,  1.48it/s]\n"
     ]
    },
    {
     "name": "stdout",
     "output_type": "stream",
     "text": [
      "{'split': 10, 'parallel_max': 8, 'time': 7.761810541152954, 'points': 1000, 'points_per_split': 100, 'split_per_parallel': 1.25, 'directory': '/gdata1/data/tide_models_clipped/', 'model': 'EOT20'}\n",
      "Modelling tides using EOT20 in parallel\n"
     ]
    },
    {
     "name": "stderr",
     "output_type": "stream",
     "text": [
      "100%|██████████| 12/12 [00:07<00:00,  1.61it/s]\n"
     ]
    },
    {
     "name": "stdout",
     "output_type": "stream",
     "text": [
      "{'split': 12, 'parallel_max': 8, 'time': 8.45742416381836, 'points': 1000, 'points_per_split': 83, 'split_per_parallel': 1.5, 'directory': '/gdata1/data/tide_models_clipped/', 'model': 'EOT20'}\n",
      "Modelling tides using EOT20 in parallel\n"
     ]
    },
    {
     "name": "stderr",
     "output_type": "stream",
     "text": [
      "100%|██████████| 16/16 [00:07<00:00,  2.14it/s]\n"
     ]
    },
    {
     "name": "stdout",
     "output_type": "stream",
     "text": [
      "{'split': 16, 'parallel_max': 8, 'time': 8.473357915878296, 'points': 1000, 'points_per_split': 62, 'split_per_parallel': 2.0, 'directory': '/gdata1/data/tide_models_clipped/', 'model': 'EOT20'}\n",
      "Modelling tides using EOT20 in parallel\n"
     ]
    },
    {
     "name": "stderr",
     "output_type": "stream",
     "text": [
      "100%|██████████| 20/20 [00:09<00:00,  2.07it/s]\n"
     ]
    },
    {
     "name": "stdout",
     "output_type": "stream",
     "text": [
      "{'split': 20, 'parallel_max': 8, 'time': 10.66265320777893, 'points': 1000, 'points_per_split': 50, 'split_per_parallel': 2.5, 'directory': '/gdata1/data/tide_models_clipped/', 'model': 'EOT20'}\n",
      "Modelling tides using EOT20\n",
      "{'split': 1, 'parallel_max': 16, 'time': 4.76704740524292, 'points': 1000, 'points_per_split': 1000, 'split_per_parallel': 0.0625, 'directory': '/gdata1/data/tide_models_clipped/', 'model': 'EOT20'}\n",
      "Modelling tides using EOT20 in parallel\n"
     ]
    },
    {
     "name": "stderr",
     "output_type": "stream",
     "text": [
      "100%|██████████| 2/2 [00:04<00:00,  2.11s/it]\n"
     ]
    },
    {
     "name": "stdout",
     "output_type": "stream",
     "text": [
      "{'split': 2, 'parallel_max': 16, 'time': 5.491879463195801, 'points': 1000, 'points_per_split': 500, 'split_per_parallel': 0.125, 'directory': '/gdata1/data/tide_models_clipped/', 'model': 'EOT20'}\n",
      "Modelling tides using EOT20 in parallel\n"
     ]
    },
    {
     "name": "stderr",
     "output_type": "stream",
     "text": [
      "100%|██████████| 3/3 [00:04<00:00,  1.38s/it]\n"
     ]
    },
    {
     "name": "stdout",
     "output_type": "stream",
     "text": [
      "{'split': 3, 'parallel_max': 16, 'time': 5.422261476516724, 'points': 1000, 'points_per_split': 333, 'split_per_parallel': 0.1875, 'directory': '/gdata1/data/tide_models_clipped/', 'model': 'EOT20'}\n",
      "Modelling tides using EOT20 in parallel\n"
     ]
    },
    {
     "name": "stderr",
     "output_type": "stream",
     "text": [
      "100%|██████████| 4/4 [00:04<00:00,  1.14s/it]\n"
     ]
    },
    {
     "name": "stdout",
     "output_type": "stream",
     "text": [
      "{'split': 4, 'parallel_max': 16, 'time': 5.856306552886963, 'points': 1000, 'points_per_split': 250, 'split_per_parallel': 0.25, 'directory': '/gdata1/data/tide_models_clipped/', 'model': 'EOT20'}\n",
      "Modelling tides using EOT20 in parallel\n"
     ]
    },
    {
     "name": "stderr",
     "output_type": "stream",
     "text": [
      "100%|██████████| 5/5 [00:04<00:00,  1.17it/s]\n"
     ]
    },
    {
     "name": "stdout",
     "output_type": "stream",
     "text": [
      "{'split': 5, 'parallel_max': 16, 'time': 5.858165740966797, 'points': 1000, 'points_per_split': 200, 'split_per_parallel': 0.3125, 'directory': '/gdata1/data/tide_models_clipped/', 'model': 'EOT20'}\n",
      "Modelling tides using EOT20 in parallel\n"
     ]
    },
    {
     "name": "stderr",
     "output_type": "stream",
     "text": [
      "100%|██████████| 6/6 [00:04<00:00,  1.27it/s]\n"
     ]
    },
    {
     "name": "stdout",
     "output_type": "stream",
     "text": [
      "{'split': 6, 'parallel_max': 16, 'time': 6.159771680831909, 'points': 1000, 'points_per_split': 166, 'split_per_parallel': 0.375, 'directory': '/gdata1/data/tide_models_clipped/', 'model': 'EOT20'}\n",
      "Modelling tides using EOT20 in parallel\n"
     ]
    },
    {
     "name": "stderr",
     "output_type": "stream",
     "text": [
      "100%|██████████| 8/8 [00:05<00:00,  1.45it/s]\n"
     ]
    },
    {
     "name": "stdout",
     "output_type": "stream",
     "text": [
      "{'split': 8, 'parallel_max': 16, 'time': 6.990351438522339, 'points': 1000, 'points_per_split': 125, 'split_per_parallel': 0.5, 'directory': '/gdata1/data/tide_models_clipped/', 'model': 'EOT20'}\n",
      "Modelling tides using EOT20 in parallel\n"
     ]
    },
    {
     "name": "stderr",
     "output_type": "stream",
     "text": [
      "100%|██████████| 10/10 [00:05<00:00,  1.74it/s]\n"
     ]
    },
    {
     "name": "stdout",
     "output_type": "stream",
     "text": [
      "{'split': 10, 'parallel_max': 16, 'time': 7.187536954879761, 'points': 1000, 'points_per_split': 100, 'split_per_parallel': 0.625, 'directory': '/gdata1/data/tide_models_clipped/', 'model': 'EOT20'}\n",
      "Modelling tides using EOT20 in parallel\n"
     ]
    },
    {
     "name": "stderr",
     "output_type": "stream",
     "text": [
      "100%|██████████| 12/12 [00:07<00:00,  1.64it/s]\n"
     ]
    },
    {
     "name": "stdout",
     "output_type": "stream",
     "text": [
      "{'split': 12, 'parallel_max': 16, 'time': 8.789670705795288, 'points': 1000, 'points_per_split': 83, 'split_per_parallel': 0.75, 'directory': '/gdata1/data/tide_models_clipped/', 'model': 'EOT20'}\n",
      "Modelling tides using EOT20 in parallel\n"
     ]
    },
    {
     "name": "stderr",
     "output_type": "stream",
     "text": [
      "100%|██████████| 16/16 [00:06<00:00,  2.30it/s]\n"
     ]
    },
    {
     "name": "stdout",
     "output_type": "stream",
     "text": [
      "{'split': 16, 'parallel_max': 16, 'time': 8.321991205215454, 'points': 1000, 'points_per_split': 62, 'split_per_parallel': 1.0, 'directory': '/gdata1/data/tide_models_clipped/', 'model': 'EOT20'}\n",
      "Modelling tides using EOT20 in parallel\n"
     ]
    },
    {
     "name": "stderr",
     "output_type": "stream",
     "text": [
      "100%|██████████| 20/20 [00:07<00:00,  2.79it/s]\n"
     ]
    },
    {
     "name": "stdout",
     "output_type": "stream",
     "text": [
      "{'split': 20, 'parallel_max': 16, 'time': 8.487577199935913, 'points': 1000, 'points_per_split': 50, 'split_per_parallel': 1.25, 'directory': '/gdata1/data/tide_models_clipped/', 'model': 'EOT20'}\n",
      "Modelling tides using EOT20\n",
      "{'split': 1, 'parallel_max': 2, 'time': 21.68295192718506, 'points': 10000, 'points_per_split': 10000, 'split_per_parallel': 0.5, 'directory': '/gdata1/data/tide_models_clipped/', 'model': 'EOT20'}\n",
      "Modelling tides using EOT20 in parallel\n"
     ]
    },
    {
     "name": "stderr",
     "output_type": "stream",
     "text": [
      "100%|██████████| 2/2 [00:13<00:00,  6.52s/it]\n"
     ]
    },
    {
     "name": "stdout",
     "output_type": "stream",
     "text": [
      "{'split': 2, 'parallel_max': 2, 'time': 14.026057481765747, 'points': 10000, 'points_per_split': 5000, 'split_per_parallel': 1.0, 'directory': '/gdata1/data/tide_models_clipped/', 'model': 'EOT20'}\n",
      "Modelling tides using EOT20 in parallel\n"
     ]
    },
    {
     "name": "stderr",
     "output_type": "stream",
     "text": [
      "100%|██████████| 3/3 [00:18<00:00,  6.11s/it]\n"
     ]
    },
    {
     "name": "stdout",
     "output_type": "stream",
     "text": [
      "{'split': 3, 'parallel_max': 2, 'time': 19.17806053161621, 'points': 10000, 'points_per_split': 3333, 'split_per_parallel': 1.5, 'directory': '/gdata1/data/tide_models_clipped/', 'model': 'EOT20'}\n",
      "Modelling tides using EOT20 in parallel\n"
     ]
    },
    {
     "name": "stderr",
     "output_type": "stream",
     "text": [
      "100%|██████████| 4/4 [00:15<00:00,  3.84s/it]\n"
     ]
    },
    {
     "name": "stdout",
     "output_type": "stream",
     "text": [
      "{'split': 4, 'parallel_max': 2, 'time': 16.2370023727417, 'points': 10000, 'points_per_split': 2500, 'split_per_parallel': 2.0, 'directory': '/gdata1/data/tide_models_clipped/', 'model': 'EOT20'}\n",
      "Modelling tides using EOT20 in parallel\n"
     ]
    },
    {
     "name": "stderr",
     "output_type": "stream",
     "text": [
      "100%|██████████| 5/5 [00:19<00:00,  3.95s/it]\n"
     ]
    },
    {
     "name": "stdout",
     "output_type": "stream",
     "text": [
      "{'split': 5, 'parallel_max': 2, 'time': 20.611429691314697, 'points': 10000, 'points_per_split': 2000, 'split_per_parallel': 2.5, 'directory': '/gdata1/data/tide_models_clipped/', 'model': 'EOT20'}\n",
      "Modelling tides using EOT20 in parallel\n"
     ]
    },
    {
     "name": "stderr",
     "output_type": "stream",
     "text": [
      "100%|██████████| 6/6 [00:18<00:00,  3.04s/it]\n"
     ]
    },
    {
     "name": "stdout",
     "output_type": "stream",
     "text": [
      "{'split': 6, 'parallel_max': 2, 'time': 19.21670365333557, 'points': 10000, 'points_per_split': 1666, 'split_per_parallel': 3.0, 'directory': '/gdata1/data/tide_models_clipped/', 'model': 'EOT20'}\n",
      "Modelling tides using EOT20 in parallel\n"
     ]
    },
    {
     "name": "stderr",
     "output_type": "stream",
     "text": [
      "100%|██████████| 8/8 [00:20<00:00,  2.61s/it]\n"
     ]
    },
    {
     "name": "stdout",
     "output_type": "stream",
     "text": [
      "{'split': 8, 'parallel_max': 2, 'time': 21.765028953552246, 'points': 10000, 'points_per_split': 1250, 'split_per_parallel': 4.0, 'directory': '/gdata1/data/tide_models_clipped/', 'model': 'EOT20'}\n",
      "Modelling tides using EOT20 in parallel\n"
     ]
    },
    {
     "name": "stderr",
     "output_type": "stream",
     "text": [
      "100%|██████████| 10/10 [00:23<00:00,  2.34s/it]\n"
     ]
    },
    {
     "name": "stdout",
     "output_type": "stream",
     "text": [
      "{'split': 10, 'parallel_max': 2, 'time': 24.29056668281555, 'points': 10000, 'points_per_split': 1000, 'split_per_parallel': 5.0, 'directory': '/gdata1/data/tide_models_clipped/', 'model': 'EOT20'}\n",
      "Modelling tides using EOT20 in parallel\n"
     ]
    },
    {
     "name": "stderr",
     "output_type": "stream",
     "text": [
      "100%|██████████| 12/12 [00:25<00:00,  2.16s/it]\n"
     ]
    },
    {
     "name": "stdout",
     "output_type": "stream",
     "text": [
      "{'split': 12, 'parallel_max': 2, 'time': 26.943108081817627, 'points': 10000, 'points_per_split': 833, 'split_per_parallel': 6.0, 'directory': '/gdata1/data/tide_models_clipped/', 'model': 'EOT20'}\n",
      "Modelling tides using EOT20 in parallel\n"
     ]
    },
    {
     "name": "stderr",
     "output_type": "stream",
     "text": [
      "100%|██████████| 16/16 [00:30<00:00,  1.91s/it]\n"
     ]
    },
    {
     "name": "stdout",
     "output_type": "stream",
     "text": [
      "{'split': 16, 'parallel_max': 2, 'time': 31.49936294555664, 'points': 10000, 'points_per_split': 625, 'split_per_parallel': 8.0, 'directory': '/gdata1/data/tide_models_clipped/', 'model': 'EOT20'}\n",
      "Modelling tides using EOT20 in parallel\n"
     ]
    },
    {
     "name": "stderr",
     "output_type": "stream",
     "text": [
      "100%|██████████| 20/20 [00:35<00:00,  1.78s/it]\n"
     ]
    },
    {
     "name": "stdout",
     "output_type": "stream",
     "text": [
      "{'split': 20, 'parallel_max': 2, 'time': 36.52475309371948, 'points': 10000, 'points_per_split': 500, 'split_per_parallel': 10.0, 'directory': '/gdata1/data/tide_models_clipped/', 'model': 'EOT20'}\n",
      "Modelling tides using EOT20\n",
      "{'split': 1, 'parallel_max': 4, 'time': 21.668402433395386, 'points': 10000, 'points_per_split': 10000, 'split_per_parallel': 0.25, 'directory': '/gdata1/data/tide_models_clipped/', 'model': 'EOT20'}\n",
      "Modelling tides using EOT20 in parallel\n"
     ]
    },
    {
     "name": "stderr",
     "output_type": "stream",
     "text": [
      "100%|██████████| 2/2 [00:12<00:00,  6.43s/it]\n"
     ]
    },
    {
     "name": "stdout",
     "output_type": "stream",
     "text": [
      "{'split': 2, 'parallel_max': 4, 'time': 13.828262329101562, 'points': 10000, 'points_per_split': 5000, 'split_per_parallel': 0.5, 'directory': '/gdata1/data/tide_models_clipped/', 'model': 'EOT20'}\n",
      "Modelling tides using EOT20 in parallel\n"
     ]
    },
    {
     "name": "stderr",
     "output_type": "stream",
     "text": [
      "100%|██████████| 3/3 [00:09<00:00,  3.29s/it]\n"
     ]
    },
    {
     "name": "stdout",
     "output_type": "stream",
     "text": [
      "{'split': 3, 'parallel_max': 4, 'time': 10.802367448806763, 'points': 10000, 'points_per_split': 3333, 'split_per_parallel': 0.75, 'directory': '/gdata1/data/tide_models_clipped/', 'model': 'EOT20'}\n",
      "Modelling tides using EOT20 in parallel\n"
     ]
    },
    {
     "name": "stderr",
     "output_type": "stream",
     "text": [
      "100%|██████████| 4/4 [00:09<00:00,  2.30s/it]\n"
     ]
    },
    {
     "name": "stdout",
     "output_type": "stream",
     "text": [
      "{'split': 4, 'parallel_max': 4, 'time': 10.173426866531372, 'points': 10000, 'points_per_split': 2500, 'split_per_parallel': 1.0, 'directory': '/gdata1/data/tide_models_clipped/', 'model': 'EOT20'}\n",
      "Modelling tides using EOT20 in parallel\n"
     ]
    },
    {
     "name": "stderr",
     "output_type": "stream",
     "text": [
      "100%|██████████| 5/5 [00:13<00:00,  2.77s/it]\n"
     ]
    },
    {
     "name": "stdout",
     "output_type": "stream",
     "text": [
      "{'split': 5, 'parallel_max': 4, 'time': 14.819823741912842, 'points': 10000, 'points_per_split': 2000, 'split_per_parallel': 1.25, 'directory': '/gdata1/data/tide_models_clipped/', 'model': 'EOT20'}\n",
      "Modelling tides using EOT20 in parallel\n"
     ]
    },
    {
     "name": "stderr",
     "output_type": "stream",
     "text": [
      "100%|██████████| 6/6 [00:13<00:00,  2.27s/it]\n"
     ]
    },
    {
     "name": "stdout",
     "output_type": "stream",
     "text": [
      "{'split': 6, 'parallel_max': 4, 'time': 14.693720817565918, 'points': 10000, 'points_per_split': 1666, 'split_per_parallel': 1.5, 'directory': '/gdata1/data/tide_models_clipped/', 'model': 'EOT20'}\n",
      "Modelling tides using EOT20 in parallel\n"
     ]
    },
    {
     "name": "stderr",
     "output_type": "stream",
     "text": [
      "100%|██████████| 8/8 [00:11<00:00,  1.49s/it]\n"
     ]
    },
    {
     "name": "stdout",
     "output_type": "stream",
     "text": [
      "{'split': 8, 'parallel_max': 4, 'time': 12.84511137008667, 'points': 10000, 'points_per_split': 1250, 'split_per_parallel': 2.0, 'directory': '/gdata1/data/tide_models_clipped/', 'model': 'EOT20'}\n",
      "Modelling tides using EOT20 in parallel\n"
     ]
    },
    {
     "name": "stderr",
     "output_type": "stream",
     "text": [
      "100%|██████████| 10/10 [00:14<00:00,  1.48s/it]\n"
     ]
    },
    {
     "name": "stdout",
     "output_type": "stream",
     "text": [
      "{'split': 10, 'parallel_max': 4, 'time': 15.768202543258667, 'points': 10000, 'points_per_split': 1000, 'split_per_parallel': 2.5, 'directory': '/gdata1/data/tide_models_clipped/', 'model': 'EOT20'}\n",
      "Modelling tides using EOT20 in parallel\n"
     ]
    },
    {
     "name": "stderr",
     "output_type": "stream",
     "text": [
      "100%|██████████| 12/12 [00:14<00:00,  1.18s/it]\n"
     ]
    },
    {
     "name": "stdout",
     "output_type": "stream",
     "text": [
      "{'split': 12, 'parallel_max': 4, 'time': 15.13057255744934, 'points': 10000, 'points_per_split': 833, 'split_per_parallel': 3.0, 'directory': '/gdata1/data/tide_models_clipped/', 'model': 'EOT20'}\n",
      "Modelling tides using EOT20 in parallel\n"
     ]
    },
    {
     "name": "stderr",
     "output_type": "stream",
     "text": [
      "100%|██████████| 16/16 [00:16<00:00,  1.05s/it]\n"
     ]
    },
    {
     "name": "stdout",
     "output_type": "stream",
     "text": [
      "{'split': 16, 'parallel_max': 4, 'time': 17.83345913887024, 'points': 10000, 'points_per_split': 625, 'split_per_parallel': 4.0, 'directory': '/gdata1/data/tide_models_clipped/', 'model': 'EOT20'}\n",
      "Modelling tides using EOT20 in parallel\n"
     ]
    },
    {
     "name": "stderr",
     "output_type": "stream",
     "text": [
      "100%|██████████| 20/20 [00:19<00:00,  1.02it/s]\n"
     ]
    },
    {
     "name": "stdout",
     "output_type": "stream",
     "text": [
      "{'split': 20, 'parallel_max': 4, 'time': 20.75438380241394, 'points': 10000, 'points_per_split': 500, 'split_per_parallel': 5.0, 'directory': '/gdata1/data/tide_models_clipped/', 'model': 'EOT20'}\n",
      "Modelling tides using EOT20\n",
      "{'split': 1, 'parallel_max': 8, 'time': 21.766361236572266, 'points': 10000, 'points_per_split': 10000, 'split_per_parallel': 0.125, 'directory': '/gdata1/data/tide_models_clipped/', 'model': 'EOT20'}\n",
      "Modelling tides using EOT20 in parallel\n"
     ]
    },
    {
     "name": "stderr",
     "output_type": "stream",
     "text": [
      "100%|██████████| 2/2 [00:12<00:00,  6.27s/it]\n"
     ]
    },
    {
     "name": "stdout",
     "output_type": "stream",
     "text": [
      "{'split': 2, 'parallel_max': 8, 'time': 13.665264129638672, 'points': 10000, 'points_per_split': 5000, 'split_per_parallel': 0.25, 'directory': '/gdata1/data/tide_models_clipped/', 'model': 'EOT20'}\n",
      "Modelling tides using EOT20 in parallel\n"
     ]
    },
    {
     "name": "stderr",
     "output_type": "stream",
     "text": [
      "100%|██████████| 3/3 [00:09<00:00,  3.28s/it]\n"
     ]
    },
    {
     "name": "stdout",
     "output_type": "stream",
     "text": [
      "{'split': 3, 'parallel_max': 8, 'time': 10.947334051132202, 'points': 10000, 'points_per_split': 3333, 'split_per_parallel': 0.375, 'directory': '/gdata1/data/tide_models_clipped/', 'model': 'EOT20'}\n",
      "Modelling tides using EOT20 in parallel\n"
     ]
    },
    {
     "name": "stderr",
     "output_type": "stream",
     "text": [
      "100%|██████████| 4/4 [00:09<00:00,  2.32s/it]\n"
     ]
    },
    {
     "name": "stdout",
     "output_type": "stream",
     "text": [
      "{'split': 4, 'parallel_max': 8, 'time': 10.52197265625, 'points': 10000, 'points_per_split': 2500, 'split_per_parallel': 0.5, 'directory': '/gdata1/data/tide_models_clipped/', 'model': 'EOT20'}\n",
      "Modelling tides using EOT20 in parallel\n"
     ]
    },
    {
     "name": "stderr",
     "output_type": "stream",
     "text": [
      "100%|██████████| 5/5 [00:08<00:00,  1.65s/it]\n"
     ]
    },
    {
     "name": "stdout",
     "output_type": "stream",
     "text": [
      "{'split': 5, 'parallel_max': 8, 'time': 9.36280369758606, 'points': 10000, 'points_per_split': 2000, 'split_per_parallel': 0.625, 'directory': '/gdata1/data/tide_models_clipped/', 'model': 'EOT20'}\n",
      "Modelling tides using EOT20 in parallel\n"
     ]
    },
    {
     "name": "stderr",
     "output_type": "stream",
     "text": [
      "100%|██████████| 6/6 [00:08<00:00,  1.47s/it]\n"
     ]
    },
    {
     "name": "stdout",
     "output_type": "stream",
     "text": [
      "{'split': 6, 'parallel_max': 8, 'time': 9.949939012527466, 'points': 10000, 'points_per_split': 1666, 'split_per_parallel': 0.75, 'directory': '/gdata1/data/tide_models_clipped/', 'model': 'EOT20'}\n",
      "Modelling tides using EOT20 in parallel\n"
     ]
    },
    {
     "name": "stderr",
     "output_type": "stream",
     "text": [
      "100%|██████████| 8/8 [00:09<00:00,  1.17s/it]\n"
     ]
    },
    {
     "name": "stdout",
     "output_type": "stream",
     "text": [
      "{'split': 8, 'parallel_max': 8, 'time': 10.472018480300903, 'points': 10000, 'points_per_split': 1250, 'split_per_parallel': 1.0, 'directory': '/gdata1/data/tide_models_clipped/', 'model': 'EOT20'}\n",
      "Modelling tides using EOT20 in parallel\n"
     ]
    },
    {
     "name": "stderr",
     "output_type": "stream",
     "text": [
      "100%|██████████| 10/10 [00:10<00:00,  1.08s/it]\n"
     ]
    },
    {
     "name": "stdout",
     "output_type": "stream",
     "text": [
      "{'split': 10, 'parallel_max': 8, 'time': 12.007705450057983, 'points': 10000, 'points_per_split': 1000, 'split_per_parallel': 1.25, 'directory': '/gdata1/data/tide_models_clipped/', 'model': 'EOT20'}\n",
      "Modelling tides using EOT20 in parallel\n"
     ]
    },
    {
     "name": "stderr",
     "output_type": "stream",
     "text": [
      "100%|██████████| 12/12 [00:10<00:00,  1.15it/s]\n"
     ]
    },
    {
     "name": "stdout",
     "output_type": "stream",
     "text": [
      "{'split': 12, 'parallel_max': 8, 'time': 11.651570081710815, 'points': 10000, 'points_per_split': 833, 'split_per_parallel': 1.5, 'directory': '/gdata1/data/tide_models_clipped/', 'model': 'EOT20'}\n",
      "Modelling tides using EOT20 in parallel\n"
     ]
    },
    {
     "name": "stderr",
     "output_type": "stream",
     "text": [
      "100%|██████████| 16/16 [00:10<00:00,  1.53it/s]\n"
     ]
    },
    {
     "name": "stdout",
     "output_type": "stream",
     "text": [
      "{'split': 16, 'parallel_max': 8, 'time': 11.755990266799927, 'points': 10000, 'points_per_split': 625, 'split_per_parallel': 2.0, 'directory': '/gdata1/data/tide_models_clipped/', 'model': 'EOT20'}\n",
      "Modelling tides using EOT20 in parallel\n"
     ]
    },
    {
     "name": "stderr",
     "output_type": "stream",
     "text": [
      "100%|██████████| 20/20 [00:13<00:00,  1.50it/s]\n"
     ]
    },
    {
     "name": "stdout",
     "output_type": "stream",
     "text": [
      "{'split': 20, 'parallel_max': 8, 'time': 14.515588283538818, 'points': 10000, 'points_per_split': 500, 'split_per_parallel': 2.5, 'directory': '/gdata1/data/tide_models_clipped/', 'model': 'EOT20'}\n",
      "Modelling tides using EOT20\n",
      "{'split': 1, 'parallel_max': 16, 'time': 21.664205074310303, 'points': 10000, 'points_per_split': 10000, 'split_per_parallel': 0.0625, 'directory': '/gdata1/data/tide_models_clipped/', 'model': 'EOT20'}\n",
      "Modelling tides using EOT20 in parallel\n"
     ]
    },
    {
     "name": "stderr",
     "output_type": "stream",
     "text": [
      "100%|██████████| 2/2 [00:13<00:00,  6.54s/it]\n"
     ]
    },
    {
     "name": "stdout",
     "output_type": "stream",
     "text": [
      "{'split': 2, 'parallel_max': 16, 'time': 14.494793891906738, 'points': 10000, 'points_per_split': 5000, 'split_per_parallel': 0.125, 'directory': '/gdata1/data/tide_models_clipped/', 'model': 'EOT20'}\n",
      "Modelling tides using EOT20 in parallel\n"
     ]
    },
    {
     "name": "stderr",
     "output_type": "stream",
     "text": [
      "100%|██████████| 3/3 [00:10<00:00,  3.45s/it]\n"
     ]
    },
    {
     "name": "stdout",
     "output_type": "stream",
     "text": [
      "{'split': 3, 'parallel_max': 16, 'time': 11.869606494903564, 'points': 10000, 'points_per_split': 3333, 'split_per_parallel': 0.1875, 'directory': '/gdata1/data/tide_models_clipped/', 'model': 'EOT20'}\n",
      "Modelling tides using EOT20 in parallel\n"
     ]
    },
    {
     "name": "stderr",
     "output_type": "stream",
     "text": [
      "100%|██████████| 4/4 [00:09<00:00,  2.32s/it]\n"
     ]
    },
    {
     "name": "stdout",
     "output_type": "stream",
     "text": [
      "{'split': 4, 'parallel_max': 16, 'time': 10.705569982528687, 'points': 10000, 'points_per_split': 2500, 'split_per_parallel': 0.25, 'directory': '/gdata1/data/tide_models_clipped/', 'model': 'EOT20'}\n",
      "Modelling tides using EOT20 in parallel\n"
     ]
    },
    {
     "name": "stderr",
     "output_type": "stream",
     "text": [
      "100%|██████████| 5/5 [00:08<00:00,  1.71s/it]\n"
     ]
    },
    {
     "name": "stdout",
     "output_type": "stream",
     "text": [
      "{'split': 5, 'parallel_max': 16, 'time': 9.93360948562622, 'points': 10000, 'points_per_split': 2000, 'split_per_parallel': 0.3125, 'directory': '/gdata1/data/tide_models_clipped/', 'model': 'EOT20'}\n",
      "Modelling tides using EOT20 in parallel\n"
     ]
    },
    {
     "name": "stderr",
     "output_type": "stream",
     "text": [
      "100%|██████████| 6/6 [00:08<00:00,  1.37s/it]\n"
     ]
    },
    {
     "name": "stdout",
     "output_type": "stream",
     "text": [
      "{'split': 6, 'parallel_max': 16, 'time': 9.642301559448242, 'points': 10000, 'points_per_split': 1666, 'split_per_parallel': 0.375, 'directory': '/gdata1/data/tide_models_clipped/', 'model': 'EOT20'}\n",
      "Modelling tides using EOT20 in parallel\n"
     ]
    },
    {
     "name": "stderr",
     "output_type": "stream",
     "text": [
      "100%|██████████| 8/8 [00:08<00:00,  1.09s/it]\n"
     ]
    },
    {
     "name": "stdout",
     "output_type": "stream",
     "text": [
      "{'split': 8, 'parallel_max': 16, 'time': 10.17075800895691, 'points': 10000, 'points_per_split': 1250, 'split_per_parallel': 0.5, 'directory': '/gdata1/data/tide_models_clipped/', 'model': 'EOT20'}\n",
      "Modelling tides using EOT20 in parallel\n"
     ]
    },
    {
     "name": "stderr",
     "output_type": "stream",
     "text": [
      "100%|██████████| 10/10 [00:09<00:00,  1.05it/s]\n"
     ]
    },
    {
     "name": "stdout",
     "output_type": "stream",
     "text": [
      "{'split': 10, 'parallel_max': 16, 'time': 10.977132320404053, 'points': 10000, 'points_per_split': 1000, 'split_per_parallel': 0.625, 'directory': '/gdata1/data/tide_models_clipped/', 'model': 'EOT20'}\n",
      "Modelling tides using EOT20 in parallel\n"
     ]
    },
    {
     "name": "stderr",
     "output_type": "stream",
     "text": [
      "100%|██████████| 12/12 [00:08<00:00,  1.35it/s]\n"
     ]
    },
    {
     "name": "stdout",
     "output_type": "stream",
     "text": [
      "{'split': 12, 'parallel_max': 16, 'time': 10.468158721923828, 'points': 10000, 'points_per_split': 833, 'split_per_parallel': 0.75, 'directory': '/gdata1/data/tide_models_clipped/', 'model': 'EOT20'}\n",
      "Modelling tides using EOT20 in parallel\n"
     ]
    },
    {
     "name": "stderr",
     "output_type": "stream",
     "text": [
      "100%|██████████| 16/16 [00:09<00:00,  1.64it/s]\n"
     ]
    },
    {
     "name": "stdout",
     "output_type": "stream",
     "text": [
      "{'split': 16, 'parallel_max': 16, 'time': 11.378776788711548, 'points': 10000, 'points_per_split': 625, 'split_per_parallel': 1.0, 'directory': '/gdata1/data/tide_models_clipped/', 'model': 'EOT20'}\n",
      "Modelling tides using EOT20 in parallel\n"
     ]
    },
    {
     "name": "stderr",
     "output_type": "stream",
     "text": [
      "100%|██████████| 20/20 [00:10<00:00,  1.83it/s]\n"
     ]
    },
    {
     "name": "stdout",
     "output_type": "stream",
     "text": [
      "{'split': 20, 'parallel_max': 16, 'time': 12.403078317642212, 'points': 10000, 'points_per_split': 500, 'split_per_parallel': 1.25, 'directory': '/gdata1/data/tide_models_clipped/', 'model': 'EOT20'}\n",
      "Modelling tides using EOT20\n",
      "{'split': 1, 'parallel_max': 2, 'time': 206.48058152198792, 'points': 100000, 'points_per_split': 100000, 'split_per_parallel': 0.5, 'directory': '/gdata1/data/tide_models_clipped/', 'model': 'EOT20'}\n",
      "Modelling tides using EOT20 in parallel\n"
     ]
    },
    {
     "name": "stderr",
     "output_type": "stream",
     "text": [
      "100%|██████████| 2/2 [01:47<00:00, 53.84s/it] \n"
     ]
    },
    {
     "name": "stdout",
     "output_type": "stream",
     "text": [
      "{'split': 2, 'parallel_max': 2, 'time': 109.08918809890747, 'points': 100000, 'points_per_split': 50000, 'split_per_parallel': 1.0, 'directory': '/gdata1/data/tide_models_clipped/', 'model': 'EOT20'}\n",
      "Modelling tides using EOT20 in parallel\n"
     ]
    },
    {
     "name": "stderr",
     "output_type": "stream",
     "text": [
      "100%|██████████| 3/3 [02:19<00:00, 46.56s/it]\n"
     ]
    },
    {
     "name": "stdout",
     "output_type": "stream",
     "text": [
      "{'split': 3, 'parallel_max': 2, 'time': 141.13791918754578, 'points': 100000, 'points_per_split': 33333, 'split_per_parallel': 1.5, 'directory': '/gdata1/data/tide_models_clipped/', 'model': 'EOT20'}\n",
      "Modelling tides using EOT20 in parallel\n"
     ]
    },
    {
     "name": "stderr",
     "output_type": "stream",
     "text": [
      "100%|██████████| 4/4 [01:40<00:00, 25.21s/it]\n"
     ]
    },
    {
     "name": "stdout",
     "output_type": "stream",
     "text": [
      "{'split': 4, 'parallel_max': 2, 'time': 102.24982476234436, 'points': 100000, 'points_per_split': 25000, 'split_per_parallel': 2.0, 'directory': '/gdata1/data/tide_models_clipped/', 'model': 'EOT20'}\n",
      "Modelling tides using EOT20 in parallel\n"
     ]
    },
    {
     "name": "stderr",
     "output_type": "stream",
     "text": [
      "100%|██████████| 5/5 [02:04<00:00, 24.94s/it]\n"
     ]
    },
    {
     "name": "stdout",
     "output_type": "stream",
     "text": [
      "{'split': 5, 'parallel_max': 2, 'time': 126.11200904846191, 'points': 100000, 'points_per_split': 20000, 'split_per_parallel': 2.5, 'directory': '/gdata1/data/tide_models_clipped/', 'model': 'EOT20'}\n",
      "Modelling tides using EOT20 in parallel\n"
     ]
    },
    {
     "name": "stderr",
     "output_type": "stream",
     "text": [
      "100%|██████████| 6/6 [01:43<00:00, 17.25s/it]\n"
     ]
    },
    {
     "name": "stdout",
     "output_type": "stream",
     "text": [
      "{'split': 6, 'parallel_max': 2, 'time': 104.85350227355957, 'points': 100000, 'points_per_split': 16666, 'split_per_parallel': 3.0, 'directory': '/gdata1/data/tide_models_clipped/', 'model': 'EOT20'}\n",
      "Modelling tides using EOT20 in parallel\n"
     ]
    },
    {
     "name": "stderr",
     "output_type": "stream",
     "text": [
      "100%|██████████| 8/8 [01:46<00:00, 13.28s/it]\n"
     ]
    },
    {
     "name": "stdout",
     "output_type": "stream",
     "text": [
      "{'split': 8, 'parallel_max': 2, 'time': 107.63330364227295, 'points': 100000, 'points_per_split': 12500, 'split_per_parallel': 4.0, 'directory': '/gdata1/data/tide_models_clipped/', 'model': 'EOT20'}\n",
      "Modelling tides using EOT20 in parallel\n"
     ]
    },
    {
     "name": "stderr",
     "output_type": "stream",
     "text": [
      "100%|██████████| 10/10 [01:49<00:00, 10.92s/it]\n"
     ]
    },
    {
     "name": "stdout",
     "output_type": "stream",
     "text": [
      "{'split': 10, 'parallel_max': 2, 'time': 110.59881782531738, 'points': 100000, 'points_per_split': 10000, 'split_per_parallel': 5.0, 'directory': '/gdata1/data/tide_models_clipped/', 'model': 'EOT20'}\n",
      "Modelling tides using EOT20 in parallel\n"
     ]
    },
    {
     "name": "stderr",
     "output_type": "stream",
     "text": [
      "100%|██████████| 12/12 [01:51<00:00,  9.33s/it]\n"
     ]
    },
    {
     "name": "stdout",
     "output_type": "stream",
     "text": [
      "{'split': 12, 'parallel_max': 2, 'time': 113.39743661880493, 'points': 100000, 'points_per_split': 8333, 'split_per_parallel': 6.0, 'directory': '/gdata1/data/tide_models_clipped/', 'model': 'EOT20'}\n",
      "Modelling tides using EOT20 in parallel\n"
     ]
    },
    {
     "name": "stderr",
     "output_type": "stream",
     "text": [
      "100%|██████████| 16/16 [01:57<00:00,  7.36s/it]\n"
     ]
    },
    {
     "name": "stdout",
     "output_type": "stream",
     "text": [
      "{'split': 16, 'parallel_max': 2, 'time': 119.18248271942139, 'points': 100000, 'points_per_split': 6250, 'split_per_parallel': 8.0, 'directory': '/gdata1/data/tide_models_clipped/', 'model': 'EOT20'}\n",
      "Modelling tides using EOT20 in parallel\n"
     ]
    },
    {
     "name": "stderr",
     "output_type": "stream",
     "text": [
      "100%|██████████| 20/20 [02:03<00:00,  6.19s/it]\n"
     ]
    },
    {
     "name": "stdout",
     "output_type": "stream",
     "text": [
      "{'split': 20, 'parallel_max': 2, 'time': 125.23232054710388, 'points': 100000, 'points_per_split': 5000, 'split_per_parallel': 10.0, 'directory': '/gdata1/data/tide_models_clipped/', 'model': 'EOT20'}\n",
      "Modelling tides using EOT20\n",
      "{'split': 1, 'parallel_max': 4, 'time': 207.57323265075684, 'points': 100000, 'points_per_split': 100000, 'split_per_parallel': 0.25, 'directory': '/gdata1/data/tide_models_clipped/', 'model': 'EOT20'}\n",
      "Modelling tides using EOT20 in parallel\n"
     ]
    },
    {
     "name": "stderr",
     "output_type": "stream",
     "text": [
      "100%|██████████| 2/2 [01:53<00:00, 56.52s/it] \n"
     ]
    },
    {
     "name": "stdout",
     "output_type": "stream",
     "text": [
      "{'split': 2, 'parallel_max': 4, 'time': 114.5426197052002, 'points': 100000, 'points_per_split': 50000, 'split_per_parallel': 0.5, 'directory': '/gdata1/data/tide_models_clipped/', 'model': 'EOT20'}\n",
      "Modelling tides using EOT20 in parallel\n"
     ]
    },
    {
     "name": "stderr",
     "output_type": "stream",
     "text": [
      "100%|██████████| 3/3 [01:11<00:00, 23.88s/it]\n"
     ]
    },
    {
     "name": "stdout",
     "output_type": "stream",
     "text": [
      "{'split': 3, 'parallel_max': 4, 'time': 73.1483039855957, 'points': 100000, 'points_per_split': 33333, 'split_per_parallel': 0.75, 'directory': '/gdata1/data/tide_models_clipped/', 'model': 'EOT20'}\n",
      "Modelling tides using EOT20 in parallel\n"
     ]
    },
    {
     "name": "stderr",
     "output_type": "stream",
     "text": [
      "100%|██████████| 4/4 [00:54<00:00, 13.52s/it]\n"
     ]
    },
    {
     "name": "stdout",
     "output_type": "stream",
     "text": [
      "{'split': 4, 'parallel_max': 4, 'time': 55.540321588516235, 'points': 100000, 'points_per_split': 25000, 'split_per_parallel': 1.0, 'directory': '/gdata1/data/tide_models_clipped/', 'model': 'EOT20'}\n",
      "Modelling tides using EOT20 in parallel\n"
     ]
    },
    {
     "name": "stderr",
     "output_type": "stream",
     "text": [
      "100%|██████████| 5/5 [01:24<00:00, 16.82s/it]\n"
     ]
    },
    {
     "name": "stdout",
     "output_type": "stream",
     "text": [
      "{'split': 5, 'parallel_max': 4, 'time': 85.42603087425232, 'points': 100000, 'points_per_split': 20000, 'split_per_parallel': 1.25, 'directory': '/gdata1/data/tide_models_clipped/', 'model': 'EOT20'}\n",
      "Modelling tides using EOT20 in parallel\n"
     ]
    },
    {
     "name": "stderr",
     "output_type": "stream",
     "text": [
      "100%|██████████| 6/6 [01:09<00:00, 11.65s/it]\n"
     ]
    },
    {
     "name": "stdout",
     "output_type": "stream",
     "text": [
      "{'split': 6, 'parallel_max': 4, 'time': 71.45185613632202, 'points': 100000, 'points_per_split': 16666, 'split_per_parallel': 1.5, 'directory': '/gdata1/data/tide_models_clipped/', 'model': 'EOT20'}\n",
      "Modelling tides using EOT20 in parallel\n"
     ]
    },
    {
     "name": "stderr",
     "output_type": "stream",
     "text": [
      "100%|██████████| 8/8 [00:55<00:00,  6.90s/it]\n"
     ]
    },
    {
     "name": "stdout",
     "output_type": "stream",
     "text": [
      "{'split': 8, 'parallel_max': 4, 'time': 56.7194709777832, 'points': 100000, 'points_per_split': 12500, 'split_per_parallel': 2.0, 'directory': '/gdata1/data/tide_models_clipped/', 'model': 'EOT20'}\n",
      "Modelling tides using EOT20 in parallel\n"
     ]
    },
    {
     "name": "stderr",
     "output_type": "stream",
     "text": [
      "100%|██████████| 10/10 [01:07<00:00,  6.72s/it]\n"
     ]
    },
    {
     "name": "stdout",
     "output_type": "stream",
     "text": [
      "{'split': 10, 'parallel_max': 4, 'time': 68.70168733596802, 'points': 100000, 'points_per_split': 10000, 'split_per_parallel': 2.5, 'directory': '/gdata1/data/tide_models_clipped/', 'model': 'EOT20'}\n",
      "Modelling tides using EOT20 in parallel\n"
     ]
    },
    {
     "name": "stderr",
     "output_type": "stream",
     "text": [
      "100%|██████████| 12/12 [00:58<00:00,  4.88s/it]\n"
     ]
    },
    {
     "name": "stdout",
     "output_type": "stream",
     "text": [
      "{'split': 12, 'parallel_max': 4, 'time': 60.217631578445435, 'points': 100000, 'points_per_split': 8333, 'split_per_parallel': 3.0, 'directory': '/gdata1/data/tide_models_clipped/', 'model': 'EOT20'}\n",
      "Modelling tides using EOT20 in parallel\n"
     ]
    },
    {
     "name": "stderr",
     "output_type": "stream",
     "text": [
      "100%|██████████| 16/16 [01:01<00:00,  3.82s/it]\n"
     ]
    },
    {
     "name": "stdout",
     "output_type": "stream",
     "text": [
      "{'split': 16, 'parallel_max': 4, 'time': 62.69625210762024, 'points': 100000, 'points_per_split': 6250, 'split_per_parallel': 4.0, 'directory': '/gdata1/data/tide_models_clipped/', 'model': 'EOT20'}\n",
      "Modelling tides using EOT20 in parallel\n"
     ]
    },
    {
     "name": "stderr",
     "output_type": "stream",
     "text": [
      "100%|██████████| 20/20 [01:05<00:00,  3.27s/it]\n"
     ]
    },
    {
     "name": "stdout",
     "output_type": "stream",
     "text": [
      "{'split': 20, 'parallel_max': 4, 'time': 67.09255361557007, 'points': 100000, 'points_per_split': 5000, 'split_per_parallel': 5.0, 'directory': '/gdata1/data/tide_models_clipped/', 'model': 'EOT20'}\n",
      "Modelling tides using EOT20\n",
      "{'split': 1, 'parallel_max': 8, 'time': 206.0199911594391, 'points': 100000, 'points_per_split': 100000, 'split_per_parallel': 0.125, 'directory': '/gdata1/data/tide_models_clipped/', 'model': 'EOT20'}\n",
      "Modelling tides using EOT20 in parallel\n"
     ]
    },
    {
     "name": "stderr",
     "output_type": "stream",
     "text": [
      "100%|██████████| 2/2 [01:48<00:00, 54.06s/it] \n"
     ]
    },
    {
     "name": "stdout",
     "output_type": "stream",
     "text": [
      "{'split': 2, 'parallel_max': 8, 'time': 109.81371188163757, 'points': 100000, 'points_per_split': 50000, 'split_per_parallel': 0.25, 'directory': '/gdata1/data/tide_models_clipped/', 'model': 'EOT20'}\n",
      "Modelling tides using EOT20 in parallel\n"
     ]
    },
    {
     "name": "stderr",
     "output_type": "stream",
     "text": [
      "100%|██████████| 3/3 [01:11<00:00, 24.00s/it]\n"
     ]
    },
    {
     "name": "stdout",
     "output_type": "stream",
     "text": [
      "{'split': 3, 'parallel_max': 8, 'time': 73.70318651199341, 'points': 100000, 'points_per_split': 33333, 'split_per_parallel': 0.375, 'directory': '/gdata1/data/tide_models_clipped/', 'model': 'EOT20'}\n",
      "Modelling tides using EOT20 in parallel\n"
     ]
    },
    {
     "name": "stderr",
     "output_type": "stream",
     "text": [
      "100%|██████████| 4/4 [00:53<00:00, 13.46s/it]\n"
     ]
    },
    {
     "name": "stdout",
     "output_type": "stream",
     "text": [
      "{'split': 4, 'parallel_max': 8, 'time': 55.54593014717102, 'points': 100000, 'points_per_split': 25000, 'split_per_parallel': 0.5, 'directory': '/gdata1/data/tide_models_clipped/', 'model': 'EOT20'}\n",
      "Modelling tides using EOT20 in parallel\n"
     ]
    },
    {
     "name": "stderr",
     "output_type": "stream",
     "text": [
      "100%|██████████| 5/5 [00:44<00:00,  8.99s/it]\n"
     ]
    },
    {
     "name": "stdout",
     "output_type": "stream",
     "text": [
      "{'split': 5, 'parallel_max': 8, 'time': 46.519240379333496, 'points': 100000, 'points_per_split': 20000, 'split_per_parallel': 0.625, 'directory': '/gdata1/data/tide_models_clipped/', 'model': 'EOT20'}\n",
      "Modelling tides using EOT20 in parallel\n"
     ]
    },
    {
     "name": "stderr",
     "output_type": "stream",
     "text": [
      "100%|██████████| 6/6 [00:38<00:00,  6.49s/it]\n"
     ]
    },
    {
     "name": "stdout",
     "output_type": "stream",
     "text": [
      "{'split': 6, 'parallel_max': 8, 'time': 40.687695026397705, 'points': 100000, 'points_per_split': 16666, 'split_per_parallel': 0.75, 'directory': '/gdata1/data/tide_models_clipped/', 'model': 'EOT20'}\n",
      "Modelling tides using EOT20 in parallel\n"
     ]
    },
    {
     "name": "stderr",
     "output_type": "stream",
     "text": [
      "100%|██████████| 8/8 [00:31<00:00,  3.94s/it]\n"
     ]
    },
    {
     "name": "stdout",
     "output_type": "stream",
     "text": [
      "{'split': 8, 'parallel_max': 8, 'time': 33.14250874519348, 'points': 100000, 'points_per_split': 12500, 'split_per_parallel': 1.0, 'directory': '/gdata1/data/tide_models_clipped/', 'model': 'EOT20'}\n",
      "Modelling tides using EOT20 in parallel\n"
     ]
    },
    {
     "name": "stderr",
     "output_type": "stream",
     "text": [
      "100%|██████████| 10/10 [00:45<00:00,  4.56s/it]\n"
     ]
    },
    {
     "name": "stdout",
     "output_type": "stream",
     "text": [
      "{'split': 10, 'parallel_max': 8, 'time': 47.311853647232056, 'points': 100000, 'points_per_split': 10000, 'split_per_parallel': 1.25, 'directory': '/gdata1/data/tide_models_clipped/', 'model': 'EOT20'}\n",
      "Modelling tides using EOT20 in parallel\n"
     ]
    },
    {
     "name": "stderr",
     "output_type": "stream",
     "text": [
      "100%|██████████| 12/12 [00:40<00:00,  3.39s/it]\n"
     ]
    },
    {
     "name": "stdout",
     "output_type": "stream",
     "text": [
      "{'split': 12, 'parallel_max': 8, 'time': 42.34663009643555, 'points': 100000, 'points_per_split': 8333, 'split_per_parallel': 1.5, 'directory': '/gdata1/data/tide_models_clipped/', 'model': 'EOT20'}\n",
      "Modelling tides using EOT20 in parallel\n"
     ]
    },
    {
     "name": "stderr",
     "output_type": "stream",
     "text": [
      "100%|██████████| 16/16 [00:34<00:00,  2.16s/it]\n"
     ]
    },
    {
     "name": "stdout",
     "output_type": "stream",
     "text": [
      "{'split': 16, 'parallel_max': 8, 'time': 36.282265424728394, 'points': 100000, 'points_per_split': 6250, 'split_per_parallel': 2.0, 'directory': '/gdata1/data/tide_models_clipped/', 'model': 'EOT20'}\n",
      "Modelling tides using EOT20 in parallel\n"
     ]
    },
    {
     "name": "stderr",
     "output_type": "stream",
     "text": [
      "100%|██████████| 20/20 [00:41<00:00,  2.09s/it]\n"
     ]
    },
    {
     "name": "stdout",
     "output_type": "stream",
     "text": [
      "{'split': 20, 'parallel_max': 8, 'time': 43.34943342208862, 'points': 100000, 'points_per_split': 5000, 'split_per_parallel': 2.5, 'directory': '/gdata1/data/tide_models_clipped/', 'model': 'EOT20'}\n",
      "Modelling tides using EOT20\n",
      "{'split': 1, 'parallel_max': 16, 'time': 206.40290689468384, 'points': 100000, 'points_per_split': 100000, 'split_per_parallel': 0.0625, 'directory': '/gdata1/data/tide_models_clipped/', 'model': 'EOT20'}\n",
      "Modelling tides using EOT20 in parallel\n"
     ]
    },
    {
     "name": "stderr",
     "output_type": "stream",
     "text": [
      "100%|██████████| 2/2 [01:48<00:00, 54.26s/it] \n"
     ]
    },
    {
     "name": "stdout",
     "output_type": "stream",
     "text": [
      "{'split': 2, 'parallel_max': 16, 'time': 110.53279614448547, 'points': 100000, 'points_per_split': 50000, 'split_per_parallel': 0.125, 'directory': '/gdata1/data/tide_models_clipped/', 'model': 'EOT20'}\n",
      "Modelling tides using EOT20 in parallel\n"
     ]
    },
    {
     "name": "stderr",
     "output_type": "stream",
     "text": [
      "100%|██████████| 3/3 [01:12<00:00, 24.10s/it]\n"
     ]
    },
    {
     "name": "stdout",
     "output_type": "stream",
     "text": [
      "{'split': 3, 'parallel_max': 16, 'time': 74.35631084442139, 'points': 100000, 'points_per_split': 33333, 'split_per_parallel': 0.1875, 'directory': '/gdata1/data/tide_models_clipped/', 'model': 'EOT20'}\n",
      "Modelling tides using EOT20 in parallel\n"
     ]
    },
    {
     "name": "stderr",
     "output_type": "stream",
     "text": [
      "100%|██████████| 4/4 [00:54<00:00, 13.58s/it]\n"
     ]
    },
    {
     "name": "stdout",
     "output_type": "stream",
     "text": [
      "{'split': 4, 'parallel_max': 16, 'time': 56.3756320476532, 'points': 100000, 'points_per_split': 25000, 'split_per_parallel': 0.25, 'directory': '/gdata1/data/tide_models_clipped/', 'model': 'EOT20'}\n",
      "Modelling tides using EOT20 in parallel\n"
     ]
    },
    {
     "name": "stderr",
     "output_type": "stream",
     "text": [
      "100%|██████████| 5/5 [00:46<00:00,  9.38s/it]\n"
     ]
    },
    {
     "name": "stdout",
     "output_type": "stream",
     "text": [
      "{'split': 5, 'parallel_max': 16, 'time': 48.81891632080078, 'points': 100000, 'points_per_split': 20000, 'split_per_parallel': 0.3125, 'directory': '/gdata1/data/tide_models_clipped/', 'model': 'EOT20'}\n",
      "Modelling tides using EOT20 in parallel\n"
     ]
    },
    {
     "name": "stderr",
     "output_type": "stream",
     "text": [
      "100%|██████████| 6/6 [00:38<00:00,  6.35s/it]\n"
     ]
    },
    {
     "name": "stdout",
     "output_type": "stream",
     "text": [
      "{'split': 6, 'parallel_max': 16, 'time': 40.126490116119385, 'points': 100000, 'points_per_split': 16666, 'split_per_parallel': 0.375, 'directory': '/gdata1/data/tide_models_clipped/', 'model': 'EOT20'}\n",
      "Modelling tides using EOT20 in parallel\n"
     ]
    },
    {
     "name": "stderr",
     "output_type": "stream",
     "text": [
      "100%|██████████| 8/8 [00:31<00:00,  3.97s/it]\n"
     ]
    },
    {
     "name": "stdout",
     "output_type": "stream",
     "text": [
      "{'split': 8, 'parallel_max': 16, 'time': 33.65049457550049, 'points': 100000, 'points_per_split': 12500, 'split_per_parallel': 0.5, 'directory': '/gdata1/data/tide_models_clipped/', 'model': 'EOT20'}\n",
      "Modelling tides using EOT20 in parallel\n"
     ]
    },
    {
     "name": "stderr",
     "output_type": "stream",
     "text": [
      "100%|██████████| 10/10 [00:27<00:00,  2.77s/it]\n"
     ]
    },
    {
     "name": "stdout",
     "output_type": "stream",
     "text": [
      "{'split': 10, 'parallel_max': 16, 'time': 29.807040452957153, 'points': 100000, 'points_per_split': 10000, 'split_per_parallel': 0.625, 'directory': '/gdata1/data/tide_models_clipped/', 'model': 'EOT20'}\n",
      "Modelling tides using EOT20 in parallel\n"
     ]
    },
    {
     "name": "stderr",
     "output_type": "stream",
     "text": [
      "100%|██████████| 12/12 [00:25<00:00,  2.10s/it]\n"
     ]
    },
    {
     "name": "stdout",
     "output_type": "stream",
     "text": [
      "{'split': 12, 'parallel_max': 16, 'time': 27.244994163513184, 'points': 100000, 'points_per_split': 8333, 'split_per_parallel': 0.75, 'directory': '/gdata1/data/tide_models_clipped/', 'model': 'EOT20'}\n",
      "Modelling tides using EOT20 in parallel\n"
     ]
    },
    {
     "name": "stderr",
     "output_type": "stream",
     "text": [
      "100%|██████████| 16/16 [00:22<00:00,  1.38s/it]\n"
     ]
    },
    {
     "name": "stdout",
     "output_type": "stream",
     "text": [
      "{'split': 16, 'parallel_max': 16, 'time': 24.17734694480896, 'points': 100000, 'points_per_split': 6250, 'split_per_parallel': 1.0, 'directory': '/gdata1/data/tide_models_clipped/', 'model': 'EOT20'}\n",
      "Modelling tides using EOT20 in parallel\n"
     ]
    },
    {
     "name": "stderr",
     "output_type": "stream",
     "text": [
      "100%|██████████| 20/20 [00:29<00:00,  1.50s/it]\n"
     ]
    },
    {
     "name": "stdout",
     "output_type": "stream",
     "text": [
      "{'split': 20, 'parallel_max': 16, 'time': 32.10411834716797, 'points': 100000, 'points_per_split': 5000, 'split_per_parallel': 1.25, 'directory': '/gdata1/data/tide_models_clipped/', 'model': 'EOT20'}\n"
     ]
    }
   ],
   "source": [
    "import time\n",
    "\n",
    "from eo_tides.model import model_tides\n",
    "import numpy as np\n",
    "import pandas as pd\n",
    "\n",
    "# Generate random data within input bounds\n",
    "x = np.random.uniform(112.715430, 154.727149, 100000)\n",
    "y = np.random.uniform(-44.199061, -10.035282, 100000)\n",
    "times = pd.date_range(\"2020\", \"2021\", periods=100)\n",
    "# model = \"EOT20\"\n",
    "# directory = \"/var/share/tide_models/\"\n",
    "directory = \"/gdata1/data/tide_models_clipped/\"\n",
    "\n",
    "output_list = []\n",
    "\n",
    "for model in [[\"EOT20\", \"GOT5.5\"], \"EOT20\"]:\n",
    "\n",
    "    for n in [100, 1000, 10000, 100000]:\n",
    "    \n",
    "        # Select a subset of x and y\n",
    "        x_sub = x[0:n]\n",
    "        y_sub = y[0:n]\n",
    "    \n",
    "        for parallel_max in [2, 4, 8, 16]:\n",
    "        \n",
    "            for parallel_split in [1, 2, 3, 4, 5, 6, 8, 10, 12, 16, 20]:\n",
    "        \n",
    "                # Time the linear method\n",
    "                start_time = time.time()\n",
    "                modelled_tides_df_linear = model_tides(\n",
    "                    x=x_sub,\n",
    "                    y=y_sub,\n",
    "                    time=times,\n",
    "                    model=model,\n",
    "                    method=\"linear\",\n",
    "                    directory=directory,\n",
    "                    parallel=True,\n",
    "                    parallel_splits=parallel_split,\n",
    "                    parallel_max=parallel_max,\n",
    "                    crop=True,\n",
    "                )\n",
    "                split_time = time.time() - start_time\n",
    "        \n",
    "                output_dict = {\n",
    "                    \"split\": parallel_split,\n",
    "                    \"parallel_max\": parallel_max,\n",
    "                    \"time\": split_time,\n",
    "                    \"points\": n,\n",
    "                    \"points_per_split\": int(n / parallel_split),\n",
    "                    \"split_per_parallel\": parallel_split / parallel_max,\n",
    "                    \"directory\": directory,\n",
    "                    \"model\": model,\n",
    "                }\n",
    "                output_list.append(output_dict)\n",
    "                print(output_dict)\n"
   ]
  },
  {
   "cell_type": "code",
   "execution_count": 268,
   "metadata": {},
   "outputs": [],
   "source": [
    "# Combine and export\n",
    "data = pd.DataFrame(output_list)\n",
    "data[\"time_per_point\"] = data[\"time\"] / data[\"points\"]\n",
    "data[\"model_multiple\"] = data[\"model\"].apply(lambda x: x == ['EOT20', 'GOT5.5'])\n",
    "data.to_csv(\"test_timings.csv\", index=False)"
   ]
  },
  {
   "cell_type": "code",
   "execution_count": 273,
   "metadata": {},
   "outputs": [],
   "source": [
    "data = pd.read_csv(\"test_timings.csv\")"
   ]
  },
  {
   "cell_type": "code",
   "execution_count": 274,
   "metadata": {},
   "outputs": [
    {
     "data": {
      "image/png": "[encoded data removed]",
      "text/plain": [
       "<Figure size 1500x500 with 2 Axes>"
      ]
     },
     "metadata": {},
     "output_type": "display_data"
    }
   ],
   "source": [
    "import matplotlib.pyplot as plt\n",
    "import seaborn as sns\n",
    "\n",
    "# Create the faceted plot\n",
    "fig, axes = plt.subplots(1, 2, figsize=(15, 5))\n",
    "\n",
    "sns.lineplot(x='split', y='time', hue='parallel_max', data=data.query(\"model == 'EOT20'\"), ax=axes[0], linewidth=3)\n",
    "axes[0].set_title('Time by Split')\n",
    "\n",
    "lineplot = sns.lineplot(x='points_per_split', y='time', hue='parallel_max', data=data.query(\"model == 'EOT20'\"), ax=axes[1], linewidth=3)\n",
    "lineplot.invert_xaxis()\n",
    "axes[1].set_title('Time by Points per split')\n",
    "\n",
    "plt.tight_layout()\n"
   ]
  },
  {
   "cell_type": "code",
   "execution_count": 233,
   "metadata": {},
   "outputs": [
    {
     "data": {
      "image/png": "[encoded data removed]",
      "text/plain": [
       "<Figure size 1500x500 with 2 Axes>"
      ]
     },
     "metadata": {},
     "output_type": "display_data"
    }
   ],
   "source": [
    "import matplotlib.pyplot as plt\n",
    "import seaborn as sns\n",
    "\n",
    "# Create the faceted plot\n",
    "fig, axes = plt.subplots(1, 2, figsize=(15, 5))\n",
    "\n",
    "sns.lineplot(x='split', y='time', hue='parallel_max', data=data.query(\"model_multiple\"), ax=axes[0], linewidth=3)\n",
    "axes[0].set_title('Time by Split')\n",
    "\n",
    "lineplot = sns.lineplot(x='points_per_split', y='time', hue='parallel_max', data=data.query(\"model_multiple\"), ax=axes[1], linewidth=3)\n",
    "lineplot.invert_xaxis()\n",
    "axes[1].set_title('Time by Points per split')\n",
    "\n",
    "plt.tight_layout()"
   ]
  },
  {
   "cell_type": "code",
   "execution_count": 64,
   "metadata": {},
   "outputs": [
    {
     "data": {
      "text/plain": [
       "Text(0.5, 1.0, 'Time by Splits per parallel')"
      ]
     },
     "execution_count": 64,
     "metadata": {},
     "output_type": "execute_result"
    },
    {
     "data": {
      "image/png": "[encoded data removed]",
      "text/plain": [
       "<Figure size 1500x500 with 2 Axes>"
      ]
     },
     "metadata": {},
     "output_type": "display_data"
    }
   ],
   "source": [
    "data[\"split_per_parallel\"] = data[\"split\"] / data[\"parallel_max\"]\n",
    "\n",
    "# Create the faceted plot\n",
    "fig, axes = plt.subplots(1, 2, figsize=(15, 5))\n",
    "\n",
    "sns.lineplot(x='split', y='time', hue='parallel_max', data=data.query(\"model == 'EOT20'\"), ax=axes[0], linewidth=3)\n",
    "axes[0].set_title('Time by Split')\n",
    "\n",
    "lineplot = sns.lineplot(x='split_per_parallel', y='time', hue='parallel_max', data=data.query(\"model == 'EOT20'\"), ax=axes[1], linewidth=3)\n",
    "axes[1].set_title('Time by Splits per parallel')"
   ]
  },
  {
   "cell_type": "code",
   "execution_count": 99,
   "metadata": {},
   "outputs": [
    {
     "data": {
      "text/plain": [
       "<Axes: xlabel='points_per_split'>"
      ]
     },
     "execution_count": 99,
     "metadata": {},
     "output_type": "execute_result"
    },
    {
     "data": {
      "image/png": "[encoded data removed]",
      "text/plain": [
       "<Figure size 640x480 with 1 Axes>"
      ]
     },
     "metadata": {},
     "output_type": "display_data"
    }
   ],
   "source": [
    "data.query(\"model == 'EOT20'\").query(\"parallel_max == 2\").query(\"points == 10000\").set_index(\"points_per_split\").time_per_point.plot()"
   ]
  },
  {
   "cell_type": "code",
   "execution_count": 266,
   "metadata": {},
   "outputs": [
    {
     "name": "stdout",
     "output_type": "stream",
     "text": [
      "16 12500.0\n"
     ]
    }
   ],
   "source": [
    "\n",
    "parallel_max = 16\n",
    "parallel_split=\"auto\"\n",
    "\n",
    "n = 200000\n",
    "models = [\"EOT20\"]  # [\"EOT20\", \"GOT5.5\"]\n",
    "# models = [\"EOT20\", \"GOT5.5\"]\n",
    "\n",
    "\n",
    "# import os\n",
    "\n",
    "# os.process_cpu_count()\n",
    "\n",
    "parallel_split = int(max(1, min(n / 1000, parallel_max) / len(models)))\n",
    "print(parallel_split, n/parallel_split)\n"
   ]
  },
  {
   "cell_type": "code",
   "execution_count": 140,
   "metadata": {},
   "outputs": [
    {
     "data": {
      "text/plain": [
       "1"
      ]
     },
     "execution_count": 140,
     "metadata": {},
     "output_type": "execute_result"
    }
   ],
   "source": [
    "def _parallel_splits(\n",
    "    total_points,\n",
    "    model_count,\n",
    "    parallel_max=None,\n",
    "    min_points_per_split=1000,\n",
    "):\n",
    "    \"\"\"\n",
    "    Calculates the optimal number of parallel splits for data\n",
    "    processing based on system resources and processing constraints.\n",
    "\n",
    "    Parameters:\n",
    "    -----------\n",
    "    total_points : int\n",
    "        Total number of data points to process\n",
    "    model_count : int\n",
    "        Number of models that will be run in parallel\n",
    "    parallel_max : int, optional\n",
    "        Maximum number of parallel processes to use. If None, uses CPU core count\n",
    "    min_points_per_split : int, default=1000\n",
    "        Minimum number of points that should be processed in each split\n",
    "    \"\"\"\n",
    "    # Available CPUs\n",
    "    if parallel_max is None:\n",
    "        try:\n",
    "            import psutil\n",
    "\n",
    "            parallel_max = psutil.cpu_count(logical=False)\n",
    "        except ImportError:\n",
    "            parallel_max = os.cpu_count()\n",
    "\n",
    "    # Calculate optimal number of splits based on constraints\n",
    "    splits_by_size = total_points / min_points_per_split\n",
    "    splits_by_cpu = parallel_max / model_count\n",
    "    optimal_splits = min(splits_by_size, splits_by_cpu)\n",
    "\n",
    "    # Convert to integer and ensure at least 1 split\n",
    "    final_split_count = int(max(1, optimal_splits))\n",
    "    return final_split_count\n",
    "\n",
    "\n",
    "_parallel_splits(total_points=1, model_count=1, parallel_max=None)"
   ]
  },
  {
   "cell_type": "code",
   "execution_count": 107,
   "metadata": {},
   "outputs": [
    {
     "ename": "NameError",
     "evalue": "name 'pytest' is not defined",
     "output_type": "error",
     "traceback": [
      "\u001b[0;31m---------------------------------------------------------------------------\u001b[0m",
      "\u001b[0;31mNameError\u001b[0m                                 Traceback (most recent call last)",
      "Cell \u001b[0;32mIn[107], line 1\u001b[0m\n\u001b[0;32m----> 1\u001b[0m \u001b[38;5;129m@pytest\u001b[39m\u001b[38;5;241m.\u001b[39mmark\u001b[38;5;241m.\u001b[39mparametrize(\u001b[38;5;124m\"\u001b[39m\u001b[38;5;124mtotal_points, model_count, parallel_max, expected_splits\u001b[39m\u001b[38;5;124m\"\u001b[39m, [\n\u001b[1;32m      2\u001b[0m     \u001b[38;5;66;03m# Basic cases\u001b[39;00m\n\u001b[1;32m      3\u001b[0m     (\u001b[38;5;241m10000\u001b[39m, \u001b[38;5;241m2\u001b[39m, \u001b[38;5;241m8\u001b[39m, \u001b[38;5;241m4\u001b[39m),      \u001b[38;5;66;03m# Standard case with explicit parallel_max\u001b[39;00m\n\u001b[1;32m      4\u001b[0m     (\u001b[38;5;241m5000\u001b[39m, \u001b[38;5;241m1\u001b[39m, \u001b[38;5;241m4\u001b[39m, \u001b[38;5;241m4\u001b[39m),       \u001b[38;5;66;03m# Single model case\u001b[39;00m\n\u001b[1;32m      5\u001b[0m     \n\u001b[1;32m      6\u001b[0m     \u001b[38;5;66;03m# Minimum split size cases\u001b[39;00m\n\u001b[1;32m      7\u001b[0m     (\u001b[38;5;241m900\u001b[39m, \u001b[38;5;241m1\u001b[39m, \u001b[38;5;241m4\u001b[39m, \u001b[38;5;241m1\u001b[39m),        \u001b[38;5;66;03m# Less than min_points_per_split\u001b[39;00m\n\u001b[1;32m      8\u001b[0m     (\u001b[38;5;241m2000\u001b[39m, \u001b[38;5;241m2\u001b[39m, \u001b[38;5;241m2\u001b[39m, \u001b[38;5;241m1\u001b[39m),       \u001b[38;5;66;03m# Just enough for 1 split with 2 models\u001b[39;00m\n\u001b[1;32m      9\u001b[0m     \n\u001b[1;32m     10\u001b[0m     \u001b[38;5;66;03m# Maximum parallelization cases\u001b[39;00m\n\u001b[1;32m     11\u001b[0m     (\u001b[38;5;241m100000\u001b[39m, \u001b[38;5;241m2\u001b[39m, \u001b[38;5;241m4\u001b[39m, \u001b[38;5;241m2\u001b[39m),     \u001b[38;5;66;03m# Limited by CPU cores / model_count\u001b[39;00m\n\u001b[1;32m     12\u001b[0m     (\u001b[38;5;241m100000\u001b[39m, \u001b[38;5;241m4\u001b[39m, \u001b[38;5;241m8\u001b[39m, \u001b[38;5;241m2\u001b[39m),     \u001b[38;5;66;03m# Testing with more models\u001b[39;00m\n\u001b[1;32m     13\u001b[0m     \n\u001b[1;32m     14\u001b[0m     \u001b[38;5;66;03m# Edge cases\u001b[39;00m\n\u001b[1;32m     15\u001b[0m     (\u001b[38;5;241m1\u001b[39m, \u001b[38;5;241m1\u001b[39m, \u001b[38;5;241m1\u001b[39m, \u001b[38;5;241m1\u001b[39m),          \u001b[38;5;66;03m# Minimum possible values\u001b[39;00m\n\u001b[1;32m     16\u001b[0m     (\u001b[38;5;241m999999\u001b[39m, \u001b[38;5;241m1\u001b[39m, \u001b[38;5;241m8\u001b[39m, \u001b[38;5;241m8\u001b[39m),     \u001b[38;5;66;03m# Large number of points\u001b[39;00m\n\u001b[1;32m     17\u001b[0m     (\u001b[38;5;241m10000\u001b[39m, \u001b[38;5;241m8\u001b[39m, \u001b[38;5;241m8\u001b[39m, \u001b[38;5;241m1\u001b[39m),      \u001b[38;5;66;03m# Many models relative to cores\u001b[39;00m\n\u001b[1;32m     18\u001b[0m ])\n\u001b[1;32m     19\u001b[0m \u001b[38;5;28;01mdef\u001b[39;00m \u001b[38;5;21mtest_parallel_splits\u001b[39m(total_points, model_count, parallel_max, expected_splits):\n\u001b[1;32m     20\u001b[0m \u001b[38;5;250m    \u001b[39m\u001b[38;5;124;03m\"\"\"\u001b[39;00m\n\u001b[1;32m     21\u001b[0m \u001b[38;5;124;03m    Test the _parallel_splits function with various parameter combinations.\u001b[39;00m\n\u001b[1;32m     22\u001b[0m \u001b[38;5;124;03m    \"\"\"\u001b[39;00m\n\u001b[1;32m     23\u001b[0m     result \u001b[38;5;241m=\u001b[39m _parallel_splits(\n\u001b[1;32m     24\u001b[0m         total_points\u001b[38;5;241m=\u001b[39mtotal_points,\n\u001b[1;32m     25\u001b[0m         model_count\u001b[38;5;241m=\u001b[39mmodel_count,\n\u001b[1;32m     26\u001b[0m         parallel_max\u001b[38;5;241m=\u001b[39mparallel_max,\n\u001b[1;32m     27\u001b[0m         min_points_per_split\u001b[38;5;241m=\u001b[39mmin_points_per_split\n\u001b[1;32m     28\u001b[0m     )\n",
      "\u001b[0;31mNameError\u001b[0m: name 'pytest' is not defined"
     ]
    }
   ],
   "source": []
  },
  {
   "cell_type": "code",
   "execution_count": 83,
   "metadata": {},
   "outputs": [
    {
     "data": {
      "text/plain": [
       "10"
      ]
     },
     "execution_count": 83,
     "metadata": {},
     "output_type": "execute_result"
    }
   ],
   "source": [
    "(10.6666)"
   ]
  },
  {
   "cell_type": "code",
   "execution_count": 261,
   "metadata": {},
   "outputs": [
    {
     "ename": "TypeError",
     "evalue": "posix.cpu_count() takes no keyword arguments",
     "output_type": "error",
     "traceback": [
      "\u001b[0;31m---------------------------------------------------------------------------\u001b[0m",
      "\u001b[0;31mTypeError\u001b[0m                                 Traceback (most recent call last)",
      "Cell \u001b[0;32mIn[261], line 1\u001b[0m\n\u001b[0;32m----> 1\u001b[0m \u001b[43mos\u001b[49m\u001b[38;5;241;43m.\u001b[39;49m\u001b[43mcpu_count\u001b[49m\u001b[43m(\u001b[49m\u001b[43maffinity\u001b[49m\u001b[38;5;241;43m=\u001b[39;49m\u001b[38;5;28;43;01mTrue\u001b[39;49;00m\u001b[43m)\u001b[49m\n",
      "\u001b[0;31mTypeError\u001b[0m: posix.cpu_count() takes no keyword arguments"
     ]
    }
   ],
   "source": [
    "os.cpu_count(affinity=True)"
   ]
  },
  {
   "cell_type": "code",
   "execution_count": 257,
   "metadata": {},
   "outputs": [
    {
     "data": {
      "text/plain": [
       "64"
      ]
     },
     "execution_count": 257,
     "metadata": {},
     "output_type": "execute_result"
    }
   ],
   "source": [
    "len(os.sched_getaffinity(0))"
   ]
  },
  {
   "cell_type": "code",
   "execution_count": 253,
   "metadata": {},
   "outputs": [
    {
     "data": {
      "text/plain": [
       "64"
      ]
     },
     "execution_count": 253,
     "metadata": {},
     "output_type": "execute_result"
    }
   ],
   "source": [
    "# os.cpu_count()\n",
    "\n",
    "# import multiprocessing\n",
    "\n",
    "# multiprocessing.cpu_count()"
   ]
  },
  {
   "cell_type": "code",
   "execution_count": 241,
   "metadata": {},
   "outputs": [],
   "source": [
    "from concurrent.futures import ProcessPoolExecutor\n",
    "\n",
    "with ProcessPoolExecutor(max_workers=None) as executor:\n",
    "    executor."
   ]
  },
  {
   "cell_type": "code",
   "execution_count": 150,
   "metadata": {},
   "outputs": [
    {
     "name": "stdout",
     "output_type": "stream",
     "text": [
      "Modelling tides with EOT20 in parallel (models: 1, splits: 10)\n"
     ]
    },
    {
     "name": "stderr",
     "output_type": "stream",
     "text": [
      "  0%|          | 0/10 [00:00<?, ?it/s]"
     ]
    },
    {
     "name": "stdout",
     "output_type": "stream",
     "text": [
      "{'version': 'EOT20', 'compressed': False, 'type': 'z', 'crop': False, 'method': 'linear', 'extrapolate': True, 'cutoff': inf, 'append_node': False, 'scale': 0.01}{'version': 'EOT20', 'compressed': False, 'type': 'z', 'crop': False, 'method': 'linear', 'extrapolate': True, 'cutoff': inf, 'append_node': False, 'scale': 0.01}{'version': 'EOT20', 'compressed': False, 'type': 'z', 'crop': False, 'method': 'linear', 'extrapolate': True, 'cutoff': inf, 'append_node': False, 'scale': 0.01}\n",
      "{'version': 'EOT20', 'compressed': False, 'type': 'z', 'crop': False, 'method': 'linear', 'extrapolate': True, 'cutoff': inf, 'append_node': False, 'scale': 0.01}\n",
      "{'version': 'EOT20', 'compressed': False, 'type': 'z', 'crop': False, 'method': 'linear', 'extrapolate': True, 'cutoff': inf, 'append_node': False, 'scale': 0.01}{'version': 'EOT20', 'compressed': False, 'type': 'z', 'crop': False, 'method': 'linear', 'extrapolate': True, 'cutoff': inf, 'append_node': False, 'scale': 0.01}{'version': 'EOT20', 'compressed': False, 'type': 'z', 'crop': False, 'method': 'linear', 'extrapolate': True, 'cutoff': inf, 'append_node': False, 'scale': 0.01}{'version': 'EOT20', 'compressed': False, 'type': 'z', 'crop': False, 'method': 'linear', 'extrapolate': True, 'cutoff': inf, 'append_node': False, 'scale': 0.01}{'version': 'EOT20', 'compressed': False, 'type': 'z', 'crop': False, 'method': 'linear', 'extrapolate': True, 'cutoff': inf, 'append_node': False, 'scale': 0.01}\n",
      "{'version': 'EOT20', 'compressed': False, 'type': 'z', 'crop': False, 'method': 'linear', 'extrapolate': True, 'cutoff': inf, 'append_node': False, 'scale': 0.01, 'bounds': [112.89313983139331, 154.62328377556156, -44.178842932987365, -10.056581994648475]}\n",
      "\n",
      "\n",
      "{'version': 'EOT20', 'compressed': False, 'type': 'z', 'crop': False, 'method': 'linear', 'extrapolate': True, 'cutoff': inf, 'append_node': False, 'scale': 0.01, 'bounds': [112.71632374763793, 154.71000000560872, -44.19165681762268, -10.068867826750179]}{'version': 'EOT20', 'compressed': False, 'type': 'z', 'crop': False, 'method': 'linear', 'extrapolate': True, 'cutoff': inf, 'append_node': False, 'scale': 0.01}\n",
      "\n",
      "\n",
      "\n",
      "{'version': 'EOT20', 'compressed': False, 'type': 'z', 'crop': False, 'method': 'linear', 'extrapolate': True, 'cutoff': inf, 'append_node': False, 'scale': 0.01, 'bounds': [112.76878948136903, 154.70041666175922, -44.166608802644454, -10.07215235044307]}\n",
      "{'version': 'EOT20', 'compressed': False, 'type': 'z', 'crop': False, 'method': 'linear', 'extrapolate': True, 'cutoff': inf, 'append_node': False, 'scale': 0.01, 'bounds': [112.85490367347232, 154.53175572353155, -44.18111287293355, -10.073659679085658]}\n",
      "{'version': 'EOT20', 'compressed': False, 'type': 'z', 'crop': False, 'method': 'linear', 'extrapolate': True, 'cutoff': inf, 'append_node': False, 'scale': 0.01, 'bounds': [112.76557500258671, 154.71787319647376, -44.198857205030315, -10.069905146927958]}{'version': 'EOT20', 'compressed': False, 'type': 'z', 'crop': False, 'method': 'linear', 'extrapolate': True, 'cutoff': inf, 'append_node': False, 'scale': 0.01, 'bounds': [112.7805416036911, 154.5431168213904, -44.14497263710306, -10.039194653254675]}{'version': 'EOT20', 'compressed': False, 'type': 'z', 'crop': False, 'method': 'linear', 'extrapolate': True, 'cutoff': inf, 'append_node': False, 'scale': 0.01, 'bounds': [112.76090432916187, 154.6597821958206, -44.13391879818661, -10.067072265072007]}{'version': 'EOT20', 'compressed': False, 'type': 'z', 'crop': False, 'method': 'linear', 'extrapolate': True, 'cutoff': inf, 'append_node': False, 'scale': 0.01, 'bounds': [112.79569582759433, 154.67016451710055, -44.161596409603895, -10.041472402292051]}\n",
      "{'version': 'EOT20', 'compressed': False, 'type': 'z', 'crop': False, 'method': 'linear', 'extrapolate': True, 'cutoff': inf, 'append_node': False, 'scale': 0.01, 'bounds': [112.85526284795931, 154.70392931675767, -44.14670985230996, -10.050518623235114]}\n",
      "\n",
      "\n",
      "{'version': 'EOT20', 'compressed': False, 'type': 'z', 'crop': False, 'method': 'linear', 'extrapolate': True, 'cutoff': inf, 'append_node': False, 'scale': 0.01, 'bounds': [112.72112056426344, 154.6823892062362, -44.18396811920403, -10.044178050290562]}\n",
      "\n",
      "\n",
      "\n"
     ]
    },
    {
     "name": "stderr",
     "output_type": "stream",
     "text": [
      "100%|██████████| 10/10 [00:03<00:00,  3.25it/s]\n"
     ]
    },
    {
     "name": "stdout",
     "output_type": "stream",
     "text": [
      "4.090070009231567\n"
     ]
    }
   ],
   "source": [
    "import time\n",
    "from eo_tides.model import model_tides\n",
    "\n",
    "n = 10000\n",
    "directory = \"/gdata1/data/tide_models_clipped/\"\n",
    "directory = \"./tests/data/tide_models/\"\n",
    "# models = [\"EOT20\", \"GOT5.5\", \"HAMTIDE11\"]\n",
    "models = [\"EOT20\"]\n",
    "\n",
    "\n",
    "start_time = time.time()\n",
    "modelled_tides_df_linear = model_tides(\n",
    "    x = np.random.uniform(112.715430, 154.727149, n),\n",
    "    y = np.random.uniform(-44.199061, -10.035282, n),\n",
    "    time = pd.date_range(\"2020\", \"2021\", periods=100),\n",
    "    model=models,\n",
    "    method=\"linear\",\n",
    "    directory=directory,\n",
    "    parallel=True,\n",
    "    parallel_splits=\"auto\",\n",
    "    parallel_max=16,\n",
    "    crop=False,\n",
    ")\n",
    "split_time = time.time() - start_time\n",
    "print(split_time)"
   ]
  },
  {
   "cell_type": "code",
   "execution_count": 78,
   "metadata": {},
   "outputs": [
    {
     "data": {
      "text/html": [
       "<div>\n",
       "<style scoped>\n",
       "    .dataframe tbody tr th:only-of-type {\n",
       "        vertical-align: middle;\n",
       "    }\n",
       "\n",
       "    .dataframe tbody tr th {\n",
       "        vertical-align: top;\n",
       "    }\n",
       "\n",
       "    .dataframe thead th {\n",
       "        text-align: right;\n",
       "    }\n",
       "</style>\n",
       "<table border=\"1\" class=\"dataframe\">\n",
       "  <thead>\n",
       "    <tr style=\"text-align: right;\">\n",
       "      <th></th>\n",
       "      <th></th>\n",
       "      <th></th>\n",
       "      <th>tide_model</th>\n",
       "      <th>tide_height</th>\n",
       "    </tr>\n",
       "    <tr>\n",
       "      <th>time</th>\n",
       "      <th>x</th>\n",
       "      <th>y</th>\n",
       "      <th></th>\n",
       "      <th></th>\n",
       "    </tr>\n",
       "  </thead>\n",
       "  <tbody>\n",
       "    <tr>\n",
       "      <th>2020-01-01 00:00:00.000000000</th>\n",
       "      <th>145.907482</th>\n",
       "      <th>-29.246355</th>\n",
       "      <td>EOT20</td>\n",
       "      <td>0.276023</td>\n",
       "    </tr>\n",
       "    <tr>\n",
       "      <th>2020-01-04 16:43:38.181818181</th>\n",
       "      <th>145.907482</th>\n",
       "      <th>-29.246355</th>\n",
       "      <td>EOT20</td>\n",
       "      <td>0.328505</td>\n",
       "    </tr>\n",
       "    <tr>\n",
       "      <th>2020-01-08 09:27:16.363636363</th>\n",
       "      <th>145.907482</th>\n",
       "      <th>-29.246355</th>\n",
       "      <td>EOT20</td>\n",
       "      <td>0.246467</td>\n",
       "    </tr>\n",
       "    <tr>\n",
       "      <th>2020-01-12 02:10:54.545454545</th>\n",
       "      <th>145.907482</th>\n",
       "      <th>-29.246355</th>\n",
       "      <td>EOT20</td>\n",
       "      <td>0.146102</td>\n",
       "    </tr>\n",
       "    <tr>\n",
       "      <th>2020-01-15 18:54:32.727272727</th>\n",
       "      <th>145.907482</th>\n",
       "      <th>-29.246355</th>\n",
       "      <td>EOT20</td>\n",
       "      <td>-0.367979</td>\n",
       "    </tr>\n",
       "    <tr>\n",
       "      <th>...</th>\n",
       "      <th>...</th>\n",
       "      <th>...</th>\n",
       "      <td>...</td>\n",
       "      <td>...</td>\n",
       "    </tr>\n",
       "    <tr>\n",
       "      <th>2020-12-17 05:05:27.272727272</th>\n",
       "      <th>149.345285</th>\n",
       "      <th>-38.854142</th>\n",
       "      <td>GOT5.5</td>\n",
       "      <td>-0.498254</td>\n",
       "    </tr>\n",
       "    <tr>\n",
       "      <th>2020-12-20 21:49:05.454545456</th>\n",
       "      <th>149.345285</th>\n",
       "      <th>-38.854142</th>\n",
       "      <td>GOT5.5</td>\n",
       "      <td>-0.152091</td>\n",
       "    </tr>\n",
       "    <tr>\n",
       "      <th>2020-12-24 14:32:43.636363636</th>\n",
       "      <th>149.345285</th>\n",
       "      <th>-38.854142</th>\n",
       "      <td>GOT5.5</td>\n",
       "      <td>-0.169135</td>\n",
       "    </tr>\n",
       "    <tr>\n",
       "      <th>2020-12-28 07:16:21.818181816</th>\n",
       "      <th>149.345285</th>\n",
       "      <th>-38.854142</th>\n",
       "      <td>GOT5.5</td>\n",
       "      <td>-0.055665</td>\n",
       "    </tr>\n",
       "    <tr>\n",
       "      <th>2021-01-01 00:00:00.000000000</th>\n",
       "      <th>149.345285</th>\n",
       "      <th>-38.854142</th>\n",
       "      <td>GOT5.5</td>\n",
       "      <td>0.655934</td>\n",
       "    </tr>\n",
       "  </tbody>\n",
       "</table>\n",
       "<p>60000000 rows × 2 columns</p>\n",
       "</div>"
      ],
      "text/plain": [
       "                                                    tide_model  tide_height\n",
       "time                          x          y                                 \n",
       "2020-01-01 00:00:00.000000000 145.907482 -29.246355      EOT20     0.276023\n",
       "2020-01-04 16:43:38.181818181 145.907482 -29.246355      EOT20     0.328505\n",
       "2020-01-08 09:27:16.363636363 145.907482 -29.246355      EOT20     0.246467\n",
       "2020-01-12 02:10:54.545454545 145.907482 -29.246355      EOT20     0.146102\n",
       "2020-01-15 18:54:32.727272727 145.907482 -29.246355      EOT20    -0.367979\n",
       "...                                                        ...          ...\n",
       "2020-12-17 05:05:27.272727272 149.345285 -38.854142     GOT5.5    -0.498254\n",
       "2020-12-20 21:49:05.454545456 149.345285 -38.854142     GOT5.5    -0.152091\n",
       "2020-12-24 14:32:43.636363636 149.345285 -38.854142     GOT5.5    -0.169135\n",
       "2020-12-28 07:16:21.818181816 149.345285 -38.854142     GOT5.5    -0.055665\n",
       "2021-01-01 00:00:00.000000000 149.345285 -38.854142     GOT5.5     0.655934\n",
       "\n",
       "[60000000 rows x 2 columns]"
      ]
     },
     "execution_count": 78,
     "metadata": {},
     "output_type": "execute_result"
    }
   ],
   "source": [
    "modelled_tides_df_linear"
   ]
  },
  {
   "cell_type": "code",
   "execution_count": 206,
   "metadata": {},
   "outputs": [
    {
     "data": {
      "text/html": [
       "<style type=\"text/css\">\n",
       "#T_cb31b_row0_col8 {\n",
       "  background-color: #800026;\n",
       "  color: #f1f1f1;\n",
       "}\n",
       "#T_cb31b_row1_col8 {\n",
       "  background-color: #fec45f;\n",
       "  color: #000000;\n",
       "}\n",
       "#T_cb31b_row2_col8 {\n",
       "  background-color: #fff7b9;\n",
       "  color: #000000;\n",
       "}\n",
       "#T_cb31b_row3_col8 {\n",
       "  background-color: #ffffcc;\n",
       "  color: #000000;\n",
       "}\n",
       "#T_cb31b_row4_col8 {\n",
       "  background-color: #fea948;\n",
       "  color: #000000;\n",
       "}\n",
       "#T_cb31b_row5_col8 {\n",
       "  background-color: #fead4a;\n",
       "  color: #000000;\n",
       "}\n",
       "#T_cb31b_row6_col8 {\n",
       "  background-color: #fedc7c;\n",
       "  color: #000000;\n",
       "}\n",
       "#T_cb31b_row7_col8 {\n",
       "  background-color: #fd913e;\n",
       "  color: #000000;\n",
       "}\n",
       "#T_cb31b_row8_col8 {\n",
       "  background-color: #fea145;\n",
       "  color: #000000;\n",
       "}\n",
       "#T_cb31b_row9_col8 {\n",
       "  background-color: #f43d25;\n",
       "  color: #f1f1f1;\n",
       "}\n",
       "#T_cb31b_row10_col8 {\n",
       "  background-color: #a60026;\n",
       "  color: #f1f1f1;\n",
       "}\n",
       "</style>\n",
       "<table id=\"T_cb31b\">\n",
       "  <thead>\n",
       "    <tr>\n",
       "      <th class=\"blank level0\" >&nbsp;</th>\n",
       "      <th id=\"T_cb31b_level0_col0\" class=\"col_heading level0 col0\" >split</th>\n",
       "      <th id=\"T_cb31b_level0_col1\" class=\"col_heading level0 col1\" >parallel_max</th>\n",
       "      <th id=\"T_cb31b_level0_col2\" class=\"col_heading level0 col2\" >time</th>\n",
       "      <th id=\"T_cb31b_level0_col3\" class=\"col_heading level0 col3\" >points</th>\n",
       "      <th id=\"T_cb31b_level0_col4\" class=\"col_heading level0 col4\" >points_per_split</th>\n",
       "      <th id=\"T_cb31b_level0_col5\" class=\"col_heading level0 col5\" >split_per_parallel</th>\n",
       "      <th id=\"T_cb31b_level0_col6\" class=\"col_heading level0 col6\" >directory</th>\n",
       "      <th id=\"T_cb31b_level0_col7\" class=\"col_heading level0 col7\" >model</th>\n",
       "      <th id=\"T_cb31b_level0_col8\" class=\"col_heading level0 col8\" >time_per_point</th>\n",
       "      <th id=\"T_cb31b_level0_col9\" class=\"col_heading level0 col9\" >model_multiple</th>\n",
       "    </tr>\n",
       "  </thead>\n",
       "  <tbody>\n",
       "    <tr>\n",
       "      <th id=\"T_cb31b_level0_row0\" class=\"row_heading level0 row0\" >275</th>\n",
       "      <td id=\"T_cb31b_row0_col0\" class=\"data row0 col0\" >1</td>\n",
       "      <td id=\"T_cb31b_row0_col1\" class=\"data row0 col1\" >4</td>\n",
       "      <td id=\"T_cb31b_row0_col2\" class=\"data row0 col2\" >21.668402</td>\n",
       "      <td id=\"T_cb31b_row0_col3\" class=\"data row0 col3\" >10000</td>\n",
       "      <td id=\"T_cb31b_row0_col4\" class=\"data row0 col4\" >10000</td>\n",
       "      <td id=\"T_cb31b_row0_col5\" class=\"data row0 col5\" >0.250000</td>\n",
       "      <td id=\"T_cb31b_row0_col6\" class=\"data row0 col6\" >/gdata1/data/tide_models_clipped/</td>\n",
       "      <td id=\"T_cb31b_row0_col7\" class=\"data row0 col7\" >EOT20</td>\n",
       "      <td id=\"T_cb31b_row0_col8\" class=\"data row0 col8\" >0.002167</td>\n",
       "      <td id=\"T_cb31b_row0_col9\" class=\"data row0 col9\" >False</td>\n",
       "    </tr>\n",
       "    <tr>\n",
       "      <th id=\"T_cb31b_level0_row1\" class=\"row_heading level0 row1\" >276</th>\n",
       "      <td id=\"T_cb31b_row1_col0\" class=\"data row1 col0\" >2</td>\n",
       "      <td id=\"T_cb31b_row1_col1\" class=\"data row1 col1\" >4</td>\n",
       "      <td id=\"T_cb31b_row1_col2\" class=\"data row1 col2\" >13.828262</td>\n",
       "      <td id=\"T_cb31b_row1_col3\" class=\"data row1 col3\" >10000</td>\n",
       "      <td id=\"T_cb31b_row1_col4\" class=\"data row1 col4\" >5000</td>\n",
       "      <td id=\"T_cb31b_row1_col5\" class=\"data row1 col5\" >0.500000</td>\n",
       "      <td id=\"T_cb31b_row1_col6\" class=\"data row1 col6\" >/gdata1/data/tide_models_clipped/</td>\n",
       "      <td id=\"T_cb31b_row1_col7\" class=\"data row1 col7\" >EOT20</td>\n",
       "      <td id=\"T_cb31b_row1_col8\" class=\"data row1 col8\" >0.001383</td>\n",
       "      <td id=\"T_cb31b_row1_col9\" class=\"data row1 col9\" >False</td>\n",
       "    </tr>\n",
       "    <tr>\n",
       "      <th id=\"T_cb31b_level0_row2\" class=\"row_heading level0 row2\" >277</th>\n",
       "      <td id=\"T_cb31b_row2_col0\" class=\"data row2 col0\" >3</td>\n",
       "      <td id=\"T_cb31b_row2_col1\" class=\"data row2 col1\" >4</td>\n",
       "      <td id=\"T_cb31b_row2_col2\" class=\"data row2 col2\" >10.802367</td>\n",
       "      <td id=\"T_cb31b_row2_col3\" class=\"data row2 col3\" >10000</td>\n",
       "      <td id=\"T_cb31b_row2_col4\" class=\"data row2 col4\" >3333</td>\n",
       "      <td id=\"T_cb31b_row2_col5\" class=\"data row2 col5\" >0.750000</td>\n",
       "      <td id=\"T_cb31b_row2_col6\" class=\"data row2 col6\" >/gdata1/data/tide_models_clipped/</td>\n",
       "      <td id=\"T_cb31b_row2_col7\" class=\"data row2 col7\" >EOT20</td>\n",
       "      <td id=\"T_cb31b_row2_col8\" class=\"data row2 col8\" >0.001080</td>\n",
       "      <td id=\"T_cb31b_row2_col9\" class=\"data row2 col9\" >False</td>\n",
       "    </tr>\n",
       "    <tr>\n",
       "      <th id=\"T_cb31b_level0_row3\" class=\"row_heading level0 row3\" >278</th>\n",
       "      <td id=\"T_cb31b_row3_col0\" class=\"data row3 col0\" >4</td>\n",
       "      <td id=\"T_cb31b_row3_col1\" class=\"data row3 col1\" >4</td>\n",
       "      <td id=\"T_cb31b_row3_col2\" class=\"data row3 col2\" >10.173427</td>\n",
       "      <td id=\"T_cb31b_row3_col3\" class=\"data row3 col3\" >10000</td>\n",
       "      <td id=\"T_cb31b_row3_col4\" class=\"data row3 col4\" >2500</td>\n",
       "      <td id=\"T_cb31b_row3_col5\" class=\"data row3 col5\" >1.000000</td>\n",
       "      <td id=\"T_cb31b_row3_col6\" class=\"data row3 col6\" >/gdata1/data/tide_models_clipped/</td>\n",
       "      <td id=\"T_cb31b_row3_col7\" class=\"data row3 col7\" >EOT20</td>\n",
       "      <td id=\"T_cb31b_row3_col8\" class=\"data row3 col8\" >0.001017</td>\n",
       "      <td id=\"T_cb31b_row3_col9\" class=\"data row3 col9\" >False</td>\n",
       "    </tr>\n",
       "    <tr>\n",
       "      <th id=\"T_cb31b_level0_row4\" class=\"row_heading level0 row4\" >279</th>\n",
       "      <td id=\"T_cb31b_row4_col0\" class=\"data row4 col0\" >5</td>\n",
       "      <td id=\"T_cb31b_row4_col1\" class=\"data row4 col1\" >4</td>\n",
       "      <td id=\"T_cb31b_row4_col2\" class=\"data row4 col2\" >14.819824</td>\n",
       "      <td id=\"T_cb31b_row4_col3\" class=\"data row4 col3\" >10000</td>\n",
       "      <td id=\"T_cb31b_row4_col4\" class=\"data row4 col4\" >2000</td>\n",
       "      <td id=\"T_cb31b_row4_col5\" class=\"data row4 col5\" >1.250000</td>\n",
       "      <td id=\"T_cb31b_row4_col6\" class=\"data row4 col6\" >/gdata1/data/tide_models_clipped/</td>\n",
       "      <td id=\"T_cb31b_row4_col7\" class=\"data row4 col7\" >EOT20</td>\n",
       "      <td id=\"T_cb31b_row4_col8\" class=\"data row4 col8\" >0.001482</td>\n",
       "      <td id=\"T_cb31b_row4_col9\" class=\"data row4 col9\" >False</td>\n",
       "    </tr>\n",
       "    <tr>\n",
       "      <th id=\"T_cb31b_level0_row5\" class=\"row_heading level0 row5\" >280</th>\n",
       "      <td id=\"T_cb31b_row5_col0\" class=\"data row5 col0\" >6</td>\n",
       "      <td id=\"T_cb31b_row5_col1\" class=\"data row5 col1\" >4</td>\n",
       "      <td id=\"T_cb31b_row5_col2\" class=\"data row5 col2\" >14.693721</td>\n",
       "      <td id=\"T_cb31b_row5_col3\" class=\"data row5 col3\" >10000</td>\n",
       "      <td id=\"T_cb31b_row5_col4\" class=\"data row5 col4\" >1666</td>\n",
       "      <td id=\"T_cb31b_row5_col5\" class=\"data row5 col5\" >1.500000</td>\n",
       "      <td id=\"T_cb31b_row5_col6\" class=\"data row5 col6\" >/gdata1/data/tide_models_clipped/</td>\n",
       "      <td id=\"T_cb31b_row5_col7\" class=\"data row5 col7\" >EOT20</td>\n",
       "      <td id=\"T_cb31b_row5_col8\" class=\"data row5 col8\" >0.001469</td>\n",
       "      <td id=\"T_cb31b_row5_col9\" class=\"data row5 col9\" >False</td>\n",
       "    </tr>\n",
       "    <tr>\n",
       "      <th id=\"T_cb31b_level0_row6\" class=\"row_heading level0 row6\" >281</th>\n",
       "      <td id=\"T_cb31b_row6_col0\" class=\"data row6 col0\" >8</td>\n",
       "      <td id=\"T_cb31b_row6_col1\" class=\"data row6 col1\" >4</td>\n",
       "      <td id=\"T_cb31b_row6_col2\" class=\"data row6 col2\" >12.845111</td>\n",
       "      <td id=\"T_cb31b_row6_col3\" class=\"data row6 col3\" >10000</td>\n",
       "      <td id=\"T_cb31b_row6_col4\" class=\"data row6 col4\" >1250</td>\n",
       "      <td id=\"T_cb31b_row6_col5\" class=\"data row6 col5\" >2.000000</td>\n",
       "      <td id=\"T_cb31b_row6_col6\" class=\"data row6 col6\" >/gdata1/data/tide_models_clipped/</td>\n",
       "      <td id=\"T_cb31b_row6_col7\" class=\"data row6 col7\" >EOT20</td>\n",
       "      <td id=\"T_cb31b_row6_col8\" class=\"data row6 col8\" >0.001285</td>\n",
       "      <td id=\"T_cb31b_row6_col9\" class=\"data row6 col9\" >False</td>\n",
       "    </tr>\n",
       "    <tr>\n",
       "      <th id=\"T_cb31b_level0_row7\" class=\"row_heading level0 row7\" >282</th>\n",
       "      <td id=\"T_cb31b_row7_col0\" class=\"data row7 col0\" >10</td>\n",
       "      <td id=\"T_cb31b_row7_col1\" class=\"data row7 col1\" >4</td>\n",
       "      <td id=\"T_cb31b_row7_col2\" class=\"data row7 col2\" >15.768203</td>\n",
       "      <td id=\"T_cb31b_row7_col3\" class=\"data row7 col3\" >10000</td>\n",
       "      <td id=\"T_cb31b_row7_col4\" class=\"data row7 col4\" >1000</td>\n",
       "      <td id=\"T_cb31b_row7_col5\" class=\"data row7 col5\" >2.500000</td>\n",
       "      <td id=\"T_cb31b_row7_col6\" class=\"data row7 col6\" >/gdata1/data/tide_models_clipped/</td>\n",
       "      <td id=\"T_cb31b_row7_col7\" class=\"data row7 col7\" >EOT20</td>\n",
       "      <td id=\"T_cb31b_row7_col8\" class=\"data row7 col8\" >0.001577</td>\n",
       "      <td id=\"T_cb31b_row7_col9\" class=\"data row7 col9\" >False</td>\n",
       "    </tr>\n",
       "    <tr>\n",
       "      <th id=\"T_cb31b_level0_row8\" class=\"row_heading level0 row8\" >283</th>\n",
       "      <td id=\"T_cb31b_row8_col0\" class=\"data row8 col0\" >12</td>\n",
       "      <td id=\"T_cb31b_row8_col1\" class=\"data row8 col1\" >4</td>\n",
       "      <td id=\"T_cb31b_row8_col2\" class=\"data row8 col2\" >15.130573</td>\n",
       "      <td id=\"T_cb31b_row8_col3\" class=\"data row8 col3\" >10000</td>\n",
       "      <td id=\"T_cb31b_row8_col4\" class=\"data row8 col4\" >833</td>\n",
       "      <td id=\"T_cb31b_row8_col5\" class=\"data row8 col5\" >3.000000</td>\n",
       "      <td id=\"T_cb31b_row8_col6\" class=\"data row8 col6\" >/gdata1/data/tide_models_clipped/</td>\n",
       "      <td id=\"T_cb31b_row8_col7\" class=\"data row8 col7\" >EOT20</td>\n",
       "      <td id=\"T_cb31b_row8_col8\" class=\"data row8 col8\" >0.001513</td>\n",
       "      <td id=\"T_cb31b_row8_col9\" class=\"data row8 col9\" >False</td>\n",
       "    </tr>\n",
       "    <tr>\n",
       "      <th id=\"T_cb31b_level0_row9\" class=\"row_heading level0 row9\" >284</th>\n",
       "      <td id=\"T_cb31b_row9_col0\" class=\"data row9 col0\" >16</td>\n",
       "      <td id=\"T_cb31b_row9_col1\" class=\"data row9 col1\" >4</td>\n",
       "      <td id=\"T_cb31b_row9_col2\" class=\"data row9 col2\" >17.833459</td>\n",
       "      <td id=\"T_cb31b_row9_col3\" class=\"data row9 col3\" >10000</td>\n",
       "      <td id=\"T_cb31b_row9_col4\" class=\"data row9 col4\" >625</td>\n",
       "      <td id=\"T_cb31b_row9_col5\" class=\"data row9 col5\" >4.000000</td>\n",
       "      <td id=\"T_cb31b_row9_col6\" class=\"data row9 col6\" >/gdata1/data/tide_models_clipped/</td>\n",
       "      <td id=\"T_cb31b_row9_col7\" class=\"data row9 col7\" >EOT20</td>\n",
       "      <td id=\"T_cb31b_row9_col8\" class=\"data row9 col8\" >0.001783</td>\n",
       "      <td id=\"T_cb31b_row9_col9\" class=\"data row9 col9\" >False</td>\n",
       "    </tr>\n",
       "    <tr>\n",
       "      <th id=\"T_cb31b_level0_row10\" class=\"row_heading level0 row10\" >285</th>\n",
       "      <td id=\"T_cb31b_row10_col0\" class=\"data row10 col0\" >20</td>\n",
       "      <td id=\"T_cb31b_row10_col1\" class=\"data row10 col1\" >4</td>\n",
       "      <td id=\"T_cb31b_row10_col2\" class=\"data row10 col2\" >20.754384</td>\n",
       "      <td id=\"T_cb31b_row10_col3\" class=\"data row10 col3\" >10000</td>\n",
       "      <td id=\"T_cb31b_row10_col4\" class=\"data row10 col4\" >500</td>\n",
       "      <td id=\"T_cb31b_row10_col5\" class=\"data row10 col5\" >5.000000</td>\n",
       "      <td id=\"T_cb31b_row10_col6\" class=\"data row10 col6\" >/gdata1/data/tide_models_clipped/</td>\n",
       "      <td id=\"T_cb31b_row10_col7\" class=\"data row10 col7\" >EOT20</td>\n",
       "      <td id=\"T_cb31b_row10_col8\" class=\"data row10 col8\" >0.002075</td>\n",
       "      <td id=\"T_cb31b_row10_col9\" class=\"data row10 col9\" >False</td>\n",
       "    </tr>\n",
       "  </tbody>\n",
       "</table>\n"
      ],
      "text/plain": [
       "<pandas.io.formats.style.Styler at 0x7fc011c88e80>"
      ]
     },
     "execution_count": 206,
     "metadata": {},
     "output_type": "execute_result"
    }
   ],
   "source": [
    "# n = 10000\n",
    "data.query(\"(points == @n) & (parallel_max == @parallel_max) & (~model_multiple)\").style.background_gradient(cmap=\"YlOrRd\", subset=\"time_per_point\")"
   ]
  },
  {
   "cell_type": "code",
   "execution_count": 214,
   "metadata": {},
   "outputs": [
    {
     "data": {
      "text/html": [
       "<div>\n",
       "<style scoped>\n",
       "    .dataframe tbody tr th:only-of-type {\n",
       "        vertical-align: middle;\n",
       "    }\n",
       "\n",
       "    .dataframe tbody tr th {\n",
       "        vertical-align: top;\n",
       "    }\n",
       "\n",
       "    .dataframe thead th {\n",
       "        text-align: right;\n",
       "    }\n",
       "</style>\n",
       "<table border=\"1\" class=\"dataframe\">\n",
       "  <thead>\n",
       "    <tr style=\"text-align: right;\">\n",
       "      <th>model_multiple</th>\n",
       "      <th>False</th>\n",
       "      <th>True</th>\n",
       "    </tr>\n",
       "  </thead>\n",
       "  <tbody>\n",
       "    <tr>\n",
       "      <th>0</th>\n",
       "      <td>NaN</td>\n",
       "      <td>3.243056</td>\n",
       "    </tr>\n",
       "    <tr>\n",
       "      <th>1</th>\n",
       "      <td>NaN</td>\n",
       "      <td>4.219347</td>\n",
       "    </tr>\n",
       "    <tr>\n",
       "      <th>2</th>\n",
       "      <td>NaN</td>\n",
       "      <td>6.260917</td>\n",
       "    </tr>\n",
       "    <tr>\n",
       "      <th>3</th>\n",
       "      <td>NaN</td>\n",
       "      <td>7.849068</td>\n",
       "    </tr>\n",
       "    <tr>\n",
       "      <th>4</th>\n",
       "      <td>NaN</td>\n",
       "      <td>9.473125</td>\n",
       "    </tr>\n",
       "    <tr>\n",
       "      <th>...</th>\n",
       "      <td>...</td>\n",
       "      <td>...</td>\n",
       "    </tr>\n",
       "    <tr>\n",
       "      <th>347</th>\n",
       "      <td>33.650495</td>\n",
       "      <td>NaN</td>\n",
       "    </tr>\n",
       "    <tr>\n",
       "      <th>348</th>\n",
       "      <td>29.807040</td>\n",
       "      <td>NaN</td>\n",
       "    </tr>\n",
       "    <tr>\n",
       "      <th>349</th>\n",
       "      <td>27.244994</td>\n",
       "      <td>NaN</td>\n",
       "    </tr>\n",
       "    <tr>\n",
       "      <th>350</th>\n",
       "      <td>24.177347</td>\n",
       "      <td>NaN</td>\n",
       "    </tr>\n",
       "    <tr>\n",
       "      <th>351</th>\n",
       "      <td>32.104118</td>\n",
       "      <td>NaN</td>\n",
       "    </tr>\n",
       "  </tbody>\n",
       "</table>\n",
       "<p>352 rows × 2 columns</p>\n",
       "</div>"
      ],
      "text/plain": [
       "model_multiple      False     True \n",
       "0                     NaN  3.243056\n",
       "1                     NaN  4.219347\n",
       "2                     NaN  6.260917\n",
       "3                     NaN  7.849068\n",
       "4                     NaN  9.473125\n",
       "..                    ...       ...\n",
       "347             33.650495       NaN\n",
       "348             29.807040       NaN\n",
       "349             27.244994       NaN\n",
       "350             24.177347       NaN\n",
       "351             32.104118       NaN\n",
       "\n",
       "[352 rows x 2 columns]"
      ]
     },
     "execution_count": 214,
     "metadata": {},
     "output_type": "execute_result"
    }
   ],
   "source": [
    "data.pivot(columns=\"model_multiple\", values=\"time\")"
   ]
  },
  {
   "cell_type": "code",
   "execution_count": 221,
   "metadata": {},
   "outputs": [
    {
     "data": {
      "text/plain": [
       "<Axes: ylabel='Frequency'>"
      ]
     },
     "execution_count": 221,
     "metadata": {},
     "output_type": "execute_result"
    },
    {
     "data": {
      "image/png": "[encoded data removed]",
      "text/plain": [
       "<Figure size 640x480 with 1 Axes>"
      ]
     },
     "metadata": {},
     "output_type": "display_data"
    }
   ],
   "source": [
    "data.query(\"(points == @n) & (parallel_max == @parallel_max) & (model_multiple)\").time.plot.hist()"
   ]
  },
  {
   "cell_type": "code",
   "execution_count": 225,
   "metadata": {},
   "outputs": [
    {
     "data": {
      "text/plain": [
       "<Axes: ylabel='Frequency'>"
      ]
     },
     "execution_count": 225,
     "metadata": {},
     "output_type": "execute_result"
    },
    {
     "data": {
      "image/png": "[encoded data removed]",
      "text/plain": [
       "<Figure size 640x480 with 1 Axes>"
      ]
     },
     "metadata": {},
     "output_type": "display_data"
    }
   ],
   "source": [
    "data.query(\"(points == @n) & (parallel_max == @parallel_max) & (~model_multiple)\").time.plot.hist()"
   ]
  },
  {
   "cell_type": "code",
   "execution_count": 119,
   "metadata": {},
   "outputs": [
    {
     "data": {
      "text/plain": [
       "<matplotlib.collections.PathCollection at 0x7fa6cb102fb0>"
      ]
     },
     "execution_count": 119,
     "metadata": {},
     "output_type": "execute_result"
    },
    {
     "data": {
      "image/png": "[encoded data removed]",
      "text/plain": [
       "<Figure size 640x480 with 1 Axes>"
      ]
     },
     "metadata": {},
     "output_type": "display_data"
    }
   ],
   "source": [
    "plt.scatter(modelled_tides_df_spline.droplevel([\"x\", \"y\"]).tide_height, modelled_tides_df_linear.droplevel([\"x\", \"y\"]).tide_height)"
   ]
  },
  {
   "cell_type": "code",
   "execution_count": 89,
   "metadata": {},
   "outputs": [
    {
     "name": "stdout",
     "output_type": "stream",
     "text": [
      "Cropping to bounds: [149.722622, 149.722622, -22.132984, -22.132984]\n"
     ]
    }
   ],
   "source": [
    "# # Run equivalent pyTMD code to verify same results\n",
    "# pytmd_tides_spline = tide_elevations(\n",
    "#         x=np.repeat(149.722622, len(measured_tides_ds.time)), \n",
    "#         y=np.repeat(-22.132984, len(measured_tides_ds.time)), \n",
    "#         delta_time=measured_tides_ds.time,\n",
    "#         DIRECTORY=\"/var/share/tide_models/\",\n",
    "#         MODEL=\"FES2012\",\n",
    "#         EPSG=4326,\n",
    "#         TIME=\"datetime\",\n",
    "#         EXTRAPOLATE=True,\n",
    "#         CUTOFF=np.inf,\n",
    "#         METHOD=\"spline\",\n",
    "#         CROP=True,\n",
    "#         # BOUNDS=[148.722622, 149.722622, -22.132984, -23.132984],\n",
    "#         )\n",
    "\n",
    "pytmd_tides_linear = tide_elevations(\n",
    "        x=np.repeat(149.722622, len(measured_tides_ds.time)), \n",
    "        y=np.repeat(-22.132984, len(measured_tides_ds.time)), \n",
    "        delta_time=measured_tides_ds.time,\n",
    "        DIRECTORY=\"/var/share/tide_models/\",\n",
    "        MODEL=\"TPXO9-atlas-v5-nc\",\n",
    "        EPSG=4326,\n",
    "        TIME=\"datetime\",\n",
    "        EXTRAPOLATE=True,\n",
    "        CUTOFF=np.inf,\n",
    "        METHOD=\"linear\",\n",
    "        CROP=True,\n",
    "        # BOUNDS=[140.002622, 149.722622, -23.132984, -22.132984],\n",
    "        )"
   ]
  },
  {
   "cell_type": "code",
   "execution_count": 88,
   "metadata": {},
   "outputs": [
    {
     "data": {
      "text/plain": [
       "masked_array(data=[-1.5019747272607185, -1.094174075181175,\n",
       "                   -0.36239775028562476, ..., -2.975406042155719,\n",
       "                   -2.399842126206709, -1.1423142620897144],\n",
       "             mask=[False, False, False, ..., False, False, False],\n",
       "       fill_value=nan)"
      ]
     },
     "execution_count": 88,
     "metadata": {},
     "output_type": "execute_result"
    }
   ],
   "source": [
    "pytmd_tides_linear"
   ]
  },
  {
   "cell_type": "code",
   "execution_count": 51,
   "metadata": {},
   "outputs": [
    {
     "data": {
      "text/plain": [
       "<matplotlib.collections.PathCollection at 0x7fa6bf4e5420>"
      ]
     },
     "execution_count": 51,
     "metadata": {},
     "output_type": "execute_result"
    },
    {
     "data": {
      "image/png": "[encoded data removed]",
      "text/plain": [
       "<Figure size 640x480 with 1 Axes>"
      ]
     },
     "metadata": {},
     "output_type": "display_data"
    }
   ],
   "source": [
    "import matplotlib.pyplot as plt\n",
    "plt.scatter(pytmd_tides_spline.data, pytmd_tides_linear.data)"
   ]
  },
  {
   "cell_type": "code",
   "execution_count": null,
   "metadata": {},
   "outputs": [],
   "source": [
    "phase_df = phase_tides(\n",
    "    x=[122.14],\n",
    "    y=[-17.91],\n",
    "    time=pd.date_range(\"2020-01-01\", \"2020-01-02\", freq=\"h\"),\n",
    "    directory=\"/var/share/tide_models/\",\n",
    "    model=[\"EOT20\"],\n",
    "    delta = \"15 min\",\n",
    ")"
   ]
  },
  {
   "cell_type": "code",
   "execution_count": null,
   "metadata": {},
   "outputs": [],
   "source": [
    "import pandas as pd\n",
    "pd.date_range(start=\"2000-01-01\", end=\"2000-01-02\", periods=3).values"
   ]
  },
  {
   "cell_type": "code",
   "execution_count": null,
   "metadata": {},
   "outputs": [],
   "source": [
    "x, y, crs, method, model = GAUGE_X, GAUGE_Y, \"EPSG:4326\", \"bilinear\", \"EOT20\""
   ]
  },
  {
   "cell_type": "code",
   "execution_count": null,
   "metadata": {},
   "outputs": [],
   "source": [
    "x, y"
   ]
  },
  {
   "cell_type": "markdown",
   "metadata": {},
   "source": [
    "## Testing pyTMD"
   ]
  },
  {
   "cell_type": "code",
   "execution_count": 145,
   "metadata": {},
   "outputs": [
    {
     "name": "stdout",
     "output_type": "stream",
     "text": [
      "Modelling tides with EOT20\n"
     ]
    },
    {
     "data": {
      "text/plain": [
       "True"
      ]
     },
     "execution_count": 145,
     "metadata": {},
     "output_type": "execute_result"
    }
   ],
   "source": [
    "from eo_tides import model_tides\n",
    "\n",
    "x, y, crs, method, model = GAUGE_X, GAUGE_Y, \"EPSG:4326\", \"spline\", \"EOT20\"\n",
    "x, y, crs, method, model = GAUGE_X, GAUGE_Y, \"EPSG:4326\", \"bilinear\", \"EOT20\"\n",
    "x, y, crs, method, model = -1034913, -1961916, \"EPSG:3577\", \"bilinear\", \"EOT20\"\n",
    "\n",
    "\n",
    "# # Run EOT20 tidal model for locations and timesteps in tide gauge data\n",
    "modelled_tides_df = model_tides(\n",
    "    x=[x],\n",
    "    y=[y],\n",
    "    time=measured_tides_ds.time,\n",
    "    crs=crs,\n",
    "    method=method,\n",
    "    directory=\"./tests/data/tide_models\",\n",
    "    # crop=False,\n",
    ")\n",
    "\n",
    "# Run equivalent pyTMD code to verify same results\n",
    "pytmd_tides = tide_elevations(\n",
    "        x=x, \n",
    "        y=y, \n",
    "        delta_time=measured_tides_ds.time,\n",
    "        DIRECTORY=\"./tests/data/tide_models\",\n",
    "        MODEL=model,\n",
    "        EPSG=int(crs[-4:]),\n",
    "        TIME=\"datetime\",\n",
    "        EXTRAPOLATE=True,\n",
    "        CUTOFF=np.inf,\n",
    "        METHOD=method,\n",
    "        # CORRECTIONS: str | None = None,\n",
    "        # INFER_MINOR: bool = True,\n",
    "        # MINOR_CONSTITUENTS: list | None = None,\n",
    "        # APPLY_FLEXURE: bool = False,\n",
    "        # FILL_VALUE: float = np.nan\n",
    "        # APPEND_NODE=True,\n",
    "        )\n",
    "\n",
    "np.allclose(modelled_tides_df.tide_height.values, pytmd_tides.data)"
   ]
  },
  {
   "cell_type": "code",
   "execution_count": null,
   "metadata": {},
   "outputs": [],
   "source": [
    "pytmd_tides"
   ]
  },
  {
   "cell_type": "markdown",
   "metadata": {},
   "source": [
    "## Appending node"
   ]
  },
  {
   "cell_type": "code",
   "execution_count": null,
   "metadata": {},
   "outputs": [],
   "source": [
    "from eo_tides import model_tides\n",
    "\n",
    "x, y, crs, method, model = GAUGE_X, GAUGE_Y, \"EPSG:4326\", \"spline\", \"EOT20\"\n",
    "x, y, crs, method, model = GAUGE_X, GAUGE_Y, \"EPSG:4326\", \"bilinear\", \"EOT20\"\n",
    "x, y, crs, method, model = -1034913, -1961916, \"EPSG:3577\", \"bilinear\", \"EOT20\"\n",
    "\n",
    "\n",
    "# Run EOT20 tidal model for locations and timesteps in tide gauge data\n",
    "modelled_tides_df = model_tides(\n",
    "    x=[x],\n",
    "    y=[y],\n",
    "    model=\"FES2014\",\n",
    "    time=pd.date_range(\"1980\", \"2020\", freq=\"9h\"),\n",
    "    crs=crs,\n",
    "    method=method,\n",
    "    directory=\"/var/share/tide_models/\",\n",
    ")"
   ]
  },
  {
   "cell_type": "code",
   "execution_count": null,
   "metadata": {},
   "outputs": [],
   "source": [
    "# Run EOT20 tidal model for locations and timesteps in tide gauge data\n",
    "modelled_tides_df2 = model_tides(\n",
    "    x=[x],\n",
    "    y=[y],\n",
    "    model=\"FES2014\",\n",
    "    time=pd.date_range(\"1980\", \"2020\", freq=\"9h\"),\n",
    "    crs=crs,\n",
    "    method=method,\n",
    "    directory=\"/var/share/tide_models/\",\n",
    ")"
   ]
  },
  {
   "cell_type": "code",
   "execution_count": null,
   "metadata": {},
   "outputs": [],
   "source": [
    "modelled_tides_df.tide_height.plot(alpha=0.5)"
   ]
  },
  {
   "cell_type": "code",
   "execution_count": null,
   "metadata": {},
   "outputs": [],
   "source": [
    "modelled_tides_df2.tide_height - modelled_tides_df.tide_height"
   ]
  },
  {
   "cell_type": "markdown",
   "metadata": {},
   "source": [
    "### Error for out of bounds"
   ]
  },
  {
   "cell_type": "code",
   "execution_count": null,
   "metadata": {},
   "outputs": [],
   "source": [
    "from eo_tides import model_tides\n",
    "\n",
    "x, y = 180, -50\n",
    "\n",
    "\n",
    "# Run EOT20 tidal model for locations and timesteps in tide gauge data\n",
    "modelled_tides_df = model_tides(\n",
    "    x=[x],\n",
    "    y=[y],\n",
    "    model=[\"EOT20\", \"GOT5.5\"],\n",
    "    time=measured_tides_ds.time,\n",
    "    directory=\"../tests/data/tide_models\",\n",
    ")"
   ]
  },
  {
   "cell_type": "code",
   "execution_count": null,
   "metadata": {},
   "outputs": [],
   "source": [
    "from eo_tides import list_models\n",
    "list_models(directory=\"\")"
   ]
  },
  {
   "cell_type": "markdown",
   "metadata": {},
   "source": [
    "## Stats bug"
   ]
  },
  {
   "cell_type": "code",
   "execution_count": null,
   "metadata": {},
   "outputs": [],
   "source": [
    "from eo_tides.stats import pixel_stats"
   ]
  },
  {
   "cell_type": "code",
   "execution_count": null,
   "metadata": {},
   "outputs": [],
   "source": [
    "models = [\"EOT20\"]\n",
    "resample = False\n",
    "\n",
    "stats_ds = pixel_stats(\n",
    "    ds=satellite_ds,\n",
    "    model=models,\n",
    "    resample=resample,\n",
    "    directory=\"../tests/data/tide_models\",\n",
    ")"
   ]
  },
  {
   "cell_type": "code",
   "execution_count": null,
   "metadata": {},
   "outputs": [],
   "source": [
    "stats_ds"
   ]
  },
  {
   "cell_type": "markdown",
   "metadata": {},
   "source": [
    "### Modelling ebb and flow tidal phases\n",
    "The `tag_tides` function also allows us to determine whether each satellite observation was taken while the tide was rising/incoming (flow tide) or falling/outgoing (ebb tide) by setting `ebb_flow=True`. This is achieved by comparing tide heights 15 minutes before and after the observed satellite observation.\n",
    "\n",
    "Ebb and flow data can provide valuable contextual information for interpreting satellite imagery, particularly in tidal flat or mangrove forest environments where water may remain in the landscape for considerable time after the tidal peak.\n",
    "\n",
    "Once you run the cell below, our data will now also contain a new `ebb_flow` variable under **Data variables**:"
   ]
  },
  {
   "cell_type": "code",
   "execution_count": null,
   "metadata": {},
   "outputs": [],
   "source": [
    "import datacube\n",
    "\n",
    "dc = datacube.Datacube()\n",
    "\n",
    "ds = dc.load(product=\"ga_s2ls_intertidal_cyear_3\", limit=1, measurements=\"elevation\")"
   ]
  },
  {
   "cell_type": "code",
   "execution_count": null,
   "metadata": {},
   "outputs": [],
   "source": [
    "from odc.geo.geobox import GeoBox\n",
    "import xarray as xr\n",
    "import textwrap\n",
    "import numpy as np\n",
    "\n",
    "from typing import Any\n",
    "\n",
    "\n",
    "def _standardise_time(\n",
    "    time: np.ndarray | pd.DatetimeIndex | pd.Timestamp | None,\n",
    ") -> np.ndarray | None:\n",
    "    \"\"\"\n",
    "    Accept a datetime64 ndarray, pandas.DatetimeIndex\n",
    "    or pandas.Timestamp, and return a datetime64 ndarray.\n",
    "    \"\"\"\n",
    "    # Return time as-is if none\n",
    "    if time is None:\n",
    "        return time\n",
    "\n",
    "    # Convert to a 1D datetime64 array\n",
    "    time = np.atleast_1d(time).astype(\"datetime64[ns]\")\n",
    "\n",
    "    return time\n",
    "\n",
    "\n",
    "def _standardise_inputs(\n",
    "    ds: xr.DataArray | xr.Dataset | GeoBox,\n",
    "    time: np.ndarray | pd.DatetimeIndex | pd.Timestamp | None,\n",
    ") -> (GeoBox, np.ndarray):\n",
    "    \"\"\"\n",
    "    Takes an xarray or GeoBox input and an optional custom times,\n",
    "    and returns a standardised GeoBox and  \n",
    "    \"\"\"\n",
    "\n",
    "    # If `ds` is an xarray object, extract its GeoBox and time\n",
    "    if isinstance(ds, (xr.DataArray, xr.Dataset)):\n",
    "\n",
    "        # Try to extract GeoBox\n",
    "        try:\n",
    "            gbox = ds.odc.geobox\n",
    "        except AttributeError:\n",
    "            error_msg = \"\"\"\n",
    "            Cannot extract a valid GeoBox for `ds`. This is required for\n",
    "            extracting details about `ds`'s CRS and spatial location.\n",
    "            \n",
    "            Import `odc.geo.xr` then run `ds = ds.odc.assign_crs(crs=...)`\n",
    "            to prepare your data before passing it to this function.\n",
    "            \"\"\"\n",
    "            raise Exception(textwrap.dedent(error_msg).strip())\n",
    "\n",
    "        # Use custom time by default if provided; otherwise try and extract from `ds`\n",
    "        if time is not None:\n",
    "            time = _standardise_time(time)\n",
    "        elif \"time\" in ds.coords:\n",
    "            time = ds.coords[\"time\"].values\n",
    "        else:\n",
    "            raise ValueError(\n",
    "                \"`ds` does not have a time dimension, and no custom times were provided via `time`.\"\n",
    "            )\n",
    "\n",
    "    # If `ds` is a GeoBox, use it directly; raise an error if no time was provided\n",
    "    elif isinstance(ds, GeoBox):\n",
    "        gbox = ds\n",
    "        if time is not None:\n",
    "            time = _standardise_time(time)\n",
    "        else:\n",
    "            raise ValueError(\"If `ds` is a GeoBox, `time` must be provided.\")\n",
    "\n",
    "    # Raise error if no valid inputs were provided\n",
    "    else:\n",
    "        raise TypeError(\n",
    "            \"`ds` must be an xarray.DataArray, xarray.Dataset, or odc.geo.geobox.GeoBox.\"\n",
    "        )\n",
    "\n",
    "    return gbox, time\n",
    "\n",
    "\n",
    "time = pd.date_range(\"2021\", \"2022\").values\n",
    "time = pd.date_range(\"2021\", \"2022\")\n",
    "time = pd.Timestamp(\"2022-02-01\")\n",
    "# time = satellite_ds.time\n",
    "# time = [\"a\", \"b\"]\n",
    "\n",
    "\n",
    "gbox, time = _standardise_inputs(ds=ds.drop_dims(\"time\").odc.geobox, time=time)\n",
    "gbox, time"
   ]
  },
  {
   "cell_type": "code",
   "execution_count": null,
   "metadata": {},
   "outputs": [],
   "source": [
    "satellite_ds.chunks[\"x\"]"
   ]
  },
  {
   "cell_type": "code",
   "execution_count": null,
   "metadata": {},
   "outputs": [],
   "source": [
    "import pandas as pd\n",
    "\n",
    "time = pd.date_range(\"2021\", \"2022\").values\n",
    "# time = pd.date_range(\"2021\", \"2022\")\n",
    "# time = pd.Timestamp(\"2022-02-01\")\n",
    "time = satellite_ds.time\n",
    "\n",
    "\n",
    "def _standardise_time(\n",
    "    time: np.ndarray | pd.DatetimeIndex | pd.Timestamp | None,\n",
    ") -> np.ndarray | None:\n",
    "    \"\"\"\n",
    "    Accept a datetime64 ndarray, pandas.DatetimeIndex\n",
    "    or pandas.Timestamp, and return a datetime64 ndarray.\n",
    "    \"\"\"\n",
    "    # Return time as-is if none\n",
    "    if time is None:\n",
    "        return time\n",
    "\n",
    "    # Convert to a 1D datetime64 array\n",
    "    time = np.atleast_1d(time).astype(\"datetime64[ns]\")\n",
    "\n",
    "    return time\n",
    "\n",
    "\n",
    "time = pd.date_range(\"2021\", \"2022\").values\n",
    "# time = pd.date_range(\"2021\", \"2022\")\n",
    "# time = pd.Timestamp(\"2022-02-01\")\n",
    "# time = satellite_ds.time\n",
    "# time = [pd.Timestamp(\"2022-02-01\"), pd.Timestamp(\"2022-02-01\")]\n",
    "# time = None\n",
    "_standardise_time(time=time)"
   ]
  },
  {
   "cell_type": "code",
   "execution_count": null,
   "metadata": {},
   "outputs": [],
   "source": [
    "test = np.atleast_1d(time).astype('datetime64[ns]')"
   ]
  },
  {
   "cell_type": "code",
   "execution_count": null,
   "metadata": {},
   "outputs": [],
   "source": [
    "test"
   ]
  },
  {
   "cell_type": "code",
   "execution_count": null,
   "metadata": {},
   "outputs": [],
   "source": [
    "ds = ds.odc.assign_crs(\"EPSG:3577\")"
   ]
  },
  {
   "cell_type": "code",
   "execution_count": null,
   "metadata": {},
   "outputs": [],
   "source": [
    "test = satellite_ds.nbart_red.drop_attrs(deep=True).drop_vars(\"spatial_ref\").odc.reload()"
   ]
  },
  {
   "cell_type": "code",
   "execution_count": null,
   "metadata": {},
   "outputs": [],
   "source": [
    "test  #odc.reload()"
   ]
  },
  {
   "cell_type": "code",
   "execution_count": null,
   "metadata": {},
   "outputs": [],
   "source": [
    "# Model tide heights\n",
    "ds = tag_tides(\n",
    "    ds, \n",
    "    ebb_flow=True,     \n",
    "    directory=\"../../tests/data/tide_models\",\n",
    ")\n",
    "\n",
    "# Print output data\n",
    "print(ds)"
   ]
  },
  {
   "cell_type": "markdown",
   "metadata": {},
   "source": [
    "We now have data giving us the both the tide height and tidal phase (\"ebb\" or \"flow\") for every satellite image:"
   ]
  },
  {
   "cell_type": "code",
   "execution_count": null,
   "metadata": {},
   "outputs": [],
   "source": [
    "ds[[\"time\", \"tide_height\", \"ebb_flow\"]].drop_vars(\"spatial_ref\").to_dataframe().head()"
   ]
  },
  {
   "cell_type": "markdown",
   "metadata": {},
   "source": [
    "We could for example use this data to filter our observations to keep ebbing phase observations only:"
   ]
  },
  {
   "cell_type": "code",
   "execution_count": null,
   "metadata": {},
   "outputs": [],
   "source": [
    "ds_ebb = ds.where(ds.ebb_flow == \"Ebb\", drop=True)\n",
    "print(ds_ebb)"
   ]
  },
  {
   "cell_type": "markdown",
   "metadata": {},
   "source": [
    "## Pixel biases"
   ]
  },
  {
   "cell_type": "code",
   "execution_count": null,
   "metadata": {},
   "outputs": [],
   "source": [
    "import odc.stac\n",
    "import pystac_client\n",
    "import planetary_computer\n",
    "\n",
    "# Connect to STAC catalog\n",
    "catalog = pystac_client.Client.open(\n",
    "    \"https://planetarycomputer.microsoft.com/api/stac/v1\",\n",
    "    modifier=planetary_computer.sign_inplace,\n",
    ")\n",
    "\n",
    "# Set cloud access defaults\n",
    "odc.stac.configure_rio(\n",
    "    cloud_defaults=True,\n",
    "    aws={\"aws_unsigned\": True},\n",
    ")\n",
    "\n",
    "# Build a query and search the STAC catalog for all matching items\n",
    "bbox = [122.160, -18.05, 122.260, -17.95]\n",
    "query = catalog.search(\n",
    "    bbox=bbox,\n",
    "    collections=[\"sentinel-2-l2a\"],\n",
    "    datetime=\"2021/2023\",\n",
    ")\n",
    "\n",
    "# Load data into xarray format\n",
    "ds_s2 = odc.stac.load(\n",
    "    items=list(query.items()),\n",
    "    bands=[\"red\"],\n",
    "    crs=\"utm\",\n",
    "    resolution=30,\n",
    "    groupby=\"solar_day\",\n",
    "    bbox=bbox,\n",
    "    fail_on_error=False,\n",
    "    chunks={},\n",
    ")\n",
    "\n",
    "print(ds_s2)"
   ]
  },
  {
   "cell_type": "code",
   "execution_count": null,
   "metadata": {},
   "outputs": [],
   "source": []
  },
  {
   "cell_type": "code",
   "execution_count": null,
   "metadata": {},
   "outputs": [],
   "source": [
    "list(stats_ds.data_vars.keys())"
   ]
  },
  {
   "cell_type": "code",
   "execution_count": null,
   "metadata": {},
   "outputs": [],
   "source": [
    "from eo_tides.stats import pixel_stats\n",
    "\n",
    "models = [\"EOT20\"]\n",
    "resample = True\n",
    "\n",
    "stats_ds = pixel_stats(\n",
    "    ds=satellite_ds,\n",
    "    model=models,\n",
    "    resample=resample,\n",
    "    directory=\"../tests/data/tide_models\",\n",
    ")\n",
    "\n",
    "# Verify dims are correct\n",
    "assert stats_ds.odc.spatial_dims == satellite_ds.odc.spatial_dims\n",
    "\n",
    "# Verify vars are as expected\n",
    "expected_vars = ['hat',  'hot',  'lat',  'lot',  'otr',  'tr',  'spread',  'offset_low',  'offset_high']\n",
    "assert set(expected_vars) == set(stats_ds.data_vars)\n",
    "\n",
    "# Verify tide models are correct\n",
    "assert all(stats_ds[\"tide_model\"].values == models)\n",
    "if len(models) > 1:\n",
    "    assert \"tide_model\" in stats_ds.dims\n",
    "\n",
    "# If resample, assert that statistics have the same shape and dims\n",
    "# as `satellite_ds`\n",
    "if resample:\n",
    "    assert satellite_ds.odc.geobox.shape == stats_ds.odc.geobox.shape\n",
    "\n"
   ]
  },
  {
   "cell_type": "code",
   "execution_count": null,
   "metadata": {},
   "outputs": [],
   "source": [
    "# Verify values are roughly expected\n",
    "assert np.allclose(stats_ds.offset_high.mean().item, 0.30, atol=0.02)\n",
    "assert np.allclose(stats_ds.offset_low.mean().item, 0.27, atol=0.02)\n",
    "assert np.allclose(stats_ds.spread.mean().item, 0.43, atol=0.02)"
   ]
  },
  {
   "cell_type": "code",
   "execution_count": null,
   "metadata": {},
   "outputs": [],
   "source": [
    "stats_ds.offset_high.mean().item()"
   ]
  },
  {
   "cell_type": "code",
   "execution_count": null,
   "metadata": {},
   "outputs": [],
   "source": []
  },
  {
   "cell_type": "code",
   "execution_count": null,
   "metadata": {},
   "outputs": [],
   "source": [
    "stats_ds.spread.mean()"
   ]
  },
  {
   "cell_type": "code",
   "execution_count": null,
   "metadata": {},
   "outputs": [],
   "source": [
    "stats_ds[\"tide_model\"].values.tolist()"
   ]
  },
  {
   "cell_type": "code",
   "execution_count": null,
   "metadata": {},
   "outputs": [],
   "source": [
    "stats_ds[\"tide_model\"].values.tolist()"
   ]
  },
  {
   "cell_type": "code",
   "execution_count": null,
   "metadata": {},
   "outputs": [],
   "source": [
    "set(['hat',  'hot',  'lat',  'lot',  'otr',  'tr',  'spread',  'offset_low',  'offset_high'])"
   ]
  },
  {
   "cell_type": "code",
   "execution_count": null,
   "metadata": {},
   "outputs": [],
   "source": [
    "set(stats_ds.data_vars)"
   ]
  },
  {
   "cell_type": "code",
   "execution_count": null,
   "metadata": {},
   "outputs": [],
   "source": [
    "from eo_tides import pixel_tides\n",
    "\n",
    "pixel_tides(\n",
    "    ds=satellite_ds,\n",
    "    model=[\"EOT20\", \"GOT5.5\"],\n",
    "    directory=\"../tests/data/tide_models\",\n",
    "    )"
   ]
  },
  {
   "cell_type": "code",
   "execution_count": null,
   "metadata": {},
   "outputs": [],
   "source": [
    "stats_ds.dims"
   ]
  },
  {
   "cell_type": "code",
   "execution_count": null,
   "metadata": {},
   "outputs": [],
   "source": [
    "satellite_ds.x"
   ]
  },
  {
   "cell_type": "markdown",
   "metadata": {},
   "source": []
  }
 ],
 "metadata": {
  "kernelspec": {
   "display_name": "Python 3 (ipykernel)",
   "language": "python",
   "name": "python3"
  },
  "language_info": {
   "codemirror_mode": {
    "name": "ipython",
    "version": 3
   },
   "file_extension": ".py",
   "mimetype": "text/x-python",
   "name": "python",
   "nbconvert_exporter": "python",
   "pygments_lexer": "ipython3",
   "version": "3.10.15"
  }
 },
 "nbformat": 4,
 "nbformat_minor": 4
}
