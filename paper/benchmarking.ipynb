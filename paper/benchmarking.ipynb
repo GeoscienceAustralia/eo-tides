{
 "cells": [
  {
   "cell_type": "markdown",
   "id": "0c52f321-4eaa-4518-8549-887ee6ff1b1a",
   "metadata": {},
   "source": [
    "# Benchmark parallelisation performance"
   ]
  },
  {
   "cell_type": "code",
   "execution_count": null,
   "id": "881716d8-ae18-42c7-a35c-aefde7e7e95d",
   "metadata": {},
   "outputs": [],
   "source": [
    "# !pip install eo_tides"
   ]
  },
  {
   "cell_type": "code",
   "execution_count": 1,
   "id": "38035d66-8899-4982-ac0c-3d57a3aef035",
   "metadata": {},
   "outputs": [],
   "source": [
    "import os\n",
    "import platform\n",
    "import psutil\n",
    "import pandas as pd\n",
    "import numpy as np\n",
    "from eo_tides.model import model_tides"
   ]
  },
  {
   "cell_type": "markdown",
   "id": "5d5341dd-c891-48fe-b1ee-3866c13659ec",
   "metadata": {},
   "source": [
    "## Computer info"
   ]
  },
  {
   "cell_type": "code",
   "execution_count": 2,
   "id": "5adc7785-99d5-4123-b837-9ef9e67cfaac",
   "metadata": {},
   "outputs": [
    {
     "name": "stdout",
     "output_type": "stream",
     "text": [
      "CPU Info:\n",
      "  Number of Cores: 32\n",
      "  Physical Cores: 16\n",
      "\n",
      "Memory Info:\n",
      "  Total: 267.30 GB\n",
      "  Available: 262.48 GB\n",
      "\n",
      "System Info:\n",
      "  System: Linux\n",
      "  Release: 5.10.230-223.885.amzn2.x86_64\n",
      "  Machine: x86_64\n",
      "  Processor: x86_64\n"
     ]
    }
   ],
   "source": [
    "# Get CPU information\n",
    "print(\"CPU Info:\")\n",
    "print(f\"  Number of Cores: {os.cpu_count()}\")\n",
    "print(f\"  Physical Cores: {psutil.cpu_count(logical=False)}\\n\")\n",
    "\n",
    "# Get Memory information\n",
    "print(\"Memory Info:\")\n",
    "virtual_memory = psutil.virtual_memory()\n",
    "print(f\"  Total: {virtual_memory.total / 1e9:.2f} GB\")\n",
    "print(f\"  Available: {virtual_memory.available / 1e9:.2f} GB\\n\")\n",
    "\n",
    "# Get system platform information\n",
    "print(\"System Info:\")\n",
    "print(f\"  System: {platform.system()}\")\n",
    "print(f\"  Release: {platform.release()}\")\n",
    "print(f\"  Machine: {platform.machine()}\")\n",
    "print(f\"  Processor: {platform.processor()}\")"
   ]
  },
  {
   "cell_type": "markdown",
   "id": "e0e89162-c23b-493c-b5e2-9890b954f02a",
   "metadata": {},
   "source": [
    "## Parameters\n",
    "* Hourly tides for one month\n",
    "* 10000 point locations\n",
    "* Three tide models"
   ]
  },
  {
   "cell_type": "code",
   "execution_count": 3,
   "id": "7b653060-9e63-4b74-9728-0388544571a8",
   "metadata": {},
   "outputs": [],
   "source": [
    "directory = \"/var/share/tide_models/\"\n",
    "n = 10000\n",
    "x = np.linspace(122.00, 123.0, n)\n",
    "y = np.linspace(-18.00, -19.00, n)\n",
    "time = pd.date_range(start=\"2018-01-01\", end=\"2018-01-31\", freq=\"1h\")\n",
    "models = [\"FES2022\", \"TPXO10-atlas-v2-nc\", \"GOT5.6\"]"
   ]
  },
  {
   "cell_type": "markdown",
   "id": "593bbcbd-6410-42a5-a0be-002314acf537",
   "metadata": {},
   "source": [
    "## Run with default parallelisation"
   ]
  },
  {
   "cell_type": "code",
   "execution_count": 4,
   "id": "3a706946-b25b-4268-a432-f9a3d5d77d20",
   "metadata": {},
   "outputs": [
    {
     "name": "stdout",
     "output_type": "stream",
     "text": [
      "Modelling tides with FES2022, TPXO10-atlas-v2-nc, GOT5.6 in parallel (models: 3, splits: 10)\n"
     ]
    },
    {
     "name": "stderr",
     "output_type": "stream",
     "text": [
      "100%|██████████| 30/30 [00:53<00:00,  1.79s/it]\n"
     ]
    },
    {
     "name": "stdout",
     "output_type": "stream",
     "text": [
      "Modelling tides with FES2022, TPXO10-atlas-v2-nc, GOT5.6 in parallel (models: 3, splits: 10)\n"
     ]
    },
    {
     "name": "stderr",
     "output_type": "stream",
     "text": [
      "100%|██████████| 30/30 [00:55<00:00,  1.86s/it]\n"
     ]
    },
    {
     "name": "stdout",
     "output_type": "stream",
     "text": [
      "Modelling tides with FES2022, TPXO10-atlas-v2-nc, GOT5.6 in parallel (models: 3, splits: 10)\n"
     ]
    },
    {
     "name": "stderr",
     "output_type": "stream",
     "text": [
      "100%|██████████| 30/30 [00:54<00:00,  1.81s/it]\n"
     ]
    },
    {
     "name": "stdout",
     "output_type": "stream",
     "text": [
      "55.9 s ± 560 ms per loop (mean ± std. dev. of 3 runs, 1 loop each)\n"
     ]
    }
   ],
   "source": [
    "%%timeit -n 1 -r 3\n",
    "\n",
    "tide_df = model_tides(\n",
    "    x=x,\n",
    "    y=y,\n",
    "    time=time,\n",
    "    model=models,\n",
    "    directory=directory,\n",
    "    parallel=True,\n",
    ")"
   ]
  },
  {
   "cell_type": "markdown",
   "id": "715e9e43-60fb-4cfa-907f-069109910593",
   "metadata": {},
   "source": [
    "## Run without parallelisation"
   ]
  },
  {
   "cell_type": "code",
   "execution_count": 5,
   "id": "bb0cbd6a-8ba4-42e6-af0e-654f8933929a",
   "metadata": {},
   "outputs": [
    {
     "name": "stdout",
     "output_type": "stream",
     "text": [
      "Modelling tides with FES2022\n",
      "Modelling tides with TPXO10-atlas-v2-nc\n",
      "Modelling tides with GOT5.6\n",
      "Modelling tides with FES2022\n",
      "Modelling tides with TPXO10-atlas-v2-nc\n",
      "Modelling tides with GOT5.6\n",
      "Modelling tides with FES2022\n",
      "Modelling tides with TPXO10-atlas-v2-nc\n",
      "Modelling tides with GOT5.6\n",
      "9min 24s ± 749 ms per loop (mean ± std. dev. of 3 runs, 1 loop each)\n"
     ]
    }
   ],
   "source": [
    "%%timeit -n 1 -r 3\n",
    "\n",
    "tide_df = model_tides(\n",
    "    x=x,\n",
    "    y=y,\n",
    "    time=time,\n",
    "    model=models,\n",
    "    directory=directory,\n",
    "    parallel=False,\n",
    ")"
   ]
  },
  {
   "cell_type": "code",
   "execution_count": null,
   "id": "10cf41b2-9870-4df9-a081-80a163a23afc",
   "metadata": {},
   "outputs": [],
   "source": []
  }
 ],
 "metadata": {
  "kernelspec": {
   "display_name": "Python 3 (ipykernel)",
   "language": "python",
   "name": "python3"
  },
  "language_info": {
   "codemirror_mode": {
    "name": "ipython",
    "version": 3
   },
   "file_extension": ".py",
   "mimetype": "text/x-python",
   "name": "python",
   "nbconvert_exporter": "python",
   "pygments_lexer": "ipython3",
   "version": "3.10.15"
  }
 },
 "nbformat": 4,
 "nbformat_minor": 5
}
