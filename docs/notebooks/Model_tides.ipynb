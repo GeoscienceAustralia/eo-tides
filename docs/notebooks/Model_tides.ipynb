{
 "cells": [
  {
   "cell_type": "markdown",
   "metadata": {},
   "source": [
    "# Modelling tides\n",
    "\n",
    "**This guide demonstrates how to use the [`model_tides`](../../api/#eo_tides.model.model_tides) function from the [`eo_tides.model`](../../api/#eo_tides.model) module to model tide heights at multiple coordinates or time steps, using one or more ocean tide models.**\n",
    "\n",
    "The `model_tides` function supports tide modelling based on a wide range of ocean tide models using a single line of code, parallelising this modelling where possible and returning data in a standardised `pandas.Dataframe` format.\n",
    "The `model_tides` function can be used independently of Earth observation (EO) data, e.g. for any application where you need to generate a time series of tide heights.\n",
    "However, it also underpins the more complex EO-related functions demonstrated in [Combining tides with satellite data](../Satellite_data).\n",
    "\n",
    "<div class=\"admonition tip\">\n",
    "    <p class=\"admonition-title\">Tip</p>\n",
    "    <p>\n",
    "        The <code>model_tides</code> function is based on the <a href=\"https://pytmd.readthedocs.io/en/latest/api_reference/compute.html#pyTMD.compute.tide_elevations\"><code>pyTMD.compute.tide_elevations</code></a> function from the <code>pyTMD</code> tide modelling package that underpins <code>eo-tides</code>, with modifications to support parallel processing and integration with <code>pandas</code> and <code>xarray</code> workflows. We highly recommend exploring the <a href=\"https://pytmd.readthedocs.io/en/latest/getting_started/Overview.html\">more advanced tide modelling functionality available in <code>pyTMD</code></a> for more custom tide modelling applications.\n",
    "    </p>\n",
    "</div>"
   ]
  },
  {
   "cell_type": "markdown",
   "metadata": {},
   "source": [
    "## Getting started\n",
    "As a first step, we need to tell `eo-tides` the location of our tide model directory (if you haven't set this up, [refer to the setup instructions here](../../setup)).\n",
    "\n",
    "We will pass this path to `eo-tides` functions using the `directory` parameter.\n",
    "\n",
    "<!-- For local installation:\n",
    "pip install -e ../../. -->"
   ]
  },
  {
   "cell_type": "code",
   "execution_count": null,
   "metadata": {
    "tags": []
   },
   "outputs": [],
   "source": [
    "directory = \"../../tests/data/tide_models/\""
   ]
  },
  {
   "cell_type": "markdown",
   "metadata": {},
   "source": [
    "We can use the [`eo_tides.model.list_models`](../../api/#eo_tides.model.list_models) function to verify that we have some tide model data available in this directory:"
   ]
  },
  {
   "cell_type": "code",
   "execution_count": null,
   "metadata": {
    "tags": []
   },
   "outputs": [],
   "source": [
    "from eo_tides.model import list_models\n",
    "\n",
    "list_models(directory=directory, show_supported=False);"
   ]
  },
  {
   "cell_type": "markdown",
   "metadata": {},
   "source": [
    "<div class=\"admonition important\">\n",
    "    <p class=\"admonition-title\">Important</p>\n",
    "    <p>\n",
    "        The directory above contains demo data only.\n",
    "        Update the <code>directory</code> path to point to the location of your own tide model directory.\n",
    "    </p>\n",
    "</div>"
   ]
  },
  {
   "cell_type": "markdown",
   "metadata": {},
   "source": [
    "## Using model_tides\n",
    "\n",
    "In the example below, we use the [`model_tides`](../../api/#eo_tides.model.model_tides) function to model hourly tides for the city of **Broome, Western Australia** across **January 2018**:"
   ]
  },
  {
   "cell_type": "code",
   "execution_count": null,
   "metadata": {
    "tags": []
   },
   "outputs": [],
   "source": [
    "from eo_tides.model import model_tides\n",
    "import pandas as pd\n",
    "\n",
    "tide_df = model_tides(\n",
    "    x=122.2186,\n",
    "    y=-18.0008,\n",
    "    time=pd.date_range(start=\"2018-01-01\", end=\"2018-01-31\", freq=\"1h\"),\n",
    "    directory=directory,\n",
    ")\n",
    "\n",
    "# Print outputs\n",
    "tide_df.head()"
   ]
  },
  {
   "cell_type": "markdown",
   "metadata": {},
   "source": [
    "The resulting `pandas.DataFrame` contains:\n",
    "\n",
    "* `time`, `x`, `y`: Our original input timesteps and coordinates\n",
    "* `tide_model`: a column listing the tide model used\n",
    "* `tide_height`: modelled tide heights representing tide height in metres relative to Mean Sea Level\n",
    "\n",
    "We can plot our modelled outputs to view how tides changed across the month. \n",
    "Looking at the y-axis, we can see that tides at this macrotidal region ranged from -4 metres up to a maximum of +4 metres relative to Mean Sea Level:"
   ]
  },
  {
   "cell_type": "code",
   "execution_count": null,
   "metadata": {
    "tags": []
   },
   "outputs": [],
   "source": [
    "tide_df.droplevel([\"x\", \"y\"]).tide_height.plot();"
   ]
  },
  {
   "cell_type": "markdown",
   "metadata": {},
   "source": [
    "### Multiple models\n",
    "\n",
    "By default, `model_tides` will model tides using the [`EOT20` tide model](https://www.seanoe.org/data/00683/79489/) – a leading open-source global ocean model with a permissive CC BY 4.0 licence:\n",
    "\n",
    "> Hart-Davis Michael, Piccioni Gaia, Dettmering Denise, Schwatke Christian, Passaro Marcello, Seitz Florian (2021). EOT20 - A global Empirical Ocean Tide model from multi-mission satellite altimetry. SEANOE. https://doi.org/10.17882/79489\n",
    "\n",
    "However, we can easily model tides using multiple models by passing a list of models to the `model` parameter.\n",
    "`eo-tides` will process these in parallel where possible, and return the data into a single `pandas.DataFrame`.\n",
    "For example, we can model tides using the `EOT20`, `GOT5.5` and `HAMTIDE11` models:\n",
    "\n",
    "<div class=\"admonition note\">\n",
    "    <p class=\"admonition-title\">Note</p>\n",
    "    <p>\n",
    "        Here we also set <code>output_format=\"wide\"</code>, which will place data from each model into a new column.\n",
    "        This can make it easier to plot our data. For more details, <a href=\"#wide-and-long-output-formats\">see below</a>.\n",
    "    </p>\n",
    "</div>"
   ]
  },
  {
   "cell_type": "code",
   "execution_count": null,
   "metadata": {
    "tags": []
   },
   "outputs": [],
   "source": [
    "tide_df_multiple = model_tides(\n",
    "    x=122.2186,\n",
    "    y=-18.0008,\n",
    "    model=[\"EOT20\", \"HAMTIDE11\", \"GOT5.5\"],\n",
    "    time=pd.date_range(start=\"2018-01-01\", end=\"2018-01-31\", freq=\"1h\"),\n",
    "    output_format=\"wide\",\n",
    "    directory=directory,\n",
    ")\n",
    "\n",
    "# Print outputs\n",
    "tide_df_multiple.head()"
   ]
  },
  {
   "cell_type": "markdown",
   "metadata": {},
   "source": [
    "Plot our outputs to see all our models on a graph:"
   ]
  },
  {
   "cell_type": "code",
   "execution_count": null,
   "metadata": {
    "tags": []
   },
   "outputs": [],
   "source": [
    "# Print outputs\n",
    "tide_df_multiple.droplevel([\"x\", \"y\"]).plot(legend=True)"
   ]
  },
  {
   "cell_type": "markdown",
   "metadata": {},
   "source": [
    "### \"One-to-many\" and \"one-to-one\" modes\n",
    "\n",
    "By default, the `model_tides` function operates in **\"one-to-many\"** mode, which will model tides at every requested location, for every requested timestep.\n",
    "This is particularly useful for satellite Earth observation applications where we may want to model tides for a large set of satellite pixels, for every satellite acquisition through time.\n",
    "\n",
    "For example, if we provide two locations and two timesteps, the function will return four modelled tides:\n",
    "```\n",
    "2 locations * 2 timesteps = 4 modelled tides\n",
    "```"
   ]
  },
  {
   "cell_type": "code",
   "execution_count": null,
   "metadata": {
    "tags": []
   },
   "outputs": [],
   "source": [
    "model_tides(\n",
    "    x=[122.21, 122.22],\n",
    "    y=[-18.20, -18.21],\n",
    "    time=pd.date_range(start=\"2018-01-01\", end=\"2018-01-31\", periods=2),\n",
    "    mode=\"one-to-many\",\n",
    "    directory=directory,\n",
    ")"
   ]
  },
  {
   "cell_type": "markdown",
   "metadata": {},
   "source": [
    "However, another common use case is having a list of locations you want to use to model tides for, each with a single timestep.\n",
    "Using **\"one-to-one\"** mode, we can model tides for each pair of locations and times:\n",
    "```\n",
    "2 timesteps at 2 locations = 2 modelled tides\n",
    "```\n",
    "\n",
    "For example, you may have a `pandas.DataFrame` containing `x`, `y` and `time` values:"
   ]
  },
  {
   "cell_type": "code",
   "execution_count": null,
   "metadata": {
    "tags": []
   },
   "outputs": [],
   "source": [
    "df = pd.DataFrame(\n",
    "    {\n",
    "        \"time\": pd.date_range(start=\"2018-01-01\", end=\"2018-01-31\", periods=2),\n",
    "        \"x\": [122.21, 122.22],\n",
    "        \"y\": [-18.20, -18.21],\n",
    "    }\n",
    ")\n",
    "df"
   ]
  },
  {
   "cell_type": "markdown",
   "metadata": {},
   "source": [
    "We can pass these values to `model_tides` directly, and run the function in \"one-to-one\" mode to return a tide height for each row:"
   ]
  },
  {
   "cell_type": "code",
   "execution_count": null,
   "metadata": {
    "tags": []
   },
   "outputs": [],
   "source": [
    "# Model tides and add back into dataframe\n",
    "df[\"tide_height\"] = model_tides(\n",
    "    x=df.x,\n",
    "    y=df.y,\n",
    "    time=df.time,\n",
    "    mode=\"one-to-one\",\n",
    "    directory=directory,\n",
    ").tide_height.values\n",
    "\n",
    "# Print dataframe with added tide height data:\n",
    "df.head()"
   ]
  },
  {
   "cell_type": "markdown",
   "metadata": {},
   "source": [
    "### \"Wide\" and \"long\" output formats\n",
    "By default, modelled tides will be returned in **\"long\"** format, with multiple models stacked under a `tide_models` column and tide heights in the `tide_height` column:\n"
   ]
  },
  {
   "cell_type": "code",
   "execution_count": null,
   "metadata": {
    "tags": []
   },
   "outputs": [],
   "source": [
    "model_tides(\n",
    "    x=[122.21, 122.22],\n",
    "    y=[-18.20, -18.21],\n",
    "    time=pd.date_range(start=\"2018-01-01\", end=\"2018-01-31\", periods=2),\n",
    "    model=[\"EOT20\", \"GOT5.5\", \"HAMTIDE11\"],\n",
    "    output_format=\"long\",\n",
    "    directory=directory,\n",
    ")"
   ]
  },
  {
   "cell_type": "markdown",
   "metadata": {
    "tags": []
   },
   "source": [
    "We can also run the function in **\"wide\"** format, which will return a new column for each tide model (e.g. `EOT20`, `GOT5.5`, `HAMTIDE11` etc):"
   ]
  },
  {
   "cell_type": "code",
   "execution_count": null,
   "metadata": {
    "tags": []
   },
   "outputs": [],
   "source": [
    "model_tides(\n",
    "    x=[122.21, 122.22],\n",
    "    y=[-18.20, -18.21],\n",
    "    time=pd.date_range(start=\"2018-01-01\", end=\"2018-01-31\", periods=2),\n",
    "    model=[\"EOT20\", \"GOT5.5\", \"HAMTIDE11\"],\n",
    "    output_format=\"wide\",\n",
    "    directory=directory,\n",
    ")"
   ]
  },
  {
   "cell_type": "markdown",
   "metadata": {},
   "source": [
    "## Next steps\n",
    "\n",
    "Now that we have demonstrated how to model tides, we can learn how to [combine modelled tides with satellite data](../Satellite_data) for further analysis."
   ]
  }
 ],
 "metadata": {
  "kernelspec": {
   "display_name": "Python 3 (ipykernel)",
   "language": "python",
   "name": "python3"
  },
  "language_info": {
   "codemirror_mode": {
    "name": "ipython",
    "version": 3
   },
   "file_extension": ".py",
   "mimetype": "text/x-python",
   "name": "python",
   "nbconvert_exporter": "python",
   "pygments_lexer": "ipython3",
   "version": "3.10.15"
  }
 },
 "nbformat": 4,
 "nbformat_minor": 4
}
