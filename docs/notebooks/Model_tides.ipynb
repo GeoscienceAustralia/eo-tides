{
 "cells": [
  {
   "cell_type": "markdown",
   "metadata": {},
   "source": [
    "# Modelling tides\n",
    "\n",
    "**This guide demonstrates how to use the [`model_tides`](../../api/#eo_tides.model.model_tides) and [`model_phases`](../../api/#eo_tides.model.model_phases) functions from the [`eo_tides.model`](../../api/#eo_tides.model) module to model tide heights and phases at multiple coordinates or time steps, using one or more ocean tide models.**\n",
    "\n",
    "The `model_tides` function supports tide modelling based on a wide range of ocean tide models using a single line of code, parallelising this modelling where possible and returning data in a standardised `pandas.Dataframe` format.\n",
    "The `model_tides` function can be used independently of Earth observation (EO) data, e.g. for any application where you need to generate a time series of tide heights.\n",
    "However, it also underpins the more complex EO-related functions demonstrated in [Combining tides with satellite data](../Satellite_data).\n",
    "\n",
    "The `model_phases` function can be used to model the phase of the tide at any location and time.\n",
    "This can be used to classify tides into high and low tide observations, or determine whether the tide was rising (i.e. flow tide) or falling (i.e. ebb tide).\n",
    "\n",
    "<div class=\"admonition tip\">\n",
    "    <p class=\"admonition-title\">Tip</p>\n",
    "    <p>\n",
    "        The <code>model_tides</code> function is based on the <a href=\"https://pytmd.readthedocs.io/en/latest/api_reference/compute.html#pyTMD.compute.tide_elevations\"><code>pyTMD.compute.tide_elevations</code></a> function from the <code>pyTMD</code> tide modelling package that underpins <code>eo-tides</code>, with modifications to support parallel processing and integration with <code>pandas</code> and <code>xarray</code> workflows. We highly recommend exploring the <a href=\"https://pytmd.readthedocs.io/en/latest/getting_started/Overview.html\">more advanced tide modelling functionality available in <code>pyTMD</code></a> for more custom tide modelling applications.\n",
    "    </p>\n",
    "</div>"
   ]
  },
  {
   "cell_type": "markdown",
   "metadata": {},
   "source": [
    "## Getting started\n",
    "As a first step, we need to tell `eo-tides` the location of our tide model directory (if you haven't set this up, [refer to the setup instructions here](../../setup)).\n",
    "\n",
    "We will pass this path to `eo-tides` functions using the `directory` parameter.\n",
    "\n",
    "<!-- For local installation:\n",
    "pip install -e ../../. -->"
   ]
  },
  {
   "cell_type": "code",
   "execution_count": 1,
   "metadata": {
    "tags": []
   },
   "outputs": [],
   "source": [
    "directory = \"../../tests/data/tide_models/\""
   ]
  },
  {
   "cell_type": "markdown",
   "metadata": {},
   "source": [
    "<div class=\"admonition important\">\n",
    "    <p class=\"admonition-title\">Important</p>\n",
    "    <p>\n",
    "        The directory above is for demo purposes only.\n",
    "        Update the <code>directory</code> path to point to the location of your own tide model directory.\n",
    "    </p>\n",
    "</div>"
   ]
  },
  {
   "cell_type": "markdown",
   "metadata": {},
   "source": [
    "We can use the [`eo_tides.utils.list_models`](../../api/#eo_tides.utils.list_models) function to verify that we have some tide model data available in this directory:"
   ]
  },
  {
   "cell_type": "code",
   "execution_count": 2,
   "metadata": {
    "tags": []
   },
   "outputs": [
    {
     "name": "stdout",
     "output_type": "stream",
     "text": [
      "────────────────────────────────────────────────────────────────────────────────\n",
      " 󠀠🌊  | Model                | Expected path                                                   \n",
      "────────────────────────────────────────────────────────────────────────────────\n",
      " ✅  │ EOT20                │ ../../tests/data/tide_models/EOT20/ocean_tides                  \n",
      " ✅  │ GOT5.5               │ ../../tests/data/tide_models/GOT5.5/ocean_tides                 \n",
      " ✅  │ HAMTIDE11            │ ../../tests/data/tide_models/hamtide                            \n",
      "────────────────────────────────────────────────────────────────────────────────\n",
      "\n",
      "Summary:\n",
      "Available models: 3/51\n"
     ]
    }
   ],
   "source": [
    "from eo_tides.utils import list_models\n",
    "\n",
    "list_models(directory=directory, show_supported=False);"
   ]
  },
  {
   "cell_type": "markdown",
   "metadata": {},
   "source": [
    "## Using model_tides\n",
    "\n",
    "In the example below, we use the [`model_tides`](../../api/#eo_tides.model.model_tides) function to model hourly tides for the city of **Broome, Western Australia** across **January 2018**:"
   ]
  },
  {
   "cell_type": "code",
   "execution_count": 3,
   "metadata": {
    "tags": []
   },
   "outputs": [
    {
     "name": "stdout",
     "output_type": "stream",
     "text": [
      "Modelling tides with EOT20\n"
     ]
    },
    {
     "data": {
      "text/html": [
       "<div>\n",
       "<style scoped>\n",
       "    .dataframe tbody tr th:only-of-type {\n",
       "        vertical-align: middle;\n",
       "    }\n",
       "\n",
       "    .dataframe tbody tr th {\n",
       "        vertical-align: top;\n",
       "    }\n",
       "\n",
       "    .dataframe thead th {\n",
       "        text-align: right;\n",
       "    }\n",
       "</style>\n",
       "<table border=\"1\" class=\"dataframe\">\n",
       "  <thead>\n",
       "    <tr style=\"text-align: right;\">\n",
       "      <th></th>\n",
       "      <th></th>\n",
       "      <th></th>\n",
       "      <th>tide_model</th>\n",
       "      <th>tide_height</th>\n",
       "    </tr>\n",
       "    <tr>\n",
       "      <th>time</th>\n",
       "      <th>x</th>\n",
       "      <th>y</th>\n",
       "      <th></th>\n",
       "      <th></th>\n",
       "    </tr>\n",
       "  </thead>\n",
       "  <tbody>\n",
       "    <tr>\n",
       "      <th>2018-01-01 00:00:00</th>\n",
       "      <th>122.2186</th>\n",
       "      <th>-18.0008</th>\n",
       "      <td>EOT20</td>\n",
       "      <td>1.229286</td>\n",
       "    </tr>\n",
       "    <tr>\n",
       "      <th>2018-01-01 01:00:00</th>\n",
       "      <th>122.2186</th>\n",
       "      <th>-18.0008</th>\n",
       "      <td>EOT20</td>\n",
       "      <td>2.162897</td>\n",
       "    </tr>\n",
       "    <tr>\n",
       "      <th>2018-01-01 02:00:00</th>\n",
       "      <th>122.2186</th>\n",
       "      <th>-18.0008</th>\n",
       "      <td>EOT20</td>\n",
       "      <td>2.476600</td>\n",
       "    </tr>\n",
       "    <tr>\n",
       "      <th>2018-01-01 03:00:00</th>\n",
       "      <th>122.2186</th>\n",
       "      <th>-18.0008</th>\n",
       "      <td>EOT20</td>\n",
       "      <td>2.112390</td>\n",
       "    </tr>\n",
       "    <tr>\n",
       "      <th>2018-01-01 04:00:00</th>\n",
       "      <th>122.2186</th>\n",
       "      <th>-18.0008</th>\n",
       "      <td>EOT20</td>\n",
       "      <td>1.181283</td>\n",
       "    </tr>\n",
       "  </tbody>\n",
       "</table>\n",
       "</div>"
      ],
      "text/plain": [
       "                                      tide_model  tide_height\n",
       "time                x        y                               \n",
       "2018-01-01 00:00:00 122.2186 -18.0008      EOT20     1.229286\n",
       "2018-01-01 01:00:00 122.2186 -18.0008      EOT20     2.162897\n",
       "2018-01-01 02:00:00 122.2186 -18.0008      EOT20     2.476600\n",
       "2018-01-01 03:00:00 122.2186 -18.0008      EOT20     2.112390\n",
       "2018-01-01 04:00:00 122.2186 -18.0008      EOT20     1.181283"
      ]
     },
     "execution_count": 3,
     "metadata": {},
     "output_type": "execute_result"
    }
   ],
   "source": [
    "from eo_tides.model import model_tides\n",
    "import pandas as pd\n",
    "\n",
    "tide_df = model_tides(\n",
    "    x=122.2186,\n",
    "    y=-18.0008,\n",
    "    time=pd.date_range(start=\"2018-01-01\", end=\"2018-01-31\", freq=\"1h\"),\n",
    "    directory=directory,\n",
    ")\n",
    "\n",
    "# Print outputs\n",
    "tide_df.head()"
   ]
  },
  {
   "cell_type": "markdown",
   "metadata": {},
   "source": [
    "The resulting `pandas.DataFrame` contains:\n",
    "\n",
    "* `time`, `x`, `y`: Our original input timesteps and coordinates\n",
    "* `tide_model`: a column listing the tide model used\n",
    "* `tide_height`: modelled tide heights representing tide height in metres relative to Mean Sea Level\n",
    "\n",
    "We can plot our modelled outputs to view how tides changed across the month. \n",
    "Looking at the y-axis, we can see that tides at this macrotidal region ranged from -4 metres up to a maximum of +4 metres relative to Mean Sea Level:"
   ]
  },
  {
   "cell_type": "code",
   "execution_count": 4,
   "metadata": {
    "tags": []
   },
   "outputs": [
    {
     "data": {
      "image/png": "[encoded data removed]",
      "text/plain": [
       "<Figure size 640x480 with 1 Axes>"
      ]
     },
     "metadata": {},
     "output_type": "display_data"
    }
   ],
   "source": [
    "tide_df.droplevel([\"x\", \"y\"]).tide_height.plot();"
   ]
  },
  {
   "cell_type": "markdown",
   "metadata": {},
   "source": [
    "### Multiple models\n",
    "\n",
    "By default, `model_tides` will model tides using the [`EOT20` tide model](https://www.seanoe.org/data/00683/79489/) – a leading open-source global ocean model with a permissive CC BY 4.0 licence:\n",
    "\n",
    "> Hart-Davis Michael, Piccioni Gaia, Dettmering Denise, Schwatke Christian, Passaro Marcello, Seitz Florian (2021). EOT20 - A global Empirical Ocean Tide model from multi-mission satellite altimetry. SEANOE. https://doi.org/10.17882/79489\n",
    "\n",
    "However, we can easily model tides using multiple models by passing a list of models to the `model` parameter.\n",
    "`eo-tides` will process these in parallel where possible, and return the data into a single `pandas.DataFrame`.\n",
    "For example, we can model tides using the `EOT20`, `GOT5.5` and `HAMTIDE11` models:\n",
    "\n",
    "<div class=\"admonition note\">\n",
    "    <p class=\"admonition-title\">Note</p>\n",
    "    <p>\n",
    "        Here we also set <code>output_format=\"wide\"</code>, which will place data from each model into a new column.\n",
    "        This can make it easier to plot our data. For more details, <a href=\"#wide-and-long-output-formats\">see below</a>.\n",
    "    </p>\n",
    "</div>"
   ]
  },
  {
   "cell_type": "code",
   "execution_count": 5,
   "metadata": {
    "tags": []
   },
   "outputs": [
    {
     "name": "stdout",
     "output_type": "stream",
     "text": [
      "Modelling tides with EOT20, HAMTIDE11, GOT5.5 in parallel (models: 3, splits: 1)\n"
     ]
    },
    {
     "name": "stderr",
     "output_type": "stream",
     "text": [
      "100%|██████████| 3/3 [00:00<00:00, 18.09it/s]\n"
     ]
    },
    {
     "name": "stdout",
     "output_type": "stream",
     "text": [
      "Converting to a wide format dataframe\n"
     ]
    },
    {
     "data": {
      "text/html": [
       "<div>\n",
       "<style scoped>\n",
       "    .dataframe tbody tr th:only-of-type {\n",
       "        vertical-align: middle;\n",
       "    }\n",
       "\n",
       "    .dataframe tbody tr th {\n",
       "        vertical-align: top;\n",
       "    }\n",
       "\n",
       "    .dataframe thead th {\n",
       "        text-align: right;\n",
       "    }\n",
       "</style>\n",
       "<table border=\"1\" class=\"dataframe\">\n",
       "  <thead>\n",
       "    <tr style=\"text-align: right;\">\n",
       "      <th></th>\n",
       "      <th></th>\n",
       "      <th>tide_model</th>\n",
       "      <th>EOT20</th>\n",
       "      <th>GOT5.5</th>\n",
       "      <th>HAMTIDE11</th>\n",
       "    </tr>\n",
       "    <tr>\n",
       "      <th>time</th>\n",
       "      <th>x</th>\n",
       "      <th>y</th>\n",
       "      <th></th>\n",
       "      <th></th>\n",
       "      <th></th>\n",
       "    </tr>\n",
       "  </thead>\n",
       "  <tbody>\n",
       "    <tr>\n",
       "      <th>2018-01-01 00:00:00</th>\n",
       "      <th>122.2186</th>\n",
       "      <th>-18.0008</th>\n",
       "      <td>1.229286</td>\n",
       "      <td>1.298427</td>\n",
       "      <td>1.422702</td>\n",
       "    </tr>\n",
       "    <tr>\n",
       "      <th>2018-01-01 01:00:00</th>\n",
       "      <th>122.2186</th>\n",
       "      <th>-18.0008</th>\n",
       "      <td>2.162897</td>\n",
       "      <td>2.287205</td>\n",
       "      <td>2.302042</td>\n",
       "    </tr>\n",
       "    <tr>\n",
       "      <th>2018-01-01 02:00:00</th>\n",
       "      <th>122.2186</th>\n",
       "      <th>-18.0008</th>\n",
       "      <td>2.476600</td>\n",
       "      <td>2.618187</td>\n",
       "      <td>2.537032</td>\n",
       "    </tr>\n",
       "    <tr>\n",
       "      <th>2018-01-01 03:00:00</th>\n",
       "      <th>122.2186</th>\n",
       "      <th>-18.0008</th>\n",
       "      <td>2.112390</td>\n",
       "      <td>2.228044</td>\n",
       "      <td>2.072846</td>\n",
       "    </tr>\n",
       "    <tr>\n",
       "      <th>2018-01-01 04:00:00</th>\n",
       "      <th>122.2186</th>\n",
       "      <th>-18.0008</th>\n",
       "      <td>1.181283</td>\n",
       "      <td>1.241291</td>\n",
       "      <td>1.034931</td>\n",
       "    </tr>\n",
       "  </tbody>\n",
       "</table>\n",
       "</div>"
      ],
      "text/plain": [
       "tide_model                                EOT20    GOT5.5  HAMTIDE11\n",
       "time                x        y                                      \n",
       "2018-01-01 00:00:00 122.2186 -18.0008  1.229286  1.298427   1.422702\n",
       "2018-01-01 01:00:00 122.2186 -18.0008  2.162897  2.287205   2.302042\n",
       "2018-01-01 02:00:00 122.2186 -18.0008  2.476600  2.618187   2.537032\n",
       "2018-01-01 03:00:00 122.2186 -18.0008  2.112390  2.228044   2.072846\n",
       "2018-01-01 04:00:00 122.2186 -18.0008  1.181283  1.241291   1.034931"
      ]
     },
     "execution_count": 5,
     "metadata": {},
     "output_type": "execute_result"
    }
   ],
   "source": [
    "tide_df_multiple = model_tides(\n",
    "    x=122.2186,\n",
    "    y=-18.0008,\n",
    "    model=[\"EOT20\", \"HAMTIDE11\", \"GOT5.5\"],\n",
    "    time=pd.date_range(start=\"2018-01-01\", end=\"2018-01-31\", freq=\"1h\"),\n",
    "    output_format=\"wide\",\n",
    "    directory=directory,\n",
    ")\n",
    "\n",
    "# Print outputs\n",
    "tide_df_multiple.head()"
   ]
  },
  {
   "cell_type": "markdown",
   "metadata": {},
   "source": [
    "Plot our outputs to see all our models on a graph:"
   ]
  },
  {
   "cell_type": "code",
   "execution_count": 6,
   "metadata": {
    "tags": []
   },
   "outputs": [
    {
     "data": {
      "text/plain": [
       "<Axes: xlabel='time'>"
      ]
     },
     "execution_count": 6,
     "metadata": {},
     "output_type": "execute_result"
    },
    {
     "data": {
      "image/png": "[encoded data removed]",
      "text/plain": [
       "<Figure size 640x480 with 1 Axes>"
      ]
     },
     "metadata": {},
     "output_type": "display_data"
    }
   ],
   "source": [
    "# Print outputs\n",
    "tide_df_multiple.droplevel([\"x\", \"y\"]).plot(legend=True)"
   ]
  },
  {
   "cell_type": "markdown",
   "metadata": {},
   "source": [
    "### \"One-to-many\" and \"one-to-one\" modes\n",
    "\n",
    "By default, the `model_tides` function operates in **\"one-to-many\"** mode, which will model tides at every requested location, for every requested timestep.\n",
    "This is particularly useful for satellite Earth observation applications where we may want to model tides for a large set of satellite pixels, for every satellite acquisition through time.\n",
    "\n",
    "For example, if we provide two locations and two timesteps, the function will return four modelled tides:\n",
    "```\n",
    "2 locations * 2 timesteps = 4 modelled tides\n",
    "```"
   ]
  },
  {
   "cell_type": "code",
   "execution_count": 7,
   "metadata": {
    "tags": []
   },
   "outputs": [
    {
     "name": "stdout",
     "output_type": "stream",
     "text": [
      "Modelling tides with EOT20\n"
     ]
    },
    {
     "data": {
      "text/html": [
       "<div>\n",
       "<style scoped>\n",
       "    .dataframe tbody tr th:only-of-type {\n",
       "        vertical-align: middle;\n",
       "    }\n",
       "\n",
       "    .dataframe tbody tr th {\n",
       "        vertical-align: top;\n",
       "    }\n",
       "\n",
       "    .dataframe thead th {\n",
       "        text-align: right;\n",
       "    }\n",
       "</style>\n",
       "<table border=\"1\" class=\"dataframe\">\n",
       "  <thead>\n",
       "    <tr style=\"text-align: right;\">\n",
       "      <th></th>\n",
       "      <th></th>\n",
       "      <th></th>\n",
       "      <th>tide_model</th>\n",
       "      <th>tide_height</th>\n",
       "    </tr>\n",
       "    <tr>\n",
       "      <th>time</th>\n",
       "      <th>x</th>\n",
       "      <th>y</th>\n",
       "      <th></th>\n",
       "      <th></th>\n",
       "    </tr>\n",
       "  </thead>\n",
       "  <tbody>\n",
       "    <tr>\n",
       "      <th>2018-01-01</th>\n",
       "      <th>122.21</th>\n",
       "      <th>-18.20</th>\n",
       "      <td>EOT20</td>\n",
       "      <td>1.231424</td>\n",
       "    </tr>\n",
       "    <tr>\n",
       "      <th>2018-01-31</th>\n",
       "      <th>122.21</th>\n",
       "      <th>-18.20</th>\n",
       "      <td>EOT20</td>\n",
       "      <td>0.368303</td>\n",
       "    </tr>\n",
       "    <tr>\n",
       "      <th>2018-01-01</th>\n",
       "      <th>122.22</th>\n",
       "      <th>-18.21</th>\n",
       "      <td>EOT20</td>\n",
       "      <td>1.231424</td>\n",
       "    </tr>\n",
       "    <tr>\n",
       "      <th>2018-01-31</th>\n",
       "      <th>122.22</th>\n",
       "      <th>-18.21</th>\n",
       "      <td>EOT20</td>\n",
       "      <td>0.368303</td>\n",
       "    </tr>\n",
       "  </tbody>\n",
       "</table>\n",
       "</div>"
      ],
      "text/plain": [
       "                         tide_model  tide_height\n",
       "time       x      y                             \n",
       "2018-01-01 122.21 -18.20      EOT20     1.231424\n",
       "2018-01-31 122.21 -18.20      EOT20     0.368303\n",
       "2018-01-01 122.22 -18.21      EOT20     1.231424\n",
       "2018-01-31 122.22 -18.21      EOT20     0.368303"
      ]
     },
     "execution_count": 7,
     "metadata": {},
     "output_type": "execute_result"
    }
   ],
   "source": [
    "model_tides(\n",
    "    x=[122.21, 122.22],\n",
    "    y=[-18.20, -18.21],\n",
    "    time=pd.date_range(start=\"2018-01-01\", end=\"2018-01-31\", periods=2),\n",
    "    mode=\"one-to-many\",\n",
    "    directory=directory,\n",
    ")"
   ]
  },
  {
   "cell_type": "markdown",
   "metadata": {},
   "source": [
    "However, another common use case is having a list of locations you want to use to model tides for, each with a single timestep.\n",
    "Using **\"one-to-one\"** mode, we can model tides for each pair of locations and times:\n",
    "```\n",
    "2 timesteps at 2 locations = 2 modelled tides\n",
    "```\n",
    "\n",
    "For example, you may have a `pandas.DataFrame` containing `x`, `y` and `time` values:"
   ]
  },
  {
   "cell_type": "code",
   "execution_count": 8,
   "metadata": {
    "tags": []
   },
   "outputs": [
    {
     "data": {
      "text/html": [
       "<div>\n",
       "<style scoped>\n",
       "    .dataframe tbody tr th:only-of-type {\n",
       "        vertical-align: middle;\n",
       "    }\n",
       "\n",
       "    .dataframe tbody tr th {\n",
       "        vertical-align: top;\n",
       "    }\n",
       "\n",
       "    .dataframe thead th {\n",
       "        text-align: right;\n",
       "    }\n",
       "</style>\n",
       "<table border=\"1\" class=\"dataframe\">\n",
       "  <thead>\n",
       "    <tr style=\"text-align: right;\">\n",
       "      <th></th>\n",
       "      <th>time</th>\n",
       "      <th>x</th>\n",
       "      <th>y</th>\n",
       "    </tr>\n",
       "  </thead>\n",
       "  <tbody>\n",
       "    <tr>\n",
       "      <th>0</th>\n",
       "      <td>2018-01-01</td>\n",
       "      <td>122.21</td>\n",
       "      <td>-18.20</td>\n",
       "    </tr>\n",
       "    <tr>\n",
       "      <th>1</th>\n",
       "      <td>2018-01-31</td>\n",
       "      <td>122.22</td>\n",
       "      <td>-18.21</td>\n",
       "    </tr>\n",
       "  </tbody>\n",
       "</table>\n",
       "</div>"
      ],
      "text/plain": [
       "        time       x      y\n",
       "0 2018-01-01  122.21 -18.20\n",
       "1 2018-01-31  122.22 -18.21"
      ]
     },
     "execution_count": 8,
     "metadata": {},
     "output_type": "execute_result"
    }
   ],
   "source": [
    "df = pd.DataFrame(\n",
    "    {\n",
    "        \"time\": pd.date_range(start=\"2018-01-01\", end=\"2018-01-31\", periods=2),\n",
    "        \"x\": [122.21, 122.22],\n",
    "        \"y\": [-18.20, -18.21],\n",
    "    }\n",
    ")\n",
    "df"
   ]
  },
  {
   "cell_type": "markdown",
   "metadata": {},
   "source": [
    "We can pass these values to `model_tides` directly, and run the function in \"one-to-one\" mode to return a tide height for each row:"
   ]
  },
  {
   "cell_type": "code",
   "execution_count": 9,
   "metadata": {
    "tags": []
   },
   "outputs": [
    {
     "name": "stdout",
     "output_type": "stream",
     "text": [
      "Modelling tides with EOT20\n"
     ]
    },
    {
     "data": {
      "text/html": [
       "<div>\n",
       "<style scoped>\n",
       "    .dataframe tbody tr th:only-of-type {\n",
       "        vertical-align: middle;\n",
       "    }\n",
       "\n",
       "    .dataframe tbody tr th {\n",
       "        vertical-align: top;\n",
       "    }\n",
       "\n",
       "    .dataframe thead th {\n",
       "        text-align: right;\n",
       "    }\n",
       "</style>\n",
       "<table border=\"1\" class=\"dataframe\">\n",
       "  <thead>\n",
       "    <tr style=\"text-align: right;\">\n",
       "      <th></th>\n",
       "      <th>time</th>\n",
       "      <th>x</th>\n",
       "      <th>y</th>\n",
       "      <th>tide_height</th>\n",
       "    </tr>\n",
       "  </thead>\n",
       "  <tbody>\n",
       "    <tr>\n",
       "      <th>0</th>\n",
       "      <td>2018-01-01</td>\n",
       "      <td>122.21</td>\n",
       "      <td>-18.20</td>\n",
       "      <td>1.231424</td>\n",
       "    </tr>\n",
       "    <tr>\n",
       "      <th>1</th>\n",
       "      <td>2018-01-31</td>\n",
       "      <td>122.22</td>\n",
       "      <td>-18.21</td>\n",
       "      <td>0.368303</td>\n",
       "    </tr>\n",
       "  </tbody>\n",
       "</table>\n",
       "</div>"
      ],
      "text/plain": [
       "        time       x      y  tide_height\n",
       "0 2018-01-01  122.21 -18.20     1.231424\n",
       "1 2018-01-31  122.22 -18.21     0.368303"
      ]
     },
     "execution_count": 9,
     "metadata": {},
     "output_type": "execute_result"
    }
   ],
   "source": [
    "# Model tides and add back into dataframe\n",
    "df[\"tide_height\"] = model_tides(\n",
    "    x=df.x,\n",
    "    y=df.y,\n",
    "    time=df.time,\n",
    "    mode=\"one-to-one\",\n",
    "    directory=directory,\n",
    ").tide_height.values\n",
    "\n",
    "# Print dataframe with added tide height data:\n",
    "df.head()"
   ]
  },
  {
   "cell_type": "markdown",
   "metadata": {},
   "source": [
    "### \"Wide\" and \"long\" output formats\n",
    "By default, modelled tides will be returned in **\"long\"** format, with multiple models stacked under a `tide_models` column and tide heights in the `tide_height` column:\n"
   ]
  },
  {
   "cell_type": "code",
   "execution_count": 10,
   "metadata": {
    "tags": []
   },
   "outputs": [
    {
     "name": "stdout",
     "output_type": "stream",
     "text": [
      "Modelling tides with EOT20, GOT5.5, HAMTIDE11 in parallel (models: 3, splits: 1)\n"
     ]
    },
    {
     "name": "stderr",
     "output_type": "stream",
     "text": [
      "100%|██████████| 3/3 [00:00<00:00, 18.19it/s]\n"
     ]
    },
    {
     "data": {
      "text/html": [
       "<div>\n",
       "<style scoped>\n",
       "    .dataframe tbody tr th:only-of-type {\n",
       "        vertical-align: middle;\n",
       "    }\n",
       "\n",
       "    .dataframe tbody tr th {\n",
       "        vertical-align: top;\n",
       "    }\n",
       "\n",
       "    .dataframe thead th {\n",
       "        text-align: right;\n",
       "    }\n",
       "</style>\n",
       "<table border=\"1\" class=\"dataframe\">\n",
       "  <thead>\n",
       "    <tr style=\"text-align: right;\">\n",
       "      <th></th>\n",
       "      <th></th>\n",
       "      <th></th>\n",
       "      <th>tide_model</th>\n",
       "      <th>tide_height</th>\n",
       "    </tr>\n",
       "    <tr>\n",
       "      <th>time</th>\n",
       "      <th>x</th>\n",
       "      <th>y</th>\n",
       "      <th></th>\n",
       "      <th></th>\n",
       "    </tr>\n",
       "  </thead>\n",
       "  <tbody>\n",
       "    <tr>\n",
       "      <th>2018-01-01</th>\n",
       "      <th>122.21</th>\n",
       "      <th>-18.20</th>\n",
       "      <td>EOT20</td>\n",
       "      <td>1.231424</td>\n",
       "    </tr>\n",
       "    <tr>\n",
       "      <th>2018-01-31</th>\n",
       "      <th>122.21</th>\n",
       "      <th>-18.20</th>\n",
       "      <td>EOT20</td>\n",
       "      <td>0.368303</td>\n",
       "    </tr>\n",
       "    <tr>\n",
       "      <th>2018-01-01</th>\n",
       "      <th>122.22</th>\n",
       "      <th>-18.21</th>\n",
       "      <td>EOT20</td>\n",
       "      <td>1.231424</td>\n",
       "    </tr>\n",
       "    <tr>\n",
       "      <th>2018-01-31</th>\n",
       "      <th>122.22</th>\n",
       "      <th>-18.21</th>\n",
       "      <td>EOT20</td>\n",
       "      <td>0.368303</td>\n",
       "    </tr>\n",
       "    <tr>\n",
       "      <th>2018-01-01</th>\n",
       "      <th>122.21</th>\n",
       "      <th>-18.20</th>\n",
       "      <td>GOT5.5</td>\n",
       "      <td>1.271818</td>\n",
       "    </tr>\n",
       "    <tr>\n",
       "      <th>2018-01-31</th>\n",
       "      <th>122.21</th>\n",
       "      <th>-18.20</th>\n",
       "      <td>GOT5.5</td>\n",
       "      <td>0.397214</td>\n",
       "    </tr>\n",
       "    <tr>\n",
       "      <th>2018-01-01</th>\n",
       "      <th>122.22</th>\n",
       "      <th>-18.21</th>\n",
       "      <td>GOT5.5</td>\n",
       "      <td>1.271818</td>\n",
       "    </tr>\n",
       "    <tr>\n",
       "      <th>2018-01-31</th>\n",
       "      <th>122.22</th>\n",
       "      <th>-18.21</th>\n",
       "      <td>GOT5.5</td>\n",
       "      <td>0.397214</td>\n",
       "    </tr>\n",
       "    <tr>\n",
       "      <th>2018-01-01</th>\n",
       "      <th>122.21</th>\n",
       "      <th>-18.20</th>\n",
       "      <td>HAMTIDE11</td>\n",
       "      <td>1.435844</td>\n",
       "    </tr>\n",
       "    <tr>\n",
       "      <th>2018-01-31</th>\n",
       "      <th>122.21</th>\n",
       "      <th>-18.20</th>\n",
       "      <td>HAMTIDE11</td>\n",
       "      <td>0.588129</td>\n",
       "    </tr>\n",
       "    <tr>\n",
       "      <th>2018-01-01</th>\n",
       "      <th>122.22</th>\n",
       "      <th>-18.21</th>\n",
       "      <td>HAMTIDE11</td>\n",
       "      <td>1.435844</td>\n",
       "    </tr>\n",
       "    <tr>\n",
       "      <th>2018-01-31</th>\n",
       "      <th>122.22</th>\n",
       "      <th>-18.21</th>\n",
       "      <td>HAMTIDE11</td>\n",
       "      <td>0.588129</td>\n",
       "    </tr>\n",
       "  </tbody>\n",
       "</table>\n",
       "</div>"
      ],
      "text/plain": [
       "                         tide_model  tide_height\n",
       "time       x      y                             \n",
       "2018-01-01 122.21 -18.20      EOT20     1.231424\n",
       "2018-01-31 122.21 -18.20      EOT20     0.368303\n",
       "2018-01-01 122.22 -18.21      EOT20     1.231424\n",
       "2018-01-31 122.22 -18.21      EOT20     0.368303\n",
       "2018-01-01 122.21 -18.20     GOT5.5     1.271818\n",
       "2018-01-31 122.21 -18.20     GOT5.5     0.397214\n",
       "2018-01-01 122.22 -18.21     GOT5.5     1.271818\n",
       "2018-01-31 122.22 -18.21     GOT5.5     0.397214\n",
       "2018-01-01 122.21 -18.20  HAMTIDE11     1.435844\n",
       "2018-01-31 122.21 -18.20  HAMTIDE11     0.588129\n",
       "2018-01-01 122.22 -18.21  HAMTIDE11     1.435844\n",
       "2018-01-31 122.22 -18.21  HAMTIDE11     0.588129"
      ]
     },
     "execution_count": 10,
     "metadata": {},
     "output_type": "execute_result"
    }
   ],
   "source": [
    "model_tides(\n",
    "    x=[122.21, 122.22],\n",
    "    y=[-18.20, -18.21],\n",
    "    time=pd.date_range(start=\"2018-01-01\", end=\"2018-01-31\", periods=2),\n",
    "    model=[\"EOT20\", \"GOT5.5\", \"HAMTIDE11\"],\n",
    "    output_format=\"long\",\n",
    "    directory=directory,\n",
    ")"
   ]
  },
  {
   "cell_type": "markdown",
   "metadata": {
    "tags": []
   },
   "source": [
    "We can also run the function in **\"wide\"** format, which will return a new column for each tide model (e.g. `EOT20`, `GOT5.5`, `HAMTIDE11` etc):"
   ]
  },
  {
   "cell_type": "code",
   "execution_count": 11,
   "metadata": {
    "tags": []
   },
   "outputs": [
    {
     "name": "stdout",
     "output_type": "stream",
     "text": [
      "Modelling tides with EOT20, GOT5.5, HAMTIDE11 in parallel (models: 3, splits: 1)\n"
     ]
    },
    {
     "name": "stderr",
     "output_type": "stream",
     "text": [
      "100%|██████████| 3/3 [00:00<00:00, 18.12it/s]\n"
     ]
    },
    {
     "name": "stdout",
     "output_type": "stream",
     "text": [
      "Converting to a wide format dataframe\n"
     ]
    },
    {
     "data": {
      "text/html": [
       "<div>\n",
       "<style scoped>\n",
       "    .dataframe tbody tr th:only-of-type {\n",
       "        vertical-align: middle;\n",
       "    }\n",
       "\n",
       "    .dataframe tbody tr th {\n",
       "        vertical-align: top;\n",
       "    }\n",
       "\n",
       "    .dataframe thead th {\n",
       "        text-align: right;\n",
       "    }\n",
       "</style>\n",
       "<table border=\"1\" class=\"dataframe\">\n",
       "  <thead>\n",
       "    <tr style=\"text-align: right;\">\n",
       "      <th></th>\n",
       "      <th></th>\n",
       "      <th>tide_model</th>\n",
       "      <th>EOT20</th>\n",
       "      <th>GOT5.5</th>\n",
       "      <th>HAMTIDE11</th>\n",
       "    </tr>\n",
       "    <tr>\n",
       "      <th>time</th>\n",
       "      <th>x</th>\n",
       "      <th>y</th>\n",
       "      <th></th>\n",
       "      <th></th>\n",
       "      <th></th>\n",
       "    </tr>\n",
       "  </thead>\n",
       "  <tbody>\n",
       "    <tr>\n",
       "      <th rowspan=\"2\" valign=\"top\">2018-01-01</th>\n",
       "      <th>122.21</th>\n",
       "      <th>-18.20</th>\n",
       "      <td>1.231424</td>\n",
       "      <td>1.271818</td>\n",
       "      <td>1.435844</td>\n",
       "    </tr>\n",
       "    <tr>\n",
       "      <th>122.22</th>\n",
       "      <th>-18.21</th>\n",
       "      <td>1.231424</td>\n",
       "      <td>1.271818</td>\n",
       "      <td>1.435844</td>\n",
       "    </tr>\n",
       "    <tr>\n",
       "      <th rowspan=\"2\" valign=\"top\">2018-01-31</th>\n",
       "      <th>122.21</th>\n",
       "      <th>-18.20</th>\n",
       "      <td>0.368303</td>\n",
       "      <td>0.397214</td>\n",
       "      <td>0.588129</td>\n",
       "    </tr>\n",
       "    <tr>\n",
       "      <th>122.22</th>\n",
       "      <th>-18.21</th>\n",
       "      <td>0.368303</td>\n",
       "      <td>0.397214</td>\n",
       "      <td>0.588129</td>\n",
       "    </tr>\n",
       "  </tbody>\n",
       "</table>\n",
       "</div>"
      ],
      "text/plain": [
       "tide_model                   EOT20    GOT5.5  HAMTIDE11\n",
       "time       x      y                                    \n",
       "2018-01-01 122.21 -18.20  1.231424  1.271818   1.435844\n",
       "           122.22 -18.21  1.231424  1.271818   1.435844\n",
       "2018-01-31 122.21 -18.20  0.368303  0.397214   0.588129\n",
       "           122.22 -18.21  0.368303  0.397214   0.588129"
      ]
     },
     "execution_count": 11,
     "metadata": {},
     "output_type": "execute_result"
    }
   ],
   "source": [
    "model_tides(\n",
    "    x=[122.21, 122.22],\n",
    "    y=[-18.20, -18.21],\n",
    "    time=pd.date_range(start=\"2018-01-01\", end=\"2018-01-31\", periods=2),\n",
    "    model=[\"EOT20\", \"GOT5.5\", \"HAMTIDE11\"],\n",
    "    output_format=\"wide\",\n",
    "    directory=directory,\n",
    ")"
   ]
  },
  {
   "cell_type": "markdown",
   "metadata": {},
   "source": [
    "## Using model_phases\n",
    "\n",
    "In addition to tide height, it can be useful to obtain information about the phase of the tide at each observation. For example, we may want to know whether tides were low or high, or whether water levels were rising (\"flow\" tide) or falling (\"ebb\" tide).\n",
    "Tide phase data can provide valuable contextual information for interpreting satellite imagery, particularly in tidal flat or mangrove forest environments where water may remain in the landscape for considerable time after the tidal peak.\n",
    "\n",
    "The `model_phases` function calculates ebb and low phases by modelling tides once for the requested timesteps, and again after subtracting a small time offset (by default, 15 minutes).\n",
    "If tides increased over this period, they are assigned as \"flow\"; if they decreased, they are assigned as \"ebb\".\n",
    "Tides are considered \"high\" if equal or greater than 0 metres tide height, otherwise \"low\".\n",
    "\n",
    "We can run `model_phases` by providing `x` and `y` coordinates and `time`:"
   ]
  },
  {
   "cell_type": "code",
   "execution_count": 12,
   "metadata": {},
   "outputs": [
    {
     "name": "stdout",
     "output_type": "stream",
     "text": [
      "Modelling tides with EOT20\n",
      "Modelling tides with EOT20\n"
     ]
    },
    {
     "data": {
      "text/html": [
       "<div>\n",
       "<style scoped>\n",
       "    .dataframe tbody tr th:only-of-type {\n",
       "        vertical-align: middle;\n",
       "    }\n",
       "\n",
       "    .dataframe tbody tr th {\n",
       "        vertical-align: top;\n",
       "    }\n",
       "\n",
       "    .dataframe thead th {\n",
       "        text-align: right;\n",
       "    }\n",
       "</style>\n",
       "<table border=\"1\" class=\"dataframe\">\n",
       "  <thead>\n",
       "    <tr style=\"text-align: right;\">\n",
       "      <th></th>\n",
       "      <th></th>\n",
       "      <th></th>\n",
       "      <th>tide_model</th>\n",
       "      <th>tide_phase</th>\n",
       "    </tr>\n",
       "    <tr>\n",
       "      <th>time</th>\n",
       "      <th>x</th>\n",
       "      <th>y</th>\n",
       "      <th></th>\n",
       "      <th></th>\n",
       "    </tr>\n",
       "  </thead>\n",
       "  <tbody>\n",
       "    <tr>\n",
       "      <th>2018-01-01 00:00:00</th>\n",
       "      <th>122.2186</th>\n",
       "      <th>-18.0008</th>\n",
       "      <td>EOT20</td>\n",
       "      <td>high-flow</td>\n",
       "    </tr>\n",
       "    <tr>\n",
       "      <th>2018-01-01 05:00:00</th>\n",
       "      <th>122.2186</th>\n",
       "      <th>-18.0008</th>\n",
       "      <td>EOT20</td>\n",
       "      <td>low-ebb</td>\n",
       "    </tr>\n",
       "    <tr>\n",
       "      <th>2018-01-01 10:00:00</th>\n",
       "      <th>122.2186</th>\n",
       "      <th>-18.0008</th>\n",
       "      <td>EOT20</td>\n",
       "      <td>low-flow</td>\n",
       "    </tr>\n",
       "    <tr>\n",
       "      <th>2018-01-01 15:00:00</th>\n",
       "      <th>122.2186</th>\n",
       "      <th>-18.0008</th>\n",
       "      <td>EOT20</td>\n",
       "      <td>high-ebb</td>\n",
       "    </tr>\n",
       "    <tr>\n",
       "      <th>2018-01-01 20:00:00</th>\n",
       "      <th>122.2186</th>\n",
       "      <th>-18.0008</th>\n",
       "      <td>EOT20</td>\n",
       "      <td>low-ebb</td>\n",
       "    </tr>\n",
       "  </tbody>\n",
       "</table>\n",
       "</div>"
      ],
      "text/plain": [
       "                                      tide_model tide_phase\n",
       "time                x        y                             \n",
       "2018-01-01 00:00:00 122.2186 -18.0008      EOT20  high-flow\n",
       "2018-01-01 05:00:00 122.2186 -18.0008      EOT20    low-ebb\n",
       "2018-01-01 10:00:00 122.2186 -18.0008      EOT20   low-flow\n",
       "2018-01-01 15:00:00 122.2186 -18.0008      EOT20   high-ebb\n",
       "2018-01-01 20:00:00 122.2186 -18.0008      EOT20    low-ebb"
      ]
     },
     "execution_count": 12,
     "metadata": {},
     "output_type": "execute_result"
    }
   ],
   "source": [
    "from eo_tides.model import model_phases\n",
    "\n",
    "model_phases(\n",
    "    x=122.2186,\n",
    "    y=-18.0008,\n",
    "    time=pd.date_range(start=\"2018-01-01\", end=\"2018-01-02\", freq=\"5h\"),\n",
    "    directory=directory,\n",
    ")"
   ]
  },
  {
   "cell_type": "markdown",
   "metadata": {},
   "source": [
    "The resulting `pandas.DataFrame` contains:\n",
    "\n",
    "* `time`, `x`, `y`: Our original input timesteps and coordinates\n",
    "* `tide_model`: a column listing the tide model used\n",
    "* `tide_phase`: the modelled tidal phase (\"high-flow\", \"high-ebb\", \"low-ebb\", \"low-flow\").\n",
    "\n",
    "`model_phases` accepts all parameters accepted by `model_tides`; e.g. `model` and `output_format`:\n"
   ]
  },
  {
   "cell_type": "code",
   "execution_count": 13,
   "metadata": {},
   "outputs": [
    {
     "name": "stdout",
     "output_type": "stream",
     "text": [
      "Modelling tides with EOT20, GOT5.5 in parallel (models: 2, splits: 1)\n"
     ]
    },
    {
     "name": "stderr",
     "output_type": "stream",
     "text": [
      "100%|██████████| 2/2 [00:00<00:00, 12.91it/s]\n"
     ]
    },
    {
     "name": "stdout",
     "output_type": "stream",
     "text": [
      "Modelling tides with EOT20, GOT5.5 in parallel (models: 2, splits: 1)\n"
     ]
    },
    {
     "name": "stderr",
     "output_type": "stream",
     "text": [
      "100%|██████████| 2/2 [00:00<00:00, 13.08it/s]\n"
     ]
    },
    {
     "name": "stdout",
     "output_type": "stream",
     "text": [
      "Converting to a wide format dataframe\n"
     ]
    },
    {
     "data": {
      "text/html": [
       "<div>\n",
       "<style scoped>\n",
       "    .dataframe tbody tr th:only-of-type {\n",
       "        vertical-align: middle;\n",
       "    }\n",
       "\n",
       "    .dataframe tbody tr th {\n",
       "        vertical-align: top;\n",
       "    }\n",
       "\n",
       "    .dataframe thead th {\n",
       "        text-align: right;\n",
       "    }\n",
       "</style>\n",
       "<table border=\"1\" class=\"dataframe\">\n",
       "  <thead>\n",
       "    <tr style=\"text-align: right;\">\n",
       "      <th></th>\n",
       "      <th></th>\n",
       "      <th>tide_model</th>\n",
       "      <th>EOT20</th>\n",
       "      <th>GOT5.5</th>\n",
       "    </tr>\n",
       "    <tr>\n",
       "      <th>time</th>\n",
       "      <th>x</th>\n",
       "      <th>y</th>\n",
       "      <th></th>\n",
       "      <th></th>\n",
       "    </tr>\n",
       "  </thead>\n",
       "  <tbody>\n",
       "    <tr>\n",
       "      <th>2018-01-01 00:00:00</th>\n",
       "      <th>122.2186</th>\n",
       "      <th>-18.0008</th>\n",
       "      <td>high-flow</td>\n",
       "      <td>high-flow</td>\n",
       "    </tr>\n",
       "    <tr>\n",
       "      <th>2018-01-01 05:00:00</th>\n",
       "      <th>122.2186</th>\n",
       "      <th>-18.0008</th>\n",
       "      <td>low-ebb</td>\n",
       "      <td>low-ebb</td>\n",
       "    </tr>\n",
       "    <tr>\n",
       "      <th>2018-01-01 10:00:00</th>\n",
       "      <th>122.2186</th>\n",
       "      <th>-18.0008</th>\n",
       "      <td>low-flow</td>\n",
       "      <td>low-flow</td>\n",
       "    </tr>\n",
       "    <tr>\n",
       "      <th>2018-01-01 15:00:00</th>\n",
       "      <th>122.2186</th>\n",
       "      <th>-18.0008</th>\n",
       "      <td>high-ebb</td>\n",
       "      <td>high-ebb</td>\n",
       "    </tr>\n",
       "    <tr>\n",
       "      <th>2018-01-01 20:00:00</th>\n",
       "      <th>122.2186</th>\n",
       "      <th>-18.0008</th>\n",
       "      <td>low-ebb</td>\n",
       "      <td>low-ebb</td>\n",
       "    </tr>\n",
       "  </tbody>\n",
       "</table>\n",
       "</div>"
      ],
      "text/plain": [
       "tide_model                                 EOT20     GOT5.5\n",
       "time                x        y                             \n",
       "2018-01-01 00:00:00 122.2186 -18.0008  high-flow  high-flow\n",
       "2018-01-01 05:00:00 122.2186 -18.0008    low-ebb    low-ebb\n",
       "2018-01-01 10:00:00 122.2186 -18.0008   low-flow   low-flow\n",
       "2018-01-01 15:00:00 122.2186 -18.0008   high-ebb   high-ebb\n",
       "2018-01-01 20:00:00 122.2186 -18.0008    low-ebb    low-ebb"
      ]
     },
     "execution_count": 13,
     "metadata": {},
     "output_type": "execute_result"
    }
   ],
   "source": [
    "model_phases(\n",
    "    x=122.2186,\n",
    "    y=-18.0008,\n",
    "    time=pd.date_range(start=\"2018-01-01\", end=\"2018-01-02\", freq=\"5h\"),\n",
    "    model=[\"EOT20\", \"GOT5.5\"],\n",
    "    output_format=\"wide\",\n",
    "    directory=directory,\n",
    ")"
   ]
  },
  {
   "cell_type": "markdown",
   "metadata": {},
   "source": [
    "To change the default 15 minute time offset used to calculate tide phases, pass a custom value to `time_offset`:"
   ]
  },
  {
   "cell_type": "code",
   "execution_count": 14,
   "metadata": {},
   "outputs": [
    {
     "name": "stdout",
     "output_type": "stream",
     "text": [
      "Modelling tides with EOT20\n",
      "Modelling tides with EOT20\n"
     ]
    },
    {
     "data": {
      "text/html": [
       "<div>\n",
       "<style scoped>\n",
       "    .dataframe tbody tr th:only-of-type {\n",
       "        vertical-align: middle;\n",
       "    }\n",
       "\n",
       "    .dataframe tbody tr th {\n",
       "        vertical-align: top;\n",
       "    }\n",
       "\n",
       "    .dataframe thead th {\n",
       "        text-align: right;\n",
       "    }\n",
       "</style>\n",
       "<table border=\"1\" class=\"dataframe\">\n",
       "  <thead>\n",
       "    <tr style=\"text-align: right;\">\n",
       "      <th></th>\n",
       "      <th></th>\n",
       "      <th></th>\n",
       "      <th>tide_model</th>\n",
       "      <th>tide_phase</th>\n",
       "    </tr>\n",
       "    <tr>\n",
       "      <th>time</th>\n",
       "      <th>x</th>\n",
       "      <th>y</th>\n",
       "      <th></th>\n",
       "      <th></th>\n",
       "    </tr>\n",
       "  </thead>\n",
       "  <tbody>\n",
       "    <tr>\n",
       "      <th>2018-01-01 00:00:00</th>\n",
       "      <th>122.2186</th>\n",
       "      <th>-18.0008</th>\n",
       "      <td>EOT20</td>\n",
       "      <td>high-flow</td>\n",
       "    </tr>\n",
       "    <tr>\n",
       "      <th>2018-01-01 05:00:00</th>\n",
       "      <th>122.2186</th>\n",
       "      <th>-18.0008</th>\n",
       "      <td>EOT20</td>\n",
       "      <td>low-ebb</td>\n",
       "    </tr>\n",
       "    <tr>\n",
       "      <th>2018-01-01 10:00:00</th>\n",
       "      <th>122.2186</th>\n",
       "      <th>-18.0008</th>\n",
       "      <td>EOT20</td>\n",
       "      <td>low-flow</td>\n",
       "    </tr>\n",
       "    <tr>\n",
       "      <th>2018-01-01 15:00:00</th>\n",
       "      <th>122.2186</th>\n",
       "      <th>-18.0008</th>\n",
       "      <td>EOT20</td>\n",
       "      <td>high-ebb</td>\n",
       "    </tr>\n",
       "    <tr>\n",
       "      <th>2018-01-01 20:00:00</th>\n",
       "      <th>122.2186</th>\n",
       "      <th>-18.0008</th>\n",
       "      <td>EOT20</td>\n",
       "      <td>low-ebb</td>\n",
       "    </tr>\n",
       "  </tbody>\n",
       "</table>\n",
       "</div>"
      ],
      "text/plain": [
       "                                      tide_model tide_phase\n",
       "time                x        y                             \n",
       "2018-01-01 00:00:00 122.2186 -18.0008      EOT20  high-flow\n",
       "2018-01-01 05:00:00 122.2186 -18.0008      EOT20    low-ebb\n",
       "2018-01-01 10:00:00 122.2186 -18.0008      EOT20   low-flow\n",
       "2018-01-01 15:00:00 122.2186 -18.0008      EOT20   high-ebb\n",
       "2018-01-01 20:00:00 122.2186 -18.0008      EOT20    low-ebb"
      ]
     },
     "execution_count": 14,
     "metadata": {},
     "output_type": "execute_result"
    }
   ],
   "source": [
    "model_phases(\n",
    "    x=122.2186,\n",
    "    y=-18.0008,\n",
    "    time=pd.date_range(start=\"2018-01-01\", end=\"2018-01-02\", freq=\"5h\"),\n",
    "    time_offset='30 min',\n",
    "    directory=directory,\n",
    ")"
   ]
  },
  {
   "cell_type": "markdown",
   "metadata": {},
   "source": [
    "Optionally, we can choose to return also tide heights by providing `return_tides=True`.\n",
    "This will include an additional `tide_height` column in our dataframe:"
   ]
  },
  {
   "cell_type": "code",
   "execution_count": 15,
   "metadata": {},
   "outputs": [
    {
     "name": "stdout",
     "output_type": "stream",
     "text": [
      "Modelling tides with EOT20\n",
      "Modelling tides with EOT20\n"
     ]
    },
    {
     "data": {
      "text/html": [
       "<div>\n",
       "<style scoped>\n",
       "    .dataframe tbody tr th:only-of-type {\n",
       "        vertical-align: middle;\n",
       "    }\n",
       "\n",
       "    .dataframe tbody tr th {\n",
       "        vertical-align: top;\n",
       "    }\n",
       "\n",
       "    .dataframe thead th {\n",
       "        text-align: right;\n",
       "    }\n",
       "</style>\n",
       "<table border=\"1\" class=\"dataframe\">\n",
       "  <thead>\n",
       "    <tr style=\"text-align: right;\">\n",
       "      <th></th>\n",
       "      <th></th>\n",
       "      <th></th>\n",
       "      <th>tide_model</th>\n",
       "      <th>tide_height</th>\n",
       "      <th>tide_phase</th>\n",
       "    </tr>\n",
       "    <tr>\n",
       "      <th>time</th>\n",
       "      <th>x</th>\n",
       "      <th>y</th>\n",
       "      <th></th>\n",
       "      <th></th>\n",
       "      <th></th>\n",
       "    </tr>\n",
       "  </thead>\n",
       "  <tbody>\n",
       "    <tr>\n",
       "      <th>2018-01-01 00:00:00</th>\n",
       "      <th>122.2186</th>\n",
       "      <th>-18.0008</th>\n",
       "      <td>EOT20</td>\n",
       "      <td>1.229286</td>\n",
       "      <td>high-flow</td>\n",
       "    </tr>\n",
       "    <tr>\n",
       "      <th>2018-01-01 00:30:00</th>\n",
       "      <th>122.2186</th>\n",
       "      <th>-18.0008</th>\n",
       "      <td>EOT20</td>\n",
       "      <td>1.763103</td>\n",
       "      <td>high-flow</td>\n",
       "    </tr>\n",
       "    <tr>\n",
       "      <th>2018-01-01 01:00:00</th>\n",
       "      <th>122.2186</th>\n",
       "      <th>-18.0008</th>\n",
       "      <td>EOT20</td>\n",
       "      <td>2.162897</td>\n",
       "      <td>high-flow</td>\n",
       "    </tr>\n",
       "    <tr>\n",
       "      <th>2018-01-01 01:30:00</th>\n",
       "      <th>122.2186</th>\n",
       "      <th>-18.0008</th>\n",
       "      <td>EOT20</td>\n",
       "      <td>2.405015</td>\n",
       "      <td>high-flow</td>\n",
       "    </tr>\n",
       "    <tr>\n",
       "      <th>2018-01-01 02:00:00</th>\n",
       "      <th>122.2186</th>\n",
       "      <th>-18.0008</th>\n",
       "      <td>EOT20</td>\n",
       "      <td>2.476600</td>\n",
       "      <td>high-flow</td>\n",
       "    </tr>\n",
       "  </tbody>\n",
       "</table>\n",
       "</div>"
      ],
      "text/plain": [
       "                                      tide_model  tide_height tide_phase\n",
       "time                x        y                                          \n",
       "2018-01-01 00:00:00 122.2186 -18.0008      EOT20     1.229286  high-flow\n",
       "2018-01-01 00:30:00 122.2186 -18.0008      EOT20     1.763103  high-flow\n",
       "2018-01-01 01:00:00 122.2186 -18.0008      EOT20     2.162897  high-flow\n",
       "2018-01-01 01:30:00 122.2186 -18.0008      EOT20     2.405015  high-flow\n",
       "2018-01-01 02:00:00 122.2186 -18.0008      EOT20     2.476600  high-flow"
      ]
     },
     "execution_count": 15,
     "metadata": {},
     "output_type": "execute_result"
    }
   ],
   "source": [
    "phase_df = model_phases(\n",
    "    x=122.2186,\n",
    "    y=-18.0008,\n",
    "    time=pd.date_range(start=\"2018-01-01\", end=\"2018-01-02\", freq=\"30min\"),\n",
    "    return_tides=True,\n",
    "    directory=directory,\n",
    ")\n",
    "\n",
    "# Print outputs\n",
    "phase_df.head()"
   ]
  },
  {
   "cell_type": "markdown",
   "metadata": {},
   "source": [
    "If we plot our `tide_height` and `tide_phase` data, we can see it follows a logical progression from `high-flow -> high-ebb -> low-ebb -> low-flow -> ...`, repeating with every tide cycle:"
   ]
  },
  {
   "cell_type": "code",
   "execution_count": 16,
   "metadata": {},
   "outputs": [
    {
     "data": {
      "image/png": "[encoded data removed]",
      "text/plain": [
       "<Figure size 640x480 with 1 Axes>"
      ]
     },
     "metadata": {},
     "output_type": "display_data"
    }
   ],
   "source": [
    "# Plot tide heights\n",
    "ax = phase_df.droplevel([\"x\", \"y\"]).tide_height.plot(color=\"black\")\n",
    "\n",
    "# Define plotting parameters for each phase\n",
    "plot_params = {\n",
    "    \"high-flow\": {\"marker\": \"^\", \"color\": \"tab:blue\"},\n",
    "    \"high-ebb\": {\"marker\": \"v\", \"color\": \"tab:blue\"},\n",
    "    \"low-flow\": {\"marker\": \"^\", \"color\": \"tab:orange\"},\n",
    "    \"low-ebb\": {\"marker\": \"v\", \"color\": \"tab:orange\"},\n",
    "}\n",
    "\n",
    "# Plot each phase\n",
    "for phase, params in plot_params.items():\n",
    "    phase_df.droplevel([\"x\", \"y\"]).query(f\"tide_phase == '{phase}'\").tide_height.plot(\n",
    "        marker=params[\"marker\"],\n",
    "        linewidth=0.0,\n",
    "        color=params[\"color\"],\n",
    "        markersize=10,\n",
    "        label=phase,\n",
    "    )\n",
    "ax.legend();"
   ]
  },
  {
   "cell_type": "markdown",
   "metadata": {},
   "source": [
    "## Next steps\n",
    "\n",
    "Now that we have demonstrated how to model tide heights and phases, we can learn how to [combine modelled tides with satellite data](../Satellite_data) for further analysis."
   ]
  }
 ],
 "metadata": {
  "kernelspec": {
   "display_name": "Python 3 (ipykernel)",
   "language": "python",
   "name": "python3"
  },
  "language_info": {
   "codemirror_mode": {
    "name": "ipython",
    "version": 3
   },
   "file_extension": ".py",
   "mimetype": "text/x-python",
   "name": "python",
   "nbconvert_exporter": "python",
   "pygments_lexer": "ipython3",
   "version": "3.10.15"
  }
 },
 "nbformat": 4,
 "nbformat_minor": 4
}
