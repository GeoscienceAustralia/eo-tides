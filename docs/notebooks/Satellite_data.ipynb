{
 "cells": [
  {
   "cell_type": "markdown",
   "metadata": {},
   "source": [
    "# Combining tides with satellite data\n",
    "\n",
    "**This guide demonstrates how to combine tide modelling with satellite Earth observation (EO) data using the [`tag_tides`](../../api/#eo_tides.eo.tag_tides) and [`pixel_tides`](../../api/#eo_tides.eo.pixel_tides) functions from [`eo_tides.eo`](../../api/#eo_tides.eo).**\n",
    "\n",
    "Both these functions allow you to model the height of the tide at the exact moment of satellite image acquisition. \n",
    "This can then allow you to analyse satellite EO data by tidal conditions - for example, filter your data to satellite imagery collected during specific tidal stages (e.g. low or high tide).\n",
    "\n",
    "Although both functions perform a similar function, they differ in complexity and performance. `tag_tides` assigns a single tide height to each timestep/satellite image, which is fast and efficient, and suitable for small-scale applications where tides are unlikely to vary across your study area. In constrast, `pixel_tide` models tides both through time *and* spatially, returning a tide height for every satellite pixel. This can be critical for producing seamless coastal EO datasets at large scale - however comes at the cost of performance.\n",
    "<br><br>\n",
    "> **Table 1.** Comparison of `tag_tides` and `pixel_tides`\n",
    "\n",
    "| [`tag_tides`](../../api/#eo_tides.eo.tag_tides)                                                                 | [`pixel_tides`](../../api/#eo_tides.eo.pixel_tides)                                                                                              |\n",
    "|-----------------------------------------------------------------------------|------------------------------------------------------------------------------------------------------------|\n",
    "| Assigns a single tide height to each timestep/satellite image                         | Assigns a tide height to every individual pixel through time to capture spatial tide dynamics                                               |\n",
    "| 🔎 Ideal for local or site-scale analysis                                      | 🌏 Ideal for regional to global-scale coastal product generation                                              |\n",
    "| ✅ Fast, low memory use                                                        | ❌ Slower, higher memory use                                                                                  |\n",
    "| ❌ Single tide height per image can produce artefacts in complex tidal regions | ✅ Produce spatially seamless results across large extents by applying analyses at the pixel level |"
   ]
  },
  {
   "cell_type": "markdown",
   "metadata": {},
   "source": [
    "## Getting started\n",
    "As in the previous example, our first step is to tell `eo-tides` the location of our tide model directory (if you haven't set this up, [refer to the setup instructions here](../../setup)):"
   ]
  },
  {
   "cell_type": "code",
   "execution_count": null,
   "metadata": {
    "tags": []
   },
   "outputs": [],
   "source": [
    "directory = \"../../tests/data/tide_models/\""
   ]
  },
  {
   "cell_type": "markdown",
   "metadata": {},
   "source": [
    "## Load satellite data using odc-stac\n",
    "\n",
    "Now we can load a time-series of satellite data over our area of interest using the Open Data Cube's `odc-stac` package.\n",
    "This powerful package allows us to load open satellite data (e.g ESA Sentinel-2 or NASA/USGS Landsat) for any time period and location on the planet, and load our data into a multi-dimensional `xarray.Dataset` format dataset.\n",
    "\n",
    "In this example, we will load **Landsat 8 and 9** satellite data from **2024** over the city of **Broome, Western Australia** - a macrotidal region with extensive intertidal coastal habitats.\n",
    "We will load this data from the [Digital Earth Australia](https://knowledge.dea.ga.gov.au/guides/setup/gis/stac/) STAC catalogue.\n",
    "\n",
    "<div class=\"admonition tip\">\n",
    "    <p class=\"admonition-title\">Tip</p>\n",
    "    <p>\n",
    "        For a more detailed guide to using STAC metadata and <code>odc-stac</code> to find and load satellite data, refer to the <a href=\"https://knowledge.dea.ga.gov.au/guides/setup/gis/stac/\">Digital Earth Australia STAC user guide</a>.\n",
    "    </p>\n",
    "</div>"
   ]
  },
  {
   "cell_type": "code",
   "execution_count": null,
   "metadata": {
    "tags": []
   },
   "outputs": [],
   "source": [
    "import odc.stac\n",
    "import pystac_client\n",
    "\n",
    "# Connect to STAC catalog\n",
    "catalog = pystac_client.Client.open(\"https://explorer.dea.ga.gov.au/stac\")\n",
    "\n",
    "# Set cloud access defaults\n",
    "odc.stac.configure_rio(\n",
    "    cloud_defaults=True,\n",
    "    aws={\"aws_unsigned\": True},\n",
    ")\n",
    "\n",
    "# Build a query and search the STAC catalog for all matching items\n",
    "bbox = [122.12, -18.25, 122.43, -17.93]\n",
    "query = catalog.search(\n",
    "    bbox=bbox,\n",
    "    collections=[\"ga_ls8c_ard_3\", \"ga_ls9c_ard_3\"],\n",
    "    datetime=\"2024-01-01/2024-12-31\",\n",
    "    filter = \"eo:cloud_cover < 5\"  # Filter to images with <5% cloud\n",
    ")\n",
    "\n",
    "# Load data into xarray format\n",
    "ds = odc.stac.load(\n",
    "    items=list(query.items()),\n",
    "    bands=[\"nbart_red\", \"nbart_green\", \"nbart_blue\"],\n",
    "    crs=\"utm\",\n",
    "    resolution=30,\n",
    "    groupby=\"solar_day\",\n",
    "    bbox=bbox,\n",
    "    fail_on_error=False,\n",
    "    chunks={},\n",
    ")\n",
    "\n",
    "# Plot the first image\n",
    "ds.isel(time=0).odc.explore(vmin=50, vmax=3000)"
   ]
  },
  {
   "cell_type": "markdown",
   "metadata": {},
   "source": [
    "## Using tag_tides\n",
    "\n",
    "We can pass our satellite dataset `ds` to the `tag_tides` function to model a tide for each timestep in our dataset.\n",
    "This can help sort and filter images by tide height, allowing us to learn more about how coastal environments respond to the effect of changing tides.\n",
    "\n",
    "The `tag_tides` function uses the time and date of acquisition and the geographic centroid of each satellite observation as inputs for the selected tide model (EOT20 by default). \n",
    "It returns an `xarray.DataArray` called `tide_height`, with a modelled tide for every timestep in our satellite dataset:"
   ]
  },
  {
   "cell_type": "code",
   "execution_count": null,
   "metadata": {},
   "outputs": [],
   "source": [
    "from eo_tides.eo import tag_tides\n",
    "\n",
    "tides_da = tag_tides(\n",
    "    data=ds,\n",
    "    directory=directory,\n",
    ")\n",
    "\n",
    "# Print modelled tides\n",
    "print(tides_da)"
   ]
  },
  {
   "cell_type": "markdown",
   "metadata": {},
   "source": [
    "We can easily combine these modelled tides with our original satellite data for further analysis.\n",
    "The code below adds our modelled tides as a new `tide_height` variable under **Data variables**."
   ]
  },
  {
   "cell_type": "code",
   "execution_count": null,
   "metadata": {},
   "outputs": [],
   "source": [
    "ds[\"tide_height\"] = tides_da\n",
    "print(ds)"
   ]
  },
  {
   "cell_type": "markdown",
   "metadata": {},
   "source": [
    "<div class=\"admonition tip\">\n",
    "    <p class=\"admonition-title\">Tip</p>\n",
    "    <p>\n",
    "        You could also model tides and insert tide heights into <code>ds</code> in a single step via:<br>\n",
    "        <code>ds[\"tide_height\"] = tag_tides(ds, ...)</code>\n",
    "    </p>\n",
    "</div>"
   ]
  },
  {
   "cell_type": "markdown",
   "metadata": {},
   "source": [
    "We can plot this new `tide_height` variable over time to inspect the tide heights observed by the satellites in our time series:"
   ]
  },
  {
   "cell_type": "code",
   "execution_count": null,
   "metadata": {},
   "outputs": [],
   "source": [
    "ds.tide_height.plot()"
   ]
  },
  {
   "cell_type": "markdown",
   "metadata": {},
   "source": [
    "### Selecting and analysing satellite data by tide\n",
    "\n",
    "Having `tide_height` as a variable allows us to select and analyse our satellite data using information about tides.\n",
    "For example, we could sort by `tide_height`, then plot the lowest and highest tide images in our time series:"
   ]
  },
  {
   "cell_type": "code",
   "execution_count": null,
   "metadata": {},
   "outputs": [],
   "source": [
    "# Sort by tide and plot the first and last image\n",
    "ds_sorted = ds.sortby(\"tide_height\")\n",
    "ds_sorted.isel(time=[0, -1]).odc.to_rgba(vmin=50, vmax=3000).plot.imshow(col=\"time\")"
   ]
  },
  {
   "cell_type": "markdown",
   "metadata": {},
   "source": [
    "## Using pixel_tides\n",
    "\n",
    "The previous examples show how to model a single tide height for each satellite image using the centroid of the image as a tide modelling location.\n",
    "However, in reality tides vary spatially – potentially by several metres in areas of complex tidal dynamics.\n",
    "This means that an individual satellite image can capture a range of tide conditions.\n",
    "\n",
    "We can use the `pixel_tides` function to capture this spatial variability in tide heights. \n",
    "For efficient processing, this function first models tides into a low resolution grid surrounding each satellite image in our time series.\n",
    "This lower resolution data includes a buffer around the extent of our satellite data so that tides can be modelled seamlessly across analysis boundaries.\n",
    "\n",
    "First, let's reload our satellite data for a fresh start:"
   ]
  },
  {
   "cell_type": "code",
   "execution_count": null,
   "metadata": {},
   "outputs": [],
   "source": [
    "# Load data into xarray format\n",
    "ds = odc.stac.load(\n",
    "    items=list(query.items()),\n",
    "    bands=[\"nbart_red\", \"nbart_green\", \"nbart_blue\"],\n",
    "    crs=\"utm\",\n",
    "    resolution=30,\n",
    "    groupby=\"solar_day\",\n",
    "    bbox=bbox,\n",
    "    fail_on_error=False,\n",
    "    chunks={},\n",
    ")"
   ]
  },
  {
   "cell_type": "markdown",
   "metadata": {},
   "source": [
    "Now run `pixel_tides`, passing our satellite dataset `ds` as an input:"
   ]
  },
  {
   "cell_type": "code",
   "execution_count": null,
   "metadata": {},
   "outputs": [],
   "source": [
    "from eo_tides.eo import pixel_tides\n",
    "\n",
    "# Model tides spatially\n",
    "tides_lowres = pixel_tides(\n",
    "    data=ds,\n",
    "    resample=False,\n",
    "    directory=directory,\n",
    ")\n",
    "\n",
    "# Print output\n",
    "print(tides_lowres)"
   ]
  },
  {
   "cell_type": "markdown",
   "metadata": {},
   "source": [
    "If we plot the resulting data, we can see that we now have two-dimensional tide surfaces for each timestep in our data (instead of the single tide height per timestamp returned by the `tag_tides` function).\n",
    "\n",
    "Blue values below indicate low tide pixels, while red indicates high tide pixels. If you look closely, you may see some spatial variability in tide heights within each timestep, with slight variations in tide heights along the north-west side of the study area:"
   ]
  },
  {
   "cell_type": "code",
   "execution_count": null,
   "metadata": {},
   "outputs": [],
   "source": [
    "# Plot the first four timesteps in our data\n",
    "tides_lowres.isel(time=slice(0, 4)).plot.imshow(col=\"time\", vmin=-1, vmax=1, cmap=\"RdBu\")"
   ]
  },
  {
   "cell_type": "markdown",
   "metadata": {},
   "source": [
    "### Reprojecting into original high-resolution spatial grid\n",
    "\n",
    "By setting `resample=True`, we can use interpolation to re-project our low resolution tide data back into the resolution of our satellite image, resulting in an individual **tide height for every pixel** in our dataset through time and space:"
   ]
  },
  {
   "cell_type": "code",
   "execution_count": null,
   "metadata": {
    "tags": []
   },
   "outputs": [],
   "source": [
    "# Model tides spatially\n",
    "tides_highres = pixel_tides(\n",
    "    data=ds,\n",
    "    resample=True,\n",
    "    directory=directory,\n",
    ")\n",
    "\n",
    "# Plot the first four timesteps in our data\n",
    "tides_highres.isel(time=slice(0, 4)).plot.imshow(col=\"time\", vmin=-1, vmax=1, cmap=\"RdBu\")"
   ]
  },
  {
   "cell_type": "markdown",
   "metadata": {},
   "source": [
    "`tides_highres` will have exactly the same dimensions as `ds`, with a unique tide height for every satellite pixel:"
   ]
  },
  {
   "cell_type": "code",
   "execution_count": null,
   "metadata": {},
   "outputs": [],
   "source": [
    "ds.sizes"
   ]
  },
  {
   "cell_type": "code",
   "execution_count": null,
   "metadata": {},
   "outputs": [],
   "source": [
    "tides_highres.sizes"
   ]
  },
  {
   "cell_type": "markdown",
   "metadata": {},
   "source": [
    "Because of this, our stack of tides can be added as an additional 3D variable in our dataset:"
   ]
  },
  {
   "cell_type": "code",
   "execution_count": null,
   "metadata": {},
   "outputs": [],
   "source": [
    "ds[\"tide_height_pixel\"] = tides_highres\n",
    "print(ds)"
   ]
  },
  {
   "cell_type": "markdown",
   "metadata": {},
   "source": [
    "### Calculating tide height min/max/median/quantiles for each pixel\n",
    "Min, max or any specific quantile of all tide heights observed over a region can be calculated for each pixel by passing in a list of quantiles/percentiles using the `calculate_quantiles` parameter.\n",
    "\n",
    "This calculation is performed on the low resolution modelled tide data before reprojecting to higher resolution, so should be faster than calculating min/max/median tide at high resolution:"
   ]
  },
  {
   "cell_type": "code",
   "execution_count": null,
   "metadata": {},
   "outputs": [],
   "source": [
    "# Model tides spatially\n",
    "tides_highres_quantiles = pixel_tides(\n",
    "    data=ds,\n",
    "    calculate_quantiles=(0, 0.5, 1),\n",
    "    directory=directory,\n",
    ")\n",
    "\n",
    "# Plot quantiles\n",
    "tides_highres_quantiles.plot.imshow(col=\"quantile\")"
   ]
  },
  {
   "cell_type": "markdown",
   "metadata": {},
   "source": [
    "### Modelling custom times\n",
    "\n",
    "Instead of using times contained in the `time` dimension of our dataset, we can also calculate pixel-based tides for a custom set of times:"
   ]
  },
  {
   "cell_type": "code",
   "execution_count": null,
   "metadata": {},
   "outputs": [],
   "source": [
    "import pandas as pd\n",
    "\n",
    "custom_times = pd.date_range(\n",
    "    start=\"2022-01-01\", \n",
    "    end=\"2022-01-02\", \n",
    "    freq=\"6H\",\n",
    ")\n",
    "\n",
    "# Model tides spatially\n",
    "tides_highres = pixel_tides(\n",
    "    data=ds, \n",
    "    time=custom_times,\n",
    "    directory=directory,\n",
    ")\n",
    "\n",
    "# Plot custom timesteps\n",
    "tides_highres.plot.imshow(col=\"time\")"
   ]
  },
  {
   "cell_type": "markdown",
   "metadata": {},
   "source": [
    "## Next steps\n",
    "\n",
    "Now that we have learnt to combine tide modelling with satellite data, we can learn how to [calculate statistics](../Tide_statistics) describing local tide dynamics, as well as biases caused by interactions between tidal processes and satellite orbits."
   ]
  }
 ],
 "metadata": {
  "kernelspec": {
   "display_name": "Python 3 (ipykernel)",
   "language": "python",
   "name": "python3"
  },
  "language_info": {
   "codemirror_mode": {
    "name": "ipython",
    "version": 3
   },
   "file_extension": ".py",
   "mimetype": "text/x-python",
   "name": "python",
   "nbconvert_exporter": "python",
   "pygments_lexer": "ipython3",
   "version": "3.10.15"
  }
 },
 "nbformat": 4,
 "nbformat_minor": 4
}
