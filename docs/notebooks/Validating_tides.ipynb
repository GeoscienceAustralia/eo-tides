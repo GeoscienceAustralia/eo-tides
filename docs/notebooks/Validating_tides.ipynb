{
 "cells": [
  {
   "cell_type": "markdown",
   "id": "48f11312-2f68-46e1-8603-2e54a169083c",
   "metadata": {
    "tags": []
   },
   "source": [
    "# Validating modelled tide heights\n",
    "\n",
    "### Validation against GESLA tide gauges"
   ]
  },
  {
   "cell_type": "code",
   "execution_count": 1,
   "id": "a7bd7c1c-eae0-4585-a8d3-ca688e4d13af",
   "metadata": {
    "tags": []
   },
   "outputs": [
    {
     "name": "stdout",
     "output_type": "stream",
     "text": [
      "Modelling tides using FES2014\n"
     ]
    },
    {
     "data": {
      "text/html": [
       "<div>\n",
       "<style scoped>\n",
       "    .dataframe tbody tr th:only-of-type {\n",
       "        vertical-align: middle;\n",
       "    }\n",
       "\n",
       "    .dataframe tbody tr th {\n",
       "        vertical-align: top;\n",
       "    }\n",
       "\n",
       "    .dataframe thead th {\n",
       "        text-align: right;\n",
       "    }\n",
       "</style>\n",
       "<table border=\"1\" class=\"dataframe\">\n",
       "  <thead>\n",
       "    <tr style=\"text-align: right;\">\n",
       "      <th></th>\n",
       "      <th></th>\n",
       "      <th></th>\n",
       "      <th>tide_model</th>\n",
       "      <th>tide_height</th>\n",
       "    </tr>\n",
       "    <tr>\n",
       "      <th>time</th>\n",
       "      <th>x</th>\n",
       "      <th>y</th>\n",
       "      <th></th>\n",
       "      <th></th>\n",
       "    </tr>\n",
       "  </thead>\n",
       "  <tbody>\n",
       "    <tr>\n",
       "      <th>2018-01-01 00:00:00</th>\n",
       "      <th>122.2186</th>\n",
       "      <th>-18.0008</th>\n",
       "      <td>FES2014</td>\n",
       "      <td>1.285507</td>\n",
       "    </tr>\n",
       "    <tr>\n",
       "      <th>2018-01-01 01:00:00</th>\n",
       "      <th>122.2186</th>\n",
       "      <th>-18.0008</th>\n",
       "      <td>FES2014</td>\n",
       "      <td>2.360098</td>\n",
       "    </tr>\n",
       "    <tr>\n",
       "      <th>2018-01-01 02:00:00</th>\n",
       "      <th>122.2186</th>\n",
       "      <th>-18.0008</th>\n",
       "      <td>FES2014</td>\n",
       "      <td>2.573156</td>\n",
       "    </tr>\n",
       "    <tr>\n",
       "      <th>2018-01-01 03:00:00</th>\n",
       "      <th>122.2186</th>\n",
       "      <th>-18.0008</th>\n",
       "      <td>FES2014</td>\n",
       "      <td>2.035899</td>\n",
       "    </tr>\n",
       "    <tr>\n",
       "      <th>2018-01-01 04:00:00</th>\n",
       "      <th>122.2186</th>\n",
       "      <th>-18.0008</th>\n",
       "      <td>FES2014</td>\n",
       "      <td>1.126837</td>\n",
       "    </tr>\n",
       "  </tbody>\n",
       "</table>\n",
       "</div>"
      ],
      "text/plain": [
       "                                      tide_model  tide_height\n",
       "time                x        y                               \n",
       "2018-01-01 00:00:00 122.2186 -18.0008    FES2014     1.285507\n",
       "2018-01-01 01:00:00 122.2186 -18.0008    FES2014     2.360098\n",
       "2018-01-01 02:00:00 122.2186 -18.0008    FES2014     2.573156\n",
       "2018-01-01 03:00:00 122.2186 -18.0008    FES2014     2.035899\n",
       "2018-01-01 04:00:00 122.2186 -18.0008    FES2014     1.126837"
      ]
     },
     "execution_count": 1,
     "metadata": {},
     "output_type": "execute_result"
    }
   ],
   "source": [
    "from eo_tides.model import model_tides\n",
    "import pandas as pd\n",
    "\n",
    "tide_model_dir = \"../../tests/data/tide_models_tests\"\n",
    "\n",
    "tide_df = model_tides(\n",
    "    x=122.2186,\n",
    "    y=-18.0008,\n",
    "    time=pd.date_range(start=\"2018-01-01\", end=\"2018-01-20\", freq=\"1h\"),\n",
    "    directory=tide_model_dir,\n",
    ")\n",
    "\n",
    "# Print outputs\n",
    "tide_df.head()"
   ]
  },
  {
   "cell_type": "code",
   "execution_count": 2,
   "id": "737c7e94-5954-4b88-b767-40f51db7a63a",
   "metadata": {},
   "outputs": [
    {
     "name": "stderr",
     "output_type": "stream",
     "text": [
      "/env/lib/python3.10/site-packages/geopandas/array.py:403: UserWarning: Geometry is in a geographic CRS. Results from 'sjoin_nearest' are likely incorrect. Use 'GeoSeries.to_crs()' to re-project geometries to a projected CRS before this operation.\n",
      "\n",
      "  warnings.warn(\n",
      "/home/jovyan/Robbi/eo-tides/eo_tides/validation.py:157: FutureWarning: Support for nested sequences for 'parse_dates' in pd.read_csv is deprecated. Combine the desired columns with pd.to_datetime after parsing instead.\n",
      "  pd.read_csv(\n"
     ]
    },
    {
     "data": {
      "text/plain": [
       "Correlation         0.998\n",
       "RMSE                0.144\n",
       "MAE                 0.113\n",
       "R-squared           0.995\n",
       "Bias                0.004\n",
       "Regression slope    0.986\n",
       "dtype: float64"
      ]
     },
     "execution_count": 2,
     "metadata": {},
     "output_type": "execute_result"
    },
    {
     "data": {
      "image/png": "[encoded data removed]",
      "text/plain": [
       "<Figure size 640x480 with 1 Axes>"
      ]
     },
     "metadata": {},
     "output_type": "display_data"
    }
   ],
   "source": [
    "from eo_tides.validation import eval_metrics, load_gauge_gesla\n",
    "\n",
    "# Load gauge data, subtracting to observed mean sea level\n",
    "gauge_df = load_gauge_gesla(\n",
    "    x=122.3186,\n",
    "    y=-18.0008,\n",
    "    time=(\"2018-01-01\", \"2018-01-20\"),\n",
    "    correct_mean=True,\n",
    "    data_path=\"../../tests/data/\",\n",
    "    metadata_path=\"../../tests/data/GESLA3_ALL 2.csv\",\n",
    ")\n",
    "gauge_df.head()\n",
    "\n",
    "# Combine modelled and observed gauge data and compare\n",
    "joined_df = gauge_df.join(tide_df)\n",
    "joined_df.plot.scatter(x=\"sea_level\", y=\"tide_height\")\n",
    "eval_metrics(x=joined_df.sea_level, y=joined_df.tide_height)"
   ]
  },
  {
   "cell_type": "code",
   "execution_count": null,
   "id": "9427ee6f-0db7-47a5-86e1-1617f9372c6c",
   "metadata": {},
   "outputs": [],
   "source": []
  }
 ],
 "metadata": {
  "kernelspec": {
   "display_name": "Python 3 (ipykernel)",
   "language": "python",
   "name": "python3"
  },
  "language_info": {
   "codemirror_mode": {
    "name": "ipython",
    "version": 3
   },
   "file_extension": ".py",
   "mimetype": "text/x-python",
   "name": "python",
   "nbconvert_exporter": "python",
   "pygments_lexer": "ipython3",
   "version": "3.10.13"
  }
 },
 "nbformat": 4,
 "nbformat_minor": 5
}
