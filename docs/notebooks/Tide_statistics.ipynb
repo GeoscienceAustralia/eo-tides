{
 "cells": [
  {
   "cell_type": "markdown",
   "metadata": {},
   "source": [
    "# Calculating tide statistics and satellite biases\n",
    "\n",
    "**This guide demonstrates how to use the [`tide_stats`](../../api/#eo_tides.stats.tide_stats) and  [`pixel_stats`](../../api/#eo_tides.stats.pixel_stats) functions from [`eo_tides.stats`](../../api/#eo_tides.stats) to calculate local tide statistics and identify biases caused by interactions between tidal processes and satellite orbits.**\n",
    "\n",
    "Complex interactions between temporal tide dynamics and the regular mid-morning overpass timing of sun-synchronous sensors like Landsat or Sentinel-2 mean that satellites often does not observe the entire tidal cycle. \n",
    "Biases in satellite coverage of the tidal cycle can mean that tidal extremes (e.g. the lowest or highest tides at a location) may either never be captured by satellites, or be over-represented in the satellite EO record. \n",
    "Local tide dynamics can cause these biases to vary greatly both through time and spatially (Figure 1), making it challenging to consistently analyse and compare coastal processes consistently - particularly for large-scale (e.g. regional or global) analyses.\n",
    "\n",
    "To ensure that coastal EO analyses are not inadvertently affected by tide biases, it is important to compare how well the tides observed by satellites match the full range of tides at a location.\n",
    "The `tidal_stats` and `pixel_stats` functions compares the subset of tides observed by satellite data against the full range of tides modelled at a regular interval through time (every two hours by default) across the entire time period covered by the satellite dataset.\n",
    "This comparison is used to calculate several useful statistics and plots that summarise how well your satellite data capture real-world tidal conditions.\n",
    "\n",
    "> **Figure 1:** Example of tide biases in Landsat satellite data across coastal Australia ([Bishop-Taylor et al. 2018](https://www.sciencedirect.com/science/article/pii/S0272771418308783#sec3)). \"Spread\" represents the proportion of the astronomical tide range observed by satellites; low and high tide \"offsets\" represent the proportion of highest and lowest tides never observed.\n",
    "\n",
    "<img src=\"https://ars.els-cdn.com/content/image/1-s2.0-S0272771418308783-gr8_lrg.jpg\" alt=\"Tide bias figure\">\n",
    "\n",
    "<div class=\"admonition tip\">\n",
    "    <p class=\"admonition-title\">Tip</p>\n",
    "    <p>\n",
    "        For a more detailed discussion of the issue of tidal bias in sun-synchronous satellite observations of the coastline, refer to the 'Limitations and future work' section in <a href=\"https://www.sciencedirect.com/science/article/pii/S0272771418308783#sec3\">Bishop-Taylor et al. 2018.</a>\n",
    "    </p>\n",
    "</div>"
   ]
  },
  {
   "cell_type": "markdown",
   "metadata": {},
   "source": [
    "## Getting started\n",
    "As in the previous examples, our first step is to tell `eo-tides` the location of our tide model directory (if you haven't set this up, [refer to the setup instructions here](../../setup)):"
   ]
  },
  {
   "cell_type": "code",
   "execution_count": null,
   "metadata": {
    "tags": []
   },
   "outputs": [],
   "source": [
    "directory = \"../../tests/data/tide_models/\""
   ]
  },
  {
   "cell_type": "markdown",
   "metadata": {},
   "source": [
    "## Load Sentinel-2 satellite data using odc-stac\n",
    "\n",
    "We can now load a time-series of satellite data over our area of interest using the Open Data Cube's `odc-stac` package. \n",
    "In this example, we will load **Sentinel-2** satellite data from **2021-2023** over the city of **Broome, Western Australia**.\n",
    "We will load this data from the [Microsoft Planetary Computer](https://planetarycomputer.microsoft.com/docs/quickstarts/reading-stac/) STAC catalogue.\n",
    "\n",
    "<div class=\"admonition tip\">\n",
    "    <p class=\"admonition-title\">Tip</p>\n",
    "    <p>\n",
    "        For a more detailed guide to using STAC metadata and <code>odc-stac</code> to find and load satellite data, refer to the <a href=\"https://knowledge.dea.ga.gov.au/guides/setup/gis/stac/\">STAC user guide</a> here.\n",
    "    </p>\n",
    "</div>"
   ]
  },
  {
   "cell_type": "code",
   "execution_count": null,
   "metadata": {},
   "outputs": [],
   "source": [
    "import odc.stac\n",
    "import pystac_client\n",
    "import planetary_computer\n",
    "\n",
    "# Connect to STAC catalog\n",
    "catalog = pystac_client.Client.open(\n",
    "    \"https://planetarycomputer.microsoft.com/api/stac/v1\",\n",
    "    modifier=planetary_computer.sign_inplace,\n",
    ")\n",
    "\n",
    "# Set cloud access defaults\n",
    "odc.stac.configure_rio(\n",
    "    cloud_defaults=True,\n",
    "    aws={\"aws_unsigned\": True},\n",
    ")\n",
    "\n",
    "# Build a query and search the STAC catalog for all matching items\n",
    "bbox = [122.160, -18.05, 122.260, -17.95]\n",
    "query = catalog.search(\n",
    "    bbox=bbox,\n",
    "    collections=[\"sentinel-2-l2a\"],\n",
    "    datetime=\"2021/2023\",\n",
    ")\n",
    "\n",
    "# Load data into xarray format\n",
    "ds_s2 = odc.stac.load(\n",
    "    items=list(query.items()),\n",
    "    bands=[\"red\"],\n",
    "    crs=\"utm\",\n",
    "    resolution=30,\n",
    "    groupby=\"solar_day\",\n",
    "    bbox=bbox,\n",
    "    fail_on_error=False,\n",
    "    chunks={},\n",
    ")\n",
    "\n",
    "print(ds_s2)"
   ]
  },
  {
   "cell_type": "markdown",
   "metadata": {},
   "source": [
    "## Using tide_stats\n",
    "\n",
    "Once we have loaded some satellite data, we can pass this to the `tide_stats` function to calculate local tide statistics and reveal any potential tidal biases.\n",
    "The `tide_stats` function will return a plain-text summary below, as well as a visual plot that compares the distribution of satellite-observed tides (black dots) against the full range of modelled astronomical tide conditions (blue) using three useful metrics:\n",
    "\n",
    "1. **Spread:** The proportion of the full modelled astronomical tidal range that was observed by satellites. A high value indicating good coverage of the tide range.\n",
    "2. **Offset high:** The proportion of the highest tides not observed by satellites at any time, as a proportion of the full modelled astronomical tidal range. A high value indicates that the satellite data is biased towards never capturing high tides.\n",
    "3. **Offset low:** The proportion of the lowest tides not observed by satellites at any time, as a proportion of the full modelled astronomical tidal range. A high value indicates that the satellite data is biased towards never capturing low tides.\n",
    "\n",
    "<div class=\"admonition tip\">\n",
    "    <p class=\"admonition-title\">Tip</p>\n",
    "    <p>\n",
    "        For a more detailed description of these biases, see <a href=\"https://www.sciencedirect.com/science/article/pii/S0272771418308783#sec3\">Bishop-Taylor et al. 2018.</a>\n",
    "    </p>\n",
    "</div>"
   ]
  },
  {
   "cell_type": "code",
   "execution_count": null,
   "metadata": {},
   "outputs": [],
   "source": [
    "from eo_tides.stats import tide_stats\n",
    "\n",
    "statistics_df = tide_stats(\n",
    "    data=ds_s2,\n",
    "    directory=directory,\n",
    ")\n"
   ]
  },
  {
   "cell_type": "markdown",
   "metadata": {},
   "source": [
    "As we can see in the graph, Sentinel-2 captured a biased proportion of the tide range at this location: only observing ~64% of the tide range, and never observing the lowest 26% of tides.\n",
    "\n",
    "The `tide_stats` function also outputs a `pandas.Series` object containing statistics for the results above, including:\n",
    "\n",
    "* `y`: latitude used for modelling tide heights\n",
    "* `x`: longitude used for modelling tide heights\n",
    "* `mot`: mean tide height observed by the satellite (metres)\n",
    "* `mat`: mean modelled astronomical tide height (metres)\n",
    "* `lot`: minimum tide height observed by the satellite (metres)\n",
    "* `lat`: minimum tide height from modelled astronomical tidal range (metres)\n",
    "* `hot`: maximum tide height observed by the satellite (metres)\n",
    "* `hat`: maximum tide height from modelled astronomical tidal range (metres)\n",
    "* `otr`: tidal range observed by the satellite (metres)\n",
    "* `tr`: modelled astronomical tide range (metres)\n",
    "* `spread`: proportion of the full modelled tidal range observed by the satellite\n",
    "* `offset_low`: proportion of the lowest tides never observed by the satellite\n",
    "* `offset_high`: proportion of the highest tides never observed by the satellite"
   ]
  },
  {
   "cell_type": "code",
   "execution_count": null,
   "metadata": {},
   "outputs": [],
   "source": [
    "statistics_df"
   ]
  },
  {
   "cell_type": "markdown",
   "metadata": {},
   "source": [
    "### Compare against Sentinel-1 tide biases\n",
    "\n",
    "In the previous example, we saw that Sentinel-2 data was biased towards never capturing low tide at our location.\n",
    "These biases are caused by the consistent 10:30 am local overpass time of the Sentinel-2 satellites, which due to a phenomenon called \"tide-aliasing\" means that certain tides never occur when the satellite overpasses.\n",
    "\n",
    "One possible way around these biases is to use different satellite data from satellites that overpass at different times.\n",
    "For example, Sentinel-1 radar satellites follow a different orbit to Sentinel-2, overpassing at a local time of 6:00 pm instead of 10:30 am. \n",
    "This diference in overpass time potentially means that Sentinel-1 satellite data may capture different tides to Sentinel-2.\n",
    "\n",
    "In the next example, we run the `tide_stats` function on data loaded from **Sentinel-1** for the same location and time period to see if this data is affected by the same tide biases."
   ]
  },
  {
   "cell_type": "code",
   "execution_count": null,
   "metadata": {},
   "outputs": [],
   "source": [
    "# Build a query and search the STAC catalog for all matching items\n",
    "bbox = [122.160, -18.05, 122.260, -17.95]\n",
    "query = catalog.search(\n",
    "    bbox=bbox,\n",
    "    collections=[\"sentinel-1-rtc\"],\n",
    "    datetime=\"2021/2023\",\n",
    ")\n",
    "\n",
    "# Load data into xarray format\n",
    "ds_s1 = odc.stac.load(\n",
    "    items=list(query.items()),\n",
    "    bands=[\"vv\"],\n",
    "    crs=\"utm\",\n",
    "    resolution=30,\n",
    "    groupby=\"solar_day\",\n",
    "    bbox=bbox,\n",
    "    fail_on_error=False,\n",
    "    chunks={},\n",
    ")\n",
    "\n",
    "print(ds_s1)"
   ]
  },
  {
   "cell_type": "markdown",
   "metadata": {},
   "source": [
    "When we run `tide_stats`, we can see a very different pattern: Sentinel-1 data is biased towards *low tide* observations, and never observes high tide at our location!"
   ]
  },
  {
   "cell_type": "code",
   "execution_count": null,
   "metadata": {},
   "outputs": [],
   "source": [
    "statistics_df = tide_stats(\n",
    "    data=ds_s1,\n",
    "    directory=directory,\n",
    ")\n"
   ]
  },
  {
   "cell_type": "markdown",
   "metadata": {},
   "source": [
    "### Calculate biases for multiple satellite sensors\n",
    "At our location, Sentinel-2 optical satellites are biased towards high tide observations, while Sentinel-1 radar satellites are biased towards low tide observations. \n",
    "Could combining data from multiple EO sensors help us capture a more complete view of tides at this location?\n",
    "\n",
    "To test this theory, we can combine Sentinel-2 and Sentinel-1 data into a single `xarray.Dataset`, recording the name of each sensor using a new `satellite_name` coordinate in our data:"
   ]
  },
  {
   "cell_type": "code",
   "execution_count": null,
   "metadata": {},
   "outputs": [],
   "source": [
    "import xarray as xr\n",
    "\n",
    "# Give each observation a \"satellite_name\" based on its satellite\n",
    "ds_s1 = ds_s1.assign_coords(satellite_name=(\"time\", [\"Sentinel-1\"] * ds_s1.sizes[\"time\"]))\n",
    "ds_s2 = ds_s2.assign_coords(satellite_name=(\"time\", [\"Sentinel-2\"] * ds_s2.sizes[\"time\"]))\n",
    "\n",
    "# Combine both Sentinel-1 and Sentinel-2 data into a single dataset\n",
    "ds_all = xr.concat([ds_s1, ds_s2], dim=\"time\")\n",
    "print(ds_all)"
   ]
  },
  {
   "cell_type": "markdown",
   "metadata": {},
   "source": [
    "We can now run `tide_stats` again.\n",
    "This time, we pass our satellite name coordinate to the function using the `plot_col=\"satellite_name\"` parameter.\n",
    "This will plot data from each of our satellites using a different symbol."
   ]
  },
  {
   "cell_type": "code",
   "execution_count": null,
   "metadata": {},
   "outputs": [],
   "source": [
    "statistics_df = tide_stats(\n",
    "    data=ds_all,\n",
    "    plot_col=\"satellite_name\",\n",
    "    directory=directory,\n",
    ")\n"
   ]
  },
  {
   "cell_type": "markdown",
   "metadata": {},
   "source": [
    "We can see that at this location, combining Sentinel-2 and Sentinel-1 data greatly improves our biases: our satellite data now covers ~85% of the modelled astronomical tide range, and only fails to observe 10% of the highest tides and 6% of the lowest tides!"
   ]
  },
  {
   "cell_type": "markdown",
   "metadata": {},
   "source": [
    "## Using pixel_stats\n",
    "\n",
    "### Modelling tide statistics and biases spatially\n",
    "\n",
    "Because tide regimes and satellite biases can vary greatly along the coast, it can be useful to plot these biases spatially.\n",
    "To do this, we can use the `pixel_stats` function. \n",
    "\n",
    "`pixel_stats` works similarly to `tide_stats`, except statistics are calculated across the entire extent of your satellite dataset. \n",
    "The function will generate an `xarray.Dataset` output containing the statistics discussed above as two-dimensional arrays.\n",
    "\n",
    "<div class=\"admonition tip\">\n",
    "    <p class=\"admonition-title\">Tip</p>\n",
    "    <p>\n",
    "        The <code>pixel_stats</code> function uses <a href=\"../../api/#eo_tides.eo.pixel_tides\"><code>eo_tides.eo.pixel_tides</code></a> to model tides spatially. You can experiment passing in parameters like <code>resolution</code> and <code>buffer</code> to customise the modelling grid used for calculating tide biases. Be warned however that you can quickly run out of memory with large analyses, given the number of timesteps required to model astronomical low and high tide.\n",
    "    </p>\n",
    "</div>"
   ]
  },
  {
   "cell_type": "code",
   "execution_count": null,
   "metadata": {},
   "outputs": [],
   "source": [
    "from eo_tides.stats import pixel_stats\n",
    "\n",
    "stats_ds = pixel_stats(\n",
    "    data=ds_s2,\n",
    "    directory=directory,\n",
    ")\n",
    "print(stats_ds)"
   ]
  },
  {
   "cell_type": "markdown",
   "metadata": {},
   "source": [
    "We can explore these statistics on a map:"
   ]
  },
  {
   "cell_type": "code",
   "execution_count": null,
   "metadata": {},
   "outputs": [],
   "source": [
    "stats_ds.spread.odc.explore()"
   ]
  },
  {
   "cell_type": "markdown",
   "metadata": {},
   "source": [
    "Or plot them directly:"
   ]
  },
  {
   "cell_type": "code",
   "execution_count": null,
   "metadata": {},
   "outputs": [],
   "source": [
    "import matplotlib.pyplot as plt\n",
    "\n",
    "fig, axes = plt.subplots(1, 3, figsize=(16, 4))\n",
    "stats_ds.spread.plot(ax=axes[0], vmin=0.5, vmax=0.9, cmap=\"magma_r\", add_labels=False)\n",
    "stats_ds.offset_low.plot(ax=axes[1], vmin=0, vmax=0.35, cmap=\"magma\", add_labels=False)\n",
    "stats_ds.offset_high.plot(ax=axes[2], vmin=0, vmax=0.35, cmap=\"magma\", add_labels=False)\n",
    "axes[0].set_title(\"Spread\")\n",
    "axes[1].set_title(\"Low tide offset\")\n",
    "axes[2].set_title(\"High tide offset\");"
   ]
  },
  {
   "cell_type": "markdown",
   "metadata": {},
   "source": [
    "## Next steps\n",
    "\n",
    "We have explored calculating tide statistics and biases in EO data. Now we can learn how to validate modelled tides against [measured tide gauge data](../Validating_tides) to ensure the tides we are modelling are accurate."
   ]
  }
 ],
 "metadata": {
  "kernelspec": {
   "display_name": "Python 3 (ipykernel)",
   "language": "python",
   "name": "python3"
  },
  "language_info": {
   "codemirror_mode": {
    "name": "ipython",
    "version": 3
   },
   "file_extension": ".py",
   "mimetype": "text/x-python",
   "name": "python",
   "nbconvert_exporter": "python",
   "pygments_lexer": "ipython3",
   "version": "3.10.15"
  }
 },
 "nbformat": 4,
 "nbformat_minor": 4
}
